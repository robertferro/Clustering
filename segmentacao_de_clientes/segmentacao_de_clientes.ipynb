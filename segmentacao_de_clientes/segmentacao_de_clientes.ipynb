{
 "cells": [
  {
   "cell_type": "markdown",
   "metadata": {},
   "source": [
    "# Segmentação de clientes\n",
    "\n",
    "\n",
    "\n",
    "\n",
    "## Objetivo:\n",
    "\n",
    "- Aumentar o faturamento da empresa\n",
    "\n",
    "## Solução\n",
    "\n",
    "- Identificar grupos de que clientes tenham maior propensão a realizar uma compra e direcionar campanhas específicas a esse grupo.\n",
    "- Entregar insights para o time de maketing que auxiliem na hora de lançar campanhas, pensando em estratégias para diminuir o intevalo de compra de alguns cliente e reativar clientes que não compram há muito tempo.\n",
    "- Ter atenddimento diferenciado a clietes que tem perfil com maior média de gasto e pouco intervalo de tempo."
   ]
  },
  {
   "cell_type": "markdown",
   "metadata": {},
   "source": [
    "- Importando as bibliotecas"
   ]
  },
  {
   "cell_type": "code",
   "execution_count": 1,
   "metadata": {},
   "outputs": [],
   "source": [
    "import pandas as pd\n",
    "import numpy as np\n",
    "import matplotlib.pyplot as plt\n",
    "import seaborn as sns\n",
    "import datetime as dt"
   ]
  },
  {
   "cell_type": "markdown",
   "metadata": {},
   "source": [
    "- Carregando os dados e obtendo informações sobre os mesmos."
   ]
  },
  {
   "cell_type": "code",
   "execution_count": 2,
   "metadata": {},
   "outputs": [],
   "source": [
    "dados = pd.read_csv('BancoDeDados.csv',sep=',')"
   ]
  },
  {
   "cell_type": "code",
   "execution_count": 3,
   "metadata": {},
   "outputs": [
    {
     "name": "stdout",
     "output_type": "stream",
     "text": [
      "<class 'pandas.core.frame.DataFrame'>\n",
      "RangeIndex: 116581 entries, 0 to 116580\n",
      "Data columns (total 27 columns):\n",
      " #   Column                Non-Null Count   Dtype  \n",
      "---  ------                --------------   -----  \n",
      " 0   amostra               116581 non-null  int64  \n",
      " 1   id_cliente            116581 non-null  object \n",
      " 2   id_unico_cliente      116581 non-null  object \n",
      " 3   item_id               116581 non-null  int64  \n",
      " 4   cep_cliente           116581 non-null  int64  \n",
      " 5   cidade_cliente        116581 non-null  object \n",
      " 6   estado_cliente        116581 non-null  object \n",
      " 7   id_pedido             116581 non-null  object \n",
      " 8   status_pedido         116581 non-null  object \n",
      " 9   horario_pedido        116581 non-null  object \n",
      " 10  pedido_aprovado       116567 non-null  object \n",
      " 11  pedido_entregador     115368 non-null  object \n",
      " 12  pedido_entregue       114066 non-null  object \n",
      " 13  data_estimada         116581 non-null  object \n",
      " 14  id_vendedor           116581 non-null  object \n",
      " 15  preco                 116581 non-null  float64\n",
      " 16  frete                 116581 non-null  float64\n",
      " 17  pagamento_sequencial  116581 non-null  int64  \n",
      " 18  pagamento_tipo        116581 non-null  object \n",
      " 19  pagamento_prestacoes  116581 non-null  int64  \n",
      " 20  pagamento_valor       116581 non-null  float64\n",
      " 21  review                116581 non-null  int64  \n",
      " 22  categoria             116581 non-null  object \n",
      " 23  categoria_ingles      116581 non-null  object \n",
      " 24  cep_vendedor          116581 non-null  int64  \n",
      " 25  cidade_vendedor       116581 non-null  object \n",
      " 26  estado_vendedor       116581 non-null  object \n",
      "dtypes: float64(3), int64(7), object(17)\n",
      "memory usage: 24.0+ MB\n"
     ]
    }
   ],
   "source": [
    "dados.info()"
   ]
  },
  {
   "cell_type": "code",
   "execution_count": 4,
   "metadata": {},
   "outputs": [
    {
     "data": {
      "text/html": [
       "<div>\n",
       "<style scoped>\n",
       "    .dataframe tbody tr th:only-of-type {\n",
       "        vertical-align: middle;\n",
       "    }\n",
       "\n",
       "    .dataframe tbody tr th {\n",
       "        vertical-align: top;\n",
       "    }\n",
       "\n",
       "    .dataframe thead th {\n",
       "        text-align: right;\n",
       "    }\n",
       "</style>\n",
       "<table border=\"1\" class=\"dataframe\">\n",
       "  <thead>\n",
       "    <tr style=\"text-align: right;\">\n",
       "      <th></th>\n",
       "      <th>amostra</th>\n",
       "      <th>id_cliente</th>\n",
       "      <th>id_unico_cliente</th>\n",
       "      <th>item_id</th>\n",
       "      <th>cep_cliente</th>\n",
       "      <th>cidade_cliente</th>\n",
       "      <th>estado_cliente</th>\n",
       "      <th>id_pedido</th>\n",
       "      <th>status_pedido</th>\n",
       "      <th>horario_pedido</th>\n",
       "      <th>pedido_aprovado</th>\n",
       "      <th>pedido_entregador</th>\n",
       "      <th>pedido_entregue</th>\n",
       "      <th>data_estimada</th>\n",
       "      <th>id_vendedor</th>\n",
       "      <th>preco</th>\n",
       "      <th>frete</th>\n",
       "      <th>pagamento_sequencial</th>\n",
       "      <th>pagamento_tipo</th>\n",
       "      <th>pagamento_prestacoes</th>\n",
       "      <th>pagamento_valor</th>\n",
       "      <th>review</th>\n",
       "      <th>categoria</th>\n",
       "      <th>categoria_ingles</th>\n",
       "      <th>cep_vendedor</th>\n",
       "      <th>cidade_vendedor</th>\n",
       "      <th>estado_vendedor</th>\n",
       "    </tr>\n",
       "  </thead>\n",
       "  <tbody>\n",
       "    <tr>\n",
       "      <th>0</th>\n",
       "      <td>0</td>\n",
       "      <td>06b8999e2fba1a1fbc88172c00ba8bc7</td>\n",
       "      <td>861eff4711a542e4b93843c6dd7febb0</td>\n",
       "      <td>1</td>\n",
       "      <td>14409</td>\n",
       "      <td>franca</td>\n",
       "      <td>SP</td>\n",
       "      <td>00e7ee1b050b8499577073aeb2a297a1</td>\n",
       "      <td>delivered</td>\n",
       "      <td>2017-05-16 15:05:35</td>\n",
       "      <td>2017-05-16 15:22:12</td>\n",
       "      <td>2017-05-23 10:47:57</td>\n",
       "      <td>2017-05-25 10:35:35</td>\n",
       "      <td>2017-06-05 00:00:00</td>\n",
       "      <td>7c67e1448b00f6e969d365cea6b010ab</td>\n",
       "      <td>124.99</td>\n",
       "      <td>21.88</td>\n",
       "      <td>1</td>\n",
       "      <td>credit_card</td>\n",
       "      <td>2</td>\n",
       "      <td>146.87</td>\n",
       "      <td>4</td>\n",
       "      <td>moveis_escritorio</td>\n",
       "      <td>office_furniture</td>\n",
       "      <td>8577</td>\n",
       "      <td>itaquaquecetuba</td>\n",
       "      <td>SP</td>\n",
       "    </tr>\n",
       "    <tr>\n",
       "      <th>1</th>\n",
       "      <td>1</td>\n",
       "      <td>8912fc0c3bbf1e2fbf35819e21706718</td>\n",
       "      <td>9eae34bbd3a474ec5d07949ca7de67c0</td>\n",
       "      <td>1</td>\n",
       "      <td>68030</td>\n",
       "      <td>santarem</td>\n",
       "      <td>PA</td>\n",
       "      <td>c1d2b34febe9cd269e378117d6681172</td>\n",
       "      <td>delivered</td>\n",
       "      <td>2017-11-09 00:50:13</td>\n",
       "      <td>2017-11-10 00:47:48</td>\n",
       "      <td>2017-11-22 01:43:37</td>\n",
       "      <td>2017-11-28 00:09:50</td>\n",
       "      <td>2017-12-19 00:00:00</td>\n",
       "      <td>7c67e1448b00f6e969d365cea6b010ab</td>\n",
       "      <td>112.99</td>\n",
       "      <td>24.90</td>\n",
       "      <td>1</td>\n",
       "      <td>credit_card</td>\n",
       "      <td>1</td>\n",
       "      <td>275.79</td>\n",
       "      <td>1</td>\n",
       "      <td>moveis_escritorio</td>\n",
       "      <td>office_furniture</td>\n",
       "      <td>8577</td>\n",
       "      <td>itaquaquecetuba</td>\n",
       "      <td>SP</td>\n",
       "    </tr>\n",
       "    <tr>\n",
       "      <th>2</th>\n",
       "      <td>2</td>\n",
       "      <td>8912fc0c3bbf1e2fbf35819e21706718</td>\n",
       "      <td>9eae34bbd3a474ec5d07949ca7de67c0</td>\n",
       "      <td>2</td>\n",
       "      <td>68030</td>\n",
       "      <td>santarem</td>\n",
       "      <td>PA</td>\n",
       "      <td>c1d2b34febe9cd269e378117d6681172</td>\n",
       "      <td>delivered</td>\n",
       "      <td>2017-11-09 00:50:13</td>\n",
       "      <td>2017-11-10 00:47:48</td>\n",
       "      <td>2017-11-22 01:43:37</td>\n",
       "      <td>2017-11-28 00:09:50</td>\n",
       "      <td>2017-12-19 00:00:00</td>\n",
       "      <td>7c67e1448b00f6e969d365cea6b010ab</td>\n",
       "      <td>112.99</td>\n",
       "      <td>24.90</td>\n",
       "      <td>1</td>\n",
       "      <td>credit_card</td>\n",
       "      <td>1</td>\n",
       "      <td>275.79</td>\n",
       "      <td>1</td>\n",
       "      <td>moveis_escritorio</td>\n",
       "      <td>office_furniture</td>\n",
       "      <td>8577</td>\n",
       "      <td>itaquaquecetuba</td>\n",
       "      <td>SP</td>\n",
       "    </tr>\n",
       "    <tr>\n",
       "      <th>3</th>\n",
       "      <td>3</td>\n",
       "      <td>f0ac8e5a239118859b1734e1087cbb1f</td>\n",
       "      <td>3c799d181c34d51f6d44bbbc563024db</td>\n",
       "      <td>1</td>\n",
       "      <td>92480</td>\n",
       "      <td>nova santa rita</td>\n",
       "      <td>RS</td>\n",
       "      <td>b1a5d5365d330d10485e0203d54ab9e8</td>\n",
       "      <td>delivered</td>\n",
       "      <td>2017-05-07 20:11:26</td>\n",
       "      <td>2017-05-08 22:22:56</td>\n",
       "      <td>2017-05-19 20:16:31</td>\n",
       "      <td>2017-05-26 09:54:04</td>\n",
       "      <td>2017-06-12 00:00:00</td>\n",
       "      <td>7c67e1448b00f6e969d365cea6b010ab</td>\n",
       "      <td>124.99</td>\n",
       "      <td>15.62</td>\n",
       "      <td>1</td>\n",
       "      <td>credit_card</td>\n",
       "      <td>7</td>\n",
       "      <td>140.61</td>\n",
       "      <td>3</td>\n",
       "      <td>moveis_escritorio</td>\n",
       "      <td>office_furniture</td>\n",
       "      <td>8577</td>\n",
       "      <td>itaquaquecetuba</td>\n",
       "      <td>SP</td>\n",
       "    </tr>\n",
       "    <tr>\n",
       "      <th>4</th>\n",
       "      <td>4</td>\n",
       "      <td>6bc8d08963a135220ed6c6d098831f84</td>\n",
       "      <td>23397e992b09769faf5e66f9e171a241</td>\n",
       "      <td>1</td>\n",
       "      <td>25931</td>\n",
       "      <td>mage</td>\n",
       "      <td>RJ</td>\n",
       "      <td>2e604b3614664aa66867856dba7e61b7</td>\n",
       "      <td>delivered</td>\n",
       "      <td>2018-02-03 19:45:40</td>\n",
       "      <td>2018-02-04 22:29:19</td>\n",
       "      <td>2018-02-19 18:21:47</td>\n",
       "      <td>2018-02-28 21:09:00</td>\n",
       "      <td>2018-03-22 00:00:00</td>\n",
       "      <td>7c67e1448b00f6e969d365cea6b010ab</td>\n",
       "      <td>106.99</td>\n",
       "      <td>30.59</td>\n",
       "      <td>1</td>\n",
       "      <td>credit_card</td>\n",
       "      <td>10</td>\n",
       "      <td>137.58</td>\n",
       "      <td>4</td>\n",
       "      <td>moveis_escritorio</td>\n",
       "      <td>office_furniture</td>\n",
       "      <td>8577</td>\n",
       "      <td>itaquaquecetuba</td>\n",
       "      <td>SP</td>\n",
       "    </tr>\n",
       "  </tbody>\n",
       "</table>\n",
       "</div>"
      ],
      "text/plain": [
       "   amostra                        id_cliente  \\\n",
       "0        0  06b8999e2fba1a1fbc88172c00ba8bc7   \n",
       "1        1  8912fc0c3bbf1e2fbf35819e21706718   \n",
       "2        2  8912fc0c3bbf1e2fbf35819e21706718   \n",
       "3        3  f0ac8e5a239118859b1734e1087cbb1f   \n",
       "4        4  6bc8d08963a135220ed6c6d098831f84   \n",
       "\n",
       "                   id_unico_cliente  item_id  cep_cliente   cidade_cliente  \\\n",
       "0  861eff4711a542e4b93843c6dd7febb0        1        14409           franca   \n",
       "1  9eae34bbd3a474ec5d07949ca7de67c0        1        68030         santarem   \n",
       "2  9eae34bbd3a474ec5d07949ca7de67c0        2        68030         santarem   \n",
       "3  3c799d181c34d51f6d44bbbc563024db        1        92480  nova santa rita   \n",
       "4  23397e992b09769faf5e66f9e171a241        1        25931             mage   \n",
       "\n",
       "  estado_cliente                         id_pedido status_pedido  \\\n",
       "0             SP  00e7ee1b050b8499577073aeb2a297a1     delivered   \n",
       "1             PA  c1d2b34febe9cd269e378117d6681172     delivered   \n",
       "2             PA  c1d2b34febe9cd269e378117d6681172     delivered   \n",
       "3             RS  b1a5d5365d330d10485e0203d54ab9e8     delivered   \n",
       "4             RJ  2e604b3614664aa66867856dba7e61b7     delivered   \n",
       "\n",
       "        horario_pedido      pedido_aprovado    pedido_entregador  \\\n",
       "0  2017-05-16 15:05:35  2017-05-16 15:22:12  2017-05-23 10:47:57   \n",
       "1  2017-11-09 00:50:13  2017-11-10 00:47:48  2017-11-22 01:43:37   \n",
       "2  2017-11-09 00:50:13  2017-11-10 00:47:48  2017-11-22 01:43:37   \n",
       "3  2017-05-07 20:11:26  2017-05-08 22:22:56  2017-05-19 20:16:31   \n",
       "4  2018-02-03 19:45:40  2018-02-04 22:29:19  2018-02-19 18:21:47   \n",
       "\n",
       "       pedido_entregue        data_estimada                       id_vendedor  \\\n",
       "0  2017-05-25 10:35:35  2017-06-05 00:00:00  7c67e1448b00f6e969d365cea6b010ab   \n",
       "1  2017-11-28 00:09:50  2017-12-19 00:00:00  7c67e1448b00f6e969d365cea6b010ab   \n",
       "2  2017-11-28 00:09:50  2017-12-19 00:00:00  7c67e1448b00f6e969d365cea6b010ab   \n",
       "3  2017-05-26 09:54:04  2017-06-12 00:00:00  7c67e1448b00f6e969d365cea6b010ab   \n",
       "4  2018-02-28 21:09:00  2018-03-22 00:00:00  7c67e1448b00f6e969d365cea6b010ab   \n",
       "\n",
       "    preco  frete  pagamento_sequencial pagamento_tipo  pagamento_prestacoes  \\\n",
       "0  124.99  21.88                     1    credit_card                     2   \n",
       "1  112.99  24.90                     1    credit_card                     1   \n",
       "2  112.99  24.90                     1    credit_card                     1   \n",
       "3  124.99  15.62                     1    credit_card                     7   \n",
       "4  106.99  30.59                     1    credit_card                    10   \n",
       "\n",
       "   pagamento_valor  review          categoria  categoria_ingles  cep_vendedor  \\\n",
       "0           146.87       4  moveis_escritorio  office_furniture          8577   \n",
       "1           275.79       1  moveis_escritorio  office_furniture          8577   \n",
       "2           275.79       1  moveis_escritorio  office_furniture          8577   \n",
       "3           140.61       3  moveis_escritorio  office_furniture          8577   \n",
       "4           137.58       4  moveis_escritorio  office_furniture          8577   \n",
       "\n",
       "   cidade_vendedor estado_vendedor  \n",
       "0  itaquaquecetuba              SP  \n",
       "1  itaquaquecetuba              SP  \n",
       "2  itaquaquecetuba              SP  \n",
       "3  itaquaquecetuba              SP  \n",
       "4  itaquaquecetuba              SP  "
      ]
     },
     "execution_count": 4,
     "metadata": {},
     "output_type": "execute_result"
    }
   ],
   "source": [
    "pd.set_option('max_columns',50)\n",
    "dados.head()"
   ]
  },
  {
   "cell_type": "markdown",
   "metadata": {},
   "source": [
    "# EDA"
   ]
  },
  {
   "cell_type": "code",
   "execution_count": 5,
   "metadata": {},
   "outputs": [
    {
     "data": {
      "text/plain": [
       "Text(0.5, 1.0, 'Média de gasto por estado')"
      ]
     },
     "execution_count": 5,
     "metadata": {},
     "output_type": "execute_result"
    },
    {
     "data": {
      "image/png": "[encoded data removed]",
      "text/plain": [
       "<Figure size 864x432 with 1 Axes>"
      ]
     },
     "metadata": {
      "needs_background": "light"
     },
     "output_type": "display_data"
    }
   ],
   "source": [
    "plt.figure(figsize=(12,6))\n",
    "sns.barplot(x='estado_cliente',y='pagamento_valor',data=dados.groupby('estado_cliente',as_index=False).mean().sort_values(by='pagamento_valor'))\n",
    "\n",
    "\n",
    "plt.title('Média de gasto por estado',fontsize=15)"
   ]
  },
  {
   "cell_type": "markdown",
   "metadata": {},
   "source": [
    "- Criando uma função para plotar gráficos."
   ]
  },
  {
   "cell_type": "code",
   "execution_count": 16,
   "metadata": {},
   "outputs": [],
   "source": [
    "def plot_perc(st,dados):\n",
    "    plt.figure(figsize=(20,8))\n",
    "    \n",
    "    g = sns.countplot(x=st,data=dados,orient='h')\n",
    "    g.set_ylabel('Quantidade',fontsize=17)\n",
    "    \n",
    "    sizes=[]\n",
    "    \n",
    "    for p in g.patches:\n",
    "        height = p.get_height()\n",
    "        sizes.append(height)\n",
    "        g.text(p.get_x() + p.get_width() / 1.6,\n",
    "                height+200,\n",
    "                '{:1.2f}%'.format(height/116581*100),\n",
    "                ha = 'center',va='bottom', fontsize=12)\n",
    "        \n",
    "    g.set_ylim(0,max(sizes)*1.1)"
   ]
  },
  {
   "cell_type": "markdown",
   "metadata": {},
   "source": [
    "## Plotando um gráfico que mostra a quantidade de clientes por estado"
   ]
  },
  {
   "cell_type": "code",
   "execution_count": 17,
   "metadata": {},
   "outputs": [
    {
     "data": {
      "image/png": "[encoded data removed]",
      "text/plain": [
       "<Figure size 1440x576 with 1 Axes>"
      ]
     },
     "metadata": {
      "needs_background": "light"
     },
     "output_type": "display_data"
    }
   ],
   "source": [
    "plot_perc('estado_cliente',dados)"
   ]
  },
  {
   "cell_type": "markdown",
   "metadata": {},
   "source": [
    "Pelo gráfico acima, pode-se concluir que:\n",
    "\n",
    "- O estado de São Paulo é o que as pessoas mais compram, com 42,14% do total de registros.\n",
    "- O estado com menos registros de compras é Amapá.\n",
    "- Estados da região norte e nordeste tendem a fazem menos pedidos, ao contrário das região sul e sudeste.\n",
    "\n",
    "A partir da análise dos clientes por estado, podemos inferir que provalvelmente, as regiões norte e nordeste comprem menos devido a alguns fatores, como por exemplo:\n",
    "\n",
    "- Preço do frete\n",
    "- Tempo de entrega do produto\n"
   ]
  },
  {
   "cell_type": "markdown",
   "metadata": {},
   "source": [
    "## Plotando um gráfico que mostra a quantidade de vendedores por estado"
   ]
  },
  {
   "cell_type": "code",
   "execution_count": 18,
   "metadata": {},
   "outputs": [
    {
     "data": {
      "image/png": "[encoded data removed]",
      "text/plain": [
       "<Figure size 1440x576 with 1 Axes>"
      ]
     },
     "metadata": {
      "needs_background": "light"
     },
     "output_type": "display_data"
    }
   ],
   "source": [
    "plot_perc('estado_vendedor',dados)"
   ]
  },
  {
   "cell_type": "markdown",
   "metadata": {},
   "source": [
    "Analisando o gráfico acima pode-se concluir que:\n",
    "    \n",
    "- Os vendedores estão concentrados em sua grande maioria no estado de São Paulo, chegando a 71,30% do total dos vendedores.\n",
    "- Isso fortalece a teoria levantada acima, que os pedidos da região norte e nordeste são em menor quantidade devido ao tempo de entrega e o preço do frete, levantando a hipótese de que se existissem mais vendedores em outras regiões, iria otimizar o serviço, diminuindo os preços de frete e tempo de entrega.\n"
   ]
  },
  {
   "cell_type": "markdown",
   "metadata": {},
   "source": [
    "# Analisando os valores  das compras por estado"
   ]
  },
  {
   "cell_type": "code",
   "execution_count": 19,
   "metadata": {},
   "outputs": [
    {
     "data": {
      "image/png": "[encoded data removed]",
      "text/plain": [
       "<Figure size 1440x576 with 1 Axes>"
      ]
     },
     "metadata": {
      "needs_background": "light"
     },
     "output_type": "display_data"
    }
   ],
   "source": [
    "plt.figure(figsize=(20,8))\n",
    "g2 = sns.barplot(x='estado_cliente',y='preco',data=dados)\n",
    "\n",
    "g2.set_title(\"Estado consumidor\", fontsize=20)\n",
    "g2.set_xlabel(\"Estado\",fontsize=17)\n",
    "g2.set_ylabel(\"Preço\",fontsize=17);"
   ]
  },
  {
   "cell_type": "markdown",
   "metadata": {},
   "source": [
    "# Analisando os valores de frete por estado"
   ]
  },
  {
   "cell_type": "code",
   "execution_count": 20,
   "metadata": {},
   "outputs": [
    {
     "data": {
      "image/png": "[encoded data removed]",
      "text/plain": [
       "<Figure size 1440x576 with 1 Axes>"
      ]
     },
     "metadata": {
      "needs_background": "light"
     },
     "output_type": "display_data"
    }
   ],
   "source": [
    "plt.figure(figsize=(20,8))\n",
    "g2 = sns.barplot(x='estado_cliente',y='frete',data=dados)\n",
    "\n",
    "g2.set_title(\"Valor do frete por estado\", fontsize=20)\n",
    "g2.set_xlabel(\"Estado\",fontsize=17)\n",
    "g2.set_ylabel(\"Preço\",fontsize=17);"
   ]
  },
  {
   "cell_type": "markdown",
   "metadata": {},
   "source": [
    "## Plotando um gráfico que mostra a a distribuição das  formas de pagamento"
   ]
  },
  {
   "cell_type": "code",
   "execution_count": 21,
   "metadata": {},
   "outputs": [
    {
     "data": {
      "image/png": "[encoded data removed]",
      "text/plain": [
       "<Figure size 1440x576 with 1 Axes>"
      ]
     },
     "metadata": {
      "needs_background": "light"
     },
     "output_type": "display_data"
    }
   ],
   "source": [
    "plot_perc('pagamento_tipo',dados)"
   ]
  },
  {
   "cell_type": "markdown",
   "metadata": {},
   "source": [
    "Analisando o gráfio acima, pode-se concluir que:\n",
    "\n",
    "- As compras são pagas m sua grande maioria usando cartões de crédito, chegando a 73,78% do total dos pagamentos.\n",
    "- Devido ao elevado número de compras usando catões de crédito, podem haver também mais casos de fraude.\n",
    "- Pagamento usando boleto ainda tem uma representatividade grande, chegando a quase 20%.\n",
    "- Pagamentos a vista, representam uma parcela muito pequena, não chegando nem a 2% do total.\n"
   ]
  },
  {
   "cell_type": "markdown",
   "metadata": {},
   "source": [
    "# Utilizando um modelo RFM\n",
    "\n",
    "\n",
    "## Recência (R)\n",
    "\n",
    "Há quantos dias foi a última compra desse cliente ?\n",
    "\n",
    "## Frequência (F)\n",
    "\n",
    "Quantas compras esse cliente já fes na sua empresa, desde que se cadastrou ?\n",
    "\n",
    "## Monetaridade (M)\n",
    "\n",
    "Quanto esse cliente já gastou em dinheiro na sua empresa ?\n",
    "\n"
   ]
  },
  {
   "cell_type": "markdown",
   "metadata": {},
   "source": [
    "## Criando um novo Dataset filtrando as informações para fazer a análise RFM"
   ]
  },
  {
   "cell_type": "code",
   "execution_count": 22,
   "metadata": {},
   "outputs": [],
   "source": [
    "df_olist = dados[['id_unico_cliente','id_cliente','horario_pedido','item_id','preco']]"
   ]
  },
  {
   "cell_type": "code",
   "execution_count": 23,
   "metadata": {},
   "outputs": [
    {
     "data": {
      "text/html": [
       "<div>\n",
       "<style scoped>\n",
       "    .dataframe tbody tr th:only-of-type {\n",
       "        vertical-align: middle;\n",
       "    }\n",
       "\n",
       "    .dataframe tbody tr th {\n",
       "        vertical-align: top;\n",
       "    }\n",
       "\n",
       "    .dataframe thead th {\n",
       "        text-align: right;\n",
       "    }\n",
       "</style>\n",
       "<table border=\"1\" class=\"dataframe\">\n",
       "  <thead>\n",
       "    <tr style=\"text-align: right;\">\n",
       "      <th></th>\n",
       "      <th>id_unico_cliente</th>\n",
       "      <th>id_cliente</th>\n",
       "      <th>horario_pedido</th>\n",
       "      <th>item_id</th>\n",
       "      <th>preco</th>\n",
       "    </tr>\n",
       "  </thead>\n",
       "  <tbody>\n",
       "    <tr>\n",
       "      <th>0</th>\n",
       "      <td>861eff4711a542e4b93843c6dd7febb0</td>\n",
       "      <td>06b8999e2fba1a1fbc88172c00ba8bc7</td>\n",
       "      <td>2017-05-16 15:05:35</td>\n",
       "      <td>1</td>\n",
       "      <td>124.99</td>\n",
       "    </tr>\n",
       "    <tr>\n",
       "      <th>1</th>\n",
       "      <td>9eae34bbd3a474ec5d07949ca7de67c0</td>\n",
       "      <td>8912fc0c3bbf1e2fbf35819e21706718</td>\n",
       "      <td>2017-11-09 00:50:13</td>\n",
       "      <td>1</td>\n",
       "      <td>112.99</td>\n",
       "    </tr>\n",
       "    <tr>\n",
       "      <th>2</th>\n",
       "      <td>9eae34bbd3a474ec5d07949ca7de67c0</td>\n",
       "      <td>8912fc0c3bbf1e2fbf35819e21706718</td>\n",
       "      <td>2017-11-09 00:50:13</td>\n",
       "      <td>2</td>\n",
       "      <td>112.99</td>\n",
       "    </tr>\n",
       "    <tr>\n",
       "      <th>3</th>\n",
       "      <td>3c799d181c34d51f6d44bbbc563024db</td>\n",
       "      <td>f0ac8e5a239118859b1734e1087cbb1f</td>\n",
       "      <td>2017-05-07 20:11:26</td>\n",
       "      <td>1</td>\n",
       "      <td>124.99</td>\n",
       "    </tr>\n",
       "    <tr>\n",
       "      <th>4</th>\n",
       "      <td>23397e992b09769faf5e66f9e171a241</td>\n",
       "      <td>6bc8d08963a135220ed6c6d098831f84</td>\n",
       "      <td>2018-02-03 19:45:40</td>\n",
       "      <td>1</td>\n",
       "      <td>106.99</td>\n",
       "    </tr>\n",
       "  </tbody>\n",
       "</table>\n",
       "</div>"
      ],
      "text/plain": [
       "                   id_unico_cliente                        id_cliente  \\\n",
       "0  861eff4711a542e4b93843c6dd7febb0  06b8999e2fba1a1fbc88172c00ba8bc7   \n",
       "1  9eae34bbd3a474ec5d07949ca7de67c0  8912fc0c3bbf1e2fbf35819e21706718   \n",
       "2  9eae34bbd3a474ec5d07949ca7de67c0  8912fc0c3bbf1e2fbf35819e21706718   \n",
       "3  3c799d181c34d51f6d44bbbc563024db  f0ac8e5a239118859b1734e1087cbb1f   \n",
       "4  23397e992b09769faf5e66f9e171a241  6bc8d08963a135220ed6c6d098831f84   \n",
       "\n",
       "        horario_pedido  item_id   preco  \n",
       "0  2017-05-16 15:05:35        1  124.99  \n",
       "1  2017-11-09 00:50:13        1  112.99  \n",
       "2  2017-11-09 00:50:13        2  112.99  \n",
       "3  2017-05-07 20:11:26        1  124.99  \n",
       "4  2018-02-03 19:45:40        1  106.99  "
      ]
     },
     "execution_count": 23,
     "metadata": {},
     "output_type": "execute_result"
    }
   ],
   "source": [
    "df_olist.head()"
   ]
  },
  {
   "cell_type": "markdown",
   "metadata": {},
   "source": [
    "- Criando um dataset agrupando pela data máxima da compra"
   ]
  },
  {
   "cell_type": "code",
   "execution_count": 24,
   "metadata": {},
   "outputs": [],
   "source": [
    "df_compra = dados.groupby('id_unico_cliente').horario_pedido.max().reset_index()\n",
    "df_compra.columns = ['id_unico_cliente','DataMaxCompra']\n",
    "\n",
    "df_compra['DataMaxCompra'] = pd.to_datetime(df_compra['DataMaxCompra'])"
   ]
  },
  {
   "cell_type": "markdown",
   "metadata": {},
   "source": [
    "- Criando a variável Recência"
   ]
  },
  {
   "cell_type": "code",
   "execution_count": 25,
   "metadata": {},
   "outputs": [],
   "source": [
    "df_compra['Recencia'] = (df_compra['DataMaxCompra'].max() - df_compra['DataMaxCompra']).dt.days"
   ]
  },
  {
   "cell_type": "code",
   "execution_count": 26,
   "metadata": {},
   "outputs": [
    {
     "data": {
      "text/html": [
       "<div>\n",
       "<style scoped>\n",
       "    .dataframe tbody tr th:only-of-type {\n",
       "        vertical-align: middle;\n",
       "    }\n",
       "\n",
       "    .dataframe tbody tr th {\n",
       "        vertical-align: top;\n",
       "    }\n",
       "\n",
       "    .dataframe thead th {\n",
       "        text-align: right;\n",
       "    }\n",
       "</style>\n",
       "<table border=\"1\" class=\"dataframe\">\n",
       "  <thead>\n",
       "    <tr style=\"text-align: right;\">\n",
       "      <th></th>\n",
       "      <th>id_unico_cliente</th>\n",
       "      <th>DataMaxCompra</th>\n",
       "      <th>Recencia</th>\n",
       "    </tr>\n",
       "  </thead>\n",
       "  <tbody>\n",
       "    <tr>\n",
       "      <th>0</th>\n",
       "      <td>0000366f3b9a7992bf8c76cfdf3221e2</td>\n",
       "      <td>2018-05-10 10:56:27</td>\n",
       "      <td>115</td>\n",
       "    </tr>\n",
       "    <tr>\n",
       "      <th>1</th>\n",
       "      <td>0000b849f77a49e4a4ce2b2a4ca5be3f</td>\n",
       "      <td>2018-05-07 11:11:27</td>\n",
       "      <td>118</td>\n",
       "    </tr>\n",
       "    <tr>\n",
       "      <th>2</th>\n",
       "      <td>0000f46a3911fa3c0805444483337064</td>\n",
       "      <td>2017-03-10 21:05:03</td>\n",
       "      <td>541</td>\n",
       "    </tr>\n",
       "    <tr>\n",
       "      <th>3</th>\n",
       "      <td>0000f6ccb0745a6a4b88665a16c9f078</td>\n",
       "      <td>2017-10-12 20:29:41</td>\n",
       "      <td>325</td>\n",
       "    </tr>\n",
       "    <tr>\n",
       "      <th>4</th>\n",
       "      <td>0004aac84e0df4da2b147fca70cf8255</td>\n",
       "      <td>2017-11-14 19:45:42</td>\n",
       "      <td>292</td>\n",
       "    </tr>\n",
       "  </tbody>\n",
       "</table>\n",
       "</div>"
      ],
      "text/plain": [
       "                   id_unico_cliente       DataMaxCompra  Recencia\n",
       "0  0000366f3b9a7992bf8c76cfdf3221e2 2018-05-10 10:56:27       115\n",
       "1  0000b849f77a49e4a4ce2b2a4ca5be3f 2018-05-07 11:11:27       118\n",
       "2  0000f46a3911fa3c0805444483337064 2017-03-10 21:05:03       541\n",
       "3  0000f6ccb0745a6a4b88665a16c9f078 2017-10-12 20:29:41       325\n",
       "4  0004aac84e0df4da2b147fca70cf8255 2017-11-14 19:45:42       292"
      ]
     },
     "execution_count": 26,
     "metadata": {},
     "output_type": "execute_result"
    }
   ],
   "source": [
    "df_compra.head()"
   ]
  },
  {
   "cell_type": "markdown",
   "metadata": {},
   "source": [
    "- Unindo os 2 Dataframes"
   ]
  },
  {
   "cell_type": "code",
   "execution_count": 27,
   "metadata": {},
   "outputs": [
    {
     "data": {
      "text/html": [
       "<div>\n",
       "<style scoped>\n",
       "    .dataframe tbody tr th:only-of-type {\n",
       "        vertical-align: middle;\n",
       "    }\n",
       "\n",
       "    .dataframe tbody tr th {\n",
       "        vertical-align: top;\n",
       "    }\n",
       "\n",
       "    .dataframe thead th {\n",
       "        text-align: right;\n",
       "    }\n",
       "</style>\n",
       "<table border=\"1\" class=\"dataframe\">\n",
       "  <thead>\n",
       "    <tr style=\"text-align: right;\">\n",
       "      <th></th>\n",
       "      <th>id_unico_cliente</th>\n",
       "      <th>id_cliente</th>\n",
       "      <th>horario_pedido</th>\n",
       "      <th>item_id</th>\n",
       "      <th>preco</th>\n",
       "      <th>Recencia</th>\n",
       "    </tr>\n",
       "  </thead>\n",
       "  <tbody>\n",
       "    <tr>\n",
       "      <th>0</th>\n",
       "      <td>861eff4711a542e4b93843c6dd7febb0</td>\n",
       "      <td>06b8999e2fba1a1fbc88172c00ba8bc7</td>\n",
       "      <td>2017-05-16 15:05:35</td>\n",
       "      <td>1</td>\n",
       "      <td>124.99</td>\n",
       "      <td>474</td>\n",
       "    </tr>\n",
       "    <tr>\n",
       "      <th>1</th>\n",
       "      <td>9eae34bbd3a474ec5d07949ca7de67c0</td>\n",
       "      <td>8912fc0c3bbf1e2fbf35819e21706718</td>\n",
       "      <td>2017-11-09 00:50:13</td>\n",
       "      <td>1</td>\n",
       "      <td>112.99</td>\n",
       "      <td>298</td>\n",
       "    </tr>\n",
       "    <tr>\n",
       "      <th>2</th>\n",
       "      <td>9eae34bbd3a474ec5d07949ca7de67c0</td>\n",
       "      <td>8912fc0c3bbf1e2fbf35819e21706718</td>\n",
       "      <td>2017-11-09 00:50:13</td>\n",
       "      <td>2</td>\n",
       "      <td>112.99</td>\n",
       "      <td>298</td>\n",
       "    </tr>\n",
       "    <tr>\n",
       "      <th>3</th>\n",
       "      <td>3c799d181c34d51f6d44bbbc563024db</td>\n",
       "      <td>f0ac8e5a239118859b1734e1087cbb1f</td>\n",
       "      <td>2017-05-07 20:11:26</td>\n",
       "      <td>1</td>\n",
       "      <td>124.99</td>\n",
       "      <td>483</td>\n",
       "    </tr>\n",
       "    <tr>\n",
       "      <th>4</th>\n",
       "      <td>23397e992b09769faf5e66f9e171a241</td>\n",
       "      <td>6bc8d08963a135220ed6c6d098831f84</td>\n",
       "      <td>2018-02-03 19:45:40</td>\n",
       "      <td>1</td>\n",
       "      <td>106.99</td>\n",
       "      <td>211</td>\n",
       "    </tr>\n",
       "  </tbody>\n",
       "</table>\n",
       "</div>"
      ],
      "text/plain": [
       "                   id_unico_cliente                        id_cliente  \\\n",
       "0  861eff4711a542e4b93843c6dd7febb0  06b8999e2fba1a1fbc88172c00ba8bc7   \n",
       "1  9eae34bbd3a474ec5d07949ca7de67c0  8912fc0c3bbf1e2fbf35819e21706718   \n",
       "2  9eae34bbd3a474ec5d07949ca7de67c0  8912fc0c3bbf1e2fbf35819e21706718   \n",
       "3  3c799d181c34d51f6d44bbbc563024db  f0ac8e5a239118859b1734e1087cbb1f   \n",
       "4  23397e992b09769faf5e66f9e171a241  6bc8d08963a135220ed6c6d098831f84   \n",
       "\n",
       "        horario_pedido  item_id   preco  Recencia  \n",
       "0  2017-05-16 15:05:35        1  124.99       474  \n",
       "1  2017-11-09 00:50:13        1  112.99       298  \n",
       "2  2017-11-09 00:50:13        2  112.99       298  \n",
       "3  2017-05-07 20:11:26        1  124.99       483  \n",
       "4  2018-02-03 19:45:40        1  106.99       211  "
      ]
     },
     "execution_count": 27,
     "metadata": {},
     "output_type": "execute_result"
    }
   ],
   "source": [
    "df_usuario = pd.merge(df_olist, df_compra[['id_unico_cliente','Recencia']],on='id_unico_cliente')\n",
    "\n",
    "df_usuario.head()"
   ]
  },
  {
   "cell_type": "markdown",
   "metadata": {},
   "source": [
    "Acima temos o dataset oriundo das transformações feitas no datase original, onde primeiro selecionei apenas as colunas que diziam respeito ao cliente, produto, preço e horário da compra, e depois criei outro dataset contendo apenas a o id único por cliente e a última data que foi feita uma compra, para criar a variável Recência que diz há quantos dias foi feita a última compra, então uni  os 2 dataset trazendo todas as informações necssárias para segmentar os clientes."
   ]
  },
  {
   "cell_type": "code",
   "execution_count": 28,
   "metadata": {},
   "outputs": [
    {
     "data": {
      "text/html": [
       "<div>\n",
       "<style scoped>\n",
       "    .dataframe tbody tr th:only-of-type {\n",
       "        vertical-align: middle;\n",
       "    }\n",
       "\n",
       "    .dataframe tbody tr th {\n",
       "        vertical-align: top;\n",
       "    }\n",
       "\n",
       "    .dataframe thead th {\n",
       "        text-align: right;\n",
       "    }\n",
       "</style>\n",
       "<table border=\"1\" class=\"dataframe\">\n",
       "  <thead>\n",
       "    <tr style=\"text-align: right;\">\n",
       "      <th></th>\n",
       "      <th>item_id</th>\n",
       "      <th>preco</th>\n",
       "      <th>Recencia</th>\n",
       "    </tr>\n",
       "  </thead>\n",
       "  <tbody>\n",
       "    <tr>\n",
       "      <th>count</th>\n",
       "      <td>116581.000000</td>\n",
       "      <td>116581.000000</td>\n",
       "      <td>116581.000000</td>\n",
       "    </tr>\n",
       "    <tr>\n",
       "      <th>mean</th>\n",
       "      <td>1.196953</td>\n",
       "      <td>120.751369</td>\n",
       "      <td>242.646623</td>\n",
       "    </tr>\n",
       "    <tr>\n",
       "      <th>std</th>\n",
       "      <td>0.701350</td>\n",
       "      <td>183.848421</td>\n",
       "      <td>153.112319</td>\n",
       "    </tr>\n",
       "    <tr>\n",
       "      <th>min</th>\n",
       "      <td>1.000000</td>\n",
       "      <td>0.850000</td>\n",
       "      <td>0.000000</td>\n",
       "    </tr>\n",
       "    <tr>\n",
       "      <th>25%</th>\n",
       "      <td>1.000000</td>\n",
       "      <td>39.900000</td>\n",
       "      <td>118.000000</td>\n",
       "    </tr>\n",
       "    <tr>\n",
       "      <th>50%</th>\n",
       "      <td>1.000000</td>\n",
       "      <td>74.900000</td>\n",
       "      <td>223.000000</td>\n",
       "    </tr>\n",
       "    <tr>\n",
       "      <th>75%</th>\n",
       "      <td>1.000000</td>\n",
       "      <td>134.900000</td>\n",
       "      <td>352.000000</td>\n",
       "    </tr>\n",
       "    <tr>\n",
       "      <th>max</th>\n",
       "      <td>21.000000</td>\n",
       "      <td>6735.000000</td>\n",
       "      <td>728.000000</td>\n",
       "    </tr>\n",
       "  </tbody>\n",
       "</table>\n",
       "</div>"
      ],
      "text/plain": [
       "             item_id          preco       Recencia\n",
       "count  116581.000000  116581.000000  116581.000000\n",
       "mean        1.196953     120.751369     242.646623\n",
       "std         0.701350     183.848421     153.112319\n",
       "min         1.000000       0.850000       0.000000\n",
       "25%         1.000000      39.900000     118.000000\n",
       "50%         1.000000      74.900000     223.000000\n",
       "75%         1.000000     134.900000     352.000000\n",
       "max        21.000000    6735.000000     728.000000"
      ]
     },
     "execution_count": 28,
     "metadata": {},
     "output_type": "execute_result"
    }
   ],
   "source": [
    "df_usuario.describe()"
   ]
  },
  {
   "cell_type": "markdown",
   "metadata": {},
   "source": [
    "Analisando os dados acima, obtidos por meio da função describe do pandas, pode-se perceber que:\n",
    "\n",
    "- Mais de 75% dos produtos comprados tem valor abaixo de 134,90.\n",
    "- 25% dos clientes fizeram  uma compra nos últimos 4 meses.\n",
    "- 50% dos clientes fizeram  uma compra há 223 dias.\n",
    "- 75% dos clientes fizeram  uma compra há quase um ano.\n",
    "- 25% dos clientesfizeram  uma compra há quase 2 anos.\n"
   ]
  },
  {
   "cell_type": "markdown",
   "metadata": {},
   "source": [
    "# Clusterização\n"
   ]
  },
  {
   "cell_type": "markdown",
   "metadata": {},
   "source": [
    "## KMeans\n",
    "\n",
    "## Calculando o melhor número de clusters"
   ]
  },
  {
   "cell_type": "code",
   "execution_count": 31,
   "metadata": {},
   "outputs": [],
   "source": [
    "from sklearn.cluster import KMeans"
   ]
  },
  {
   "cell_type": "code",
   "execution_count": 61,
   "metadata": {},
   "outputs": [],
   "source": [
    "import sys\n",
    "import warnings\n",
    "    \n",
    "if not sys.warnoptions:\n",
    "    warnings.simplefilter(\"ignore\")"
   ]
  },
  {
   "cell_type": "code",
   "execution_count": 30,
   "metadata": {},
   "outputs": [],
   "source": [
    "def calcular_wcss(data):\n",
    "    wcss = []\n",
    "    for k in  range(1,10):\n",
    "        kmeans = KMeans(n_clusters=k)\n",
    "        kmeans.fit(X=data)\n",
    "        data['Clusters'] = kmeans.labels_\n",
    "        wcss.append(kmeans.inertia_)\n",
    "    return wcss"
   ]
  },
  {
   "cell_type": "markdown",
   "metadata": {},
   "source": [
    "Selecinando apenas a variável Recência para criar clusters a partir dessa variável."
   ]
  },
  {
   "cell_type": "code",
   "execution_count": 32,
   "metadata": {},
   "outputs": [
    {
     "data": {
      "text/html": [
       "<div>\n",
       "<style scoped>\n",
       "    .dataframe tbody tr th:only-of-type {\n",
       "        vertical-align: middle;\n",
       "    }\n",
       "\n",
       "    .dataframe tbody tr th {\n",
       "        vertical-align: top;\n",
       "    }\n",
       "\n",
       "    .dataframe thead th {\n",
       "        text-align: right;\n",
       "    }\n",
       "</style>\n",
       "<table border=\"1\" class=\"dataframe\">\n",
       "  <thead>\n",
       "    <tr style=\"text-align: right;\">\n",
       "      <th></th>\n",
       "      <th>Recencia</th>\n",
       "    </tr>\n",
       "  </thead>\n",
       "  <tbody>\n",
       "    <tr>\n",
       "      <th>0</th>\n",
       "      <td>474</td>\n",
       "    </tr>\n",
       "    <tr>\n",
       "      <th>1</th>\n",
       "      <td>298</td>\n",
       "    </tr>\n",
       "    <tr>\n",
       "      <th>2</th>\n",
       "      <td>298</td>\n",
       "    </tr>\n",
       "    <tr>\n",
       "      <th>3</th>\n",
       "      <td>483</td>\n",
       "    </tr>\n",
       "    <tr>\n",
       "      <th>4</th>\n",
       "      <td>211</td>\n",
       "    </tr>\n",
       "  </tbody>\n",
       "</table>\n",
       "</div>"
      ],
      "text/plain": [
       "   Recencia\n",
       "0       474\n",
       "1       298\n",
       "2       298\n",
       "3       483\n",
       "4       211"
      ]
     },
     "execution_count": 32,
     "metadata": {},
     "output_type": "execute_result"
    }
   ],
   "source": [
    "df_recencia = df_usuario[['Recencia']]\n",
    "df_recencia.head()"
   ]
  },
  {
   "cell_type": "code",
   "execution_count": 33,
   "metadata": {},
   "outputs": [],
   "source": [
    "soma_quadrados = calcular_wcss(df_recencia)"
   ]
  },
  {
   "cell_type": "code",
   "execution_count": 37,
   "metadata": {},
   "outputs": [],
   "source": [
    "import math\n",
    "def numero_otimo_clusters(wcss):\n",
    "    x1, y1 = 2,wcss[0]\n",
    "    x2, y2 = 20,wcss[len(wcss)-1]\n",
    "    \n",
    "    distancia = []\n",
    "    for i in range(len(wcss)):\n",
    "        x0 = i+2\n",
    "        y0 = wcss[i]\n",
    "        numerador = abs((y2 - y1)*x0 -(x2 - x1)*y0 + x2*y1 - y2*x1)\n",
    "        denominador = math.sqrt((y2 - y1)**2 + (x2 - x1)**2)\n",
    "        distancia.append(numerador/denominador)\n",
    "    return distancia.index(max(distancia)) + 2"
   ]
  },
  {
   "cell_type": "code",
   "execution_count": 38,
   "metadata": {},
   "outputs": [
    {
     "data": {
      "text/plain": [
       "4"
      ]
     },
     "execution_count": 38,
     "metadata": {},
     "output_type": "execute_result"
    }
   ],
   "source": [
    "n = numero_otimo_clusters(soma_quadrados)\n",
    "n"
   ]
  },
  {
   "cell_type": "markdown",
   "metadata": {},
   "source": [
    "Plotandoo gráfico para analisar o melhor número de clusters"
   ]
  },
  {
   "cell_type": "code",
   "execution_count": 39,
   "metadata": {},
   "outputs": [
    {
     "data": {
      "image/png": "[encoded data removed]",
      "text/plain": [
       "<Figure size 720x360 with 1 Axes>"
      ]
     },
     "metadata": {
      "needs_background": "light"
     },
     "output_type": "display_data"
    }
   ],
   "source": [
    "plt.figure(figsize=(10,5))\n",
    "plt.plot(soma_quadrados)\n",
    "plt.xlabel('Número de clusters')\n",
    "plt.show()"
   ]
  },
  {
   "cell_type": "markdown",
   "metadata": {},
   "source": [
    "Método da silhueta"
   ]
  },
  {
   "cell_type": "code",
   "execution_count": 73,
   "metadata": {},
   "outputs": [],
   "source": [
    "# from sklearn.metrics import silhouette_score\n",
    "# for nc in range(2, 11):\n",
    "#   print('Numero de Clusters', nc)\n",
    "#   kmeans = KMeans(n_clusters=nc)\n",
    "#   kmeans.fit(df_recencia)\n",
    "#   labels = kmeans.labels_\n",
    "#   ss=silhouette_score(df_recencia, labels)\n",
    "#   print('Silhouette Score', ss)\n",
    "#   print('='*80)"
   ]
  },
  {
   "cell_type": "code",
   "execution_count": 77,
   "metadata": {},
   "outputs": [],
   "source": [
    "# for i in range(2, 11):\n",
    "#   cluster = KMeans(n_clusters=i)\n",
    "#   preds = cluster.fit_predict(df_recencia)\n",
    "#   score = silhouette_score(df_recencia, preds)\n",
    "#   print('Silhouette Score para ' + str(i) + ' clusters : ' + str(score))\n",
    "#   print('='*80)"
   ]
  },
  {
   "cell_type": "markdown",
   "metadata": {},
   "source": [
    "## Criando variáveis\n",
    "\n",
    "\n",
    "\n",
    "## Recência\n",
    "\n",
    "Aplicando o número de clusters ideal para criar a variável RecenciaCluster"
   ]
  },
  {
   "cell_type": "code",
   "execution_count": 40,
   "metadata": {},
   "outputs": [
    {
     "data": {
      "text/html": [
       "<div>\n",
       "<style scoped>\n",
       "    .dataframe tbody tr th:only-of-type {\n",
       "        vertical-align: middle;\n",
       "    }\n",
       "\n",
       "    .dataframe tbody tr th {\n",
       "        vertical-align: top;\n",
       "    }\n",
       "\n",
       "    .dataframe thead th {\n",
       "        text-align: right;\n",
       "    }\n",
       "</style>\n",
       "<table border=\"1\" class=\"dataframe\">\n",
       "  <thead>\n",
       "    <tr style=\"text-align: right;\">\n",
       "      <th></th>\n",
       "      <th>id_unico_cliente</th>\n",
       "      <th>id_cliente</th>\n",
       "      <th>horario_pedido</th>\n",
       "      <th>item_id</th>\n",
       "      <th>preco</th>\n",
       "      <th>Recencia</th>\n",
       "      <th>RecenciaCluster</th>\n",
       "    </tr>\n",
       "  </thead>\n",
       "  <tbody>\n",
       "    <tr>\n",
       "      <th>0</th>\n",
       "      <td>861eff4711a542e4b93843c6dd7febb0</td>\n",
       "      <td>06b8999e2fba1a1fbc88172c00ba8bc7</td>\n",
       "      <td>2017-05-16 15:05:35</td>\n",
       "      <td>1</td>\n",
       "      <td>124.99</td>\n",
       "      <td>474</td>\n",
       "      <td>1</td>\n",
       "    </tr>\n",
       "    <tr>\n",
       "      <th>1</th>\n",
       "      <td>9eae34bbd3a474ec5d07949ca7de67c0</td>\n",
       "      <td>8912fc0c3bbf1e2fbf35819e21706718</td>\n",
       "      <td>2017-11-09 00:50:13</td>\n",
       "      <td>1</td>\n",
       "      <td>112.99</td>\n",
       "      <td>298</td>\n",
       "      <td>3</td>\n",
       "    </tr>\n",
       "    <tr>\n",
       "      <th>2</th>\n",
       "      <td>9eae34bbd3a474ec5d07949ca7de67c0</td>\n",
       "      <td>8912fc0c3bbf1e2fbf35819e21706718</td>\n",
       "      <td>2017-11-09 00:50:13</td>\n",
       "      <td>2</td>\n",
       "      <td>112.99</td>\n",
       "      <td>298</td>\n",
       "      <td>3</td>\n",
       "    </tr>\n",
       "    <tr>\n",
       "      <th>3</th>\n",
       "      <td>3c799d181c34d51f6d44bbbc563024db</td>\n",
       "      <td>f0ac8e5a239118859b1734e1087cbb1f</td>\n",
       "      <td>2017-05-07 20:11:26</td>\n",
       "      <td>1</td>\n",
       "      <td>124.99</td>\n",
       "      <td>483</td>\n",
       "      <td>1</td>\n",
       "    </tr>\n",
       "    <tr>\n",
       "      <th>4</th>\n",
       "      <td>23397e992b09769faf5e66f9e171a241</td>\n",
       "      <td>6bc8d08963a135220ed6c6d098831f84</td>\n",
       "      <td>2018-02-03 19:45:40</td>\n",
       "      <td>1</td>\n",
       "      <td>106.99</td>\n",
       "      <td>211</td>\n",
       "      <td>0</td>\n",
       "    </tr>\n",
       "  </tbody>\n",
       "</table>\n",
       "</div>"
      ],
      "text/plain": [
       "                   id_unico_cliente                        id_cliente  \\\n",
       "0  861eff4711a542e4b93843c6dd7febb0  06b8999e2fba1a1fbc88172c00ba8bc7   \n",
       "1  9eae34bbd3a474ec5d07949ca7de67c0  8912fc0c3bbf1e2fbf35819e21706718   \n",
       "2  9eae34bbd3a474ec5d07949ca7de67c0  8912fc0c3bbf1e2fbf35819e21706718   \n",
       "3  3c799d181c34d51f6d44bbbc563024db  f0ac8e5a239118859b1734e1087cbb1f   \n",
       "4  23397e992b09769faf5e66f9e171a241  6bc8d08963a135220ed6c6d098831f84   \n",
       "\n",
       "        horario_pedido  item_id   preco  Recencia  RecenciaCluster  \n",
       "0  2017-05-16 15:05:35        1  124.99       474                1  \n",
       "1  2017-11-09 00:50:13        1  112.99       298                3  \n",
       "2  2017-11-09 00:50:13        2  112.99       298                3  \n",
       "3  2017-05-07 20:11:26        1  124.99       483                1  \n",
       "4  2018-02-03 19:45:40        1  106.99       211                0  "
      ]
     },
     "execution_count": 40,
     "metadata": {},
     "output_type": "execute_result"
    }
   ],
   "source": [
    "kmeans = KMeans(n_clusters=4)\n",
    "df_usuario['RecenciaCluster'] = kmeans.fit_predict(df_recencia)\n",
    "\n",
    "df_usuario.head()"
   ]
  },
  {
   "cell_type": "markdown",
   "metadata": {},
   "source": [
    "- Criando uma função para ordenar a variável RecenciaCluster"
   ]
  },
  {
   "cell_type": "code",
   "execution_count": 41,
   "metadata": {},
   "outputs": [],
   "source": [
    "def ordenador_cluster(cluster_nome,target_nome,df):\n",
    "    agrupado_por_cluster = df.groupby(cluster_nome)[target_nome].mean().reset_index()\n",
    "    agrupado_por_cluster = agrupado_por_cluster.sort_values(by=target_nome,ascending=False).reset_index(drop=True)\n",
    "    agrupado_por_cluster['index'] = agrupado_por_cluster.index\n",
    "    juntando_cluster = pd.merge(df, agrupado_por_cluster[[cluster_nome,'index']],on=cluster_nome)\n",
    "    df_final = juntando_cluster.drop([cluster_nome], axis=1)\n",
    "    df_final = df_final.rename(columns={'index':cluster_nome})\n",
    "    return df_final"
   ]
  },
  {
   "cell_type": "code",
   "execution_count": 42,
   "metadata": {},
   "outputs": [
    {
     "data": {
      "text/html": [
       "<div>\n",
       "<style scoped>\n",
       "    .dataframe tbody tr th:only-of-type {\n",
       "        vertical-align: middle;\n",
       "    }\n",
       "\n",
       "    .dataframe tbody tr th {\n",
       "        vertical-align: top;\n",
       "    }\n",
       "\n",
       "    .dataframe thead th {\n",
       "        text-align: right;\n",
       "    }\n",
       "</style>\n",
       "<table border=\"1\" class=\"dataframe\">\n",
       "  <thead>\n",
       "    <tr style=\"text-align: right;\">\n",
       "      <th></th>\n",
       "      <th>id_unico_cliente</th>\n",
       "      <th>id_cliente</th>\n",
       "      <th>horario_pedido</th>\n",
       "      <th>item_id</th>\n",
       "      <th>preco</th>\n",
       "      <th>Recencia</th>\n",
       "      <th>RecenciaCluster</th>\n",
       "    </tr>\n",
       "  </thead>\n",
       "  <tbody>\n",
       "    <tr>\n",
       "      <th>0</th>\n",
       "      <td>861eff4711a542e4b93843c6dd7febb0</td>\n",
       "      <td>06b8999e2fba1a1fbc88172c00ba8bc7</td>\n",
       "      <td>2017-05-16 15:05:35</td>\n",
       "      <td>1</td>\n",
       "      <td>124.99</td>\n",
       "      <td>474</td>\n",
       "      <td>0</td>\n",
       "    </tr>\n",
       "    <tr>\n",
       "      <th>1</th>\n",
       "      <td>3c799d181c34d51f6d44bbbc563024db</td>\n",
       "      <td>f0ac8e5a239118859b1734e1087cbb1f</td>\n",
       "      <td>2017-05-07 20:11:26</td>\n",
       "      <td>1</td>\n",
       "      <td>124.99</td>\n",
       "      <td>483</td>\n",
       "      <td>0</td>\n",
       "    </tr>\n",
       "    <tr>\n",
       "      <th>2</th>\n",
       "      <td>567ab47ca4deb92d46dbf54dce07d0a7</td>\n",
       "      <td>fd3a0b1bd209f0e7d420c9c3d1127613</td>\n",
       "      <td>2017-03-23 15:10:17</td>\n",
       "      <td>1</td>\n",
       "      <td>126.99</td>\n",
       "      <td>528</td>\n",
       "      <td>0</td>\n",
       "    </tr>\n",
       "    <tr>\n",
       "      <th>3</th>\n",
       "      <td>f40ab89b622248b7ca125af4b486b887</td>\n",
       "      <td>fbd40c083aa8cddebb5265b2ba6aaf2e</td>\n",
       "      <td>2017-05-16 10:00:49</td>\n",
       "      <td>1</td>\n",
       "      <td>124.99</td>\n",
       "      <td>474</td>\n",
       "      <td>0</td>\n",
       "    </tr>\n",
       "    <tr>\n",
       "      <th>4</th>\n",
       "      <td>749943913a9851a39c9baf51877fbab6</td>\n",
       "      <td>10558ef4afea173bfb5e2cbe3d5b0bb5</td>\n",
       "      <td>2017-03-18 23:04:36</td>\n",
       "      <td>1</td>\n",
       "      <td>126.99</td>\n",
       "      <td>533</td>\n",
       "      <td>0</td>\n",
       "    </tr>\n",
       "  </tbody>\n",
       "</table>\n",
       "</div>"
      ],
      "text/plain": [
       "                   id_unico_cliente                        id_cliente  \\\n",
       "0  861eff4711a542e4b93843c6dd7febb0  06b8999e2fba1a1fbc88172c00ba8bc7   \n",
       "1  3c799d181c34d51f6d44bbbc563024db  f0ac8e5a239118859b1734e1087cbb1f   \n",
       "2  567ab47ca4deb92d46dbf54dce07d0a7  fd3a0b1bd209f0e7d420c9c3d1127613   \n",
       "3  f40ab89b622248b7ca125af4b486b887  fbd40c083aa8cddebb5265b2ba6aaf2e   \n",
       "4  749943913a9851a39c9baf51877fbab6  10558ef4afea173bfb5e2cbe3d5b0bb5   \n",
       "\n",
       "        horario_pedido  item_id   preco  Recencia  RecenciaCluster  \n",
       "0  2017-05-16 15:05:35        1  124.99       474                0  \n",
       "1  2017-05-07 20:11:26        1  124.99       483                0  \n",
       "2  2017-03-23 15:10:17        1  126.99       528                0  \n",
       "3  2017-05-16 10:00:49        1  124.99       474                0  \n",
       "4  2017-03-18 23:04:36        1  126.99       533                0  "
      ]
     },
     "execution_count": 42,
     "metadata": {},
     "output_type": "execute_result"
    }
   ],
   "source": [
    "df_usuario = ordenador_cluster('RecenciaCluster','Recencia',df_usuario)\n",
    "\n",
    "df_usuario.head()"
   ]
  },
  {
   "cell_type": "code",
   "execution_count": 43,
   "metadata": {},
   "outputs": [
    {
     "data": {
      "text/html": [
       "<div>\n",
       "<style scoped>\n",
       "    .dataframe tbody tr th:only-of-type {\n",
       "        vertical-align: middle;\n",
       "    }\n",
       "\n",
       "    .dataframe tbody tr th {\n",
       "        vertical-align: top;\n",
       "    }\n",
       "\n",
       "    .dataframe thead th {\n",
       "        text-align: right;\n",
       "    }\n",
       "</style>\n",
       "<table border=\"1\" class=\"dataframe\">\n",
       "  <thead>\n",
       "    <tr style=\"text-align: right;\">\n",
       "      <th></th>\n",
       "      <th>count</th>\n",
       "      <th>mean</th>\n",
       "      <th>std</th>\n",
       "      <th>min</th>\n",
       "      <th>25%</th>\n",
       "      <th>50%</th>\n",
       "      <th>75%</th>\n",
       "      <th>max</th>\n",
       "    </tr>\n",
       "    <tr>\n",
       "      <th>RecenciaCluster</th>\n",
       "      <th></th>\n",
       "      <th></th>\n",
       "      <th></th>\n",
       "      <th></th>\n",
       "      <th></th>\n",
       "      <th></th>\n",
       "      <th></th>\n",
       "      <th></th>\n",
       "    </tr>\n",
       "  </thead>\n",
       "  <tbody>\n",
       "    <tr>\n",
       "      <th>0</th>\n",
       "      <td>20324.0</td>\n",
       "      <td>490.622269</td>\n",
       "      <td>59.293154</td>\n",
       "      <td>406.0</td>\n",
       "      <td>444.0</td>\n",
       "      <td>481.0</td>\n",
       "      <td>533.0</td>\n",
       "      <td>728.0</td>\n",
       "    </tr>\n",
       "    <tr>\n",
       "      <th>1</th>\n",
       "      <td>30828.0</td>\n",
       "      <td>320.233294</td>\n",
       "      <td>43.971639</td>\n",
       "      <td>255.0</td>\n",
       "      <td>281.0</td>\n",
       "      <td>314.0</td>\n",
       "      <td>357.0</td>\n",
       "      <td>405.0</td>\n",
       "    </tr>\n",
       "    <tr>\n",
       "      <th>2</th>\n",
       "      <td>33639.0</td>\n",
       "      <td>187.911204</td>\n",
       "      <td>35.134736</td>\n",
       "      <td>128.0</td>\n",
       "      <td>158.0</td>\n",
       "      <td>187.0</td>\n",
       "      <td>218.0</td>\n",
       "      <td>254.0</td>\n",
       "    </tr>\n",
       "    <tr>\n",
       "      <th>3</th>\n",
       "      <td>31790.0</td>\n",
       "      <td>66.790878</td>\n",
       "      <td>36.009443</td>\n",
       "      <td>0.0</td>\n",
       "      <td>33.0</td>\n",
       "      <td>67.0</td>\n",
       "      <td>100.0</td>\n",
       "      <td>127.0</td>\n",
       "    </tr>\n",
       "  </tbody>\n",
       "</table>\n",
       "</div>"
      ],
      "text/plain": [
       "                   count        mean        std    min    25%    50%    75%  \\\n",
       "RecenciaCluster                                                               \n",
       "0                20324.0  490.622269  59.293154  406.0  444.0  481.0  533.0   \n",
       "1                30828.0  320.233294  43.971639  255.0  281.0  314.0  357.0   \n",
       "2                33639.0  187.911204  35.134736  128.0  158.0  187.0  218.0   \n",
       "3                31790.0   66.790878  36.009443    0.0   33.0   67.0  100.0   \n",
       "\n",
       "                   max  \n",
       "RecenciaCluster         \n",
       "0                728.0  \n",
       "1                405.0  \n",
       "2                254.0  \n",
       "3                127.0  "
      ]
     },
     "execution_count": 43,
     "metadata": {},
     "output_type": "execute_result"
    }
   ],
   "source": [
    "df_usuario.groupby('RecenciaCluster')['Recencia'].describe()"
   ]
  },
  {
   "cell_type": "markdown",
   "metadata": {},
   "source": [
    "Ao aplicar a função acima, ela retorna um dataset com a coluna RecenciaCLuster ordenada de acordo com a quantidade de dias que cada usuário demora para comprar.\n",
    "\n",
    "É atribuída uma nota de 0 a 3 para cada cliente.\n",
    "\n",
    "Quanto maior o intervalo para comprar mais baixa é a nota.\n"
   ]
  },
  {
   "cell_type": "markdown",
   "metadata": {},
   "source": [
    "## Frequência\n",
    "\n",
    "Aplicando o número de clusters ideal para criar a variável FrequenciaCluster"
   ]
  },
  {
   "cell_type": "markdown",
   "metadata": {},
   "source": [
    "Criando a variável frequência"
   ]
  },
  {
   "cell_type": "code",
   "execution_count": 44,
   "metadata": {},
   "outputs": [
    {
     "data": {
      "text/html": [
       "<div>\n",
       "<style scoped>\n",
       "    .dataframe tbody tr th:only-of-type {\n",
       "        vertical-align: middle;\n",
       "    }\n",
       "\n",
       "    .dataframe tbody tr th {\n",
       "        vertical-align: top;\n",
       "    }\n",
       "\n",
       "    .dataframe thead th {\n",
       "        text-align: right;\n",
       "    }\n",
       "</style>\n",
       "<table border=\"1\" class=\"dataframe\">\n",
       "  <thead>\n",
       "    <tr style=\"text-align: right;\">\n",
       "      <th></th>\n",
       "      <th>id_unico_cliente</th>\n",
       "      <th>Frequencia</th>\n",
       "    </tr>\n",
       "  </thead>\n",
       "  <tbody>\n",
       "    <tr>\n",
       "      <th>0</th>\n",
       "      <td>0000366f3b9a7992bf8c76cfdf3221e2</td>\n",
       "      <td>1</td>\n",
       "    </tr>\n",
       "    <tr>\n",
       "      <th>1</th>\n",
       "      <td>0000b849f77a49e4a4ce2b2a4ca5be3f</td>\n",
       "      <td>1</td>\n",
       "    </tr>\n",
       "    <tr>\n",
       "      <th>2</th>\n",
       "      <td>0000f46a3911fa3c0805444483337064</td>\n",
       "      <td>1</td>\n",
       "    </tr>\n",
       "    <tr>\n",
       "      <th>3</th>\n",
       "      <td>0000f6ccb0745a6a4b88665a16c9f078</td>\n",
       "      <td>1</td>\n",
       "    </tr>\n",
       "    <tr>\n",
       "      <th>4</th>\n",
       "      <td>0004aac84e0df4da2b147fca70cf8255</td>\n",
       "      <td>1</td>\n",
       "    </tr>\n",
       "  </tbody>\n",
       "</table>\n",
       "</div>"
      ],
      "text/plain": [
       "                   id_unico_cliente  Frequencia\n",
       "0  0000366f3b9a7992bf8c76cfdf3221e2           1\n",
       "1  0000b849f77a49e4a4ce2b2a4ca5be3f           1\n",
       "2  0000f46a3911fa3c0805444483337064           1\n",
       "3  0000f6ccb0745a6a4b88665a16c9f078           1\n",
       "4  0004aac84e0df4da2b147fca70cf8255           1"
      ]
     },
     "execution_count": 44,
     "metadata": {},
     "output_type": "execute_result"
    }
   ],
   "source": [
    "df_frequencia = dados.groupby('id_unico_cliente').pedido_aprovado.count().reset_index()\n",
    "df_frequencia.columns = ['id_unico_cliente','Frequencia']\n",
    "df_frequencia.head()"
   ]
  },
  {
   "cell_type": "markdown",
   "metadata": {},
   "source": [
    "Adicionando a variável frequencia ao dataset"
   ]
  },
  {
   "cell_type": "code",
   "execution_count": 45,
   "metadata": {},
   "outputs": [
    {
     "data": {
      "text/html": [
       "<div>\n",
       "<style scoped>\n",
       "    .dataframe tbody tr th:only-of-type {\n",
       "        vertical-align: middle;\n",
       "    }\n",
       "\n",
       "    .dataframe tbody tr th {\n",
       "        vertical-align: top;\n",
       "    }\n",
       "\n",
       "    .dataframe thead th {\n",
       "        text-align: right;\n",
       "    }\n",
       "</style>\n",
       "<table border=\"1\" class=\"dataframe\">\n",
       "  <thead>\n",
       "    <tr style=\"text-align: right;\">\n",
       "      <th></th>\n",
       "      <th>id_unico_cliente</th>\n",
       "      <th>id_cliente</th>\n",
       "      <th>horario_pedido</th>\n",
       "      <th>item_id</th>\n",
       "      <th>preco</th>\n",
       "      <th>Recencia</th>\n",
       "      <th>RecenciaCluster</th>\n",
       "      <th>Frequencia</th>\n",
       "    </tr>\n",
       "  </thead>\n",
       "  <tbody>\n",
       "    <tr>\n",
       "      <th>0</th>\n",
       "      <td>861eff4711a542e4b93843c6dd7febb0</td>\n",
       "      <td>06b8999e2fba1a1fbc88172c00ba8bc7</td>\n",
       "      <td>2017-05-16 15:05:35</td>\n",
       "      <td>1</td>\n",
       "      <td>124.99</td>\n",
       "      <td>474</td>\n",
       "      <td>0</td>\n",
       "      <td>1</td>\n",
       "    </tr>\n",
       "    <tr>\n",
       "      <th>1</th>\n",
       "      <td>3c799d181c34d51f6d44bbbc563024db</td>\n",
       "      <td>f0ac8e5a239118859b1734e1087cbb1f</td>\n",
       "      <td>2017-05-07 20:11:26</td>\n",
       "      <td>1</td>\n",
       "      <td>124.99</td>\n",
       "      <td>483</td>\n",
       "      <td>0</td>\n",
       "      <td>1</td>\n",
       "    </tr>\n",
       "    <tr>\n",
       "      <th>2</th>\n",
       "      <td>567ab47ca4deb92d46dbf54dce07d0a7</td>\n",
       "      <td>fd3a0b1bd209f0e7d420c9c3d1127613</td>\n",
       "      <td>2017-03-23 15:10:17</td>\n",
       "      <td>1</td>\n",
       "      <td>126.99</td>\n",
       "      <td>528</td>\n",
       "      <td>0</td>\n",
       "      <td>1</td>\n",
       "    </tr>\n",
       "    <tr>\n",
       "      <th>3</th>\n",
       "      <td>f40ab89b622248b7ca125af4b486b887</td>\n",
       "      <td>fbd40c083aa8cddebb5265b2ba6aaf2e</td>\n",
       "      <td>2017-05-16 10:00:49</td>\n",
       "      <td>1</td>\n",
       "      <td>124.99</td>\n",
       "      <td>474</td>\n",
       "      <td>0</td>\n",
       "      <td>1</td>\n",
       "    </tr>\n",
       "    <tr>\n",
       "      <th>4</th>\n",
       "      <td>749943913a9851a39c9baf51877fbab6</td>\n",
       "      <td>10558ef4afea173bfb5e2cbe3d5b0bb5</td>\n",
       "      <td>2017-03-18 23:04:36</td>\n",
       "      <td>1</td>\n",
       "      <td>126.99</td>\n",
       "      <td>533</td>\n",
       "      <td>0</td>\n",
       "      <td>1</td>\n",
       "    </tr>\n",
       "  </tbody>\n",
       "</table>\n",
       "</div>"
      ],
      "text/plain": [
       "                   id_unico_cliente                        id_cliente  \\\n",
       "0  861eff4711a542e4b93843c6dd7febb0  06b8999e2fba1a1fbc88172c00ba8bc7   \n",
       "1  3c799d181c34d51f6d44bbbc563024db  f0ac8e5a239118859b1734e1087cbb1f   \n",
       "2  567ab47ca4deb92d46dbf54dce07d0a7  fd3a0b1bd209f0e7d420c9c3d1127613   \n",
       "3  f40ab89b622248b7ca125af4b486b887  fbd40c083aa8cddebb5265b2ba6aaf2e   \n",
       "4  749943913a9851a39c9baf51877fbab6  10558ef4afea173bfb5e2cbe3d5b0bb5   \n",
       "\n",
       "        horario_pedido  item_id   preco  Recencia  RecenciaCluster  Frequencia  \n",
       "0  2017-05-16 15:05:35        1  124.99       474                0           1  \n",
       "1  2017-05-07 20:11:26        1  124.99       483                0           1  \n",
       "2  2017-03-23 15:10:17        1  126.99       528                0           1  \n",
       "3  2017-05-16 10:00:49        1  124.99       474                0           1  \n",
       "4  2017-03-18 23:04:36        1  126.99       533                0           1  "
      ]
     },
     "execution_count": 45,
     "metadata": {},
     "output_type": "execute_result"
    }
   ],
   "source": [
    "df_usuario = pd.merge(df_usuario, df_frequencia,on='id_unico_cliente')\n",
    "df_usuario.head()"
   ]
  },
  {
   "cell_type": "markdown",
   "metadata": {},
   "source": [
    "- Clustererizando  pela frquência"
   ]
  },
  {
   "cell_type": "code",
   "execution_count": 46,
   "metadata": {},
   "outputs": [],
   "source": [
    "df_frequencia = df_usuario[['Frequencia']]\n",
    "kmeans = KMeans(n_clusters=4)\n",
    "df_usuario['FrequenciaCluster'] = kmeans.fit_predict(df_frequencia)"
   ]
  },
  {
   "cell_type": "markdown",
   "metadata": {},
   "source": [
    "Ordenando o cluster de frequência"
   ]
  },
  {
   "cell_type": "code",
   "execution_count": 48,
   "metadata": {},
   "outputs": [
    {
     "data": {
      "text/html": [
       "<div>\n",
       "<style scoped>\n",
       "    .dataframe tbody tr th:only-of-type {\n",
       "        vertical-align: middle;\n",
       "    }\n",
       "\n",
       "    .dataframe tbody tr th {\n",
       "        vertical-align: top;\n",
       "    }\n",
       "\n",
       "    .dataframe thead th {\n",
       "        text-align: right;\n",
       "    }\n",
       "</style>\n",
       "<table border=\"1\" class=\"dataframe\">\n",
       "  <thead>\n",
       "    <tr style=\"text-align: right;\">\n",
       "      <th></th>\n",
       "      <th>count</th>\n",
       "      <th>mean</th>\n",
       "      <th>std</th>\n",
       "      <th>min</th>\n",
       "      <th>25%</th>\n",
       "      <th>50%</th>\n",
       "      <th>75%</th>\n",
       "      <th>max</th>\n",
       "    </tr>\n",
       "    <tr>\n",
       "      <th>FrequenciaCluster</th>\n",
       "      <th></th>\n",
       "      <th></th>\n",
       "      <th></th>\n",
       "      <th></th>\n",
       "      <th></th>\n",
       "      <th></th>\n",
       "      <th></th>\n",
       "      <th></th>\n",
       "    </tr>\n",
       "  </thead>\n",
       "  <tbody>\n",
       "    <tr>\n",
       "      <th>0</th>\n",
       "      <td>106570.0</td>\n",
       "      <td>1.306343</td>\n",
       "      <td>0.570539</td>\n",
       "      <td>0.0</td>\n",
       "      <td>1.0</td>\n",
       "      <td>1.0</td>\n",
       "      <td>2.0</td>\n",
       "      <td>3.0</td>\n",
       "    </tr>\n",
       "    <tr>\n",
       "      <th>1</th>\n",
       "      <td>619.0</td>\n",
       "      <td>22.844911</td>\n",
       "      <td>6.267127</td>\n",
       "      <td>15.0</td>\n",
       "      <td>19.0</td>\n",
       "      <td>22.0</td>\n",
       "      <td>24.0</td>\n",
       "      <td>38.0</td>\n",
       "    </tr>\n",
       "    <tr>\n",
       "      <th>2</th>\n",
       "      <td>9317.0</td>\n",
       "      <td>5.744875</td>\n",
       "      <td>2.312449</td>\n",
       "      <td>4.0</td>\n",
       "      <td>4.0</td>\n",
       "      <td>5.0</td>\n",
       "      <td>6.0</td>\n",
       "      <td>14.0</td>\n",
       "    </tr>\n",
       "    <tr>\n",
       "      <th>3</th>\n",
       "      <td>75.0</td>\n",
       "      <td>75.000000</td>\n",
       "      <td>0.000000</td>\n",
       "      <td>75.0</td>\n",
       "      <td>75.0</td>\n",
       "      <td>75.0</td>\n",
       "      <td>75.0</td>\n",
       "      <td>75.0</td>\n",
       "    </tr>\n",
       "  </tbody>\n",
       "</table>\n",
       "</div>"
      ],
      "text/plain": [
       "                      count       mean       std   min   25%   50%   75%   max\n",
       "FrequenciaCluster                                                             \n",
       "0                  106570.0   1.306343  0.570539   0.0   1.0   1.0   2.0   3.0\n",
       "1                     619.0  22.844911  6.267127  15.0  19.0  22.0  24.0  38.0\n",
       "2                    9317.0   5.744875  2.312449   4.0   4.0   5.0   6.0  14.0\n",
       "3                      75.0  75.000000  0.000000  75.0  75.0  75.0  75.0  75.0"
      ]
     },
     "execution_count": 48,
     "metadata": {},
     "output_type": "execute_result"
    }
   ],
   "source": [
    "df_usuario.groupby('FrequenciaCluster')['Frequencia'].describe()"
   ]
  },
  {
   "cell_type": "markdown",
   "metadata": {},
   "source": [
    "Como pode ser obseervado os valores médios não seguem uma ordem, então irei utilizar a função criada anteriormente para ordenar."
   ]
  },
  {
   "cell_type": "markdown",
   "metadata": {},
   "source": [
    "Utilizando a funçao ja criada para ordenar os clusters"
   ]
  },
  {
   "cell_type": "code",
   "execution_count": 50,
   "metadata": {},
   "outputs": [],
   "source": [
    "def ordenador_cluster(cluster_nome,target_nome,df):\n",
    "    agrupado_por_cluster = df.groupby(cluster_nome)[target_nome].mean().reset_index()\n",
    "    agrupado_por_cluster = agrupado_por_cluster.sort_values(by=target_nome,ascending=True).reset_index(drop=True)\n",
    "    agrupado_por_cluster['index'] = agrupado_por_cluster.index\n",
    "    juntando_cluster = pd.merge(df, agrupado_por_cluster[[cluster_nome,'index']],on=cluster_nome)\n",
    "    df_final = juntando_cluster.drop([cluster_nome], axis=1)\n",
    "    df_final = df_final.rename(columns={'index':cluster_nome})\n",
    "    return df_final"
   ]
  },
  {
   "cell_type": "code",
   "execution_count": 51,
   "metadata": {},
   "outputs": [],
   "source": [
    "df_usuario = ordenador_cluster('FrequenciaCluster','Frequencia',df_usuario)"
   ]
  },
  {
   "cell_type": "code",
   "execution_count": 52,
   "metadata": {},
   "outputs": [
    {
     "data": {
      "text/html": [
       "<div>\n",
       "<style scoped>\n",
       "    .dataframe tbody tr th:only-of-type {\n",
       "        vertical-align: middle;\n",
       "    }\n",
       "\n",
       "    .dataframe tbody tr th {\n",
       "        vertical-align: top;\n",
       "    }\n",
       "\n",
       "    .dataframe thead th {\n",
       "        text-align: right;\n",
       "    }\n",
       "</style>\n",
       "<table border=\"1\" class=\"dataframe\">\n",
       "  <thead>\n",
       "    <tr style=\"text-align: right;\">\n",
       "      <th></th>\n",
       "      <th>count</th>\n",
       "      <th>mean</th>\n",
       "      <th>std</th>\n",
       "      <th>min</th>\n",
       "      <th>25%</th>\n",
       "      <th>50%</th>\n",
       "      <th>75%</th>\n",
       "      <th>max</th>\n",
       "    </tr>\n",
       "    <tr>\n",
       "      <th>FrequenciaCluster</th>\n",
       "      <th></th>\n",
       "      <th></th>\n",
       "      <th></th>\n",
       "      <th></th>\n",
       "      <th></th>\n",
       "      <th></th>\n",
       "      <th></th>\n",
       "      <th></th>\n",
       "    </tr>\n",
       "  </thead>\n",
       "  <tbody>\n",
       "    <tr>\n",
       "      <th>0</th>\n",
       "      <td>106570.0</td>\n",
       "      <td>1.306343</td>\n",
       "      <td>0.570539</td>\n",
       "      <td>0.0</td>\n",
       "      <td>1.0</td>\n",
       "      <td>1.0</td>\n",
       "      <td>2.0</td>\n",
       "      <td>3.0</td>\n",
       "    </tr>\n",
       "    <tr>\n",
       "      <th>1</th>\n",
       "      <td>9317.0</td>\n",
       "      <td>5.744875</td>\n",
       "      <td>2.312449</td>\n",
       "      <td>4.0</td>\n",
       "      <td>4.0</td>\n",
       "      <td>5.0</td>\n",
       "      <td>6.0</td>\n",
       "      <td>14.0</td>\n",
       "    </tr>\n",
       "    <tr>\n",
       "      <th>2</th>\n",
       "      <td>619.0</td>\n",
       "      <td>22.844911</td>\n",
       "      <td>6.267127</td>\n",
       "      <td>15.0</td>\n",
       "      <td>19.0</td>\n",
       "      <td>22.0</td>\n",
       "      <td>24.0</td>\n",
       "      <td>38.0</td>\n",
       "    </tr>\n",
       "    <tr>\n",
       "      <th>3</th>\n",
       "      <td>75.0</td>\n",
       "      <td>75.000000</td>\n",
       "      <td>0.000000</td>\n",
       "      <td>75.0</td>\n",
       "      <td>75.0</td>\n",
       "      <td>75.0</td>\n",
       "      <td>75.0</td>\n",
       "      <td>75.0</td>\n",
       "    </tr>\n",
       "  </tbody>\n",
       "</table>\n",
       "</div>"
      ],
      "text/plain": [
       "                      count       mean       std   min   25%   50%   75%   max\n",
       "FrequenciaCluster                                                             \n",
       "0                  106570.0   1.306343  0.570539   0.0   1.0   1.0   2.0   3.0\n",
       "1                    9317.0   5.744875  2.312449   4.0   4.0   5.0   6.0  14.0\n",
       "2                     619.0  22.844911  6.267127  15.0  19.0  22.0  24.0  38.0\n",
       "3                      75.0  75.000000  0.000000  75.0  75.0  75.0  75.0  75.0"
      ]
     },
     "execution_count": 52,
     "metadata": {},
     "output_type": "execute_result"
    }
   ],
   "source": [
    "df_usuario.groupby('FrequenciaCluster')['Frequencia'].describe()"
   ]
  },
  {
   "cell_type": "markdown",
   "metadata": {},
   "source": [
    "Como pode ser observado acima, os clusters de frequência estao ordenados de acordo com a média de compras, recebendo nota 3 aqueles clientes que tiveram maior média e nota 0 os que tiveram  a menor média."
   ]
  },
  {
   "cell_type": "markdown",
   "metadata": {},
   "source": [
    "## Receita\n",
    "\n",
    "Aplicando o número de clusters ideal para criar a variável ReceitaCluster"
   ]
  },
  {
   "cell_type": "code",
   "execution_count": 53,
   "metadata": {},
   "outputs": [
    {
     "data": {
      "text/html": [
       "<div>\n",
       "<style scoped>\n",
       "    .dataframe tbody tr th:only-of-type {\n",
       "        vertical-align: middle;\n",
       "    }\n",
       "\n",
       "    .dataframe tbody tr th {\n",
       "        vertical-align: top;\n",
       "    }\n",
       "\n",
       "    .dataframe thead th {\n",
       "        text-align: right;\n",
       "    }\n",
       "</style>\n",
       "<table border=\"1\" class=\"dataframe\">\n",
       "  <thead>\n",
       "    <tr style=\"text-align: right;\">\n",
       "      <th></th>\n",
       "      <th>id_unico_cliente</th>\n",
       "      <th>Receita</th>\n",
       "    </tr>\n",
       "  </thead>\n",
       "  <tbody>\n",
       "    <tr>\n",
       "      <th>0</th>\n",
       "      <td>0000366f3b9a7992bf8c76cfdf3221e2</td>\n",
       "      <td>141.90</td>\n",
       "    </tr>\n",
       "    <tr>\n",
       "      <th>1</th>\n",
       "      <td>0000b849f77a49e4a4ce2b2a4ca5be3f</td>\n",
       "      <td>27.19</td>\n",
       "    </tr>\n",
       "    <tr>\n",
       "      <th>2</th>\n",
       "      <td>0000f46a3911fa3c0805444483337064</td>\n",
       "      <td>86.22</td>\n",
       "    </tr>\n",
       "    <tr>\n",
       "      <th>3</th>\n",
       "      <td>0000f6ccb0745a6a4b88665a16c9f078</td>\n",
       "      <td>43.62</td>\n",
       "    </tr>\n",
       "    <tr>\n",
       "      <th>4</th>\n",
       "      <td>0004aac84e0df4da2b147fca70cf8255</td>\n",
       "      <td>196.89</td>\n",
       "    </tr>\n",
       "  </tbody>\n",
       "</table>\n",
       "</div>"
      ],
      "text/plain": [
       "                   id_unico_cliente  Receita\n",
       "0  0000366f3b9a7992bf8c76cfdf3221e2   141.90\n",
       "1  0000b849f77a49e4a4ce2b2a4ca5be3f    27.19\n",
       "2  0000f46a3911fa3c0805444483337064    86.22\n",
       "3  0000f6ccb0745a6a4b88665a16c9f078    43.62\n",
       "4  0004aac84e0df4da2b147fca70cf8255   196.89"
      ]
     },
     "execution_count": 53,
     "metadata": {},
     "output_type": "execute_result"
    }
   ],
   "source": [
    "df_receita = dados.groupby('id_unico_cliente').pagamento_valor.sum().reset_index()\n",
    "df_receita.columns = ['id_unico_cliente','Receita']\n",
    "df_receita.head()"
   ]
  },
  {
   "cell_type": "markdown",
   "metadata": {},
   "source": [
    "Adicionando a variável frequencia ao dataset"
   ]
  },
  {
   "cell_type": "code",
   "execution_count": 54,
   "metadata": {},
   "outputs": [
    {
     "data": {
      "text/html": [
       "<div>\n",
       "<style scoped>\n",
       "    .dataframe tbody tr th:only-of-type {\n",
       "        vertical-align: middle;\n",
       "    }\n",
       "\n",
       "    .dataframe tbody tr th {\n",
       "        vertical-align: top;\n",
       "    }\n",
       "\n",
       "    .dataframe thead th {\n",
       "        text-align: right;\n",
       "    }\n",
       "</style>\n",
       "<table border=\"1\" class=\"dataframe\">\n",
       "  <thead>\n",
       "    <tr style=\"text-align: right;\">\n",
       "      <th></th>\n",
       "      <th>id_unico_cliente</th>\n",
       "      <th>id_cliente</th>\n",
       "      <th>horario_pedido</th>\n",
       "      <th>item_id</th>\n",
       "      <th>preco</th>\n",
       "      <th>Recencia</th>\n",
       "      <th>RecenciaCluster</th>\n",
       "      <th>Frequencia</th>\n",
       "      <th>FrequenciaCluster</th>\n",
       "      <th>Receita</th>\n",
       "    </tr>\n",
       "  </thead>\n",
       "  <tbody>\n",
       "    <tr>\n",
       "      <th>0</th>\n",
       "      <td>861eff4711a542e4b93843c6dd7febb0</td>\n",
       "      <td>06b8999e2fba1a1fbc88172c00ba8bc7</td>\n",
       "      <td>2017-05-16 15:05:35</td>\n",
       "      <td>1</td>\n",
       "      <td>124.99</td>\n",
       "      <td>474</td>\n",
       "      <td>0</td>\n",
       "      <td>1</td>\n",
       "      <td>0</td>\n",
       "      <td>146.87</td>\n",
       "    </tr>\n",
       "    <tr>\n",
       "      <th>1</th>\n",
       "      <td>3c799d181c34d51f6d44bbbc563024db</td>\n",
       "      <td>f0ac8e5a239118859b1734e1087cbb1f</td>\n",
       "      <td>2017-05-07 20:11:26</td>\n",
       "      <td>1</td>\n",
       "      <td>124.99</td>\n",
       "      <td>483</td>\n",
       "      <td>0</td>\n",
       "      <td>1</td>\n",
       "      <td>0</td>\n",
       "      <td>140.61</td>\n",
       "    </tr>\n",
       "    <tr>\n",
       "      <th>2</th>\n",
       "      <td>567ab47ca4deb92d46dbf54dce07d0a7</td>\n",
       "      <td>fd3a0b1bd209f0e7d420c9c3d1127613</td>\n",
       "      <td>2017-03-23 15:10:17</td>\n",
       "      <td>1</td>\n",
       "      <td>126.99</td>\n",
       "      <td>528</td>\n",
       "      <td>0</td>\n",
       "      <td>1</td>\n",
       "      <td>0</td>\n",
       "      <td>142.05</td>\n",
       "    </tr>\n",
       "    <tr>\n",
       "      <th>3</th>\n",
       "      <td>f40ab89b622248b7ca125af4b486b887</td>\n",
       "      <td>fbd40c083aa8cddebb5265b2ba6aaf2e</td>\n",
       "      <td>2017-05-16 10:00:49</td>\n",
       "      <td>1</td>\n",
       "      <td>124.99</td>\n",
       "      <td>474</td>\n",
       "      <td>0</td>\n",
       "      <td>1</td>\n",
       "      <td>0</td>\n",
       "      <td>155.70</td>\n",
       "    </tr>\n",
       "    <tr>\n",
       "      <th>4</th>\n",
       "      <td>749943913a9851a39c9baf51877fbab6</td>\n",
       "      <td>10558ef4afea173bfb5e2cbe3d5b0bb5</td>\n",
       "      <td>2017-03-18 23:04:36</td>\n",
       "      <td>1</td>\n",
       "      <td>126.99</td>\n",
       "      <td>533</td>\n",
       "      <td>0</td>\n",
       "      <td>1</td>\n",
       "      <td>0</td>\n",
       "      <td>148.33</td>\n",
       "    </tr>\n",
       "  </tbody>\n",
       "</table>\n",
       "</div>"
      ],
      "text/plain": [
       "                   id_unico_cliente                        id_cliente  \\\n",
       "0  861eff4711a542e4b93843c6dd7febb0  06b8999e2fba1a1fbc88172c00ba8bc7   \n",
       "1  3c799d181c34d51f6d44bbbc563024db  f0ac8e5a239118859b1734e1087cbb1f   \n",
       "2  567ab47ca4deb92d46dbf54dce07d0a7  fd3a0b1bd209f0e7d420c9c3d1127613   \n",
       "3  f40ab89b622248b7ca125af4b486b887  fbd40c083aa8cddebb5265b2ba6aaf2e   \n",
       "4  749943913a9851a39c9baf51877fbab6  10558ef4afea173bfb5e2cbe3d5b0bb5   \n",
       "\n",
       "        horario_pedido  item_id   preco  Recencia  RecenciaCluster  \\\n",
       "0  2017-05-16 15:05:35        1  124.99       474                0   \n",
       "1  2017-05-07 20:11:26        1  124.99       483                0   \n",
       "2  2017-03-23 15:10:17        1  126.99       528                0   \n",
       "3  2017-05-16 10:00:49        1  124.99       474                0   \n",
       "4  2017-03-18 23:04:36        1  126.99       533                0   \n",
       "\n",
       "   Frequencia  FrequenciaCluster  Receita  \n",
       "0           1                  0   146.87  \n",
       "1           1                  0   140.61  \n",
       "2           1                  0   142.05  \n",
       "3           1                  0   155.70  \n",
       "4           1                  0   148.33  "
      ]
     },
     "execution_count": 54,
     "metadata": {},
     "output_type": "execute_result"
    }
   ],
   "source": [
    "df_usuario = pd.merge(df_usuario, df_receita,on='id_unico_cliente')\n",
    "df_usuario.head()"
   ]
  },
  {
   "cell_type": "markdown",
   "metadata": {},
   "source": [
    "- Clustererizando a Receita\n"
   ]
  },
  {
   "cell_type": "code",
   "execution_count": 55,
   "metadata": {},
   "outputs": [],
   "source": [
    "df_receita = df_usuario[['Receita']]\n",
    "kmeans = KMeans(n_clusters=4)\n",
    "df_usuario['ReceitaCluster'] = kmeans.fit_predict(df_receita)"
   ]
  },
  {
   "cell_type": "markdown",
   "metadata": {},
   "source": [
    "Ordenando o cluster de Receita"
   ]
  },
  {
   "cell_type": "code",
   "execution_count": 57,
   "metadata": {},
   "outputs": [
    {
     "data": {
      "text/html": [
       "<div>\n",
       "<style scoped>\n",
       "    .dataframe tbody tr th:only-of-type {\n",
       "        vertical-align: middle;\n",
       "    }\n",
       "\n",
       "    .dataframe tbody tr th {\n",
       "        vertical-align: top;\n",
       "    }\n",
       "\n",
       "    .dataframe thead th {\n",
       "        text-align: right;\n",
       "    }\n",
       "</style>\n",
       "<table border=\"1\" class=\"dataframe\">\n",
       "  <thead>\n",
       "    <tr style=\"text-align: right;\">\n",
       "      <th></th>\n",
       "      <th>count</th>\n",
       "      <th>mean</th>\n",
       "      <th>std</th>\n",
       "      <th>min</th>\n",
       "      <th>25%</th>\n",
       "      <th>50%</th>\n",
       "      <th>75%</th>\n",
       "      <th>max</th>\n",
       "    </tr>\n",
       "    <tr>\n",
       "      <th>ReceitaCluster</th>\n",
       "      <th></th>\n",
       "      <th></th>\n",
       "      <th></th>\n",
       "      <th></th>\n",
       "      <th></th>\n",
       "      <th></th>\n",
       "      <th></th>\n",
       "      <th></th>\n",
       "    </tr>\n",
       "  </thead>\n",
       "  <tbody>\n",
       "    <tr>\n",
       "      <th>0</th>\n",
       "      <td>114759.0</td>\n",
       "      <td>258.001303</td>\n",
       "      <td>364.552930</td>\n",
       "      <td>9.59</td>\n",
       "      <td>69.90</td>\n",
       "      <td>132.57</td>\n",
       "      <td>269.08</td>\n",
       "      <td>2943.84</td>\n",
       "    </tr>\n",
       "    <tr>\n",
       "      <th>1</th>\n",
       "      <td>191.0</td>\n",
       "      <td>27358.656911</td>\n",
       "      <td>10032.832924</td>\n",
       "      <td>17069.76</td>\n",
       "      <td>19167.26</td>\n",
       "      <td>25051.89</td>\n",
       "      <td>30186.00</td>\n",
       "      <td>45256.00</td>\n",
       "    </tr>\n",
       "    <tr>\n",
       "      <th>2</th>\n",
       "      <td>8.0</td>\n",
       "      <td>109312.640000</td>\n",
       "      <td>0.000000</td>\n",
       "      <td>109312.64</td>\n",
       "      <td>109312.64</td>\n",
       "      <td>109312.64</td>\n",
       "      <td>109312.64</td>\n",
       "      <td>109312.64</td>\n",
       "    </tr>\n",
       "    <tr>\n",
       "      <th>3</th>\n",
       "      <td>1623.0</td>\n",
       "      <td>5643.398515</td>\n",
       "      <td>2881.557862</td>\n",
       "      <td>2949.52</td>\n",
       "      <td>3555.36</td>\n",
       "      <td>4491.44</td>\n",
       "      <td>6907.05</td>\n",
       "      <td>16313.60</td>\n",
       "    </tr>\n",
       "  </tbody>\n",
       "</table>\n",
       "</div>"
      ],
      "text/plain": [
       "                   count           mean           std        min        25%  \\\n",
       "ReceitaCluster                                                                \n",
       "0               114759.0     258.001303    364.552930       9.59      69.90   \n",
       "1                  191.0   27358.656911  10032.832924   17069.76   19167.26   \n",
       "2                    8.0  109312.640000      0.000000  109312.64  109312.64   \n",
       "3                 1623.0    5643.398515   2881.557862    2949.52    3555.36   \n",
       "\n",
       "                      50%        75%        max  \n",
       "ReceitaCluster                                   \n",
       "0                  132.57     269.08    2943.84  \n",
       "1                25051.89   30186.00   45256.00  \n",
       "2               109312.64  109312.64  109312.64  \n",
       "3                 4491.44    6907.05   16313.60  "
      ]
     },
     "execution_count": 57,
     "metadata": {},
     "output_type": "execute_result"
    }
   ],
   "source": [
    "df_usuario.groupby('ReceitaCluster')['Receita'].describe()"
   ]
  },
  {
   "cell_type": "markdown",
   "metadata": {},
   "source": [
    "Utilizando a funçao ja criada para ordenar os clusters"
   ]
  },
  {
   "cell_type": "code",
   "execution_count": 58,
   "metadata": {},
   "outputs": [],
   "source": [
    "df_usuario = ordenador_cluster('ReceitaCluster','Receita',df_usuario)"
   ]
  },
  {
   "cell_type": "code",
   "execution_count": 59,
   "metadata": {},
   "outputs": [
    {
     "data": {
      "text/html": [
       "<div>\n",
       "<style scoped>\n",
       "    .dataframe tbody tr th:only-of-type {\n",
       "        vertical-align: middle;\n",
       "    }\n",
       "\n",
       "    .dataframe tbody tr th {\n",
       "        vertical-align: top;\n",
       "    }\n",
       "\n",
       "    .dataframe thead th {\n",
       "        text-align: right;\n",
       "    }\n",
       "</style>\n",
       "<table border=\"1\" class=\"dataframe\">\n",
       "  <thead>\n",
       "    <tr style=\"text-align: right;\">\n",
       "      <th></th>\n",
       "      <th>count</th>\n",
       "      <th>mean</th>\n",
       "      <th>std</th>\n",
       "      <th>min</th>\n",
       "      <th>25%</th>\n",
       "      <th>50%</th>\n",
       "      <th>75%</th>\n",
       "      <th>max</th>\n",
       "    </tr>\n",
       "    <tr>\n",
       "      <th>ReceitaCluster</th>\n",
       "      <th></th>\n",
       "      <th></th>\n",
       "      <th></th>\n",
       "      <th></th>\n",
       "      <th></th>\n",
       "      <th></th>\n",
       "      <th></th>\n",
       "      <th></th>\n",
       "    </tr>\n",
       "  </thead>\n",
       "  <tbody>\n",
       "    <tr>\n",
       "      <th>0</th>\n",
       "      <td>114759.0</td>\n",
       "      <td>258.001303</td>\n",
       "      <td>364.552930</td>\n",
       "      <td>9.59</td>\n",
       "      <td>69.90</td>\n",
       "      <td>132.57</td>\n",
       "      <td>269.08</td>\n",
       "      <td>2943.84</td>\n",
       "    </tr>\n",
       "    <tr>\n",
       "      <th>1</th>\n",
       "      <td>1623.0</td>\n",
       "      <td>5643.398515</td>\n",
       "      <td>2881.557862</td>\n",
       "      <td>2949.52</td>\n",
       "      <td>3555.36</td>\n",
       "      <td>4491.44</td>\n",
       "      <td>6907.05</td>\n",
       "      <td>16313.60</td>\n",
       "    </tr>\n",
       "    <tr>\n",
       "      <th>2</th>\n",
       "      <td>191.0</td>\n",
       "      <td>27358.656911</td>\n",
       "      <td>10032.832924</td>\n",
       "      <td>17069.76</td>\n",
       "      <td>19167.26</td>\n",
       "      <td>25051.89</td>\n",
       "      <td>30186.00</td>\n",
       "      <td>45256.00</td>\n",
       "    </tr>\n",
       "    <tr>\n",
       "      <th>3</th>\n",
       "      <td>8.0</td>\n",
       "      <td>109312.640000</td>\n",
       "      <td>0.000000</td>\n",
       "      <td>109312.64</td>\n",
       "      <td>109312.64</td>\n",
       "      <td>109312.64</td>\n",
       "      <td>109312.64</td>\n",
       "      <td>109312.64</td>\n",
       "    </tr>\n",
       "  </tbody>\n",
       "</table>\n",
       "</div>"
      ],
      "text/plain": [
       "                   count           mean           std        min        25%  \\\n",
       "ReceitaCluster                                                                \n",
       "0               114759.0     258.001303    364.552930       9.59      69.90   \n",
       "1                 1623.0    5643.398515   2881.557862    2949.52    3555.36   \n",
       "2                  191.0   27358.656911  10032.832924   17069.76   19167.26   \n",
       "3                    8.0  109312.640000      0.000000  109312.64  109312.64   \n",
       "\n",
       "                      50%        75%        max  \n",
       "ReceitaCluster                                   \n",
       "0                  132.57     269.08    2943.84  \n",
       "1                 4491.44    6907.05   16313.60  \n",
       "2                25051.89   30186.00   45256.00  \n",
       "3               109312.64  109312.64  109312.64  "
      ]
     },
     "execution_count": 59,
     "metadata": {},
     "output_type": "execute_result"
    }
   ],
   "source": [
    "df_usuario.groupby('ReceitaCluster')['Receita'].describe()"
   ]
  },
  {
   "cell_type": "markdown",
   "metadata": {},
   "source": [
    "Como pode ser observado acima, os clusters de receita estao ordenados de acordo com a média de gasto, recebendo nota 3 aqueles clientes que tiveram maior média e nota 0 os que tiveram a menor média."
   ]
  },
  {
   "cell_type": "code",
   "execution_count": 60,
   "metadata": {},
   "outputs": [
    {
     "data": {
      "text/html": [
       "<div>\n",
       "<style scoped>\n",
       "    .dataframe tbody tr th:only-of-type {\n",
       "        vertical-align: middle;\n",
       "    }\n",
       "\n",
       "    .dataframe tbody tr th {\n",
       "        vertical-align: top;\n",
       "    }\n",
       "\n",
       "    .dataframe thead th {\n",
       "        text-align: right;\n",
       "    }\n",
       "</style>\n",
       "<table border=\"1\" class=\"dataframe\">\n",
       "  <thead>\n",
       "    <tr style=\"text-align: right;\">\n",
       "      <th></th>\n",
       "      <th>id_unico_cliente</th>\n",
       "      <th>id_cliente</th>\n",
       "      <th>horario_pedido</th>\n",
       "      <th>item_id</th>\n",
       "      <th>preco</th>\n",
       "      <th>Recencia</th>\n",
       "      <th>RecenciaCluster</th>\n",
       "      <th>Frequencia</th>\n",
       "      <th>FrequenciaCluster</th>\n",
       "      <th>Receita</th>\n",
       "      <th>ReceitaCluster</th>\n",
       "    </tr>\n",
       "  </thead>\n",
       "  <tbody>\n",
       "    <tr>\n",
       "      <th>0</th>\n",
       "      <td>861eff4711a542e4b93843c6dd7febb0</td>\n",
       "      <td>06b8999e2fba1a1fbc88172c00ba8bc7</td>\n",
       "      <td>2017-05-16 15:05:35</td>\n",
       "      <td>1</td>\n",
       "      <td>124.99</td>\n",
       "      <td>474</td>\n",
       "      <td>0</td>\n",
       "      <td>1</td>\n",
       "      <td>0</td>\n",
       "      <td>146.87</td>\n",
       "      <td>0</td>\n",
       "    </tr>\n",
       "    <tr>\n",
       "      <th>1</th>\n",
       "      <td>3c799d181c34d51f6d44bbbc563024db</td>\n",
       "      <td>f0ac8e5a239118859b1734e1087cbb1f</td>\n",
       "      <td>2017-05-07 20:11:26</td>\n",
       "      <td>1</td>\n",
       "      <td>124.99</td>\n",
       "      <td>483</td>\n",
       "      <td>0</td>\n",
       "      <td>1</td>\n",
       "      <td>0</td>\n",
       "      <td>140.61</td>\n",
       "      <td>0</td>\n",
       "    </tr>\n",
       "    <tr>\n",
       "      <th>2</th>\n",
       "      <td>567ab47ca4deb92d46dbf54dce07d0a7</td>\n",
       "      <td>fd3a0b1bd209f0e7d420c9c3d1127613</td>\n",
       "      <td>2017-03-23 15:10:17</td>\n",
       "      <td>1</td>\n",
       "      <td>126.99</td>\n",
       "      <td>528</td>\n",
       "      <td>0</td>\n",
       "      <td>1</td>\n",
       "      <td>0</td>\n",
       "      <td>142.05</td>\n",
       "      <td>0</td>\n",
       "    </tr>\n",
       "    <tr>\n",
       "      <th>3</th>\n",
       "      <td>f40ab89b622248b7ca125af4b486b887</td>\n",
       "      <td>fbd40c083aa8cddebb5265b2ba6aaf2e</td>\n",
       "      <td>2017-05-16 10:00:49</td>\n",
       "      <td>1</td>\n",
       "      <td>124.99</td>\n",
       "      <td>474</td>\n",
       "      <td>0</td>\n",
       "      <td>1</td>\n",
       "      <td>0</td>\n",
       "      <td>155.70</td>\n",
       "      <td>0</td>\n",
       "    </tr>\n",
       "    <tr>\n",
       "      <th>4</th>\n",
       "      <td>749943913a9851a39c9baf51877fbab6</td>\n",
       "      <td>10558ef4afea173bfb5e2cbe3d5b0bb5</td>\n",
       "      <td>2017-03-18 23:04:36</td>\n",
       "      <td>1</td>\n",
       "      <td>126.99</td>\n",
       "      <td>533</td>\n",
       "      <td>0</td>\n",
       "      <td>1</td>\n",
       "      <td>0</td>\n",
       "      <td>148.33</td>\n",
       "      <td>0</td>\n",
       "    </tr>\n",
       "  </tbody>\n",
       "</table>\n",
       "</div>"
      ],
      "text/plain": [
       "                   id_unico_cliente                        id_cliente  \\\n",
       "0  861eff4711a542e4b93843c6dd7febb0  06b8999e2fba1a1fbc88172c00ba8bc7   \n",
       "1  3c799d181c34d51f6d44bbbc563024db  f0ac8e5a239118859b1734e1087cbb1f   \n",
       "2  567ab47ca4deb92d46dbf54dce07d0a7  fd3a0b1bd209f0e7d420c9c3d1127613   \n",
       "3  f40ab89b622248b7ca125af4b486b887  fbd40c083aa8cddebb5265b2ba6aaf2e   \n",
       "4  749943913a9851a39c9baf51877fbab6  10558ef4afea173bfb5e2cbe3d5b0bb5   \n",
       "\n",
       "        horario_pedido  item_id   preco  Recencia  RecenciaCluster  \\\n",
       "0  2017-05-16 15:05:35        1  124.99       474                0   \n",
       "1  2017-05-07 20:11:26        1  124.99       483                0   \n",
       "2  2017-03-23 15:10:17        1  126.99       528                0   \n",
       "3  2017-05-16 10:00:49        1  124.99       474                0   \n",
       "4  2017-03-18 23:04:36        1  126.99       533                0   \n",
       "\n",
       "   Frequencia  FrequenciaCluster  Receita  ReceitaCluster  \n",
       "0           1                  0   146.87               0  \n",
       "1           1                  0   140.61               0  \n",
       "2           1                  0   142.05               0  \n",
       "3           1                  0   155.70               0  \n",
       "4           1                  0   148.33               0  "
      ]
     },
     "execution_count": 60,
     "metadata": {},
     "output_type": "execute_result"
    }
   ],
   "source": [
    "df_usuario.head()"
   ]
  },
  {
   "cell_type": "markdown",
   "metadata": {},
   "source": [
    "# Criando um Dataset final\n",
    "\n",
    "Neste tópico vou selecionar apenas a colunas referentes a Recência, Frequência e Receita e criar duas novas variáveis, onde uma atribui uma pontuação para cada usuário e a outra avalia essa pontuação em algumas categorias"
   ]
  },
  {
   "cell_type": "code",
   "execution_count": 88,
   "metadata": {},
   "outputs": [
    {
     "data": {
      "text/html": [
       "<div>\n",
       "<style scoped>\n",
       "    .dataframe tbody tr th:only-of-type {\n",
       "        vertical-align: middle;\n",
       "    }\n",
       "\n",
       "    .dataframe tbody tr th {\n",
       "        vertical-align: top;\n",
       "    }\n",
       "\n",
       "    .dataframe thead th {\n",
       "        text-align: right;\n",
       "    }\n",
       "</style>\n",
       "<table border=\"1\" class=\"dataframe\">\n",
       "  <thead>\n",
       "    <tr style=\"text-align: right;\">\n",
       "      <th></th>\n",
       "      <th>id_unico_cliente</th>\n",
       "      <th>Recencia</th>\n",
       "      <th>RecenciaCluster</th>\n",
       "      <th>Frequencia</th>\n",
       "      <th>FrequenciaCluster</th>\n",
       "      <th>Receita</th>\n",
       "      <th>ReceitaCluster</th>\n",
       "      <th>Pontuacao</th>\n",
       "    </tr>\n",
       "  </thead>\n",
       "  <tbody>\n",
       "    <tr>\n",
       "      <th>0</th>\n",
       "      <td>861eff4711a542e4b93843c6dd7febb0</td>\n",
       "      <td>474</td>\n",
       "      <td>0</td>\n",
       "      <td>1</td>\n",
       "      <td>0</td>\n",
       "      <td>146.87</td>\n",
       "      <td>0</td>\n",
       "      <td>0</td>\n",
       "    </tr>\n",
       "    <tr>\n",
       "      <th>1</th>\n",
       "      <td>3c799d181c34d51f6d44bbbc563024db</td>\n",
       "      <td>483</td>\n",
       "      <td>0</td>\n",
       "      <td>1</td>\n",
       "      <td>0</td>\n",
       "      <td>140.61</td>\n",
       "      <td>0</td>\n",
       "      <td>0</td>\n",
       "    </tr>\n",
       "    <tr>\n",
       "      <th>2</th>\n",
       "      <td>567ab47ca4deb92d46dbf54dce07d0a7</td>\n",
       "      <td>528</td>\n",
       "      <td>0</td>\n",
       "      <td>1</td>\n",
       "      <td>0</td>\n",
       "      <td>142.05</td>\n",
       "      <td>0</td>\n",
       "      <td>0</td>\n",
       "    </tr>\n",
       "    <tr>\n",
       "      <th>3</th>\n",
       "      <td>f40ab89b622248b7ca125af4b486b887</td>\n",
       "      <td>474</td>\n",
       "      <td>0</td>\n",
       "      <td>1</td>\n",
       "      <td>0</td>\n",
       "      <td>155.70</td>\n",
       "      <td>0</td>\n",
       "      <td>0</td>\n",
       "    </tr>\n",
       "    <tr>\n",
       "      <th>4</th>\n",
       "      <td>749943913a9851a39c9baf51877fbab6</td>\n",
       "      <td>533</td>\n",
       "      <td>0</td>\n",
       "      <td>1</td>\n",
       "      <td>0</td>\n",
       "      <td>148.33</td>\n",
       "      <td>0</td>\n",
       "      <td>0</td>\n",
       "    </tr>\n",
       "  </tbody>\n",
       "</table>\n",
       "</div>"
      ],
      "text/plain": [
       "                   id_unico_cliente  Recencia  RecenciaCluster  Frequencia  \\\n",
       "0  861eff4711a542e4b93843c6dd7febb0       474                0           1   \n",
       "1  3c799d181c34d51f6d44bbbc563024db       483                0           1   \n",
       "2  567ab47ca4deb92d46dbf54dce07d0a7       528                0           1   \n",
       "3  f40ab89b622248b7ca125af4b486b887       474                0           1   \n",
       "4  749943913a9851a39c9baf51877fbab6       533                0           1   \n",
       "\n",
       "   FrequenciaCluster  Receita  ReceitaCluster  Pontuacao  \n",
       "0                  0   146.87               0          0  \n",
       "1                  0   140.61               0          0  \n",
       "2                  0   142.05               0          0  \n",
       "3                  0   155.70               0          0  \n",
       "4                  0   148.33               0          0  "
      ]
     },
     "execution_count": 88,
     "metadata": {},
     "output_type": "execute_result"
    }
   ],
   "source": [
    "df_final = df_usuario[['id_unico_cliente','Recencia','RecenciaCluster','Frequencia','FrequenciaCluster','Receita','ReceitaCluster']]\n",
    "\n",
    "df_final['Pontuacao'] = df_final['RecenciaCluster'] + df_final['FrequenciaCluster'] + df_final['ReceitaCluster']\n",
    "\n",
    "df_final.head()"
   ]
  },
  {
   "cell_type": "markdown",
   "metadata": {},
   "source": [
    "Criando uma segmentaçao de acordo com a pontuação geral de cada cliente"
   ]
  },
  {
   "cell_type": "code",
   "execution_count": 89,
   "metadata": {},
   "outputs": [
    {
     "data": {
      "text/html": [
       "<div>\n",
       "<style scoped>\n",
       "    .dataframe tbody tr th:only-of-type {\n",
       "        vertical-align: middle;\n",
       "    }\n",
       "\n",
       "    .dataframe tbody tr th {\n",
       "        vertical-align: top;\n",
       "    }\n",
       "\n",
       "    .dataframe thead th {\n",
       "        text-align: right;\n",
       "    }\n",
       "</style>\n",
       "<table border=\"1\" class=\"dataframe\">\n",
       "  <thead>\n",
       "    <tr style=\"text-align: right;\">\n",
       "      <th></th>\n",
       "      <th>id_unico_cliente</th>\n",
       "      <th>Recencia</th>\n",
       "      <th>RecenciaCluster</th>\n",
       "      <th>Frequencia</th>\n",
       "      <th>FrequenciaCluster</th>\n",
       "      <th>Receita</th>\n",
       "      <th>ReceitaCluster</th>\n",
       "      <th>Pontuacao</th>\n",
       "      <th>Segmento</th>\n",
       "    </tr>\n",
       "  </thead>\n",
       "  <tbody>\n",
       "    <tr>\n",
       "      <th>116576</th>\n",
       "      <td>0a0a92112bd4c708ca5fde585afaa872</td>\n",
       "      <td>338</td>\n",
       "      <td>1</td>\n",
       "      <td>8</td>\n",
       "      <td>1</td>\n",
       "      <td>109312.64</td>\n",
       "      <td>3</td>\n",
       "      <td>5</td>\n",
       "      <td>Premium</td>\n",
       "    </tr>\n",
       "    <tr>\n",
       "      <th>116577</th>\n",
       "      <td>0a0a92112bd4c708ca5fde585afaa872</td>\n",
       "      <td>338</td>\n",
       "      <td>1</td>\n",
       "      <td>8</td>\n",
       "      <td>1</td>\n",
       "      <td>109312.64</td>\n",
       "      <td>3</td>\n",
       "      <td>5</td>\n",
       "      <td>Premium</td>\n",
       "    </tr>\n",
       "    <tr>\n",
       "      <th>116578</th>\n",
       "      <td>0a0a92112bd4c708ca5fde585afaa872</td>\n",
       "      <td>338</td>\n",
       "      <td>1</td>\n",
       "      <td>8</td>\n",
       "      <td>1</td>\n",
       "      <td>109312.64</td>\n",
       "      <td>3</td>\n",
       "      <td>5</td>\n",
       "      <td>Premium</td>\n",
       "    </tr>\n",
       "    <tr>\n",
       "      <th>116579</th>\n",
       "      <td>0a0a92112bd4c708ca5fde585afaa872</td>\n",
       "      <td>338</td>\n",
       "      <td>1</td>\n",
       "      <td>8</td>\n",
       "      <td>1</td>\n",
       "      <td>109312.64</td>\n",
       "      <td>3</td>\n",
       "      <td>5</td>\n",
       "      <td>Premium</td>\n",
       "    </tr>\n",
       "    <tr>\n",
       "      <th>116580</th>\n",
       "      <td>0a0a92112bd4c708ca5fde585afaa872</td>\n",
       "      <td>338</td>\n",
       "      <td>1</td>\n",
       "      <td>8</td>\n",
       "      <td>1</td>\n",
       "      <td>109312.64</td>\n",
       "      <td>3</td>\n",
       "      <td>5</td>\n",
       "      <td>Premium</td>\n",
       "    </tr>\n",
       "  </tbody>\n",
       "</table>\n",
       "</div>"
      ],
      "text/plain": [
       "                        id_unico_cliente  Recencia  RecenciaCluster  \\\n",
       "116576  0a0a92112bd4c708ca5fde585afaa872       338                1   \n",
       "116577  0a0a92112bd4c708ca5fde585afaa872       338                1   \n",
       "116578  0a0a92112bd4c708ca5fde585afaa872       338                1   \n",
       "116579  0a0a92112bd4c708ca5fde585afaa872       338                1   \n",
       "116580  0a0a92112bd4c708ca5fde585afaa872       338                1   \n",
       "\n",
       "        Frequencia  FrequenciaCluster    Receita  ReceitaCluster  Pontuacao  \\\n",
       "116576           8                  1  109312.64               3          5   \n",
       "116577           8                  1  109312.64               3          5   \n",
       "116578           8                  1  109312.64               3          5   \n",
       "116579           8                  1  109312.64               3          5   \n",
       "116580           8                  1  109312.64               3          5   \n",
       "\n",
       "       Segmento  \n",
       "116576  Premium  \n",
       "116577  Premium  \n",
       "116578  Premium  \n",
       "116579  Premium  \n",
       "116580  Premium  "
      ]
     },
     "execution_count": 89,
     "metadata": {},
     "output_type": "execute_result"
    }
   ],
   "source": [
    "df_final['Segmento'] = 'Inativo'\n",
    "df_final.loc[df_final['Pontuacao']>=1,'Segmento'] = 'Business'\n",
    "df_final.loc[df_final['Pontuacao']>=3,'Segmento'] = 'Master'\n",
    "df_final.loc[df_final['Pontuacao']>=5,'Segmento'] = 'Premium'\n",
    "\n",
    "\n",
    "df_final.tail()"
   ]
  },
  {
   "cell_type": "markdown",
   "metadata": {},
   "source": [
    "Salvando o dataset em  um novo arquivo csv"
   ]
  },
  {
   "cell_type": "code",
   "execution_count": 70,
   "metadata": {},
   "outputs": [],
   "source": [
    "df_final.to_csv('dados_RFM.csv',index=False)"
   ]
  },
  {
   "cell_type": "markdown",
   "metadata": {},
   "source": [
    "# Conclusão"
   ]
  },
  {
   "cell_type": "markdown",
   "metadata": {},
   "source": [
    "Criando uma função para visualização da segmentação dos clientes"
   ]
  },
  {
   "cell_type": "code",
   "execution_count": 78,
   "metadata": {},
   "outputs": [],
   "source": [
    "def plot_segmento(x,y,data):\n",
    "    sns.set(palette='muted',color_codes=True, style='whitegrid')\n",
    "    plt.figure(figsize=(7,5))\n",
    "    sns.scatterplot(x=x,y=y,hue='Segmento',data=data, size='Segmento',sizes=(50,150),size_order=['Premium','Master','Business','Inativo'])\n",
    "    plt.show()"
   ]
  },
  {
   "cell_type": "code",
   "execution_count": 80,
   "metadata": {},
   "outputs": [
    {
     "data": {
      "image/png": "[encoded data removed]",
      "text/plain": [
       "<Figure size 504x360 with 1 Axes>"
      ]
     },
     "metadata": {},
     "output_type": "display_data"
    }
   ],
   "source": [
    "plot_segmento('Recencia','Frequencia',df_final)"
   ]
  },
  {
   "cell_type": "code",
   "execution_count": 81,
   "metadata": {},
   "outputs": [
    {
     "data": {
      "image/png": "[encoded data removed]",
      "text/plain": [
       "<Figure size 504x360 with 1 Axes>"
      ]
     },
     "metadata": {},
     "output_type": "display_data"
    }
   ],
   "source": [
    "plot_segmento('Frequencia','Receita',df_final)"
   ]
  },
  {
   "cell_type": "code",
   "execution_count": 82,
   "metadata": {},
   "outputs": [
    {
     "data": {
      "image/png": "[encoded data removed]",
      "text/plain": [
       "<Figure size 504x360 with 1 Axes>"
      ]
     },
     "metadata": {},
     "output_type": "display_data"
    }
   ],
   "source": [
    "plot_segmento('Recencia','Receita',df_final)"
   ]
  },
  {
   "cell_type": "code",
   "execution_count": 91,
   "metadata": {},
   "outputs": [
    {
     "data": {
      "image/png": "[encoded data removed]",
      "text/plain": [
       "<Figure size 1440x576 with 1 Axes>"
      ]
     },
     "metadata": {},
     "output_type": "display_data"
    }
   ],
   "source": [
    "plot_perc('Segmento',df_final)"
   ]
  },
  {
   "cell_type": "code",
   "execution_count": null,
   "metadata": {},
   "outputs": [],
   "source": []
  }
 ],
 "metadata": {
  "kernelspec": {
   "display_name": "Python 3",
   "language": "python",
   "name": "python3"
  },
  "language_info": {
   "codemirror_mode": {
    "name": "ipython",
    "version": 3
   },
   "file_extension": ".py",
   "mimetype": "text/x-python",
   "name": "python",
   "nbconvert_exporter": "python",
   "pygments_lexer": "ipython3",
   "version": "3.8.3"
  }
 },
 "nbformat": 4,
 "nbformat_minor": 4
}
