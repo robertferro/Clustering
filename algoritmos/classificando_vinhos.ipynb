{
 "cells": [
  {
   "cell_type": "markdown",
   "metadata": {},
   "source": [
    "# Clusterização com K-Means, DBSCAN e Mean Shift"
   ]
  },
  {
   "cell_type": "code",
   "execution_count": null,
   "metadata": {},
   "outputs": [],
   "source": [
    "!pip install plotly==4.1.0"
   ]
  },
  {
   "cell_type": "code",
   "execution_count": 1,
   "metadata": {},
   "outputs": [],
   "source": [
    "import plotly.graph_objects as go\n",
    "import matplotlib.pyplot as plt\n",
    "import seaborn as sns\n",
    "import pandas as pd\n",
    "\n",
    "import numpy as np"
   ]
  },
  {
   "cell_type": "code",
   "execution_count": 2,
   "metadata": {},
   "outputs": [],
   "source": [
    "df = pd.read_csv('Wine.csv',sep=',')"
   ]
  },
  {
   "cell_type": "code",
   "execution_count": 3,
   "metadata": {},
   "outputs": [
    {
     "data": {
      "text/html": [
       "<div>\n",
       "<style scoped>\n",
       "    .dataframe tbody tr th:only-of-type {\n",
       "        vertical-align: middle;\n",
       "    }\n",
       "\n",
       "    .dataframe tbody tr th {\n",
       "        vertical-align: top;\n",
       "    }\n",
       "\n",
       "    .dataframe thead th {\n",
       "        text-align: right;\n",
       "    }\n",
       "</style>\n",
       "<table border=\"1\" class=\"dataframe\">\n",
       "  <thead>\n",
       "    <tr style=\"text-align: right;\">\n",
       "      <th></th>\n",
       "      <th>Alcohol</th>\n",
       "      <th>Malic_Acid</th>\n",
       "      <th>Ash</th>\n",
       "      <th>Ash_Alcanity</th>\n",
       "      <th>Magnesium</th>\n",
       "      <th>Total_Phenols</th>\n",
       "      <th>Flavanoids</th>\n",
       "      <th>Nonflavanoid_Phenols</th>\n",
       "      <th>Proanthocyanins</th>\n",
       "      <th>Color_Intensity</th>\n",
       "      <th>Hue</th>\n",
       "      <th>OD280</th>\n",
       "      <th>Proline</th>\n",
       "      <th>Customer_Segment</th>\n",
       "    </tr>\n",
       "  </thead>\n",
       "  <tbody>\n",
       "    <tr>\n",
       "      <th>0</th>\n",
       "      <td>14.23</td>\n",
       "      <td>1.71</td>\n",
       "      <td>2.43</td>\n",
       "      <td>15.6</td>\n",
       "      <td>127</td>\n",
       "      <td>2.80</td>\n",
       "      <td>3.06</td>\n",
       "      <td>0.28</td>\n",
       "      <td>2.29</td>\n",
       "      <td>5.64</td>\n",
       "      <td>1.04</td>\n",
       "      <td>3.92</td>\n",
       "      <td>1065</td>\n",
       "      <td>1</td>\n",
       "    </tr>\n",
       "    <tr>\n",
       "      <th>1</th>\n",
       "      <td>13.20</td>\n",
       "      <td>1.78</td>\n",
       "      <td>2.14</td>\n",
       "      <td>11.2</td>\n",
       "      <td>100</td>\n",
       "      <td>2.65</td>\n",
       "      <td>2.76</td>\n",
       "      <td>0.26</td>\n",
       "      <td>1.28</td>\n",
       "      <td>4.38</td>\n",
       "      <td>1.05</td>\n",
       "      <td>3.40</td>\n",
       "      <td>1050</td>\n",
       "      <td>1</td>\n",
       "    </tr>\n",
       "    <tr>\n",
       "      <th>2</th>\n",
       "      <td>13.16</td>\n",
       "      <td>2.36</td>\n",
       "      <td>2.67</td>\n",
       "      <td>18.6</td>\n",
       "      <td>101</td>\n",
       "      <td>2.80</td>\n",
       "      <td>3.24</td>\n",
       "      <td>0.30</td>\n",
       "      <td>2.81</td>\n",
       "      <td>5.68</td>\n",
       "      <td>1.03</td>\n",
       "      <td>3.17</td>\n",
       "      <td>1185</td>\n",
       "      <td>1</td>\n",
       "    </tr>\n",
       "    <tr>\n",
       "      <th>3</th>\n",
       "      <td>14.37</td>\n",
       "      <td>1.95</td>\n",
       "      <td>2.50</td>\n",
       "      <td>16.8</td>\n",
       "      <td>113</td>\n",
       "      <td>3.85</td>\n",
       "      <td>3.49</td>\n",
       "      <td>0.24</td>\n",
       "      <td>2.18</td>\n",
       "      <td>7.80</td>\n",
       "      <td>0.86</td>\n",
       "      <td>3.45</td>\n",
       "      <td>1480</td>\n",
       "      <td>1</td>\n",
       "    </tr>\n",
       "    <tr>\n",
       "      <th>4</th>\n",
       "      <td>13.24</td>\n",
       "      <td>2.59</td>\n",
       "      <td>2.87</td>\n",
       "      <td>21.0</td>\n",
       "      <td>118</td>\n",
       "      <td>2.80</td>\n",
       "      <td>2.69</td>\n",
       "      <td>0.39</td>\n",
       "      <td>1.82</td>\n",
       "      <td>4.32</td>\n",
       "      <td>1.04</td>\n",
       "      <td>2.93</td>\n",
       "      <td>735</td>\n",
       "      <td>1</td>\n",
       "    </tr>\n",
       "  </tbody>\n",
       "</table>\n",
       "</div>"
      ],
      "text/plain": [
       "   Alcohol  Malic_Acid   Ash  Ash_Alcanity  Magnesium  Total_Phenols  \\\n",
       "0    14.23        1.71  2.43          15.6        127           2.80   \n",
       "1    13.20        1.78  2.14          11.2        100           2.65   \n",
       "2    13.16        2.36  2.67          18.6        101           2.80   \n",
       "3    14.37        1.95  2.50          16.8        113           3.85   \n",
       "4    13.24        2.59  2.87          21.0        118           2.80   \n",
       "\n",
       "   Flavanoids  Nonflavanoid_Phenols  Proanthocyanins  Color_Intensity   Hue  \\\n",
       "0        3.06                  0.28             2.29             5.64  1.04   \n",
       "1        2.76                  0.26             1.28             4.38  1.05   \n",
       "2        3.24                  0.30             2.81             5.68  1.03   \n",
       "3        3.49                  0.24             2.18             7.80  0.86   \n",
       "4        2.69                  0.39             1.82             4.32  1.04   \n",
       "\n",
       "   OD280  Proline  Customer_Segment  \n",
       "0   3.92     1065                 1  \n",
       "1   3.40     1050                 1  \n",
       "2   3.17     1185                 1  \n",
       "3   3.45     1480                 1  \n",
       "4   2.93      735                 1  "
      ]
     },
     "execution_count": 3,
     "metadata": {},
     "output_type": "execute_result"
    }
   ],
   "source": [
    "df.head()"
   ]
  },
  {
   "cell_type": "code",
   "execution_count": 4,
   "metadata": {},
   "outputs": [],
   "source": [
    "df = df.rename(columns = {'Alcohol' : 'Alcool', 'Ash' : 'Po', 'Ash_Alcanity': 'Alcalinidade_po',\n",
    "                          'Magnesium' : 'Magnesio','Total_Phenols' : 'Total_Fenois',\n",
    "                          'Nonflavanoid_Phenols':'Fenois_nao_flavalonoides','Color_Intensity':'Intensidade_de_cor'})"
   ]
  },
  {
   "cell_type": "markdown",
   "metadata": {},
   "source": [
    "Fazendo uma análise preliminar dos dados"
   ]
  },
  {
   "cell_type": "code",
   "execution_count": 5,
   "metadata": {},
   "outputs": [
    {
     "data": {
      "text/html": [
       "<div>\n",
       "<style scoped>\n",
       "    .dataframe tbody tr th:only-of-type {\n",
       "        vertical-align: middle;\n",
       "    }\n",
       "\n",
       "    .dataframe tbody tr th {\n",
       "        vertical-align: top;\n",
       "    }\n",
       "\n",
       "    .dataframe thead th {\n",
       "        text-align: right;\n",
       "    }\n",
       "</style>\n",
       "<table border=\"1\" class=\"dataframe\">\n",
       "  <thead>\n",
       "    <tr style=\"text-align: right;\">\n",
       "      <th></th>\n",
       "      <th>count</th>\n",
       "      <th>mean</th>\n",
       "      <th>std</th>\n",
       "      <th>min</th>\n",
       "      <th>25%</th>\n",
       "      <th>50%</th>\n",
       "      <th>75%</th>\n",
       "      <th>max</th>\n",
       "    </tr>\n",
       "  </thead>\n",
       "  <tbody>\n",
       "    <tr>\n",
       "      <th>Alcool</th>\n",
       "      <td>178.0</td>\n",
       "      <td>13.000618</td>\n",
       "      <td>0.811827</td>\n",
       "      <td>11.03</td>\n",
       "      <td>12.3625</td>\n",
       "      <td>13.050</td>\n",
       "      <td>13.6775</td>\n",
       "      <td>14.83</td>\n",
       "    </tr>\n",
       "    <tr>\n",
       "      <th>Malic_Acid</th>\n",
       "      <td>178.0</td>\n",
       "      <td>2.336348</td>\n",
       "      <td>1.117146</td>\n",
       "      <td>0.74</td>\n",
       "      <td>1.6025</td>\n",
       "      <td>1.865</td>\n",
       "      <td>3.0825</td>\n",
       "      <td>5.80</td>\n",
       "    </tr>\n",
       "    <tr>\n",
       "      <th>Po</th>\n",
       "      <td>178.0</td>\n",
       "      <td>2.366517</td>\n",
       "      <td>0.274344</td>\n",
       "      <td>1.36</td>\n",
       "      <td>2.2100</td>\n",
       "      <td>2.360</td>\n",
       "      <td>2.5575</td>\n",
       "      <td>3.23</td>\n",
       "    </tr>\n",
       "    <tr>\n",
       "      <th>Alcalinidade_po</th>\n",
       "      <td>178.0</td>\n",
       "      <td>19.494944</td>\n",
       "      <td>3.339564</td>\n",
       "      <td>10.60</td>\n",
       "      <td>17.2000</td>\n",
       "      <td>19.500</td>\n",
       "      <td>21.5000</td>\n",
       "      <td>30.00</td>\n",
       "    </tr>\n",
       "    <tr>\n",
       "      <th>Magnesio</th>\n",
       "      <td>178.0</td>\n",
       "      <td>99.741573</td>\n",
       "      <td>14.282484</td>\n",
       "      <td>70.00</td>\n",
       "      <td>88.0000</td>\n",
       "      <td>98.000</td>\n",
       "      <td>107.0000</td>\n",
       "      <td>162.00</td>\n",
       "    </tr>\n",
       "    <tr>\n",
       "      <th>Total_Fenois</th>\n",
       "      <td>178.0</td>\n",
       "      <td>2.295112</td>\n",
       "      <td>0.625851</td>\n",
       "      <td>0.98</td>\n",
       "      <td>1.7425</td>\n",
       "      <td>2.355</td>\n",
       "      <td>2.8000</td>\n",
       "      <td>3.88</td>\n",
       "    </tr>\n",
       "    <tr>\n",
       "      <th>Flavanoids</th>\n",
       "      <td>178.0</td>\n",
       "      <td>2.029270</td>\n",
       "      <td>0.998859</td>\n",
       "      <td>0.34</td>\n",
       "      <td>1.2050</td>\n",
       "      <td>2.135</td>\n",
       "      <td>2.8750</td>\n",
       "      <td>5.08</td>\n",
       "    </tr>\n",
       "    <tr>\n",
       "      <th>Fenois_nao_flavalonoides</th>\n",
       "      <td>178.0</td>\n",
       "      <td>0.361854</td>\n",
       "      <td>0.124453</td>\n",
       "      <td>0.13</td>\n",
       "      <td>0.2700</td>\n",
       "      <td>0.340</td>\n",
       "      <td>0.4375</td>\n",
       "      <td>0.66</td>\n",
       "    </tr>\n",
       "    <tr>\n",
       "      <th>Proanthocyanins</th>\n",
       "      <td>178.0</td>\n",
       "      <td>1.590899</td>\n",
       "      <td>0.572359</td>\n",
       "      <td>0.41</td>\n",
       "      <td>1.2500</td>\n",
       "      <td>1.555</td>\n",
       "      <td>1.9500</td>\n",
       "      <td>3.58</td>\n",
       "    </tr>\n",
       "    <tr>\n",
       "      <th>Intensidade_de_cor</th>\n",
       "      <td>178.0</td>\n",
       "      <td>5.058090</td>\n",
       "      <td>2.318286</td>\n",
       "      <td>1.28</td>\n",
       "      <td>3.2200</td>\n",
       "      <td>4.690</td>\n",
       "      <td>6.2000</td>\n",
       "      <td>13.00</td>\n",
       "    </tr>\n",
       "    <tr>\n",
       "      <th>Hue</th>\n",
       "      <td>178.0</td>\n",
       "      <td>0.957449</td>\n",
       "      <td>0.228572</td>\n",
       "      <td>0.48</td>\n",
       "      <td>0.7825</td>\n",
       "      <td>0.965</td>\n",
       "      <td>1.1200</td>\n",
       "      <td>1.71</td>\n",
       "    </tr>\n",
       "    <tr>\n",
       "      <th>OD280</th>\n",
       "      <td>178.0</td>\n",
       "      <td>2.611685</td>\n",
       "      <td>0.709990</td>\n",
       "      <td>1.27</td>\n",
       "      <td>1.9375</td>\n",
       "      <td>2.780</td>\n",
       "      <td>3.1700</td>\n",
       "      <td>4.00</td>\n",
       "    </tr>\n",
       "    <tr>\n",
       "      <th>Proline</th>\n",
       "      <td>178.0</td>\n",
       "      <td>746.893258</td>\n",
       "      <td>314.907474</td>\n",
       "      <td>278.00</td>\n",
       "      <td>500.5000</td>\n",
       "      <td>673.500</td>\n",
       "      <td>985.0000</td>\n",
       "      <td>1680.00</td>\n",
       "    </tr>\n",
       "    <tr>\n",
       "      <th>Customer_Segment</th>\n",
       "      <td>178.0</td>\n",
       "      <td>1.938202</td>\n",
       "      <td>0.775035</td>\n",
       "      <td>1.00</td>\n",
       "      <td>1.0000</td>\n",
       "      <td>2.000</td>\n",
       "      <td>3.0000</td>\n",
       "      <td>3.00</td>\n",
       "    </tr>\n",
       "  </tbody>\n",
       "</table>\n",
       "</div>"
      ],
      "text/plain": [
       "                          count        mean         std     min       25%  \\\n",
       "Alcool                    178.0   13.000618    0.811827   11.03   12.3625   \n",
       "Malic_Acid                178.0    2.336348    1.117146    0.74    1.6025   \n",
       "Po                        178.0    2.366517    0.274344    1.36    2.2100   \n",
       "Alcalinidade_po           178.0   19.494944    3.339564   10.60   17.2000   \n",
       "Magnesio                  178.0   99.741573   14.282484   70.00   88.0000   \n",
       "Total_Fenois              178.0    2.295112    0.625851    0.98    1.7425   \n",
       "Flavanoids                178.0    2.029270    0.998859    0.34    1.2050   \n",
       "Fenois_nao_flavalonoides  178.0    0.361854    0.124453    0.13    0.2700   \n",
       "Proanthocyanins           178.0    1.590899    0.572359    0.41    1.2500   \n",
       "Intensidade_de_cor        178.0    5.058090    2.318286    1.28    3.2200   \n",
       "Hue                       178.0    0.957449    0.228572    0.48    0.7825   \n",
       "OD280                     178.0    2.611685    0.709990    1.27    1.9375   \n",
       "Proline                   178.0  746.893258  314.907474  278.00  500.5000   \n",
       "Customer_Segment          178.0    1.938202    0.775035    1.00    1.0000   \n",
       "\n",
       "                              50%       75%      max  \n",
       "Alcool                     13.050   13.6775    14.83  \n",
       "Malic_Acid                  1.865    3.0825     5.80  \n",
       "Po                          2.360    2.5575     3.23  \n",
       "Alcalinidade_po            19.500   21.5000    30.00  \n",
       "Magnesio                   98.000  107.0000   162.00  \n",
       "Total_Fenois                2.355    2.8000     3.88  \n",
       "Flavanoids                  2.135    2.8750     5.08  \n",
       "Fenois_nao_flavalonoides    0.340    0.4375     0.66  \n",
       "Proanthocyanins             1.555    1.9500     3.58  \n",
       "Intensidade_de_cor          4.690    6.2000    13.00  \n",
       "Hue                         0.965    1.1200     1.71  \n",
       "OD280                       2.780    3.1700     4.00  \n",
       "Proline                   673.500  985.0000  1680.00  \n",
       "Customer_Segment            2.000    3.0000     3.00  "
      ]
     },
     "execution_count": 5,
     "metadata": {},
     "output_type": "execute_result"
    }
   ],
   "source": [
    "df.describe().T"
   ]
  },
  {
   "cell_type": "code",
   "execution_count": 6,
   "metadata": {},
   "outputs": [
    {
     "data": {
      "text/plain": [
       "<matplotlib.axes._subplots.AxesSubplot at 0x1cad1610>"
      ]
     },
     "execution_count": 6,
     "metadata": {},
     "output_type": "execute_result"
    },
    {
     "data": {
      "image/png": "[encoded data removed]",
      "text/plain": [
       "<Figure size 1008x720 with 2 Axes>"
      ]
     },
     "metadata": {
      "needs_background": "light"
     },
     "output_type": "display_data"
    }
   ],
   "source": [
    "plt.figure(figsize=(14,10))\n",
    "corr = df.corr()\n",
    "mask = np.triu(np.ones_like(corr, dtype=bool))\n",
    "sns.heatmap(corr, mask=mask, annot=True, center=0, cmap=\"YlGnBu\")"
   ]
  },
  {
   "cell_type": "markdown",
   "metadata": {},
   "source": [
    "Normalizando os dados"
   ]
  },
  {
   "cell_type": "code",
   "execution_count": 7,
   "metadata": {},
   "outputs": [],
   "source": [
    "from sklearn import preprocessing\n",
    "\n",
    "min_max_scaler = preprocessing.MinMaxScaler()\n",
    "np_df = min_max_scaler.fit_transform(df)"
   ]
  },
  {
   "cell_type": "code",
   "execution_count": 8,
   "metadata": {},
   "outputs": [],
   "source": [
    "df = pd.DataFrame(np_df, columns = df.columns)"
   ]
  },
  {
   "cell_type": "code",
   "execution_count": 9,
   "metadata": {},
   "outputs": [
    {
     "data": {
      "text/html": [
       "<div>\n",
       "<style scoped>\n",
       "    .dataframe tbody tr th:only-of-type {\n",
       "        vertical-align: middle;\n",
       "    }\n",
       "\n",
       "    .dataframe tbody tr th {\n",
       "        vertical-align: top;\n",
       "    }\n",
       "\n",
       "    .dataframe thead th {\n",
       "        text-align: right;\n",
       "    }\n",
       "</style>\n",
       "<table border=\"1\" class=\"dataframe\">\n",
       "  <thead>\n",
       "    <tr style=\"text-align: right;\">\n",
       "      <th></th>\n",
       "      <th>count</th>\n",
       "      <th>mean</th>\n",
       "      <th>std</th>\n",
       "      <th>min</th>\n",
       "      <th>25%</th>\n",
       "      <th>50%</th>\n",
       "      <th>75%</th>\n",
       "      <th>max</th>\n",
       "    </tr>\n",
       "  </thead>\n",
       "  <tbody>\n",
       "    <tr>\n",
       "      <th>Alcool</th>\n",
       "      <td>178.0</td>\n",
       "      <td>0.518584</td>\n",
       "      <td>0.213639</td>\n",
       "      <td>0.0</td>\n",
       "      <td>0.350658</td>\n",
       "      <td>0.531579</td>\n",
       "      <td>0.696711</td>\n",
       "      <td>1.0</td>\n",
       "    </tr>\n",
       "    <tr>\n",
       "      <th>Malic_Acid</th>\n",
       "      <td>178.0</td>\n",
       "      <td>0.315484</td>\n",
       "      <td>0.220780</td>\n",
       "      <td>0.0</td>\n",
       "      <td>0.170455</td>\n",
       "      <td>0.222332</td>\n",
       "      <td>0.462945</td>\n",
       "      <td>1.0</td>\n",
       "    </tr>\n",
       "    <tr>\n",
       "      <th>Po</th>\n",
       "      <td>178.0</td>\n",
       "      <td>0.538244</td>\n",
       "      <td>0.146708</td>\n",
       "      <td>0.0</td>\n",
       "      <td>0.454545</td>\n",
       "      <td>0.534759</td>\n",
       "      <td>0.640374</td>\n",
       "      <td>1.0</td>\n",
       "    </tr>\n",
       "    <tr>\n",
       "      <th>Alcalinidade_po</th>\n",
       "      <td>178.0</td>\n",
       "      <td>0.458502</td>\n",
       "      <td>0.172142</td>\n",
       "      <td>0.0</td>\n",
       "      <td>0.340206</td>\n",
       "      <td>0.458763</td>\n",
       "      <td>0.561856</td>\n",
       "      <td>1.0</td>\n",
       "    </tr>\n",
       "    <tr>\n",
       "      <th>Magnesio</th>\n",
       "      <td>178.0</td>\n",
       "      <td>0.323278</td>\n",
       "      <td>0.155244</td>\n",
       "      <td>0.0</td>\n",
       "      <td>0.195652</td>\n",
       "      <td>0.304348</td>\n",
       "      <td>0.402174</td>\n",
       "      <td>1.0</td>\n",
       "    </tr>\n",
       "    <tr>\n",
       "      <th>Total_Fenois</th>\n",
       "      <td>178.0</td>\n",
       "      <td>0.453487</td>\n",
       "      <td>0.215811</td>\n",
       "      <td>0.0</td>\n",
       "      <td>0.262931</td>\n",
       "      <td>0.474138</td>\n",
       "      <td>0.627586</td>\n",
       "      <td>1.0</td>\n",
       "    </tr>\n",
       "    <tr>\n",
       "      <th>Flavanoids</th>\n",
       "      <td>178.0</td>\n",
       "      <td>0.356386</td>\n",
       "      <td>0.210730</td>\n",
       "      <td>0.0</td>\n",
       "      <td>0.182489</td>\n",
       "      <td>0.378692</td>\n",
       "      <td>0.534810</td>\n",
       "      <td>1.0</td>\n",
       "    </tr>\n",
       "    <tr>\n",
       "      <th>Fenois_nao_flavalonoides</th>\n",
       "      <td>178.0</td>\n",
       "      <td>0.437460</td>\n",
       "      <td>0.234818</td>\n",
       "      <td>0.0</td>\n",
       "      <td>0.264151</td>\n",
       "      <td>0.396226</td>\n",
       "      <td>0.580189</td>\n",
       "      <td>1.0</td>\n",
       "    </tr>\n",
       "    <tr>\n",
       "      <th>Proanthocyanins</th>\n",
       "      <td>178.0</td>\n",
       "      <td>0.372523</td>\n",
       "      <td>0.180555</td>\n",
       "      <td>0.0</td>\n",
       "      <td>0.264984</td>\n",
       "      <td>0.361199</td>\n",
       "      <td>0.485804</td>\n",
       "      <td>1.0</td>\n",
       "    </tr>\n",
       "    <tr>\n",
       "      <th>Intensidade_de_cor</th>\n",
       "      <td>178.0</td>\n",
       "      <td>0.322363</td>\n",
       "      <td>0.197806</td>\n",
       "      <td>0.0</td>\n",
       "      <td>0.165529</td>\n",
       "      <td>0.290956</td>\n",
       "      <td>0.419795</td>\n",
       "      <td>1.0</td>\n",
       "    </tr>\n",
       "    <tr>\n",
       "      <th>Hue</th>\n",
       "      <td>178.0</td>\n",
       "      <td>0.388170</td>\n",
       "      <td>0.185831</td>\n",
       "      <td>0.0</td>\n",
       "      <td>0.245935</td>\n",
       "      <td>0.394309</td>\n",
       "      <td>0.520325</td>\n",
       "      <td>1.0</td>\n",
       "    </tr>\n",
       "    <tr>\n",
       "      <th>OD280</th>\n",
       "      <td>178.0</td>\n",
       "      <td>0.491460</td>\n",
       "      <td>0.260070</td>\n",
       "      <td>0.0</td>\n",
       "      <td>0.244505</td>\n",
       "      <td>0.553114</td>\n",
       "      <td>0.695971</td>\n",
       "      <td>1.0</td>\n",
       "    </tr>\n",
       "    <tr>\n",
       "      <th>Proline</th>\n",
       "      <td>178.0</td>\n",
       "      <td>0.334446</td>\n",
       "      <td>0.224613</td>\n",
       "      <td>0.0</td>\n",
       "      <td>0.158702</td>\n",
       "      <td>0.282097</td>\n",
       "      <td>0.504280</td>\n",
       "      <td>1.0</td>\n",
       "    </tr>\n",
       "    <tr>\n",
       "      <th>Customer_Segment</th>\n",
       "      <td>178.0</td>\n",
       "      <td>0.469101</td>\n",
       "      <td>0.387517</td>\n",
       "      <td>0.0</td>\n",
       "      <td>0.000000</td>\n",
       "      <td>0.500000</td>\n",
       "      <td>1.000000</td>\n",
       "      <td>1.0</td>\n",
       "    </tr>\n",
       "  </tbody>\n",
       "</table>\n",
       "</div>"
      ],
      "text/plain": [
       "                          count      mean       std  min       25%       50%  \\\n",
       "Alcool                    178.0  0.518584  0.213639  0.0  0.350658  0.531579   \n",
       "Malic_Acid                178.0  0.315484  0.220780  0.0  0.170455  0.222332   \n",
       "Po                        178.0  0.538244  0.146708  0.0  0.454545  0.534759   \n",
       "Alcalinidade_po           178.0  0.458502  0.172142  0.0  0.340206  0.458763   \n",
       "Magnesio                  178.0  0.323278  0.155244  0.0  0.195652  0.304348   \n",
       "Total_Fenois              178.0  0.453487  0.215811  0.0  0.262931  0.474138   \n",
       "Flavanoids                178.0  0.356386  0.210730  0.0  0.182489  0.378692   \n",
       "Fenois_nao_flavalonoides  178.0  0.437460  0.234818  0.0  0.264151  0.396226   \n",
       "Proanthocyanins           178.0  0.372523  0.180555  0.0  0.264984  0.361199   \n",
       "Intensidade_de_cor        178.0  0.322363  0.197806  0.0  0.165529  0.290956   \n",
       "Hue                       178.0  0.388170  0.185831  0.0  0.245935  0.394309   \n",
       "OD280                     178.0  0.491460  0.260070  0.0  0.244505  0.553114   \n",
       "Proline                   178.0  0.334446  0.224613  0.0  0.158702  0.282097   \n",
       "Customer_Segment          178.0  0.469101  0.387517  0.0  0.000000  0.500000   \n",
       "\n",
       "                               75%  max  \n",
       "Alcool                    0.696711  1.0  \n",
       "Malic_Acid                0.462945  1.0  \n",
       "Po                        0.640374  1.0  \n",
       "Alcalinidade_po           0.561856  1.0  \n",
       "Magnesio                  0.402174  1.0  \n",
       "Total_Fenois              0.627586  1.0  \n",
       "Flavanoids                0.534810  1.0  \n",
       "Fenois_nao_flavalonoides  0.580189  1.0  \n",
       "Proanthocyanins           0.485804  1.0  \n",
       "Intensidade_de_cor        0.419795  1.0  \n",
       "Hue                       0.520325  1.0  \n",
       "OD280                     0.695971  1.0  \n",
       "Proline                   0.504280  1.0  \n",
       "Customer_Segment          1.000000  1.0  "
      ]
     },
     "execution_count": 9,
     "metadata": {},
     "output_type": "execute_result"
    }
   ],
   "source": [
    "df.describe().T"
   ]
  },
  {
   "cell_type": "markdown",
   "metadata": {},
   "source": [
    "# Clusterizando\n",
    "\n",
    "Definindo o melhor número de clusters"
   ]
  },
  {
   "cell_type": "code",
   "execution_count": 10,
   "metadata": {},
   "outputs": [],
   "source": [
    "from sklearn.cluster import KMeans"
   ]
  },
  {
   "cell_type": "markdown",
   "metadata": {},
   "source": [
    "#  Silhouette"
   ]
  },
  {
   "cell_type": "code",
   "execution_count": 11,
   "metadata": {},
   "outputs": [],
   "source": [
    "from sklearn.metrics import silhouette_score"
   ]
  },
  {
   "cell_type": "code",
   "execution_count": 12,
   "metadata": {},
   "outputs": [],
   "source": [
    "def melhor_numero_clusters(df,n1,n2):\n",
    "  clusters = []\n",
    "  scores = []\n",
    "  for nc in range(n1, n2):\n",
    "      kmeans = KMeans(n_clusters=nc)\n",
    "      kmeans.fit(df)\n",
    "      labels = kmeans.labels_\n",
    "      ss=silhouette_score(df, labels)\n",
    "      clusters.append(nc)\n",
    "      scores.append(ss)\n",
    "      melhor_score = max(scores)\n",
    "      n = scores.index(melhor_score)\n",
    "      numero = clusters[n]\n",
    "  return (numero,melhor_score)"
   ]
  },
  {
   "cell_type": "code",
   "execution_count": 13,
   "metadata": {},
   "outputs": [
    {
     "data": {
      "text/plain": [
       "(3, 0.36950618492736303)"
      ]
     },
     "execution_count": 13,
     "metadata": {},
     "output_type": "execute_result"
    }
   ],
   "source": [
    "melhor_numero_clusters(df,2,11)"
   ]
  },
  {
   "cell_type": "code",
   "execution_count": 14,
   "metadata": {},
   "outputs": [
    {
     "name": "stdout",
     "output_type": "stream",
     "text": [
      "Numero de Clusters 2\n",
      "Silhouette Score 0.3450438553643069\n",
      "================================================================================\n",
      "Numero de Clusters 3\n",
      "Silhouette Score 0.36950618492736303\n",
      "================================================================================\n",
      "Numero de Clusters 4\n",
      "Silhouette Score 0.3045648004609689\n",
      "================================================================================\n",
      "Numero de Clusters 5\n",
      "Silhouette Score 0.29861768877455525\n",
      "================================================================================\n",
      "Numero de Clusters 6\n",
      "Silhouette Score 0.14283613352963317\n",
      "================================================================================\n",
      "Numero de Clusters 7\n",
      "Silhouette Score 0.13119020401249615\n",
      "================================================================================\n",
      "Numero de Clusters 8\n",
      "Silhouette Score 0.2286234334210589\n",
      "================================================================================\n",
      "Numero de Clusters 9\n",
      "Silhouette Score 0.14456538176701816\n",
      "================================================================================\n",
      "Numero de Clusters 10\n",
      "Silhouette Score 0.1645376181034656\n",
      "================================================================================\n"
     ]
    }
   ],
   "source": [
    "for nc in range(2, 11):\n",
    "  print('Numero de Clusters', nc)\n",
    "  kmeans = KMeans(n_clusters=nc)\n",
    "  kmeans.fit(df)\n",
    "  labels = kmeans.labels_\n",
    "  ss=silhouette_score(df, labels)\n",
    "  print('Silhouette Score', ss)\n",
    "  print('='*80)"
   ]
  },
  {
   "cell_type": "markdown",
   "metadata": {},
   "source": [
    "# Elbow Method"
   ]
  },
  {
   "cell_type": "code",
   "execution_count": 15,
   "metadata": {},
   "outputs": [],
   "source": [
    "def kmeans(n, df):\n",
    "    modelo = KMeans(n_clusters = n)\n",
    "    modelo.fit(df)\n",
    "    return [n, modelo.inertia_]"
   ]
  },
  {
   "cell_type": "code",
   "execution_count": 16,
   "metadata": {},
   "outputs": [],
   "source": [
    "resultado = [kmeans(n, df) for n in range(2, 11)]"
   ]
  },
  {
   "cell_type": "code",
   "execution_count": 17,
   "metadata": {},
   "outputs": [],
   "source": [
    "resultado = pd.DataFrame( resultado,\n",
    "            columns=['grupos','inercia'])"
   ]
  },
  {
   "cell_type": "code",
   "execution_count": 18,
   "metadata": {},
   "outputs": [
    {
     "data": {
      "image/png": "[encoded data removed]",
      "text/plain": [
       "<Figure size 864x432 with 1 Axes>"
      ]
     },
     "metadata": {
      "needs_background": "light"
     },
     "output_type": "display_data"
    }
   ],
   "source": [
    "resultado.inercia.plot(figsize=(12,6));"
   ]
  },
  {
   "cell_type": "code",
   "execution_count": null,
   "metadata": {},
   "outputs": [],
   "source": [
    "# df['cluster'] = labels"
   ]
  },
  {
   "cell_type": "code",
   "execution_count": 20,
   "metadata": {},
   "outputs": [],
   "source": [
    "kmeans = KMeans(n_clusters=3)\n",
    "kmeans.fit(df)\n",
    "labels = kmeans.labels_"
   ]
  },
  {
   "cell_type": "markdown",
   "metadata": {},
   "source": [
    "# Visualizando os clusters"
   ]
  },
  {
   "cell_type": "code",
   "execution_count": 25,
   "metadata": {},
   "outputs": [
    {
     "data": {
      "application/vnd.plotly.v1+json": {
       "config": {
        "plotlyServerURL": "https://plot.ly"
       },
       "data": [
        {
         "marker": {
          "color": [
           1,
           1,
           1,
           1,
           1,
           1,
           1,
           1,
           1,
           1,
           1,
           1,
           1,
           1,
           1,
           1,
           1,
           1,
           1,
           1,
           1,
           1,
           1,
           1,
           1,
           1,
           1,
           1,
           1,
           1,
           1,
           1,
           1,
           1,
           1,
           1,
           1,
           1,
           1,
           1,
           1,
           1,
           1,
           1,
           1,
           1,
           1,
           1,
           1,
           1,
           1,
           1,
           1,
           1,
           1,
           1,
           1,
           1,
           1,
           2,
           2,
           2,
           2,
           2,
           2,
           2,
           2,
           2,
           2,
           2,
           2,
           2,
           2,
           1,
           2,
           2,
           2,
           2,
           2,
           2,
           2,
           2,
           2,
           0,
           2,
           2,
           2,
           2,
           2,
           2,
           2,
           2,
           2,
           2,
           2,
           2,
           2,
           2,
           2,
           2,
           2,
           2,
           2,
           2,
           2,
           2,
           2,
           2,
           2,
           2,
           2,
           2,
           2,
           2,
           2,
           2,
           2,
           2,
           2,
           2,
           2,
           2,
           2,
           2,
           2,
           2,
           2,
           2,
           2,
           2,
           0,
           0,
           0,
           0,
           0,
           0,
           0,
           0,
           0,
           0,
           0,
           0,
           0,
           0,
           0,
           0,
           0,
           0,
           0,
           0,
           0,
           0,
           0,
           0,
           0,
           0,
           0,
           0,
           0,
           0,
           0,
           0,
           0,
           0,
           0,
           0,
           0,
           0,
           0,
           0,
           0,
           0,
           0,
           0,
           0,
           0,
           0,
           0
          ]
         },
         "mode": "markers",
         "text": [
          1,
          1,
          1,
          1,
          1,
          1,
          1,
          1,
          1,
          1,
          1,
          1,
          1,
          1,
          1,
          1,
          1,
          1,
          1,
          1,
          1,
          1,
          1,
          1,
          1,
          1,
          1,
          1,
          1,
          1,
          1,
          1,
          1,
          1,
          1,
          1,
          1,
          1,
          1,
          1,
          1,
          1,
          1,
          1,
          1,
          1,
          1,
          1,
          1,
          1,
          1,
          1,
          1,
          1,
          1,
          1,
          1,
          1,
          1,
          2,
          2,
          2,
          2,
          2,
          2,
          2,
          2,
          2,
          2,
          2,
          2,
          2,
          2,
          1,
          2,
          2,
          2,
          2,
          2,
          2,
          2,
          2,
          2,
          0,
          2,
          2,
          2,
          2,
          2,
          2,
          2,
          2,
          2,
          2,
          2,
          2,
          2,
          2,
          2,
          2,
          2,
          2,
          2,
          2,
          2,
          2,
          2,
          2,
          2,
          2,
          2,
          2,
          2,
          2,
          2,
          2,
          2,
          2,
          2,
          2,
          2,
          2,
          2,
          2,
          2,
          2,
          2,
          2,
          2,
          2,
          0,
          0,
          0,
          0,
          0,
          0,
          0,
          0,
          0,
          0,
          0,
          0,
          0,
          0,
          0,
          0,
          0,
          0,
          0,
          0,
          0,
          0,
          0,
          0,
          0,
          0,
          0,
          0,
          0,
          0,
          0,
          0,
          0,
          0,
          0,
          0,
          0,
          0,
          0,
          0,
          0,
          0,
          0,
          0,
          0,
          0,
          0,
          0
         ],
         "type": "scatter",
         "x": [
          0.3720136518771331,
          0.26450511945392485,
          0.3754266211604095,
          0.5563139931740614,
          0.2593856655290102,
          0.4667235494880546,
          0.3387372013651877,
          0.3216723549488054,
          0.33447098976109213,
          0.5068259385665529,
          0.3813993174061433,
          0.31740614334470985,
          0.3686006825938566,
          0.3515358361774744,
          0.5307167235494881,
          0.5136518771331058,
          0.41979522184300344,
          0.4539249146757679,
          0.6331058020477814,
          0.325938566552901,
          0.37286689419795227,
          0.27474402730375425,
          0.21501706484641633,
          0.22610921501706485,
          0.1911262798634812,
          0.1962457337883959,
          0.30034129692832756,
          0.22781569965870305,
          0.27474402730375425,
          0.29180887372013653,
          0.37713310580204773,
          0.4795221843003413,
          0.21843003412969278,
          0.3515358361774744,
          0.2491467576791809,
          0.325938566552901,
          0.2832764505119454,
          0.2534129692832764,
          0.20648464163822525,
          0.325938566552901,
          0.4138225255972696,
          0.2559726962457338,
          0.35409556313993173,
          0.2627986348122867,
          0.32081911262798635,
          0.33788395904436863,
          0.3088737201365188,
          0.4112627986348123,
          0.41979522184300344,
          0.6501706484641638,
          0.5051194539249146,
          0.3686006825938566,
          0.4923208191126279,
          0.42832764505119447,
          0.38993174061433444,
          0.424061433447099,
          0.4351535836177475,
          0.40273037542662116,
          0.4709897610921502,
          0.057167235494880536,
          0.1697952218430034,
          0.3813993174061433,
          0.21501706484641633,
          0.2704778156996587,
          0.1424914675767918,
          0.2832764505119454,
          0.3430034129692833,
          0.2901023890784983,
          0.16126279863481227,
          0.13395904436860068,
          0.15102389078498293,
          0.17918088737201363,
          0.2098976109215017,
          0.1766211604095563,
          0.16467576791808872,
          0.21501706484641633,
          0.2832764505119454,
          0.11689419795221842,
          0.18088737201365188,
          0.1100682593856655,
          0.10409556313993173,
          0.22354948805460748,
          0.07849829351535836,
          0.30034129692832756,
          0.15102389078498293,
          0.1143344709897611,
          0.09982935153583619,
          0.11262798634812288,
          0.1296928327645051,
          0.03924914675767918,
          0.09556313993174059,
          0.1979522184300341,
          0.15102389078498293,
          0.07423208191126279,
          0.16808873720136516,
          0.11262798634812288,
          0.10409556313993173,
          0.13822525597269622,
          0.27474402730375425,
          0.08703071672354948,
          0.17235494880546073,
          0.09982935153583619,
          0.1296928327645051,
          0.06655290102389078,
          0.14163822525597267,
          0.12116040955631399,
          0.18088737201365188,
          0.17235494880546073,
          0.12116040955631399,
          0.11689419795221842,
          0.13822525597269622,
          0.06143344709897611,
          0.21501706484641633,
          0.15358361774744025,
          0.13822525597269622,
          0.052901023890784965,
          0.057167235494880536,
          0.06655290102389078,
          0.18088737201365188,
          0,
          0.16808873720136516,
          0.40273037542662116,
          0.06825938566552903,
          0.11262798634812288,
          0.1296928327645051,
          0.12627986348122863,
          0.22696245733788392,
          0.14675767918088736,
          0.07167235494880547,
          0.11262798634812288,
          0.2406143344709897,
          0.3515358361774744,
          0.37713310580204773,
          0.31740614334470985,
          0.35580204778157,
          0.4965870307167235,
          0.21928327645051196,
          0.31740614334470985,
          0.37713310580204773,
          0.31058020477815695,
          0.2832764505119454,
          0.3686006825938566,
          0.26194539249146753,
          0.2662116040955631,
          0.5912969283276451,
          0.23208191126279862,
          0.3088737201365188,
          0.5435153583617748,
          0.6092150170648464,
          0.6928327645051194,
          0.6245733788395904,
          0.8122866894197952,
          0.4965870307167235,
          0.78839590443686,
          0.5392491467576791,
          0.5648464163822525,
          0.659556313993174,
          0.5307167235494881,
          0.9999999999999999,
          0.893344709897611,
          0.5435153583617748,
          0.39249146757679176,
          0.36689419795221845,
          0.341296928327645,
          0.7081911262798635,
          0.45563139931740615,
          0.8020477815699658,
          0.7662116040955631,
          0.6296928327645052,
          0.6160409556313993,
          0.36006825938566556,
          0.735494795221843,
          0.7184300341296928,
          0.5477815699658704,
          0.5136518771331058,
          0.7610921501706484,
          0.6843003412969284,
          0.6757679180887372
         ],
         "y": [
          0.8421052631578951,
          0.5710526315789473,
          0.560526315789474,
          0.8789473684210525,
          0.5815789473684214,
          0.8342105263157893,
          0.8842105263157896,
          0.797368421052632,
          1,
          0.7447368421052629,
          0.8078947368421052,
          0.8131578947368419,
          0.7157894736842105,
          0.9789473684210526,
          0.8815789473684212,
          0.6842105263157898,
          0.8605263157894738,
          0.736842105263158,
          0.831578947368421,
          0.6868421052631581,
          0.797368421052632,
          0.5,
          0.7052631578947373,
          0.47894736842105257,
          0.6499999999999999,
          0.5315789473684216,
          0.6210526315789475,
          0.5973684210526318,
          0.7473684210526317,
          0.7868421052631578,
          0.7105263157894739,
          0.6710526315789473,
          0.6973684210526314,
          0.7184210526315788,
          0.6526315789473687,
          0.6447368421052633,
          0.5921052631578947,
          0.5315789473684216,
          0.5368421052631582,
          0.8394736842105264,
          0.6657894736842107,
          0.6263157894736846,
          0.7500000000000004,
          0.5815789473684214,
          0.5315789473684216,
          0.836842105263158,
          0.8815789473684212,
          0.7552631578947371,
          0.8078947368421052,
          0.7657894736842104,
          0.5315789473684216,
          0.736842105263158,
          0.7342105263157896,
          0.7210526315789472,
          0.7131578947368422,
          0.6657894736842107,
          0.8394736842105264,
          0.594736842105263,
          0.7078947368421056,
          0.3526315789473684,
          0.34210526315789513,
          0.4236842105263161,
          0.6947368421052631,
          0.3526315789473684,
          0.30000000000000027,
          0.3526315789473684,
          0.5473684210526315,
          0.3526315789473684,
          0.6078947368421055,
          0.310526315789474,
          0.331578947368421,
          0.7447368421052629,
          0.6473684210526316,
          0.5157894736842108,
          0.2447368421052638,
          0.1657894736842107,
          0.5263157894736841,
          0.2131578947368422,
          0.34210526315789513,
          0.43947368421052646,
          0.2552631578947371,
          0.44473684210526354,
          0.2763157894736845,
          0.5315789473684216,
          0.2131578947368422,
          0.43157894736842106,
          0.29736842105263195,
          0.1631578947368424,
          0.16052631578947407,
          0.2763157894736845,
          0.2763157894736845,
          0.2552631578947371,
          0.43684210526315814,
          0.331578947368421,
          0.155263157894737,
          0.3789473684210529,
          0.20526315789473726,
          0.331578947368421,
          0.3526315789473684,
          0.331578947368421,
          0.2763157894736845,
          0.4131578947368424,
          0.34473684210526345,
          0.20789473684210558,
          0.38947368421052664,
          0.3657894736842109,
          0.3210526315789477,
          0.44473684210526354,
          0.3131578947368423,
          0.15263157894736867,
          0.11315789473684257,
          0.39210526315789496,
          0.19210526315789478,
          0.10000000000000053,
          0.2763157894736845,
          0,
          0.20789473684210558,
          0.3657894736842109,
          0.45789473684210513,
          0.2552631578947371,
          0.1105263157894738,
          0.13947368421052664,
          0.3657894736842109,
          0.5315789473684216,
          0.2210526315789476,
          0.2736842105263162,
          0.3684210526315792,
          0.20000000000000018,
          0.3526315789473684,
          0.26578947368421035,
          0.4815789473684209,
          0.4868421052631584,
          0.4684210526315793,
          0.43947368421052646,
          0.38947368421052664,
          0.4131578947368424,
          0.3210526315789477,
          0.3947368421052633,
          0.6473684210526316,
          0.47631578947368425,
          0.5,
          0.6131578947368421,
          0.655263157894737,
          0.6815789473684211,
          0.3210526315789477,
          0.560526315789474,
          0.7500000000000004,
          0.48421052631578965,
          0.6026315789473689,
          0.5394736842105265,
          0.6499999999999999,
          0.4631578947368422,
          0.5473684210526315,
          0.5789473684210531,
          0.4078947368421053,
          0.5631578947368423,
          0.7394736842105263,
          0.37368421052631584,
          0.8710526315789475,
          0.6447368421052633,
          0.3500000000000001,
          0.7000000000000002,
          0.47894736842105257,
          0.5078947368421058,
          0.7236842105263159,
          0.7105263157894739,
          0.6368421052631579,
          0.4710526315789476,
          0.6710526315789473,
          0.6236842105263158,
          0.3078947368421052,
          0.45789473684210513,
          0.823684210526316,
          0.7052631578947373,
          0.6236842105263158,
          0.5894736842105264,
          0.5631578947368423,
          0.8157894736842106
         ]
        }
       ],
       "layout": {
        "template": {
         "data": {
          "bar": [
           {
            "error_x": {
             "color": "#2a3f5f"
            },
            "error_y": {
             "color": "#2a3f5f"
            },
            "marker": {
             "line": {
              "color": "#E5ECF6",
              "width": 0.5
             }
            },
            "type": "bar"
           }
          ],
          "barpolar": [
           {
            "marker": {
             "line": {
              "color": "#E5ECF6",
              "width": 0.5
             }
            },
            "type": "barpolar"
           }
          ],
          "carpet": [
           {
            "aaxis": {
             "endlinecolor": "#2a3f5f",
             "gridcolor": "white",
             "linecolor": "white",
             "minorgridcolor": "white",
             "startlinecolor": "#2a3f5f"
            },
            "baxis": {
             "endlinecolor": "#2a3f5f",
             "gridcolor": "white",
             "linecolor": "white",
             "minorgridcolor": "white",
             "startlinecolor": "#2a3f5f"
            },
            "type": "carpet"
           }
          ],
          "choropleth": [
           {
            "colorbar": {
             "outlinewidth": 0,
             "ticks": ""
            },
            "type": "choropleth"
           }
          ],
          "contour": [
           {
            "colorbar": {
             "outlinewidth": 0,
             "ticks": ""
            },
            "colorscale": [
             [
              0,
              "#0d0887"
             ],
             [
              0.1111111111111111,
              "#46039f"
             ],
             [
              0.2222222222222222,
              "#7201a8"
             ],
             [
              0.3333333333333333,
              "#9c179e"
             ],
             [
              0.4444444444444444,
              "#bd3786"
             ],
             [
              0.5555555555555556,
              "#d8576b"
             ],
             [
              0.6666666666666666,
              "#ed7953"
             ],
             [
              0.7777777777777778,
              "#fb9f3a"
             ],
             [
              0.8888888888888888,
              "#fdca26"
             ],
             [
              1,
              "#f0f921"
             ]
            ],
            "type": "contour"
           }
          ],
          "contourcarpet": [
           {
            "colorbar": {
             "outlinewidth": 0,
             "ticks": ""
            },
            "type": "contourcarpet"
           }
          ],
          "heatmap": [
           {
            "colorbar": {
             "outlinewidth": 0,
             "ticks": ""
            },
            "colorscale": [
             [
              0,
              "#0d0887"
             ],
             [
              0.1111111111111111,
              "#46039f"
             ],
             [
              0.2222222222222222,
              "#7201a8"
             ],
             [
              0.3333333333333333,
              "#9c179e"
             ],
             [
              0.4444444444444444,
              "#bd3786"
             ],
             [
              0.5555555555555556,
              "#d8576b"
             ],
             [
              0.6666666666666666,
              "#ed7953"
             ],
             [
              0.7777777777777778,
              "#fb9f3a"
             ],
             [
              0.8888888888888888,
              "#fdca26"
             ],
             [
              1,
              "#f0f921"
             ]
            ],
            "type": "heatmap"
           }
          ],
          "heatmapgl": [
           {
            "colorbar": {
             "outlinewidth": 0,
             "ticks": ""
            },
            "colorscale": [
             [
              0,
              "#0d0887"
             ],
             [
              0.1111111111111111,
              "#46039f"
             ],
             [
              0.2222222222222222,
              "#7201a8"
             ],
             [
              0.3333333333333333,
              "#9c179e"
             ],
             [
              0.4444444444444444,
              "#bd3786"
             ],
             [
              0.5555555555555556,
              "#d8576b"
             ],
             [
              0.6666666666666666,
              "#ed7953"
             ],
             [
              0.7777777777777778,
              "#fb9f3a"
             ],
             [
              0.8888888888888888,
              "#fdca26"
             ],
             [
              1,
              "#f0f921"
             ]
            ],
            "type": "heatmapgl"
           }
          ],
          "histogram": [
           {
            "marker": {
             "colorbar": {
              "outlinewidth": 0,
              "ticks": ""
             }
            },
            "type": "histogram"
           }
          ],
          "histogram2d": [
           {
            "colorbar": {
             "outlinewidth": 0,
             "ticks": ""
            },
            "colorscale": [
             [
              0,
              "#0d0887"
             ],
             [
              0.1111111111111111,
              "#46039f"
             ],
             [
              0.2222222222222222,
              "#7201a8"
             ],
             [
              0.3333333333333333,
              "#9c179e"
             ],
             [
              0.4444444444444444,
              "#bd3786"
             ],
             [
              0.5555555555555556,
              "#d8576b"
             ],
             [
              0.6666666666666666,
              "#ed7953"
             ],
             [
              0.7777777777777778,
              "#fb9f3a"
             ],
             [
              0.8888888888888888,
              "#fdca26"
             ],
             [
              1,
              "#f0f921"
             ]
            ],
            "type": "histogram2d"
           }
          ],
          "histogram2dcontour": [
           {
            "colorbar": {
             "outlinewidth": 0,
             "ticks": ""
            },
            "colorscale": [
             [
              0,
              "#0d0887"
             ],
             [
              0.1111111111111111,
              "#46039f"
             ],
             [
              0.2222222222222222,
              "#7201a8"
             ],
             [
              0.3333333333333333,
              "#9c179e"
             ],
             [
              0.4444444444444444,
              "#bd3786"
             ],
             [
              0.5555555555555556,
              "#d8576b"
             ],
             [
              0.6666666666666666,
              "#ed7953"
             ],
             [
              0.7777777777777778,
              "#fb9f3a"
             ],
             [
              0.8888888888888888,
              "#fdca26"
             ],
             [
              1,
              "#f0f921"
             ]
            ],
            "type": "histogram2dcontour"
           }
          ],
          "mesh3d": [
           {
            "colorbar": {
             "outlinewidth": 0,
             "ticks": ""
            },
            "type": "mesh3d"
           }
          ],
          "parcoords": [
           {
            "line": {
             "colorbar": {
              "outlinewidth": 0,
              "ticks": ""
             }
            },
            "type": "parcoords"
           }
          ],
          "scatter": [
           {
            "marker": {
             "colorbar": {
              "outlinewidth": 0,
              "ticks": ""
             }
            },
            "type": "scatter"
           }
          ],
          "scatter3d": [
           {
            "line": {
             "colorbar": {
              "outlinewidth": 0,
              "ticks": ""
             }
            },
            "marker": {
             "colorbar": {
              "outlinewidth": 0,
              "ticks": ""
             }
            },
            "type": "scatter3d"
           }
          ],
          "scattercarpet": [
           {
            "marker": {
             "colorbar": {
              "outlinewidth": 0,
              "ticks": ""
             }
            },
            "type": "scattercarpet"
           }
          ],
          "scattergeo": [
           {
            "marker": {
             "colorbar": {
              "outlinewidth": 0,
              "ticks": ""
             }
            },
            "type": "scattergeo"
           }
          ],
          "scattergl": [
           {
            "marker": {
             "colorbar": {
              "outlinewidth": 0,
              "ticks": ""
             }
            },
            "type": "scattergl"
           }
          ],
          "scattermapbox": [
           {
            "marker": {
             "colorbar": {
              "outlinewidth": 0,
              "ticks": ""
             }
            },
            "type": "scattermapbox"
           }
          ],
          "scatterpolar": [
           {
            "marker": {
             "colorbar": {
              "outlinewidth": 0,
              "ticks": ""
             }
            },
            "type": "scatterpolar"
           }
          ],
          "scatterpolargl": [
           {
            "marker": {
             "colorbar": {
              "outlinewidth": 0,
              "ticks": ""
             }
            },
            "type": "scatterpolargl"
           }
          ],
          "scatterternary": [
           {
            "marker": {
             "colorbar": {
              "outlinewidth": 0,
              "ticks": ""
             }
            },
            "type": "scatterternary"
           }
          ],
          "surface": [
           {
            "colorbar": {
             "outlinewidth": 0,
             "ticks": ""
            },
            "colorscale": [
             [
              0,
              "#0d0887"
             ],
             [
              0.1111111111111111,
              "#46039f"
             ],
             [
              0.2222222222222222,
              "#7201a8"
             ],
             [
              0.3333333333333333,
              "#9c179e"
             ],
             [
              0.4444444444444444,
              "#bd3786"
             ],
             [
              0.5555555555555556,
              "#d8576b"
             ],
             [
              0.6666666666666666,
              "#ed7953"
             ],
             [
              0.7777777777777778,
              "#fb9f3a"
             ],
             [
              0.8888888888888888,
              "#fdca26"
             ],
             [
              1,
              "#f0f921"
             ]
            ],
            "type": "surface"
           }
          ],
          "table": [
           {
            "cells": {
             "fill": {
              "color": "#EBF0F8"
             },
             "line": {
              "color": "white"
             }
            },
            "header": {
             "fill": {
              "color": "#C8D4E3"
             },
             "line": {
              "color": "white"
             }
            },
            "type": "table"
           }
          ]
         },
         "layout": {
          "annotationdefaults": {
           "arrowcolor": "#2a3f5f",
           "arrowhead": 0,
           "arrowwidth": 1
          },
          "colorscale": {
           "diverging": [
            [
             0,
             "#8e0152"
            ],
            [
             0.1,
             "#c51b7d"
            ],
            [
             0.2,
             "#de77ae"
            ],
            [
             0.3,
             "#f1b6da"
            ],
            [
             0.4,
             "#fde0ef"
            ],
            [
             0.5,
             "#f7f7f7"
            ],
            [
             0.6,
             "#e6f5d0"
            ],
            [
             0.7,
             "#b8e186"
            ],
            [
             0.8,
             "#7fbc41"
            ],
            [
             0.9,
             "#4d9221"
            ],
            [
             1,
             "#276419"
            ]
           ],
           "sequential": [
            [
             0,
             "#0d0887"
            ],
            [
             0.1111111111111111,
             "#46039f"
            ],
            [
             0.2222222222222222,
             "#7201a8"
            ],
            [
             0.3333333333333333,
             "#9c179e"
            ],
            [
             0.4444444444444444,
             "#bd3786"
            ],
            [
             0.5555555555555556,
             "#d8576b"
            ],
            [
             0.6666666666666666,
             "#ed7953"
            ],
            [
             0.7777777777777778,
             "#fb9f3a"
            ],
            [
             0.8888888888888888,
             "#fdca26"
            ],
            [
             1,
             "#f0f921"
            ]
           ],
           "sequentialminus": [
            [
             0,
             "#0d0887"
            ],
            [
             0.1111111111111111,
             "#46039f"
            ],
            [
             0.2222222222222222,
             "#7201a8"
            ],
            [
             0.3333333333333333,
             "#9c179e"
            ],
            [
             0.4444444444444444,
             "#bd3786"
            ],
            [
             0.5555555555555556,
             "#d8576b"
            ],
            [
             0.6666666666666666,
             "#ed7953"
            ],
            [
             0.7777777777777778,
             "#fb9f3a"
            ],
            [
             0.8888888888888888,
             "#fdca26"
            ],
            [
             1,
             "#f0f921"
            ]
           ]
          },
          "colorway": [
           "#636efa",
           "#EF553B",
           "#00cc96",
           "#ab63fa",
           "#FFA15A",
           "#19d3f3",
           "#FF6692",
           "#B6E880",
           "#FF97FF",
           "#FECB52"
          ],
          "font": {
           "color": "#2a3f5f"
          },
          "geo": {
           "bgcolor": "white",
           "lakecolor": "white",
           "landcolor": "#E5ECF6",
           "showlakes": true,
           "showland": true,
           "subunitcolor": "white"
          },
          "hoverlabel": {
           "align": "left"
          },
          "hovermode": "closest",
          "mapbox": {
           "style": "light"
          },
          "paper_bgcolor": "white",
          "plot_bgcolor": "#E5ECF6",
          "polar": {
           "angularaxis": {
            "gridcolor": "white",
            "linecolor": "white",
            "ticks": ""
           },
           "bgcolor": "#E5ECF6",
           "radialaxis": {
            "gridcolor": "white",
            "linecolor": "white",
            "ticks": ""
           }
          },
          "scene": {
           "xaxis": {
            "backgroundcolor": "#E5ECF6",
            "gridcolor": "white",
            "gridwidth": 2,
            "linecolor": "white",
            "showbackground": true,
            "ticks": "",
            "zerolinecolor": "white"
           },
           "yaxis": {
            "backgroundcolor": "#E5ECF6",
            "gridcolor": "white",
            "gridwidth": 2,
            "linecolor": "white",
            "showbackground": true,
            "ticks": "",
            "zerolinecolor": "white"
           },
           "zaxis": {
            "backgroundcolor": "#E5ECF6",
            "gridcolor": "white",
            "gridwidth": 2,
            "linecolor": "white",
            "showbackground": true,
            "ticks": "",
            "zerolinecolor": "white"
           }
          },
          "shapedefaults": {
           "line": {
            "color": "#2a3f5f"
           }
          },
          "ternary": {
           "aaxis": {
            "gridcolor": "white",
            "linecolor": "white",
            "ticks": ""
           },
           "baxis": {
            "gridcolor": "white",
            "linecolor": "white",
            "ticks": ""
           },
           "bgcolor": "#E5ECF6",
           "caxis": {
            "gridcolor": "white",
            "linecolor": "white",
            "ticks": ""
           }
          },
          "title": {
           "x": 0.05
          },
          "xaxis": {
           "automargin": true,
           "gridcolor": "white",
           "linecolor": "white",
           "ticks": "",
           "zerolinecolor": "white",
           "zerolinewidth": 2
          },
          "yaxis": {
           "automargin": true,
           "gridcolor": "white",
           "linecolor": "white",
           "ticks": "",
           "zerolinecolor": "white",
           "zerolinewidth": 2
          }
         }
        }
       }
      },
      "text/html": [
       "<div>\n",
       "        \n",
       "        \n",
       "            <div id=\"acb9e6b5-7034-4b60-91fa-d685850e802e\" class=\"plotly-graph-div\" style=\"height:525px; width:100%;\"></div>\n",
       "            <script type=\"text/javascript\">\n",
       "                require([\"plotly\"], function(Plotly) {\n",
       "                    window.PLOTLYENV=window.PLOTLYENV || {};\n",
       "                    \n",
       "                if (document.getElementById(\"acb9e6b5-7034-4b60-91fa-d685850e802e\")) {\n",
       "                    Plotly.newPlot(\n",
       "                        'acb9e6b5-7034-4b60-91fa-d685850e802e',\n",
       "                        [{\"marker\": {\"color\": [1, 1, 1, 1, 1, 1, 1, 1, 1, 1, 1, 1, 1, 1, 1, 1, 1, 1, 1, 1, 1, 1, 1, 1, 1, 1, 1, 1, 1, 1, 1, 1, 1, 1, 1, 1, 1, 1, 1, 1, 1, 1, 1, 1, 1, 1, 1, 1, 1, 1, 1, 1, 1, 1, 1, 1, 1, 1, 1, 2, 2, 2, 2, 2, 2, 2, 2, 2, 2, 2, 2, 2, 2, 1, 2, 2, 2, 2, 2, 2, 2, 2, 2, 0, 2, 2, 2, 2, 2, 2, 2, 2, 2, 2, 2, 2, 2, 2, 2, 2, 2, 2, 2, 2, 2, 2, 2, 2, 2, 2, 2, 2, 2, 2, 2, 2, 2, 2, 2, 2, 2, 2, 2, 2, 2, 2, 2, 2, 2, 2, 0, 0, 0, 0, 0, 0, 0, 0, 0, 0, 0, 0, 0, 0, 0, 0, 0, 0, 0, 0, 0, 0, 0, 0, 0, 0, 0, 0, 0, 0, 0, 0, 0, 0, 0, 0, 0, 0, 0, 0, 0, 0, 0, 0, 0, 0, 0, 0]}, \"mode\": \"markers\", \"text\": [1.0, 1.0, 1.0, 1.0, 1.0, 1.0, 1.0, 1.0, 1.0, 1.0, 1.0, 1.0, 1.0, 1.0, 1.0, 1.0, 1.0, 1.0, 1.0, 1.0, 1.0, 1.0, 1.0, 1.0, 1.0, 1.0, 1.0, 1.0, 1.0, 1.0, 1.0, 1.0, 1.0, 1.0, 1.0, 1.0, 1.0, 1.0, 1.0, 1.0, 1.0, 1.0, 1.0, 1.0, 1.0, 1.0, 1.0, 1.0, 1.0, 1.0, 1.0, 1.0, 1.0, 1.0, 1.0, 1.0, 1.0, 1.0, 1.0, 2.0, 2.0, 2.0, 2.0, 2.0, 2.0, 2.0, 2.0, 2.0, 2.0, 2.0, 2.0, 2.0, 2.0, 1.0, 2.0, 2.0, 2.0, 2.0, 2.0, 2.0, 2.0, 2.0, 2.0, 0.0, 2.0, 2.0, 2.0, 2.0, 2.0, 2.0, 2.0, 2.0, 2.0, 2.0, 2.0, 2.0, 2.0, 2.0, 2.0, 2.0, 2.0, 2.0, 2.0, 2.0, 2.0, 2.0, 2.0, 2.0, 2.0, 2.0, 2.0, 2.0, 2.0, 2.0, 2.0, 2.0, 2.0, 2.0, 2.0, 2.0, 2.0, 2.0, 2.0, 2.0, 2.0, 2.0, 2.0, 2.0, 2.0, 2.0, 0.0, 0.0, 0.0, 0.0, 0.0, 0.0, 0.0, 0.0, 0.0, 0.0, 0.0, 0.0, 0.0, 0.0, 0.0, 0.0, 0.0, 0.0, 0.0, 0.0, 0.0, 0.0, 0.0, 0.0, 0.0, 0.0, 0.0, 0.0, 0.0, 0.0, 0.0, 0.0, 0.0, 0.0, 0.0, 0.0, 0.0, 0.0, 0.0, 0.0, 0.0, 0.0, 0.0, 0.0, 0.0, 0.0, 0.0, 0.0], \"type\": \"scatter\", \"x\": [0.3720136518771331, 0.26450511945392485, 0.3754266211604095, 0.5563139931740614, 0.2593856655290102, 0.4667235494880546, 0.3387372013651877, 0.3216723549488054, 0.33447098976109213, 0.5068259385665529, 0.3813993174061433, 0.31740614334470985, 0.3686006825938566, 0.3515358361774744, 0.5307167235494881, 0.5136518771331058, 0.41979522184300344, 0.4539249146757679, 0.6331058020477814, 0.325938566552901, 0.37286689419795227, 0.27474402730375425, 0.21501706484641633, 0.22610921501706485, 0.1911262798634812, 0.1962457337883959, 0.30034129692832756, 0.22781569965870305, 0.27474402730375425, 0.29180887372013653, 0.37713310580204773, 0.4795221843003413, 0.21843003412969278, 0.3515358361774744, 0.2491467576791809, 0.325938566552901, 0.2832764505119454, 0.2534129692832764, 0.20648464163822525, 0.325938566552901, 0.4138225255972696, 0.2559726962457338, 0.35409556313993173, 0.2627986348122867, 0.32081911262798635, 0.33788395904436863, 0.3088737201365188, 0.4112627986348123, 0.41979522184300344, 0.6501706484641638, 0.5051194539249146, 0.3686006825938566, 0.4923208191126279, 0.42832764505119447, 0.38993174061433444, 0.424061433447099, 0.4351535836177475, 0.40273037542662116, 0.4709897610921502, 0.057167235494880536, 0.1697952218430034, 0.3813993174061433, 0.21501706484641633, 0.2704778156996587, 0.1424914675767918, 0.2832764505119454, 0.3430034129692833, 0.2901023890784983, 0.16126279863481227, 0.13395904436860068, 0.15102389078498293, 0.17918088737201363, 0.2098976109215017, 0.1766211604095563, 0.16467576791808872, 0.21501706484641633, 0.2832764505119454, 0.11689419795221842, 0.18088737201365188, 0.1100682593856655, 0.10409556313993173, 0.22354948805460748, 0.07849829351535836, 0.30034129692832756, 0.15102389078498293, 0.1143344709897611, 0.09982935153583619, 0.11262798634812288, 0.1296928327645051, 0.03924914675767918, 0.09556313993174059, 0.1979522184300341, 0.15102389078498293, 0.07423208191126279, 0.16808873720136516, 0.11262798634812288, 0.10409556313993173, 0.13822525597269622, 0.27474402730375425, 0.08703071672354948, 0.17235494880546073, 0.09982935153583619, 0.1296928327645051, 0.06655290102389078, 0.14163822525597267, 0.12116040955631399, 0.18088737201365188, 0.17235494880546073, 0.12116040955631399, 0.11689419795221842, 0.13822525597269622, 0.06143344709897611, 0.21501706484641633, 0.15358361774744025, 0.13822525597269622, 0.052901023890784965, 0.057167235494880536, 0.06655290102389078, 0.18088737201365188, 0.0, 0.16808873720136516, 0.40273037542662116, 0.06825938566552903, 0.11262798634812288, 0.1296928327645051, 0.12627986348122863, 0.22696245733788392, 0.14675767918088736, 0.07167235494880547, 0.11262798634812288, 0.2406143344709897, 0.3515358361774744, 0.37713310580204773, 0.31740614334470985, 0.35580204778157, 0.4965870307167235, 0.21928327645051196, 0.31740614334470985, 0.37713310580204773, 0.31058020477815695, 0.2832764505119454, 0.3686006825938566, 0.26194539249146753, 0.2662116040955631, 0.5912969283276451, 0.23208191126279862, 0.3088737201365188, 0.5435153583617748, 0.6092150170648464, 0.6928327645051194, 0.6245733788395904, 0.8122866894197952, 0.4965870307167235, 0.78839590443686, 0.5392491467576791, 0.5648464163822525, 0.659556313993174, 0.5307167235494881, 0.9999999999999999, 0.893344709897611, 0.5435153583617748, 0.39249146757679176, 0.36689419795221845, 0.341296928327645, 0.7081911262798635, 0.45563139931740615, 0.8020477815699658, 0.7662116040955631, 0.6296928327645052, 0.6160409556313993, 0.36006825938566556, 0.735494795221843, 0.7184300341296928, 0.5477815699658704, 0.5136518771331058, 0.7610921501706484, 0.6843003412969284, 0.6757679180887372], \"y\": [0.8421052631578951, 0.5710526315789473, 0.560526315789474, 0.8789473684210525, 0.5815789473684214, 0.8342105263157893, 0.8842105263157896, 0.797368421052632, 1.0, 0.7447368421052629, 0.8078947368421052, 0.8131578947368419, 0.7157894736842105, 0.9789473684210526, 0.8815789473684212, 0.6842105263157898, 0.8605263157894738, 0.736842105263158, 0.831578947368421, 0.6868421052631581, 0.797368421052632, 0.5, 0.7052631578947373, 0.47894736842105257, 0.6499999999999999, 0.5315789473684216, 0.6210526315789475, 0.5973684210526318, 0.7473684210526317, 0.7868421052631578, 0.7105263157894739, 0.6710526315789473, 0.6973684210526314, 0.7184210526315788, 0.6526315789473687, 0.6447368421052633, 0.5921052631578947, 0.5315789473684216, 0.5368421052631582, 0.8394736842105264, 0.6657894736842107, 0.6263157894736846, 0.7500000000000004, 0.5815789473684214, 0.5315789473684216, 0.836842105263158, 0.8815789473684212, 0.7552631578947371, 0.8078947368421052, 0.7657894736842104, 0.5315789473684216, 0.736842105263158, 0.7342105263157896, 0.7210526315789472, 0.7131578947368422, 0.6657894736842107, 0.8394736842105264, 0.594736842105263, 0.7078947368421056, 0.3526315789473684, 0.34210526315789513, 0.4236842105263161, 0.6947368421052631, 0.3526315789473684, 0.30000000000000027, 0.3526315789473684, 0.5473684210526315, 0.3526315789473684, 0.6078947368421055, 0.310526315789474, 0.331578947368421, 0.7447368421052629, 0.6473684210526316, 0.5157894736842108, 0.2447368421052638, 0.1657894736842107, 0.5263157894736841, 0.2131578947368422, 0.34210526315789513, 0.43947368421052646, 0.2552631578947371, 0.44473684210526354, 0.2763157894736845, 0.5315789473684216, 0.2131578947368422, 0.43157894736842106, 0.29736842105263195, 0.1631578947368424, 0.16052631578947407, 0.2763157894736845, 0.2763157894736845, 0.2552631578947371, 0.43684210526315814, 0.331578947368421, 0.155263157894737, 0.3789473684210529, 0.20526315789473726, 0.331578947368421, 0.3526315789473684, 0.331578947368421, 0.2763157894736845, 0.4131578947368424, 0.34473684210526345, 0.20789473684210558, 0.38947368421052664, 0.3657894736842109, 0.3210526315789477, 0.44473684210526354, 0.3131578947368423, 0.15263157894736867, 0.11315789473684257, 0.39210526315789496, 0.19210526315789478, 0.10000000000000053, 0.2763157894736845, 0.0, 0.20789473684210558, 0.3657894736842109, 0.45789473684210513, 0.2552631578947371, 0.1105263157894738, 0.13947368421052664, 0.3657894736842109, 0.5315789473684216, 0.2210526315789476, 0.2736842105263162, 0.3684210526315792, 0.20000000000000018, 0.3526315789473684, 0.26578947368421035, 0.4815789473684209, 0.4868421052631584, 0.4684210526315793, 0.43947368421052646, 0.38947368421052664, 0.4131578947368424, 0.3210526315789477, 0.3947368421052633, 0.6473684210526316, 0.47631578947368425, 0.5, 0.6131578947368421, 0.655263157894737, 0.6815789473684211, 0.3210526315789477, 0.560526315789474, 0.7500000000000004, 0.48421052631578965, 0.6026315789473689, 0.5394736842105265, 0.6499999999999999, 0.4631578947368422, 0.5473684210526315, 0.5789473684210531, 0.4078947368421053, 0.5631578947368423, 0.7394736842105263, 0.37368421052631584, 0.8710526315789475, 0.6447368421052633, 0.3500000000000001, 0.7000000000000002, 0.47894736842105257, 0.5078947368421058, 0.7236842105263159, 0.7105263157894739, 0.6368421052631579, 0.4710526315789476, 0.6710526315789473, 0.6236842105263158, 0.3078947368421052, 0.45789473684210513, 0.823684210526316, 0.7052631578947373, 0.6236842105263158, 0.5894736842105264, 0.5631578947368423, 0.8157894736842106]}],\n",
       "                        {\"template\": {\"data\": {\"bar\": [{\"error_x\": {\"color\": \"#2a3f5f\"}, \"error_y\": {\"color\": \"#2a3f5f\"}, \"marker\": {\"line\": {\"color\": \"#E5ECF6\", \"width\": 0.5}}, \"type\": \"bar\"}], \"barpolar\": [{\"marker\": {\"line\": {\"color\": \"#E5ECF6\", \"width\": 0.5}}, \"type\": \"barpolar\"}], \"carpet\": [{\"aaxis\": {\"endlinecolor\": \"#2a3f5f\", \"gridcolor\": \"white\", \"linecolor\": \"white\", \"minorgridcolor\": \"white\", \"startlinecolor\": \"#2a3f5f\"}, \"baxis\": {\"endlinecolor\": \"#2a3f5f\", \"gridcolor\": \"white\", \"linecolor\": \"white\", \"minorgridcolor\": \"white\", \"startlinecolor\": \"#2a3f5f\"}, \"type\": \"carpet\"}], \"choropleth\": [{\"colorbar\": {\"outlinewidth\": 0, \"ticks\": \"\"}, \"type\": \"choropleth\"}], \"contour\": [{\"colorbar\": {\"outlinewidth\": 0, \"ticks\": \"\"}, \"colorscale\": [[0.0, \"#0d0887\"], [0.1111111111111111, \"#46039f\"], [0.2222222222222222, \"#7201a8\"], [0.3333333333333333, \"#9c179e\"], [0.4444444444444444, \"#bd3786\"], [0.5555555555555556, \"#d8576b\"], [0.6666666666666666, \"#ed7953\"], [0.7777777777777778, \"#fb9f3a\"], [0.8888888888888888, \"#fdca26\"], [1.0, \"#f0f921\"]], \"type\": \"contour\"}], \"contourcarpet\": [{\"colorbar\": {\"outlinewidth\": 0, \"ticks\": \"\"}, \"type\": \"contourcarpet\"}], \"heatmap\": [{\"colorbar\": {\"outlinewidth\": 0, \"ticks\": \"\"}, \"colorscale\": [[0.0, \"#0d0887\"], [0.1111111111111111, \"#46039f\"], [0.2222222222222222, \"#7201a8\"], [0.3333333333333333, \"#9c179e\"], [0.4444444444444444, \"#bd3786\"], [0.5555555555555556, \"#d8576b\"], [0.6666666666666666, \"#ed7953\"], [0.7777777777777778, \"#fb9f3a\"], [0.8888888888888888, \"#fdca26\"], [1.0, \"#f0f921\"]], \"type\": \"heatmap\"}], \"heatmapgl\": [{\"colorbar\": {\"outlinewidth\": 0, \"ticks\": \"\"}, \"colorscale\": [[0.0, \"#0d0887\"], [0.1111111111111111, \"#46039f\"], [0.2222222222222222, \"#7201a8\"], [0.3333333333333333, \"#9c179e\"], [0.4444444444444444, \"#bd3786\"], [0.5555555555555556, \"#d8576b\"], [0.6666666666666666, \"#ed7953\"], [0.7777777777777778, \"#fb9f3a\"], [0.8888888888888888, \"#fdca26\"], [1.0, \"#f0f921\"]], \"type\": \"heatmapgl\"}], \"histogram\": [{\"marker\": {\"colorbar\": {\"outlinewidth\": 0, \"ticks\": \"\"}}, \"type\": \"histogram\"}], \"histogram2d\": [{\"colorbar\": {\"outlinewidth\": 0, \"ticks\": \"\"}, \"colorscale\": [[0.0, \"#0d0887\"], [0.1111111111111111, \"#46039f\"], [0.2222222222222222, \"#7201a8\"], [0.3333333333333333, \"#9c179e\"], [0.4444444444444444, \"#bd3786\"], [0.5555555555555556, \"#d8576b\"], [0.6666666666666666, \"#ed7953\"], [0.7777777777777778, \"#fb9f3a\"], [0.8888888888888888, \"#fdca26\"], [1.0, \"#f0f921\"]], \"type\": \"histogram2d\"}], \"histogram2dcontour\": [{\"colorbar\": {\"outlinewidth\": 0, \"ticks\": \"\"}, \"colorscale\": [[0.0, \"#0d0887\"], [0.1111111111111111, \"#46039f\"], [0.2222222222222222, \"#7201a8\"], [0.3333333333333333, \"#9c179e\"], [0.4444444444444444, \"#bd3786\"], [0.5555555555555556, \"#d8576b\"], [0.6666666666666666, \"#ed7953\"], [0.7777777777777778, \"#fb9f3a\"], [0.8888888888888888, \"#fdca26\"], [1.0, \"#f0f921\"]], \"type\": \"histogram2dcontour\"}], \"mesh3d\": [{\"colorbar\": {\"outlinewidth\": 0, \"ticks\": \"\"}, \"type\": \"mesh3d\"}], \"parcoords\": [{\"line\": {\"colorbar\": {\"outlinewidth\": 0, \"ticks\": \"\"}}, \"type\": \"parcoords\"}], \"scatter\": [{\"marker\": {\"colorbar\": {\"outlinewidth\": 0, \"ticks\": \"\"}}, \"type\": \"scatter\"}], \"scatter3d\": [{\"line\": {\"colorbar\": {\"outlinewidth\": 0, \"ticks\": \"\"}}, \"marker\": {\"colorbar\": {\"outlinewidth\": 0, \"ticks\": \"\"}}, \"type\": \"scatter3d\"}], \"scattercarpet\": [{\"marker\": {\"colorbar\": {\"outlinewidth\": 0, \"ticks\": \"\"}}, \"type\": \"scattercarpet\"}], \"scattergeo\": [{\"marker\": {\"colorbar\": {\"outlinewidth\": 0, \"ticks\": \"\"}}, \"type\": \"scattergeo\"}], \"scattergl\": [{\"marker\": {\"colorbar\": {\"outlinewidth\": 0, \"ticks\": \"\"}}, \"type\": \"scattergl\"}], \"scattermapbox\": [{\"marker\": {\"colorbar\": {\"outlinewidth\": 0, \"ticks\": \"\"}}, \"type\": \"scattermapbox\"}], \"scatterpolar\": [{\"marker\": {\"colorbar\": {\"outlinewidth\": 0, \"ticks\": \"\"}}, \"type\": \"scatterpolar\"}], \"scatterpolargl\": [{\"marker\": {\"colorbar\": {\"outlinewidth\": 0, \"ticks\": \"\"}}, \"type\": \"scatterpolargl\"}], \"scatterternary\": [{\"marker\": {\"colorbar\": {\"outlinewidth\": 0, \"ticks\": \"\"}}, \"type\": \"scatterternary\"}], \"surface\": [{\"colorbar\": {\"outlinewidth\": 0, \"ticks\": \"\"}, \"colorscale\": [[0.0, \"#0d0887\"], [0.1111111111111111, \"#46039f\"], [0.2222222222222222, \"#7201a8\"], [0.3333333333333333, \"#9c179e\"], [0.4444444444444444, \"#bd3786\"], [0.5555555555555556, \"#d8576b\"], [0.6666666666666666, \"#ed7953\"], [0.7777777777777778, \"#fb9f3a\"], [0.8888888888888888, \"#fdca26\"], [1.0, \"#f0f921\"]], \"type\": \"surface\"}], \"table\": [{\"cells\": {\"fill\": {\"color\": \"#EBF0F8\"}, \"line\": {\"color\": \"white\"}}, \"header\": {\"fill\": {\"color\": \"#C8D4E3\"}, \"line\": {\"color\": \"white\"}}, \"type\": \"table\"}]}, \"layout\": {\"annotationdefaults\": {\"arrowcolor\": \"#2a3f5f\", \"arrowhead\": 0, \"arrowwidth\": 1}, \"colorscale\": {\"diverging\": [[0, \"#8e0152\"], [0.1, \"#c51b7d\"], [0.2, \"#de77ae\"], [0.3, \"#f1b6da\"], [0.4, \"#fde0ef\"], [0.5, \"#f7f7f7\"], [0.6, \"#e6f5d0\"], [0.7, \"#b8e186\"], [0.8, \"#7fbc41\"], [0.9, \"#4d9221\"], [1, \"#276419\"]], \"sequential\": [[0.0, \"#0d0887\"], [0.1111111111111111, \"#46039f\"], [0.2222222222222222, \"#7201a8\"], [0.3333333333333333, \"#9c179e\"], [0.4444444444444444, \"#bd3786\"], [0.5555555555555556, \"#d8576b\"], [0.6666666666666666, \"#ed7953\"], [0.7777777777777778, \"#fb9f3a\"], [0.8888888888888888, \"#fdca26\"], [1.0, \"#f0f921\"]], \"sequentialminus\": [[0.0, \"#0d0887\"], [0.1111111111111111, \"#46039f\"], [0.2222222222222222, \"#7201a8\"], [0.3333333333333333, \"#9c179e\"], [0.4444444444444444, \"#bd3786\"], [0.5555555555555556, \"#d8576b\"], [0.6666666666666666, \"#ed7953\"], [0.7777777777777778, \"#fb9f3a\"], [0.8888888888888888, \"#fdca26\"], [1.0, \"#f0f921\"]]}, \"colorway\": [\"#636efa\", \"#EF553B\", \"#00cc96\", \"#ab63fa\", \"#FFA15A\", \"#19d3f3\", \"#FF6692\", \"#B6E880\", \"#FF97FF\", \"#FECB52\"], \"font\": {\"color\": \"#2a3f5f\"}, \"geo\": {\"bgcolor\": \"white\", \"lakecolor\": \"white\", \"landcolor\": \"#E5ECF6\", \"showlakes\": true, \"showland\": true, \"subunitcolor\": \"white\"}, \"hoverlabel\": {\"align\": \"left\"}, \"hovermode\": \"closest\", \"mapbox\": {\"style\": \"light\"}, \"paper_bgcolor\": \"white\", \"plot_bgcolor\": \"#E5ECF6\", \"polar\": {\"angularaxis\": {\"gridcolor\": \"white\", \"linecolor\": \"white\", \"ticks\": \"\"}, \"bgcolor\": \"#E5ECF6\", \"radialaxis\": {\"gridcolor\": \"white\", \"linecolor\": \"white\", \"ticks\": \"\"}}, \"scene\": {\"xaxis\": {\"backgroundcolor\": \"#E5ECF6\", \"gridcolor\": \"white\", \"gridwidth\": 2, \"linecolor\": \"white\", \"showbackground\": true, \"ticks\": \"\", \"zerolinecolor\": \"white\"}, \"yaxis\": {\"backgroundcolor\": \"#E5ECF6\", \"gridcolor\": \"white\", \"gridwidth\": 2, \"linecolor\": \"white\", \"showbackground\": true, \"ticks\": \"\", \"zerolinecolor\": \"white\"}, \"zaxis\": {\"backgroundcolor\": \"#E5ECF6\", \"gridcolor\": \"white\", \"gridwidth\": 2, \"linecolor\": \"white\", \"showbackground\": true, \"ticks\": \"\", \"zerolinecolor\": \"white\"}}, \"shapedefaults\": {\"line\": {\"color\": \"#2a3f5f\"}}, \"ternary\": {\"aaxis\": {\"gridcolor\": \"white\", \"linecolor\": \"white\", \"ticks\": \"\"}, \"baxis\": {\"gridcolor\": \"white\", \"linecolor\": \"white\", \"ticks\": \"\"}, \"bgcolor\": \"#E5ECF6\", \"caxis\": {\"gridcolor\": \"white\", \"linecolor\": \"white\", \"ticks\": \"\"}}, \"title\": {\"x\": 0.05}, \"xaxis\": {\"automargin\": true, \"gridcolor\": \"white\", \"linecolor\": \"white\", \"ticks\": \"\", \"zerolinecolor\": \"white\", \"zerolinewidth\": 2}, \"yaxis\": {\"automargin\": true, \"gridcolor\": \"white\", \"linecolor\": \"white\", \"ticks\": \"\", \"zerolinecolor\": \"white\", \"zerolinewidth\": 2}}}},\n",
       "                        {\"responsive\": true}\n",
       "                    ).then(function(){\n",
       "                            \n",
       "var gd = document.getElementById('acb9e6b5-7034-4b60-91fa-d685850e802e');\n",
       "var x = new MutationObserver(function (mutations, observer) {{\n",
       "        var display = window.getComputedStyle(gd).display;\n",
       "        if (!display || display === 'none') {{\n",
       "            console.log([gd, 'removed!']);\n",
       "            Plotly.purge(gd);\n",
       "            observer.disconnect();\n",
       "        }}\n",
       "}});\n",
       "\n",
       "// Listen for the removal of the full notebook cells\n",
       "var notebookContainer = gd.closest('#notebook-container');\n",
       "if (notebookContainer) {{\n",
       "    x.observe(notebookContainer, {childList: true});\n",
       "}}\n",
       "\n",
       "// Listen for the clearing of the current output cell\n",
       "var outputEl = gd.closest('.output');\n",
       "if (outputEl) {{\n",
       "    x.observe(outputEl, {childList: true});\n",
       "}}\n",
       "\n",
       "                        })\n",
       "                };\n",
       "                });\n",
       "            </script>\n",
       "        </div>"
      ]
     },
     "metadata": {},
     "output_type": "display_data"
    }
   ],
   "source": [
    "fig = go.Figure()\n",
    "fig.add_trace(go.Scatter(x=df['Intensidade_de_cor'], y=df['Alcool'],\n",
    "              mode='markers',\n",
    "              marker=dict(color=labels),\n",
    "              text = labels ))\n",
    "\n",
    "fig.show()"
   ]
  },
  {
   "cell_type": "code",
   "execution_count": 29,
   "metadata": {},
   "outputs": [
    {
     "data": {
      "application/vnd.plotly.v1+json": {
       "config": {
        "plotlyServerURL": "https://plot.ly"
       },
       "data": [
        {
         "marker": {
          "color": [
           1,
           1,
           1,
           1,
           1,
           1,
           1,
           1,
           1,
           1,
           1,
           1,
           1,
           1,
           1,
           1,
           1,
           1,
           1,
           1,
           1,
           1,
           1,
           1,
           1,
           1,
           1,
           1,
           1,
           1,
           1,
           1,
           1,
           1,
           1,
           1,
           1,
           1,
           1,
           1,
           1,
           1,
           1,
           1,
           1,
           1,
           1,
           1,
           1,
           1,
           1,
           1,
           1,
           1,
           1,
           1,
           1,
           1,
           1,
           2,
           2,
           2,
           2,
           2,
           2,
           2,
           2,
           2,
           2,
           2,
           2,
           2,
           2,
           1,
           2,
           2,
           2,
           2,
           2,
           2,
           2,
           2,
           2,
           0,
           2,
           2,
           2,
           2,
           2,
           2,
           2,
           2,
           2,
           2,
           2,
           2,
           2,
           2,
           2,
           2,
           2,
           2,
           2,
           2,
           2,
           2,
           2,
           2,
           2,
           2,
           2,
           2,
           2,
           2,
           2,
           2,
           2,
           2,
           2,
           2,
           2,
           2,
           2,
           2,
           2,
           2,
           2,
           2,
           2,
           2,
           0,
           0,
           0,
           0,
           0,
           0,
           0,
           0,
           0,
           0,
           0,
           0,
           0,
           0,
           0,
           0,
           0,
           0,
           0,
           0,
           0,
           0,
           0,
           0,
           0,
           0,
           0,
           0,
           0,
           0,
           0,
           0,
           0,
           0,
           0,
           0,
           0,
           0,
           0,
           0,
           0,
           0,
           0,
           0,
           0,
           0,
           0,
           0
          ]
         },
         "mode": "markers",
         "text": [
          1,
          1,
          1,
          1,
          1,
          1,
          1,
          1,
          1,
          1,
          1,
          1,
          1,
          1,
          1,
          1,
          1,
          1,
          1,
          1,
          1,
          1,
          1,
          1,
          1,
          1,
          1,
          1,
          1,
          1,
          1,
          1,
          1,
          1,
          1,
          1,
          1,
          1,
          1,
          1,
          1,
          1,
          1,
          1,
          1,
          1,
          1,
          1,
          1,
          1,
          1,
          1,
          1,
          1,
          1,
          1,
          1,
          1,
          1,
          2,
          2,
          2,
          2,
          2,
          2,
          2,
          2,
          2,
          2,
          2,
          2,
          2,
          2,
          1,
          2,
          2,
          2,
          2,
          2,
          2,
          2,
          2,
          2,
          0,
          2,
          2,
          2,
          2,
          2,
          2,
          2,
          2,
          2,
          2,
          2,
          2,
          2,
          2,
          2,
          2,
          2,
          2,
          2,
          2,
          2,
          2,
          2,
          2,
          2,
          2,
          2,
          2,
          2,
          2,
          2,
          2,
          2,
          2,
          2,
          2,
          2,
          2,
          2,
          2,
          2,
          2,
          2,
          2,
          2,
          2,
          0,
          0,
          0,
          0,
          0,
          0,
          0,
          0,
          0,
          0,
          0,
          0,
          0,
          0,
          0,
          0,
          0,
          0,
          0,
          0,
          0,
          0,
          0,
          0,
          0,
          0,
          0,
          0,
          0,
          0,
          0,
          0,
          0,
          0,
          0,
          0,
          0,
          0,
          0,
          0,
          0,
          0,
          0,
          0,
          0,
          0,
          0,
          0
         ],
         "type": "scatter3d",
         "x": [
          0.3720136518771331,
          0.26450511945392485,
          0.3754266211604095,
          0.5563139931740614,
          0.2593856655290102,
          0.4667235494880546,
          0.3387372013651877,
          0.3216723549488054,
          0.33447098976109213,
          0.5068259385665529,
          0.3813993174061433,
          0.31740614334470985,
          0.3686006825938566,
          0.3515358361774744,
          0.5307167235494881,
          0.5136518771331058,
          0.41979522184300344,
          0.4539249146757679,
          0.6331058020477814,
          0.325938566552901,
          0.37286689419795227,
          0.27474402730375425,
          0.21501706484641633,
          0.22610921501706485,
          0.1911262798634812,
          0.1962457337883959,
          0.30034129692832756,
          0.22781569965870305,
          0.27474402730375425,
          0.29180887372013653,
          0.37713310580204773,
          0.4795221843003413,
          0.21843003412969278,
          0.3515358361774744,
          0.2491467576791809,
          0.325938566552901,
          0.2832764505119454,
          0.2534129692832764,
          0.20648464163822525,
          0.325938566552901,
          0.4138225255972696,
          0.2559726962457338,
          0.35409556313993173,
          0.2627986348122867,
          0.32081911262798635,
          0.33788395904436863,
          0.3088737201365188,
          0.4112627986348123,
          0.41979522184300344,
          0.6501706484641638,
          0.5051194539249146,
          0.3686006825938566,
          0.4923208191126279,
          0.42832764505119447,
          0.38993174061433444,
          0.424061433447099,
          0.4351535836177475,
          0.40273037542662116,
          0.4709897610921502,
          0.057167235494880536,
          0.1697952218430034,
          0.3813993174061433,
          0.21501706484641633,
          0.2704778156996587,
          0.1424914675767918,
          0.2832764505119454,
          0.3430034129692833,
          0.2901023890784983,
          0.16126279863481227,
          0.13395904436860068,
          0.15102389078498293,
          0.17918088737201363,
          0.2098976109215017,
          0.1766211604095563,
          0.16467576791808872,
          0.21501706484641633,
          0.2832764505119454,
          0.11689419795221842,
          0.18088737201365188,
          0.1100682593856655,
          0.10409556313993173,
          0.22354948805460748,
          0.07849829351535836,
          0.30034129692832756,
          0.15102389078498293,
          0.1143344709897611,
          0.09982935153583619,
          0.11262798634812288,
          0.1296928327645051,
          0.03924914675767918,
          0.09556313993174059,
          0.1979522184300341,
          0.15102389078498293,
          0.07423208191126279,
          0.16808873720136516,
          0.11262798634812288,
          0.10409556313993173,
          0.13822525597269622,
          0.27474402730375425,
          0.08703071672354948,
          0.17235494880546073,
          0.09982935153583619,
          0.1296928327645051,
          0.06655290102389078,
          0.14163822525597267,
          0.12116040955631399,
          0.18088737201365188,
          0.17235494880546073,
          0.12116040955631399,
          0.11689419795221842,
          0.13822525597269622,
          0.06143344709897611,
          0.21501706484641633,
          0.15358361774744025,
          0.13822525597269622,
          0.052901023890784965,
          0.057167235494880536,
          0.06655290102389078,
          0.18088737201365188,
          0,
          0.16808873720136516,
          0.40273037542662116,
          0.06825938566552903,
          0.11262798634812288,
          0.1296928327645051,
          0.12627986348122863,
          0.22696245733788392,
          0.14675767918088736,
          0.07167235494880547,
          0.11262798634812288,
          0.2406143344709897,
          0.3515358361774744,
          0.37713310580204773,
          0.31740614334470985,
          0.35580204778157,
          0.4965870307167235,
          0.21928327645051196,
          0.31740614334470985,
          0.37713310580204773,
          0.31058020477815695,
          0.2832764505119454,
          0.3686006825938566,
          0.26194539249146753,
          0.2662116040955631,
          0.5912969283276451,
          0.23208191126279862,
          0.3088737201365188,
          0.5435153583617748,
          0.6092150170648464,
          0.6928327645051194,
          0.6245733788395904,
          0.8122866894197952,
          0.4965870307167235,
          0.78839590443686,
          0.5392491467576791,
          0.5648464163822525,
          0.659556313993174,
          0.5307167235494881,
          0.9999999999999999,
          0.893344709897611,
          0.5435153583617748,
          0.39249146757679176,
          0.36689419795221845,
          0.341296928327645,
          0.7081911262798635,
          0.45563139931740615,
          0.8020477815699658,
          0.7662116040955631,
          0.6296928327645052,
          0.6160409556313993,
          0.36006825938566556,
          0.735494795221843,
          0.7184300341296928,
          0.5477815699658704,
          0.5136518771331058,
          0.7610921501706484,
          0.6843003412969284,
          0.6757679180887372
         ],
         "y": [
          0.8421052631578951,
          0.5710526315789473,
          0.560526315789474,
          0.8789473684210525,
          0.5815789473684214,
          0.8342105263157893,
          0.8842105263157896,
          0.797368421052632,
          1,
          0.7447368421052629,
          0.8078947368421052,
          0.8131578947368419,
          0.7157894736842105,
          0.9789473684210526,
          0.8815789473684212,
          0.6842105263157898,
          0.8605263157894738,
          0.736842105263158,
          0.831578947368421,
          0.6868421052631581,
          0.797368421052632,
          0.5,
          0.7052631578947373,
          0.47894736842105257,
          0.6499999999999999,
          0.5315789473684216,
          0.6210526315789475,
          0.5973684210526318,
          0.7473684210526317,
          0.7868421052631578,
          0.7105263157894739,
          0.6710526315789473,
          0.6973684210526314,
          0.7184210526315788,
          0.6526315789473687,
          0.6447368421052633,
          0.5921052631578947,
          0.5315789473684216,
          0.5368421052631582,
          0.8394736842105264,
          0.6657894736842107,
          0.6263157894736846,
          0.7500000000000004,
          0.5815789473684214,
          0.5315789473684216,
          0.836842105263158,
          0.8815789473684212,
          0.7552631578947371,
          0.8078947368421052,
          0.7657894736842104,
          0.5315789473684216,
          0.736842105263158,
          0.7342105263157896,
          0.7210526315789472,
          0.7131578947368422,
          0.6657894736842107,
          0.8394736842105264,
          0.594736842105263,
          0.7078947368421056,
          0.3526315789473684,
          0.34210526315789513,
          0.4236842105263161,
          0.6947368421052631,
          0.3526315789473684,
          0.30000000000000027,
          0.3526315789473684,
          0.5473684210526315,
          0.3526315789473684,
          0.6078947368421055,
          0.310526315789474,
          0.331578947368421,
          0.7447368421052629,
          0.6473684210526316,
          0.5157894736842108,
          0.2447368421052638,
          0.1657894736842107,
          0.5263157894736841,
          0.2131578947368422,
          0.34210526315789513,
          0.43947368421052646,
          0.2552631578947371,
          0.44473684210526354,
          0.2763157894736845,
          0.5315789473684216,
          0.2131578947368422,
          0.43157894736842106,
          0.29736842105263195,
          0.1631578947368424,
          0.16052631578947407,
          0.2763157894736845,
          0.2763157894736845,
          0.2552631578947371,
          0.43684210526315814,
          0.331578947368421,
          0.155263157894737,
          0.3789473684210529,
          0.20526315789473726,
          0.331578947368421,
          0.3526315789473684,
          0.331578947368421,
          0.2763157894736845,
          0.4131578947368424,
          0.34473684210526345,
          0.20789473684210558,
          0.38947368421052664,
          0.3657894736842109,
          0.3210526315789477,
          0.44473684210526354,
          0.3131578947368423,
          0.15263157894736867,
          0.11315789473684257,
          0.39210526315789496,
          0.19210526315789478,
          0.10000000000000053,
          0.2763157894736845,
          0,
          0.20789473684210558,
          0.3657894736842109,
          0.45789473684210513,
          0.2552631578947371,
          0.1105263157894738,
          0.13947368421052664,
          0.3657894736842109,
          0.5315789473684216,
          0.2210526315789476,
          0.2736842105263162,
          0.3684210526315792,
          0.20000000000000018,
          0.3526315789473684,
          0.26578947368421035,
          0.4815789473684209,
          0.4868421052631584,
          0.4684210526315793,
          0.43947368421052646,
          0.38947368421052664,
          0.4131578947368424,
          0.3210526315789477,
          0.3947368421052633,
          0.6473684210526316,
          0.47631578947368425,
          0.5,
          0.6131578947368421,
          0.655263157894737,
          0.6815789473684211,
          0.3210526315789477,
          0.560526315789474,
          0.7500000000000004,
          0.48421052631578965,
          0.6026315789473689,
          0.5394736842105265,
          0.6499999999999999,
          0.4631578947368422,
          0.5473684210526315,
          0.5789473684210531,
          0.4078947368421053,
          0.5631578947368423,
          0.7394736842105263,
          0.37368421052631584,
          0.8710526315789475,
          0.6447368421052633,
          0.3500000000000001,
          0.7000000000000002,
          0.47894736842105257,
          0.5078947368421058,
          0.7236842105263159,
          0.7105263157894739,
          0.6368421052631579,
          0.4710526315789476,
          0.6710526315789473,
          0.6236842105263158,
          0.3078947368421052,
          0.45789473684210513,
          0.823684210526316,
          0.7052631578947373,
          0.6236842105263158,
          0.5894736842105264,
          0.5631578947368423,
          0.8157894736842106
         ],
         "z": [
          0.5613409415121255,
          0.5506419400855921,
          0.6469329529243938,
          0.8573466476462198,
          0.3259629101283881,
          0.8359486447931527,
          0.7218259629101285,
          0.725392296718973,
          0.5470756062767476,
          0.5470756062767476,
          0.8787446504992867,
          0.7146932952924394,
          0.7432239657631955,
          0.6219686162624822,
          0.9051355206847361,
          0.7360912981455064,
          0.7146932952924394,
          0.6077032810271041,
          1,
          0.40442225392296727,
          0.35805991440798857,
          0.35092724679029963,
          0.5399429386590585,
          0.5256776034236805,
          0.40442225392296727,
          0.3937232524964337,
          0.6540656205420827,
          0.7182596291012839,
          0.4543509272467904,
          0.5399429386590585,
          0.7182596291012839,
          0.8823109843081313,
          0.5078459343794579,
          0.6825962910128388,
          0.5827389443651926,
          0.4579172610556348,
          0.4293865905848788,
          0.5898716119828816,
          0.529243937232525,
          0.3437945791726106,
          0.36875891583452214,
          0.5399429386590585,
          0.5827389443651926,
          0.2867332382310984,
          0.43295292439372324,
          0.5720399429386591,
          0.5613409415121255,
          0.5042796005706135,
          0.557774607703281,
          0.7004279600570614,
          0.6219686162624822,
          0.7039942938659058,
          0.6504992867332383,
          0.782453637660485,
          0.557774607703281,
          0.6005706134094152,
          0.4935805991440799,
          0.7075606276747504,
          0.7182596291012839,
          0.17261055634807418,
          0.2867332382310984,
          0.12268188302425106,
          0.2510699001426534,
          0.10128388017118403,
          0.054921540656205386,
          0.2853067047075606,
          0.15977175463623397,
          0.1654778887303852,
          0.33666191155492153,
          0.31383737517831667,
          0.4222539229671898,
          0.09415121255349498,
          0.13837375178316688,
          0.5042796005706135,
          0.4336661911554922,
          0.10699001426533525,
          0.08131241084165478,
          0.15834522111269614,
          0.33666191155492153,
          0.1319543509272468,
          0,
          0.3109843081312411,
          0.2510699001426534,
          0.16904422253922965,
          0.17261055634807418,
          0.12268188302425106,
          0.15477888730385161,
          0.20256776034236804,
          0.2867332382310984,
          0.24750356633380885,
          0.1440798858773181,
          0.12268188302425106,
          0.15477888730385161,
          0.008559201141226797,
          0.047788873038516394,
          0.4700427960057062,
          0.24750356633380885,
          0.10699001426533525,
          0.27246790299572043,
          0.09129814550641938,
          0.30813124108416545,
          0.20256776034236804,
          0.11412268188302424,
          0.09771754636233951,
          0.2810271041369472,
          0.02639087018544936,
          0.1654778887303852,
          0.14978601997146931,
          0.02425106990014264,
          0.2867332382310984,
          0.20256776034236804,
          0.033523537803138354,
          0.23466476462196864,
          0.11126961483594863,
          0.07631954350927247,
          0.09201141226818829,
          0.15477888730385161,
          0.047788873038516394,
          0.06704707560627673,
          0.20399429386590587,
          0.24750356633380885,
          0.13338088445078458,
          0.062054208273894434,
          0.07275320970042795,
          0.07275320970042795,
          0.07132667617689017,
          0.052781740370898694,
          0.1340941512125535,
          0.0456490727532097,
          0.21540656205420824,
          0.2510699001426534,
          0.17974322396576317,
          0.20114122681883026,
          0.22967189728958629,
          0.2653352353780314,
          0.297432239657632,
          0.3152639087018545,
          0.16904422253922965,
          0.21540656205420824,
          0.2225392296718973,
          0.22967189728958629,
          0.35805991440798857,
          0.17261055634807418,
          0.1940085592011412,
          0.4115549215406562,
          0.3937232524964337,
          0.09771754636233951,
          0.24750356633380885,
          0.2653352353780314,
          0.1940085592011412,
          0.15834522111269614,
          0.1440798858773181,
          0.1048502139800285,
          0.2831669044222539,
          0.25820256776034234,
          0.318830242510699,
          0.1440798858773181,
          0.4293865905848788,
          0.27246790299572043,
          0.24393723252496433,
          0.17261055634807418,
          0.2867332382310984,
          0.20827389443651925,
          0.2831669044222539,
          0.2403708987161198,
          0.17261055634807418,
          0.297432239657632,
          0.29029957203994294,
          0.33666191155492153,
          0.2510699001426534,
          0.1654778887303852,
          0.1369472182596291,
          0.27246790299572043,
          0.3295292439372326,
          0.33666191155492153,
          0.3972895863052782,
          0.40085592011412274,
          0.20114122681883026
         ]
        }
       ],
       "layout": {
        "template": {
         "data": {
          "bar": [
           {
            "error_x": {
             "color": "#2a3f5f"
            },
            "error_y": {
             "color": "#2a3f5f"
            },
            "marker": {
             "line": {
              "color": "#E5ECF6",
              "width": 0.5
             }
            },
            "type": "bar"
           }
          ],
          "barpolar": [
           {
            "marker": {
             "line": {
              "color": "#E5ECF6",
              "width": 0.5
             }
            },
            "type": "barpolar"
           }
          ],
          "carpet": [
           {
            "aaxis": {
             "endlinecolor": "#2a3f5f",
             "gridcolor": "white",
             "linecolor": "white",
             "minorgridcolor": "white",
             "startlinecolor": "#2a3f5f"
            },
            "baxis": {
             "endlinecolor": "#2a3f5f",
             "gridcolor": "white",
             "linecolor": "white",
             "minorgridcolor": "white",
             "startlinecolor": "#2a3f5f"
            },
            "type": "carpet"
           }
          ],
          "choropleth": [
           {
            "colorbar": {
             "outlinewidth": 0,
             "ticks": ""
            },
            "type": "choropleth"
           }
          ],
          "contour": [
           {
            "colorbar": {
             "outlinewidth": 0,
             "ticks": ""
            },
            "colorscale": [
             [
              0,
              "#0d0887"
             ],
             [
              0.1111111111111111,
              "#46039f"
             ],
             [
              0.2222222222222222,
              "#7201a8"
             ],
             [
              0.3333333333333333,
              "#9c179e"
             ],
             [
              0.4444444444444444,
              "#bd3786"
             ],
             [
              0.5555555555555556,
              "#d8576b"
             ],
             [
              0.6666666666666666,
              "#ed7953"
             ],
             [
              0.7777777777777778,
              "#fb9f3a"
             ],
             [
              0.8888888888888888,
              "#fdca26"
             ],
             [
              1,
              "#f0f921"
             ]
            ],
            "type": "contour"
           }
          ],
          "contourcarpet": [
           {
            "colorbar": {
             "outlinewidth": 0,
             "ticks": ""
            },
            "type": "contourcarpet"
           }
          ],
          "heatmap": [
           {
            "colorbar": {
             "outlinewidth": 0,
             "ticks": ""
            },
            "colorscale": [
             [
              0,
              "#0d0887"
             ],
             [
              0.1111111111111111,
              "#46039f"
             ],
             [
              0.2222222222222222,
              "#7201a8"
             ],
             [
              0.3333333333333333,
              "#9c179e"
             ],
             [
              0.4444444444444444,
              "#bd3786"
             ],
             [
              0.5555555555555556,
              "#d8576b"
             ],
             [
              0.6666666666666666,
              "#ed7953"
             ],
             [
              0.7777777777777778,
              "#fb9f3a"
             ],
             [
              0.8888888888888888,
              "#fdca26"
             ],
             [
              1,
              "#f0f921"
             ]
            ],
            "type": "heatmap"
           }
          ],
          "heatmapgl": [
           {
            "colorbar": {
             "outlinewidth": 0,
             "ticks": ""
            },
            "colorscale": [
             [
              0,
              "#0d0887"
             ],
             [
              0.1111111111111111,
              "#46039f"
             ],
             [
              0.2222222222222222,
              "#7201a8"
             ],
             [
              0.3333333333333333,
              "#9c179e"
             ],
             [
              0.4444444444444444,
              "#bd3786"
             ],
             [
              0.5555555555555556,
              "#d8576b"
             ],
             [
              0.6666666666666666,
              "#ed7953"
             ],
             [
              0.7777777777777778,
              "#fb9f3a"
             ],
             [
              0.8888888888888888,
              "#fdca26"
             ],
             [
              1,
              "#f0f921"
             ]
            ],
            "type": "heatmapgl"
           }
          ],
          "histogram": [
           {
            "marker": {
             "colorbar": {
              "outlinewidth": 0,
              "ticks": ""
             }
            },
            "type": "histogram"
           }
          ],
          "histogram2d": [
           {
            "colorbar": {
             "outlinewidth": 0,
             "ticks": ""
            },
            "colorscale": [
             [
              0,
              "#0d0887"
             ],
             [
              0.1111111111111111,
              "#46039f"
             ],
             [
              0.2222222222222222,
              "#7201a8"
             ],
             [
              0.3333333333333333,
              "#9c179e"
             ],
             [
              0.4444444444444444,
              "#bd3786"
             ],
             [
              0.5555555555555556,
              "#d8576b"
             ],
             [
              0.6666666666666666,
              "#ed7953"
             ],
             [
              0.7777777777777778,
              "#fb9f3a"
             ],
             [
              0.8888888888888888,
              "#fdca26"
             ],
             [
              1,
              "#f0f921"
             ]
            ],
            "type": "histogram2d"
           }
          ],
          "histogram2dcontour": [
           {
            "colorbar": {
             "outlinewidth": 0,
             "ticks": ""
            },
            "colorscale": [
             [
              0,
              "#0d0887"
             ],
             [
              0.1111111111111111,
              "#46039f"
             ],
             [
              0.2222222222222222,
              "#7201a8"
             ],
             [
              0.3333333333333333,
              "#9c179e"
             ],
             [
              0.4444444444444444,
              "#bd3786"
             ],
             [
              0.5555555555555556,
              "#d8576b"
             ],
             [
              0.6666666666666666,
              "#ed7953"
             ],
             [
              0.7777777777777778,
              "#fb9f3a"
             ],
             [
              0.8888888888888888,
              "#fdca26"
             ],
             [
              1,
              "#f0f921"
             ]
            ],
            "type": "histogram2dcontour"
           }
          ],
          "mesh3d": [
           {
            "colorbar": {
             "outlinewidth": 0,
             "ticks": ""
            },
            "type": "mesh3d"
           }
          ],
          "parcoords": [
           {
            "line": {
             "colorbar": {
              "outlinewidth": 0,
              "ticks": ""
             }
            },
            "type": "parcoords"
           }
          ],
          "scatter": [
           {
            "marker": {
             "colorbar": {
              "outlinewidth": 0,
              "ticks": ""
             }
            },
            "type": "scatter"
           }
          ],
          "scatter3d": [
           {
            "line": {
             "colorbar": {
              "outlinewidth": 0,
              "ticks": ""
             }
            },
            "marker": {
             "colorbar": {
              "outlinewidth": 0,
              "ticks": ""
             }
            },
            "type": "scatter3d"
           }
          ],
          "scattercarpet": [
           {
            "marker": {
             "colorbar": {
              "outlinewidth": 0,
              "ticks": ""
             }
            },
            "type": "scattercarpet"
           }
          ],
          "scattergeo": [
           {
            "marker": {
             "colorbar": {
              "outlinewidth": 0,
              "ticks": ""
             }
            },
            "type": "scattergeo"
           }
          ],
          "scattergl": [
           {
            "marker": {
             "colorbar": {
              "outlinewidth": 0,
              "ticks": ""
             }
            },
            "type": "scattergl"
           }
          ],
          "scattermapbox": [
           {
            "marker": {
             "colorbar": {
              "outlinewidth": 0,
              "ticks": ""
             }
            },
            "type": "scattermapbox"
           }
          ],
          "scatterpolar": [
           {
            "marker": {
             "colorbar": {
              "outlinewidth": 0,
              "ticks": ""
             }
            },
            "type": "scatterpolar"
           }
          ],
          "scatterpolargl": [
           {
            "marker": {
             "colorbar": {
              "outlinewidth": 0,
              "ticks": ""
             }
            },
            "type": "scatterpolargl"
           }
          ],
          "scatterternary": [
           {
            "marker": {
             "colorbar": {
              "outlinewidth": 0,
              "ticks": ""
             }
            },
            "type": "scatterternary"
           }
          ],
          "surface": [
           {
            "colorbar": {
             "outlinewidth": 0,
             "ticks": ""
            },
            "colorscale": [
             [
              0,
              "#0d0887"
             ],
             [
              0.1111111111111111,
              "#46039f"
             ],
             [
              0.2222222222222222,
              "#7201a8"
             ],
             [
              0.3333333333333333,
              "#9c179e"
             ],
             [
              0.4444444444444444,
              "#bd3786"
             ],
             [
              0.5555555555555556,
              "#d8576b"
             ],
             [
              0.6666666666666666,
              "#ed7953"
             ],
             [
              0.7777777777777778,
              "#fb9f3a"
             ],
             [
              0.8888888888888888,
              "#fdca26"
             ],
             [
              1,
              "#f0f921"
             ]
            ],
            "type": "surface"
           }
          ],
          "table": [
           {
            "cells": {
             "fill": {
              "color": "#EBF0F8"
             },
             "line": {
              "color": "white"
             }
            },
            "header": {
             "fill": {
              "color": "#C8D4E3"
             },
             "line": {
              "color": "white"
             }
            },
            "type": "table"
           }
          ]
         },
         "layout": {
          "annotationdefaults": {
           "arrowcolor": "#2a3f5f",
           "arrowhead": 0,
           "arrowwidth": 1
          },
          "colorscale": {
           "diverging": [
            [
             0,
             "#8e0152"
            ],
            [
             0.1,
             "#c51b7d"
            ],
            [
             0.2,
             "#de77ae"
            ],
            [
             0.3,
             "#f1b6da"
            ],
            [
             0.4,
             "#fde0ef"
            ],
            [
             0.5,
             "#f7f7f7"
            ],
            [
             0.6,
             "#e6f5d0"
            ],
            [
             0.7,
             "#b8e186"
            ],
            [
             0.8,
             "#7fbc41"
            ],
            [
             0.9,
             "#4d9221"
            ],
            [
             1,
             "#276419"
            ]
           ],
           "sequential": [
            [
             0,
             "#0d0887"
            ],
            [
             0.1111111111111111,
             "#46039f"
            ],
            [
             0.2222222222222222,
             "#7201a8"
            ],
            [
             0.3333333333333333,
             "#9c179e"
            ],
            [
             0.4444444444444444,
             "#bd3786"
            ],
            [
             0.5555555555555556,
             "#d8576b"
            ],
            [
             0.6666666666666666,
             "#ed7953"
            ],
            [
             0.7777777777777778,
             "#fb9f3a"
            ],
            [
             0.8888888888888888,
             "#fdca26"
            ],
            [
             1,
             "#f0f921"
            ]
           ],
           "sequentialminus": [
            [
             0,
             "#0d0887"
            ],
            [
             0.1111111111111111,
             "#46039f"
            ],
            [
             0.2222222222222222,
             "#7201a8"
            ],
            [
             0.3333333333333333,
             "#9c179e"
            ],
            [
             0.4444444444444444,
             "#bd3786"
            ],
            [
             0.5555555555555556,
             "#d8576b"
            ],
            [
             0.6666666666666666,
             "#ed7953"
            ],
            [
             0.7777777777777778,
             "#fb9f3a"
            ],
            [
             0.8888888888888888,
             "#fdca26"
            ],
            [
             1,
             "#f0f921"
            ]
           ]
          },
          "colorway": [
           "#636efa",
           "#EF553B",
           "#00cc96",
           "#ab63fa",
           "#FFA15A",
           "#19d3f3",
           "#FF6692",
           "#B6E880",
           "#FF97FF",
           "#FECB52"
          ],
          "font": {
           "color": "#2a3f5f"
          },
          "geo": {
           "bgcolor": "white",
           "lakecolor": "white",
           "landcolor": "#E5ECF6",
           "showlakes": true,
           "showland": true,
           "subunitcolor": "white"
          },
          "hoverlabel": {
           "align": "left"
          },
          "hovermode": "closest",
          "mapbox": {
           "style": "light"
          },
          "paper_bgcolor": "white",
          "plot_bgcolor": "#E5ECF6",
          "polar": {
           "angularaxis": {
            "gridcolor": "white",
            "linecolor": "white",
            "ticks": ""
           },
           "bgcolor": "#E5ECF6",
           "radialaxis": {
            "gridcolor": "white",
            "linecolor": "white",
            "ticks": ""
           }
          },
          "scene": {
           "xaxis": {
            "backgroundcolor": "#E5ECF6",
            "gridcolor": "white",
            "gridwidth": 2,
            "linecolor": "white",
            "showbackground": true,
            "ticks": "",
            "zerolinecolor": "white"
           },
           "yaxis": {
            "backgroundcolor": "#E5ECF6",
            "gridcolor": "white",
            "gridwidth": 2,
            "linecolor": "white",
            "showbackground": true,
            "ticks": "",
            "zerolinecolor": "white"
           },
           "zaxis": {
            "backgroundcolor": "#E5ECF6",
            "gridcolor": "white",
            "gridwidth": 2,
            "linecolor": "white",
            "showbackground": true,
            "ticks": "",
            "zerolinecolor": "white"
           }
          },
          "shapedefaults": {
           "line": {
            "color": "#2a3f5f"
           }
          },
          "ternary": {
           "aaxis": {
            "gridcolor": "white",
            "linecolor": "white",
            "ticks": ""
           },
           "baxis": {
            "gridcolor": "white",
            "linecolor": "white",
            "ticks": ""
           },
           "bgcolor": "#E5ECF6",
           "caxis": {
            "gridcolor": "white",
            "linecolor": "white",
            "ticks": ""
           }
          },
          "title": {
           "x": 0.05
          },
          "xaxis": {
           "automargin": true,
           "gridcolor": "white",
           "linecolor": "white",
           "ticks": "",
           "zerolinecolor": "white",
           "zerolinewidth": 2
          },
          "yaxis": {
           "automargin": true,
           "gridcolor": "white",
           "linecolor": "white",
           "ticks": "",
           "zerolinecolor": "white",
           "zerolinewidth": 2
          }
         }
        }
       }
      },
      "text/html": [
       "<div>\n",
       "        \n",
       "        \n",
       "            <div id=\"8c5de13a-a64c-4043-85c6-140747d8ab56\" class=\"plotly-graph-div\" style=\"height:525px; width:100%;\"></div>\n",
       "            <script type=\"text/javascript\">\n",
       "                require([\"plotly\"], function(Plotly) {\n",
       "                    window.PLOTLYENV=window.PLOTLYENV || {};\n",
       "                    \n",
       "                if (document.getElementById(\"8c5de13a-a64c-4043-85c6-140747d8ab56\")) {\n",
       "                    Plotly.newPlot(\n",
       "                        '8c5de13a-a64c-4043-85c6-140747d8ab56',\n",
       "                        [{\"marker\": {\"color\": [1.0, 1.0, 1.0, 1.0, 1.0, 1.0, 1.0, 1.0, 1.0, 1.0, 1.0, 1.0, 1.0, 1.0, 1.0, 1.0, 1.0, 1.0, 1.0, 1.0, 1.0, 1.0, 1.0, 1.0, 1.0, 1.0, 1.0, 1.0, 1.0, 1.0, 1.0, 1.0, 1.0, 1.0, 1.0, 1.0, 1.0, 1.0, 1.0, 1.0, 1.0, 1.0, 1.0, 1.0, 1.0, 1.0, 1.0, 1.0, 1.0, 1.0, 1.0, 1.0, 1.0, 1.0, 1.0, 1.0, 1.0, 1.0, 1.0, 2.0, 2.0, 2.0, 2.0, 2.0, 2.0, 2.0, 2.0, 2.0, 2.0, 2.0, 2.0, 2.0, 2.0, 1.0, 2.0, 2.0, 2.0, 2.0, 2.0, 2.0, 2.0, 2.0, 2.0, 0.0, 2.0, 2.0, 2.0, 2.0, 2.0, 2.0, 2.0, 2.0, 2.0, 2.0, 2.0, 2.0, 2.0, 2.0, 2.0, 2.0, 2.0, 2.0, 2.0, 2.0, 2.0, 2.0, 2.0, 2.0, 2.0, 2.0, 2.0, 2.0, 2.0, 2.0, 2.0, 2.0, 2.0, 2.0, 2.0, 2.0, 2.0, 2.0, 2.0, 2.0, 2.0, 2.0, 2.0, 2.0, 2.0, 2.0, 0.0, 0.0, 0.0, 0.0, 0.0, 0.0, 0.0, 0.0, 0.0, 0.0, 0.0, 0.0, 0.0, 0.0, 0.0, 0.0, 0.0, 0.0, 0.0, 0.0, 0.0, 0.0, 0.0, 0.0, 0.0, 0.0, 0.0, 0.0, 0.0, 0.0, 0.0, 0.0, 0.0, 0.0, 0.0, 0.0, 0.0, 0.0, 0.0, 0.0, 0.0, 0.0, 0.0, 0.0, 0.0, 0.0, 0.0, 0.0]}, \"mode\": \"markers\", \"text\": [1.0, 1.0, 1.0, 1.0, 1.0, 1.0, 1.0, 1.0, 1.0, 1.0, 1.0, 1.0, 1.0, 1.0, 1.0, 1.0, 1.0, 1.0, 1.0, 1.0, 1.0, 1.0, 1.0, 1.0, 1.0, 1.0, 1.0, 1.0, 1.0, 1.0, 1.0, 1.0, 1.0, 1.0, 1.0, 1.0, 1.0, 1.0, 1.0, 1.0, 1.0, 1.0, 1.0, 1.0, 1.0, 1.0, 1.0, 1.0, 1.0, 1.0, 1.0, 1.0, 1.0, 1.0, 1.0, 1.0, 1.0, 1.0, 1.0, 2.0, 2.0, 2.0, 2.0, 2.0, 2.0, 2.0, 2.0, 2.0, 2.0, 2.0, 2.0, 2.0, 2.0, 1.0, 2.0, 2.0, 2.0, 2.0, 2.0, 2.0, 2.0, 2.0, 2.0, 0.0, 2.0, 2.0, 2.0, 2.0, 2.0, 2.0, 2.0, 2.0, 2.0, 2.0, 2.0, 2.0, 2.0, 2.0, 2.0, 2.0, 2.0, 2.0, 2.0, 2.0, 2.0, 2.0, 2.0, 2.0, 2.0, 2.0, 2.0, 2.0, 2.0, 2.0, 2.0, 2.0, 2.0, 2.0, 2.0, 2.0, 2.0, 2.0, 2.0, 2.0, 2.0, 2.0, 2.0, 2.0, 2.0, 2.0, 0.0, 0.0, 0.0, 0.0, 0.0, 0.0, 0.0, 0.0, 0.0, 0.0, 0.0, 0.0, 0.0, 0.0, 0.0, 0.0, 0.0, 0.0, 0.0, 0.0, 0.0, 0.0, 0.0, 0.0, 0.0, 0.0, 0.0, 0.0, 0.0, 0.0, 0.0, 0.0, 0.0, 0.0, 0.0, 0.0, 0.0, 0.0, 0.0, 0.0, 0.0, 0.0, 0.0, 0.0, 0.0, 0.0, 0.0, 0.0], \"type\": \"scatter3d\", \"x\": [0.3720136518771331, 0.26450511945392485, 0.3754266211604095, 0.5563139931740614, 0.2593856655290102, 0.4667235494880546, 0.3387372013651877, 0.3216723549488054, 0.33447098976109213, 0.5068259385665529, 0.3813993174061433, 0.31740614334470985, 0.3686006825938566, 0.3515358361774744, 0.5307167235494881, 0.5136518771331058, 0.41979522184300344, 0.4539249146757679, 0.6331058020477814, 0.325938566552901, 0.37286689419795227, 0.27474402730375425, 0.21501706484641633, 0.22610921501706485, 0.1911262798634812, 0.1962457337883959, 0.30034129692832756, 0.22781569965870305, 0.27474402730375425, 0.29180887372013653, 0.37713310580204773, 0.4795221843003413, 0.21843003412969278, 0.3515358361774744, 0.2491467576791809, 0.325938566552901, 0.2832764505119454, 0.2534129692832764, 0.20648464163822525, 0.325938566552901, 0.4138225255972696, 0.2559726962457338, 0.35409556313993173, 0.2627986348122867, 0.32081911262798635, 0.33788395904436863, 0.3088737201365188, 0.4112627986348123, 0.41979522184300344, 0.6501706484641638, 0.5051194539249146, 0.3686006825938566, 0.4923208191126279, 0.42832764505119447, 0.38993174061433444, 0.424061433447099, 0.4351535836177475, 0.40273037542662116, 0.4709897610921502, 0.057167235494880536, 0.1697952218430034, 0.3813993174061433, 0.21501706484641633, 0.2704778156996587, 0.1424914675767918, 0.2832764505119454, 0.3430034129692833, 0.2901023890784983, 0.16126279863481227, 0.13395904436860068, 0.15102389078498293, 0.17918088737201363, 0.2098976109215017, 0.1766211604095563, 0.16467576791808872, 0.21501706484641633, 0.2832764505119454, 0.11689419795221842, 0.18088737201365188, 0.1100682593856655, 0.10409556313993173, 0.22354948805460748, 0.07849829351535836, 0.30034129692832756, 0.15102389078498293, 0.1143344709897611, 0.09982935153583619, 0.11262798634812288, 0.1296928327645051, 0.03924914675767918, 0.09556313993174059, 0.1979522184300341, 0.15102389078498293, 0.07423208191126279, 0.16808873720136516, 0.11262798634812288, 0.10409556313993173, 0.13822525597269622, 0.27474402730375425, 0.08703071672354948, 0.17235494880546073, 0.09982935153583619, 0.1296928327645051, 0.06655290102389078, 0.14163822525597267, 0.12116040955631399, 0.18088737201365188, 0.17235494880546073, 0.12116040955631399, 0.11689419795221842, 0.13822525597269622, 0.06143344709897611, 0.21501706484641633, 0.15358361774744025, 0.13822525597269622, 0.052901023890784965, 0.057167235494880536, 0.06655290102389078, 0.18088737201365188, 0.0, 0.16808873720136516, 0.40273037542662116, 0.06825938566552903, 0.11262798634812288, 0.1296928327645051, 0.12627986348122863, 0.22696245733788392, 0.14675767918088736, 0.07167235494880547, 0.11262798634812288, 0.2406143344709897, 0.3515358361774744, 0.37713310580204773, 0.31740614334470985, 0.35580204778157, 0.4965870307167235, 0.21928327645051196, 0.31740614334470985, 0.37713310580204773, 0.31058020477815695, 0.2832764505119454, 0.3686006825938566, 0.26194539249146753, 0.2662116040955631, 0.5912969283276451, 0.23208191126279862, 0.3088737201365188, 0.5435153583617748, 0.6092150170648464, 0.6928327645051194, 0.6245733788395904, 0.8122866894197952, 0.4965870307167235, 0.78839590443686, 0.5392491467576791, 0.5648464163822525, 0.659556313993174, 0.5307167235494881, 0.9999999999999999, 0.893344709897611, 0.5435153583617748, 0.39249146757679176, 0.36689419795221845, 0.341296928327645, 0.7081911262798635, 0.45563139931740615, 0.8020477815699658, 0.7662116040955631, 0.6296928327645052, 0.6160409556313993, 0.36006825938566556, 0.735494795221843, 0.7184300341296928, 0.5477815699658704, 0.5136518771331058, 0.7610921501706484, 0.6843003412969284, 0.6757679180887372], \"y\": [0.8421052631578951, 0.5710526315789473, 0.560526315789474, 0.8789473684210525, 0.5815789473684214, 0.8342105263157893, 0.8842105263157896, 0.797368421052632, 1.0, 0.7447368421052629, 0.8078947368421052, 0.8131578947368419, 0.7157894736842105, 0.9789473684210526, 0.8815789473684212, 0.6842105263157898, 0.8605263157894738, 0.736842105263158, 0.831578947368421, 0.6868421052631581, 0.797368421052632, 0.5, 0.7052631578947373, 0.47894736842105257, 0.6499999999999999, 0.5315789473684216, 0.6210526315789475, 0.5973684210526318, 0.7473684210526317, 0.7868421052631578, 0.7105263157894739, 0.6710526315789473, 0.6973684210526314, 0.7184210526315788, 0.6526315789473687, 0.6447368421052633, 0.5921052631578947, 0.5315789473684216, 0.5368421052631582, 0.8394736842105264, 0.6657894736842107, 0.6263157894736846, 0.7500000000000004, 0.5815789473684214, 0.5315789473684216, 0.836842105263158, 0.8815789473684212, 0.7552631578947371, 0.8078947368421052, 0.7657894736842104, 0.5315789473684216, 0.736842105263158, 0.7342105263157896, 0.7210526315789472, 0.7131578947368422, 0.6657894736842107, 0.8394736842105264, 0.594736842105263, 0.7078947368421056, 0.3526315789473684, 0.34210526315789513, 0.4236842105263161, 0.6947368421052631, 0.3526315789473684, 0.30000000000000027, 0.3526315789473684, 0.5473684210526315, 0.3526315789473684, 0.6078947368421055, 0.310526315789474, 0.331578947368421, 0.7447368421052629, 0.6473684210526316, 0.5157894736842108, 0.2447368421052638, 0.1657894736842107, 0.5263157894736841, 0.2131578947368422, 0.34210526315789513, 0.43947368421052646, 0.2552631578947371, 0.44473684210526354, 0.2763157894736845, 0.5315789473684216, 0.2131578947368422, 0.43157894736842106, 0.29736842105263195, 0.1631578947368424, 0.16052631578947407, 0.2763157894736845, 0.2763157894736845, 0.2552631578947371, 0.43684210526315814, 0.331578947368421, 0.155263157894737, 0.3789473684210529, 0.20526315789473726, 0.331578947368421, 0.3526315789473684, 0.331578947368421, 0.2763157894736845, 0.4131578947368424, 0.34473684210526345, 0.20789473684210558, 0.38947368421052664, 0.3657894736842109, 0.3210526315789477, 0.44473684210526354, 0.3131578947368423, 0.15263157894736867, 0.11315789473684257, 0.39210526315789496, 0.19210526315789478, 0.10000000000000053, 0.2763157894736845, 0.0, 0.20789473684210558, 0.3657894736842109, 0.45789473684210513, 0.2552631578947371, 0.1105263157894738, 0.13947368421052664, 0.3657894736842109, 0.5315789473684216, 0.2210526315789476, 0.2736842105263162, 0.3684210526315792, 0.20000000000000018, 0.3526315789473684, 0.26578947368421035, 0.4815789473684209, 0.4868421052631584, 0.4684210526315793, 0.43947368421052646, 0.38947368421052664, 0.4131578947368424, 0.3210526315789477, 0.3947368421052633, 0.6473684210526316, 0.47631578947368425, 0.5, 0.6131578947368421, 0.655263157894737, 0.6815789473684211, 0.3210526315789477, 0.560526315789474, 0.7500000000000004, 0.48421052631578965, 0.6026315789473689, 0.5394736842105265, 0.6499999999999999, 0.4631578947368422, 0.5473684210526315, 0.5789473684210531, 0.4078947368421053, 0.5631578947368423, 0.7394736842105263, 0.37368421052631584, 0.8710526315789475, 0.6447368421052633, 0.3500000000000001, 0.7000000000000002, 0.47894736842105257, 0.5078947368421058, 0.7236842105263159, 0.7105263157894739, 0.6368421052631579, 0.4710526315789476, 0.6710526315789473, 0.6236842105263158, 0.3078947368421052, 0.45789473684210513, 0.823684210526316, 0.7052631578947373, 0.6236842105263158, 0.5894736842105264, 0.5631578947368423, 0.8157894736842106], \"z\": [0.5613409415121255, 0.5506419400855921, 0.6469329529243938, 0.8573466476462198, 0.3259629101283881, 0.8359486447931527, 0.7218259629101285, 0.725392296718973, 0.5470756062767476, 0.5470756062767476, 0.8787446504992867, 0.7146932952924394, 0.7432239657631955, 0.6219686162624822, 0.9051355206847361, 0.7360912981455064, 0.7146932952924394, 0.6077032810271041, 1.0, 0.40442225392296727, 0.35805991440798857, 0.35092724679029963, 0.5399429386590585, 0.5256776034236805, 0.40442225392296727, 0.3937232524964337, 0.6540656205420827, 0.7182596291012839, 0.4543509272467904, 0.5399429386590585, 0.7182596291012839, 0.8823109843081313, 0.5078459343794579, 0.6825962910128388, 0.5827389443651926, 0.4579172610556348, 0.4293865905848788, 0.5898716119828816, 0.529243937232525, 0.3437945791726106, 0.36875891583452214, 0.5399429386590585, 0.5827389443651926, 0.2867332382310984, 0.43295292439372324, 0.5720399429386591, 0.5613409415121255, 0.5042796005706135, 0.557774607703281, 0.7004279600570614, 0.6219686162624822, 0.7039942938659058, 0.6504992867332383, 0.782453637660485, 0.557774607703281, 0.6005706134094152, 0.4935805991440799, 0.7075606276747504, 0.7182596291012839, 0.17261055634807418, 0.2867332382310984, 0.12268188302425106, 0.2510699001426534, 0.10128388017118403, 0.054921540656205386, 0.2853067047075606, 0.15977175463623397, 0.1654778887303852, 0.33666191155492153, 0.31383737517831667, 0.4222539229671898, 0.09415121255349498, 0.13837375178316688, 0.5042796005706135, 0.4336661911554922, 0.10699001426533525, 0.08131241084165478, 0.15834522111269614, 0.33666191155492153, 0.1319543509272468, 0.0, 0.3109843081312411, 0.2510699001426534, 0.16904422253922965, 0.17261055634807418, 0.12268188302425106, 0.15477888730385161, 0.20256776034236804, 0.2867332382310984, 0.24750356633380885, 0.1440798858773181, 0.12268188302425106, 0.15477888730385161, 0.008559201141226797, 0.047788873038516394, 0.4700427960057062, 0.24750356633380885, 0.10699001426533525, 0.27246790299572043, 0.09129814550641938, 0.30813124108416545, 0.20256776034236804, 0.11412268188302424, 0.09771754636233951, 0.2810271041369472, 0.02639087018544936, 0.1654778887303852, 0.14978601997146931, 0.02425106990014264, 0.2867332382310984, 0.20256776034236804, 0.033523537803138354, 0.23466476462196864, 0.11126961483594863, 0.07631954350927247, 0.09201141226818829, 0.15477888730385161, 0.047788873038516394, 0.06704707560627673, 0.20399429386590587, 0.24750356633380885, 0.13338088445078458, 0.062054208273894434, 0.07275320970042795, 0.07275320970042795, 0.07132667617689017, 0.052781740370898694, 0.1340941512125535, 0.0456490727532097, 0.21540656205420824, 0.2510699001426534, 0.17974322396576317, 0.20114122681883026, 0.22967189728958629, 0.2653352353780314, 0.297432239657632, 0.3152639087018545, 0.16904422253922965, 0.21540656205420824, 0.2225392296718973, 0.22967189728958629, 0.35805991440798857, 0.17261055634807418, 0.1940085592011412, 0.4115549215406562, 0.3937232524964337, 0.09771754636233951, 0.24750356633380885, 0.2653352353780314, 0.1940085592011412, 0.15834522111269614, 0.1440798858773181, 0.1048502139800285, 0.2831669044222539, 0.25820256776034234, 0.318830242510699, 0.1440798858773181, 0.4293865905848788, 0.27246790299572043, 0.24393723252496433, 0.17261055634807418, 0.2867332382310984, 0.20827389443651925, 0.2831669044222539, 0.2403708987161198, 0.17261055634807418, 0.297432239657632, 0.29029957203994294, 0.33666191155492153, 0.2510699001426534, 0.1654778887303852, 0.1369472182596291, 0.27246790299572043, 0.3295292439372326, 0.33666191155492153, 0.3972895863052782, 0.40085592011412274, 0.20114122681883026]}],\n",
       "                        {\"template\": {\"data\": {\"bar\": [{\"error_x\": {\"color\": \"#2a3f5f\"}, \"error_y\": {\"color\": \"#2a3f5f\"}, \"marker\": {\"line\": {\"color\": \"#E5ECF6\", \"width\": 0.5}}, \"type\": \"bar\"}], \"barpolar\": [{\"marker\": {\"line\": {\"color\": \"#E5ECF6\", \"width\": 0.5}}, \"type\": \"barpolar\"}], \"carpet\": [{\"aaxis\": {\"endlinecolor\": \"#2a3f5f\", \"gridcolor\": \"white\", \"linecolor\": \"white\", \"minorgridcolor\": \"white\", \"startlinecolor\": \"#2a3f5f\"}, \"baxis\": {\"endlinecolor\": \"#2a3f5f\", \"gridcolor\": \"white\", \"linecolor\": \"white\", \"minorgridcolor\": \"white\", \"startlinecolor\": \"#2a3f5f\"}, \"type\": \"carpet\"}], \"choropleth\": [{\"colorbar\": {\"outlinewidth\": 0, \"ticks\": \"\"}, \"type\": \"choropleth\"}], \"contour\": [{\"colorbar\": {\"outlinewidth\": 0, \"ticks\": \"\"}, \"colorscale\": [[0.0, \"#0d0887\"], [0.1111111111111111, \"#46039f\"], [0.2222222222222222, \"#7201a8\"], [0.3333333333333333, \"#9c179e\"], [0.4444444444444444, \"#bd3786\"], [0.5555555555555556, \"#d8576b\"], [0.6666666666666666, \"#ed7953\"], [0.7777777777777778, \"#fb9f3a\"], [0.8888888888888888, \"#fdca26\"], [1.0, \"#f0f921\"]], \"type\": \"contour\"}], \"contourcarpet\": [{\"colorbar\": {\"outlinewidth\": 0, \"ticks\": \"\"}, \"type\": \"contourcarpet\"}], \"heatmap\": [{\"colorbar\": {\"outlinewidth\": 0, \"ticks\": \"\"}, \"colorscale\": [[0.0, \"#0d0887\"], [0.1111111111111111, \"#46039f\"], [0.2222222222222222, \"#7201a8\"], [0.3333333333333333, \"#9c179e\"], [0.4444444444444444, \"#bd3786\"], [0.5555555555555556, \"#d8576b\"], [0.6666666666666666, \"#ed7953\"], [0.7777777777777778, \"#fb9f3a\"], [0.8888888888888888, \"#fdca26\"], [1.0, \"#f0f921\"]], \"type\": \"heatmap\"}], \"heatmapgl\": [{\"colorbar\": {\"outlinewidth\": 0, \"ticks\": \"\"}, \"colorscale\": [[0.0, \"#0d0887\"], [0.1111111111111111, \"#46039f\"], [0.2222222222222222, \"#7201a8\"], [0.3333333333333333, \"#9c179e\"], [0.4444444444444444, \"#bd3786\"], [0.5555555555555556, \"#d8576b\"], [0.6666666666666666, \"#ed7953\"], [0.7777777777777778, \"#fb9f3a\"], [0.8888888888888888, \"#fdca26\"], [1.0, \"#f0f921\"]], \"type\": \"heatmapgl\"}], \"histogram\": [{\"marker\": {\"colorbar\": {\"outlinewidth\": 0, \"ticks\": \"\"}}, \"type\": \"histogram\"}], \"histogram2d\": [{\"colorbar\": {\"outlinewidth\": 0, \"ticks\": \"\"}, \"colorscale\": [[0.0, \"#0d0887\"], [0.1111111111111111, \"#46039f\"], [0.2222222222222222, \"#7201a8\"], [0.3333333333333333, \"#9c179e\"], [0.4444444444444444, \"#bd3786\"], [0.5555555555555556, \"#d8576b\"], [0.6666666666666666, \"#ed7953\"], [0.7777777777777778, \"#fb9f3a\"], [0.8888888888888888, \"#fdca26\"], [1.0, \"#f0f921\"]], \"type\": \"histogram2d\"}], \"histogram2dcontour\": [{\"colorbar\": {\"outlinewidth\": 0, \"ticks\": \"\"}, \"colorscale\": [[0.0, \"#0d0887\"], [0.1111111111111111, \"#46039f\"], [0.2222222222222222, \"#7201a8\"], [0.3333333333333333, \"#9c179e\"], [0.4444444444444444, \"#bd3786\"], [0.5555555555555556, \"#d8576b\"], [0.6666666666666666, \"#ed7953\"], [0.7777777777777778, \"#fb9f3a\"], [0.8888888888888888, \"#fdca26\"], [1.0, \"#f0f921\"]], \"type\": \"histogram2dcontour\"}], \"mesh3d\": [{\"colorbar\": {\"outlinewidth\": 0, \"ticks\": \"\"}, \"type\": \"mesh3d\"}], \"parcoords\": [{\"line\": {\"colorbar\": {\"outlinewidth\": 0, \"ticks\": \"\"}}, \"type\": \"parcoords\"}], \"scatter\": [{\"marker\": {\"colorbar\": {\"outlinewidth\": 0, \"ticks\": \"\"}}, \"type\": \"scatter\"}], \"scatter3d\": [{\"line\": {\"colorbar\": {\"outlinewidth\": 0, \"ticks\": \"\"}}, \"marker\": {\"colorbar\": {\"outlinewidth\": 0, \"ticks\": \"\"}}, \"type\": \"scatter3d\"}], \"scattercarpet\": [{\"marker\": {\"colorbar\": {\"outlinewidth\": 0, \"ticks\": \"\"}}, \"type\": \"scattercarpet\"}], \"scattergeo\": [{\"marker\": {\"colorbar\": {\"outlinewidth\": 0, \"ticks\": \"\"}}, \"type\": \"scattergeo\"}], \"scattergl\": [{\"marker\": {\"colorbar\": {\"outlinewidth\": 0, \"ticks\": \"\"}}, \"type\": \"scattergl\"}], \"scattermapbox\": [{\"marker\": {\"colorbar\": {\"outlinewidth\": 0, \"ticks\": \"\"}}, \"type\": \"scattermapbox\"}], \"scatterpolar\": [{\"marker\": {\"colorbar\": {\"outlinewidth\": 0, \"ticks\": \"\"}}, \"type\": \"scatterpolar\"}], \"scatterpolargl\": [{\"marker\": {\"colorbar\": {\"outlinewidth\": 0, \"ticks\": \"\"}}, \"type\": \"scatterpolargl\"}], \"scatterternary\": [{\"marker\": {\"colorbar\": {\"outlinewidth\": 0, \"ticks\": \"\"}}, \"type\": \"scatterternary\"}], \"surface\": [{\"colorbar\": {\"outlinewidth\": 0, \"ticks\": \"\"}, \"colorscale\": [[0.0, \"#0d0887\"], [0.1111111111111111, \"#46039f\"], [0.2222222222222222, \"#7201a8\"], [0.3333333333333333, \"#9c179e\"], [0.4444444444444444, \"#bd3786\"], [0.5555555555555556, \"#d8576b\"], [0.6666666666666666, \"#ed7953\"], [0.7777777777777778, \"#fb9f3a\"], [0.8888888888888888, \"#fdca26\"], [1.0, \"#f0f921\"]], \"type\": \"surface\"}], \"table\": [{\"cells\": {\"fill\": {\"color\": \"#EBF0F8\"}, \"line\": {\"color\": \"white\"}}, \"header\": {\"fill\": {\"color\": \"#C8D4E3\"}, \"line\": {\"color\": \"white\"}}, \"type\": \"table\"}]}, \"layout\": {\"annotationdefaults\": {\"arrowcolor\": \"#2a3f5f\", \"arrowhead\": 0, \"arrowwidth\": 1}, \"colorscale\": {\"diverging\": [[0, \"#8e0152\"], [0.1, \"#c51b7d\"], [0.2, \"#de77ae\"], [0.3, \"#f1b6da\"], [0.4, \"#fde0ef\"], [0.5, \"#f7f7f7\"], [0.6, \"#e6f5d0\"], [0.7, \"#b8e186\"], [0.8, \"#7fbc41\"], [0.9, \"#4d9221\"], [1, \"#276419\"]], \"sequential\": [[0.0, \"#0d0887\"], [0.1111111111111111, \"#46039f\"], [0.2222222222222222, \"#7201a8\"], [0.3333333333333333, \"#9c179e\"], [0.4444444444444444, \"#bd3786\"], [0.5555555555555556, \"#d8576b\"], [0.6666666666666666, \"#ed7953\"], [0.7777777777777778, \"#fb9f3a\"], [0.8888888888888888, \"#fdca26\"], [1.0, \"#f0f921\"]], \"sequentialminus\": [[0.0, \"#0d0887\"], [0.1111111111111111, \"#46039f\"], [0.2222222222222222, \"#7201a8\"], [0.3333333333333333, \"#9c179e\"], [0.4444444444444444, \"#bd3786\"], [0.5555555555555556, \"#d8576b\"], [0.6666666666666666, \"#ed7953\"], [0.7777777777777778, \"#fb9f3a\"], [0.8888888888888888, \"#fdca26\"], [1.0, \"#f0f921\"]]}, \"colorway\": [\"#636efa\", \"#EF553B\", \"#00cc96\", \"#ab63fa\", \"#FFA15A\", \"#19d3f3\", \"#FF6692\", \"#B6E880\", \"#FF97FF\", \"#FECB52\"], \"font\": {\"color\": \"#2a3f5f\"}, \"geo\": {\"bgcolor\": \"white\", \"lakecolor\": \"white\", \"landcolor\": \"#E5ECF6\", \"showlakes\": true, \"showland\": true, \"subunitcolor\": \"white\"}, \"hoverlabel\": {\"align\": \"left\"}, \"hovermode\": \"closest\", \"mapbox\": {\"style\": \"light\"}, \"paper_bgcolor\": \"white\", \"plot_bgcolor\": \"#E5ECF6\", \"polar\": {\"angularaxis\": {\"gridcolor\": \"white\", \"linecolor\": \"white\", \"ticks\": \"\"}, \"bgcolor\": \"#E5ECF6\", \"radialaxis\": {\"gridcolor\": \"white\", \"linecolor\": \"white\", \"ticks\": \"\"}}, \"scene\": {\"xaxis\": {\"backgroundcolor\": \"#E5ECF6\", \"gridcolor\": \"white\", \"gridwidth\": 2, \"linecolor\": \"white\", \"showbackground\": true, \"ticks\": \"\", \"zerolinecolor\": \"white\"}, \"yaxis\": {\"backgroundcolor\": \"#E5ECF6\", \"gridcolor\": \"white\", \"gridwidth\": 2, \"linecolor\": \"white\", \"showbackground\": true, \"ticks\": \"\", \"zerolinecolor\": \"white\"}, \"zaxis\": {\"backgroundcolor\": \"#E5ECF6\", \"gridcolor\": \"white\", \"gridwidth\": 2, \"linecolor\": \"white\", \"showbackground\": true, \"ticks\": \"\", \"zerolinecolor\": \"white\"}}, \"shapedefaults\": {\"line\": {\"color\": \"#2a3f5f\"}}, \"ternary\": {\"aaxis\": {\"gridcolor\": \"white\", \"linecolor\": \"white\", \"ticks\": \"\"}, \"baxis\": {\"gridcolor\": \"white\", \"linecolor\": \"white\", \"ticks\": \"\"}, \"bgcolor\": \"#E5ECF6\", \"caxis\": {\"gridcolor\": \"white\", \"linecolor\": \"white\", \"ticks\": \"\"}}, \"title\": {\"x\": 0.05}, \"xaxis\": {\"automargin\": true, \"gridcolor\": \"white\", \"linecolor\": \"white\", \"ticks\": \"\", \"zerolinecolor\": \"white\", \"zerolinewidth\": 2}, \"yaxis\": {\"automargin\": true, \"gridcolor\": \"white\", \"linecolor\": \"white\", \"ticks\": \"\", \"zerolinecolor\": \"white\", \"zerolinewidth\": 2}}}},\n",
       "                        {\"responsive\": true}\n",
       "                    ).then(function(){\n",
       "                            \n",
       "var gd = document.getElementById('8c5de13a-a64c-4043-85c6-140747d8ab56');\n",
       "var x = new MutationObserver(function (mutations, observer) {{\n",
       "        var display = window.getComputedStyle(gd).display;\n",
       "        if (!display || display === 'none') {{\n",
       "            console.log([gd, 'removed!']);\n",
       "            Plotly.purge(gd);\n",
       "            observer.disconnect();\n",
       "        }}\n",
       "}});\n",
       "\n",
       "// Listen for the removal of the full notebook cells\n",
       "var notebookContainer = gd.closest('#notebook-container');\n",
       "if (notebookContainer) {{\n",
       "    x.observe(notebookContainer, {childList: true});\n",
       "}}\n",
       "\n",
       "// Listen for the clearing of the current output cell\n",
       "var outputEl = gd.closest('.output');\n",
       "if (outputEl) {{\n",
       "    x.observe(outputEl, {childList: true});\n",
       "}}\n",
       "\n",
       "                        })\n",
       "                };\n",
       "                });\n",
       "            </script>\n",
       "        </div>"
      ]
     },
     "metadata": {},
     "output_type": "display_data"
    },
    {
     "data": {
      "application/vnd.plotly.v1+json": {
       "config": {
        "plotlyServerURL": "https://plot.ly"
       },
       "data": [
        {
         "marker": {
          "color": [
           1,
           1,
           1,
           1,
           1,
           1,
           1,
           1,
           1,
           1,
           1,
           1,
           1,
           1,
           1,
           1,
           1,
           1,
           1,
           1,
           1,
           1,
           1,
           1,
           1,
           1,
           1,
           1,
           1,
           1,
           1,
           1,
           1,
           1,
           1,
           1,
           1,
           1,
           1,
           1,
           1,
           1,
           1,
           1,
           1,
           1,
           1,
           1,
           1,
           1,
           1,
           1,
           1,
           1,
           1,
           1,
           1,
           1,
           1,
           2,
           2,
           2,
           2,
           2,
           2,
           2,
           2,
           2,
           2,
           2,
           2,
           2,
           2,
           1,
           2,
           2,
           2,
           2,
           2,
           2,
           2,
           2,
           2,
           0,
           2,
           2,
           2,
           2,
           2,
           2,
           2,
           2,
           2,
           2,
           2,
           2,
           2,
           2,
           2,
           2,
           2,
           2,
           2,
           2,
           2,
           2,
           2,
           2,
           2,
           2,
           2,
           2,
           2,
           2,
           2,
           2,
           2,
           2,
           2,
           2,
           2,
           2,
           2,
           2,
           2,
           2,
           2,
           2,
           2,
           2,
           0,
           0,
           0,
           0,
           0,
           0,
           0,
           0,
           0,
           0,
           0,
           0,
           0,
           0,
           0,
           0,
           0,
           0,
           0,
           0,
           0,
           0,
           0,
           0,
           0,
           0,
           0,
           0,
           0,
           0,
           0,
           0,
           0,
           0,
           0,
           0,
           0,
           0,
           0,
           0,
           0,
           0,
           0,
           0,
           0,
           0,
           0,
           0
          ]
         },
         "mode": "markers",
         "text": [
          1,
          1,
          1,
          1,
          1,
          1,
          1,
          1,
          1,
          1,
          1,
          1,
          1,
          1,
          1,
          1,
          1,
          1,
          1,
          1,
          1,
          1,
          1,
          1,
          1,
          1,
          1,
          1,
          1,
          1,
          1,
          1,
          1,
          1,
          1,
          1,
          1,
          1,
          1,
          1,
          1,
          1,
          1,
          1,
          1,
          1,
          1,
          1,
          1,
          1,
          1,
          1,
          1,
          1,
          1,
          1,
          1,
          1,
          1,
          2,
          2,
          2,
          2,
          2,
          2,
          2,
          2,
          2,
          2,
          2,
          2,
          2,
          2,
          1,
          2,
          2,
          2,
          2,
          2,
          2,
          2,
          2,
          2,
          0,
          2,
          2,
          2,
          2,
          2,
          2,
          2,
          2,
          2,
          2,
          2,
          2,
          2,
          2,
          2,
          2,
          2,
          2,
          2,
          2,
          2,
          2,
          2,
          2,
          2,
          2,
          2,
          2,
          2,
          2,
          2,
          2,
          2,
          2,
          2,
          2,
          2,
          2,
          2,
          2,
          2,
          2,
          2,
          2,
          2,
          2,
          0,
          0,
          0,
          0,
          0,
          0,
          0,
          0,
          0,
          0,
          0,
          0,
          0,
          0,
          0,
          0,
          0,
          0,
          0,
          0,
          0,
          0,
          0,
          0,
          0,
          0,
          0,
          0,
          0,
          0,
          0,
          0,
          0,
          0,
          0,
          0,
          0,
          0,
          0,
          0,
          0,
          0,
          0,
          0,
          0,
          0,
          0,
          0
         ],
         "type": "scatter3d",
         "x": [
          0.3720136518771331,
          0.26450511945392485,
          0.3754266211604095,
          0.5563139931740614,
          0.2593856655290102,
          0.4667235494880546,
          0.3387372013651877,
          0.3216723549488054,
          0.33447098976109213,
          0.5068259385665529,
          0.3813993174061433,
          0.31740614334470985,
          0.3686006825938566,
          0.3515358361774744,
          0.5307167235494881,
          0.5136518771331058,
          0.41979522184300344,
          0.4539249146757679,
          0.6331058020477814,
          0.325938566552901,
          0.37286689419795227,
          0.27474402730375425,
          0.21501706484641633,
          0.22610921501706485,
          0.1911262798634812,
          0.1962457337883959,
          0.30034129692832756,
          0.22781569965870305,
          0.27474402730375425,
          0.29180887372013653,
          0.37713310580204773,
          0.4795221843003413,
          0.21843003412969278,
          0.3515358361774744,
          0.2491467576791809,
          0.325938566552901,
          0.2832764505119454,
          0.2534129692832764,
          0.20648464163822525,
          0.325938566552901,
          0.4138225255972696,
          0.2559726962457338,
          0.35409556313993173,
          0.2627986348122867,
          0.32081911262798635,
          0.33788395904436863,
          0.3088737201365188,
          0.4112627986348123,
          0.41979522184300344,
          0.6501706484641638,
          0.5051194539249146,
          0.3686006825938566,
          0.4923208191126279,
          0.42832764505119447,
          0.38993174061433444,
          0.424061433447099,
          0.4351535836177475,
          0.40273037542662116,
          0.4709897610921502,
          0.057167235494880536,
          0.1697952218430034,
          0.3813993174061433,
          0.21501706484641633,
          0.2704778156996587,
          0.1424914675767918,
          0.2832764505119454,
          0.3430034129692833,
          0.2901023890784983,
          0.16126279863481227,
          0.13395904436860068,
          0.15102389078498293,
          0.17918088737201363,
          0.2098976109215017,
          0.1766211604095563,
          0.16467576791808872,
          0.21501706484641633,
          0.2832764505119454,
          0.11689419795221842,
          0.18088737201365188,
          0.1100682593856655,
          0.10409556313993173,
          0.22354948805460748,
          0.07849829351535836,
          0.30034129692832756,
          0.15102389078498293,
          0.1143344709897611,
          0.09982935153583619,
          0.11262798634812288,
          0.1296928327645051,
          0.03924914675767918,
          0.09556313993174059,
          0.1979522184300341,
          0.15102389078498293,
          0.07423208191126279,
          0.16808873720136516,
          0.11262798634812288,
          0.10409556313993173,
          0.13822525597269622,
          0.27474402730375425,
          0.08703071672354948,
          0.17235494880546073,
          0.09982935153583619,
          0.1296928327645051,
          0.06655290102389078,
          0.14163822525597267,
          0.12116040955631399,
          0.18088737201365188,
          0.17235494880546073,
          0.12116040955631399,
          0.11689419795221842,
          0.13822525597269622,
          0.06143344709897611,
          0.21501706484641633,
          0.15358361774744025,
          0.13822525597269622,
          0.052901023890784965,
          0.057167235494880536,
          0.06655290102389078,
          0.18088737201365188,
          0,
          0.16808873720136516,
          0.40273037542662116,
          0.06825938566552903,
          0.11262798634812288,
          0.1296928327645051,
          0.12627986348122863,
          0.22696245733788392,
          0.14675767918088736,
          0.07167235494880547,
          0.11262798634812288,
          0.2406143344709897,
          0.3515358361774744,
          0.37713310580204773,
          0.31740614334470985,
          0.35580204778157,
          0.4965870307167235,
          0.21928327645051196,
          0.31740614334470985,
          0.37713310580204773,
          0.31058020477815695,
          0.2832764505119454,
          0.3686006825938566,
          0.26194539249146753,
          0.2662116040955631,
          0.5912969283276451,
          0.23208191126279862,
          0.3088737201365188,
          0.5435153583617748,
          0.6092150170648464,
          0.6928327645051194,
          0.6245733788395904,
          0.8122866894197952,
          0.4965870307167235,
          0.78839590443686,
          0.5392491467576791,
          0.5648464163822525,
          0.659556313993174,
          0.5307167235494881,
          0.9999999999999999,
          0.893344709897611,
          0.5435153583617748,
          0.39249146757679176,
          0.36689419795221845,
          0.341296928327645,
          0.7081911262798635,
          0.45563139931740615,
          0.8020477815699658,
          0.7662116040955631,
          0.6296928327645052,
          0.6160409556313993,
          0.36006825938566556,
          0.735494795221843,
          0.7184300341296928,
          0.5477815699658704,
          0.5136518771331058,
          0.7610921501706484,
          0.6843003412969284,
          0.6757679180887372
         ],
         "y": [
          0.8421052631578951,
          0.5710526315789473,
          0.560526315789474,
          0.8789473684210525,
          0.5815789473684214,
          0.8342105263157893,
          0.8842105263157896,
          0.797368421052632,
          1,
          0.7447368421052629,
          0.8078947368421052,
          0.8131578947368419,
          0.7157894736842105,
          0.9789473684210526,
          0.8815789473684212,
          0.6842105263157898,
          0.8605263157894738,
          0.736842105263158,
          0.831578947368421,
          0.6868421052631581,
          0.797368421052632,
          0.5,
          0.7052631578947373,
          0.47894736842105257,
          0.6499999999999999,
          0.5315789473684216,
          0.6210526315789475,
          0.5973684210526318,
          0.7473684210526317,
          0.7868421052631578,
          0.7105263157894739,
          0.6710526315789473,
          0.6973684210526314,
          0.7184210526315788,
          0.6526315789473687,
          0.6447368421052633,
          0.5921052631578947,
          0.5315789473684216,
          0.5368421052631582,
          0.8394736842105264,
          0.6657894736842107,
          0.6263157894736846,
          0.7500000000000004,
          0.5815789473684214,
          0.5315789473684216,
          0.836842105263158,
          0.8815789473684212,
          0.7552631578947371,
          0.8078947368421052,
          0.7657894736842104,
          0.5315789473684216,
          0.736842105263158,
          0.7342105263157896,
          0.7210526315789472,
          0.7131578947368422,
          0.6657894736842107,
          0.8394736842105264,
          0.594736842105263,
          0.7078947368421056,
          0.3526315789473684,
          0.34210526315789513,
          0.4236842105263161,
          0.6947368421052631,
          0.3526315789473684,
          0.30000000000000027,
          0.3526315789473684,
          0.5473684210526315,
          0.3526315789473684,
          0.6078947368421055,
          0.310526315789474,
          0.331578947368421,
          0.7447368421052629,
          0.6473684210526316,
          0.5157894736842108,
          0.2447368421052638,
          0.1657894736842107,
          0.5263157894736841,
          0.2131578947368422,
          0.34210526315789513,
          0.43947368421052646,
          0.2552631578947371,
          0.44473684210526354,
          0.2763157894736845,
          0.5315789473684216,
          0.2131578947368422,
          0.43157894736842106,
          0.29736842105263195,
          0.1631578947368424,
          0.16052631578947407,
          0.2763157894736845,
          0.2763157894736845,
          0.2552631578947371,
          0.43684210526315814,
          0.331578947368421,
          0.155263157894737,
          0.3789473684210529,
          0.20526315789473726,
          0.331578947368421,
          0.3526315789473684,
          0.331578947368421,
          0.2763157894736845,
          0.4131578947368424,
          0.34473684210526345,
          0.20789473684210558,
          0.38947368421052664,
          0.3657894736842109,
          0.3210526315789477,
          0.44473684210526354,
          0.3131578947368423,
          0.15263157894736867,
          0.11315789473684257,
          0.39210526315789496,
          0.19210526315789478,
          0.10000000000000053,
          0.2763157894736845,
          0,
          0.20789473684210558,
          0.3657894736842109,
          0.45789473684210513,
          0.2552631578947371,
          0.1105263157894738,
          0.13947368421052664,
          0.3657894736842109,
          0.5315789473684216,
          0.2210526315789476,
          0.2736842105263162,
          0.3684210526315792,
          0.20000000000000018,
          0.3526315789473684,
          0.26578947368421035,
          0.4815789473684209,
          0.4868421052631584,
          0.4684210526315793,
          0.43947368421052646,
          0.38947368421052664,
          0.4131578947368424,
          0.3210526315789477,
          0.3947368421052633,
          0.6473684210526316,
          0.47631578947368425,
          0.5,
          0.6131578947368421,
          0.655263157894737,
          0.6815789473684211,
          0.3210526315789477,
          0.560526315789474,
          0.7500000000000004,
          0.48421052631578965,
          0.6026315789473689,
          0.5394736842105265,
          0.6499999999999999,
          0.4631578947368422,
          0.5473684210526315,
          0.5789473684210531,
          0.4078947368421053,
          0.5631578947368423,
          0.7394736842105263,
          0.37368421052631584,
          0.8710526315789475,
          0.6447368421052633,
          0.3500000000000001,
          0.7000000000000002,
          0.47894736842105257,
          0.5078947368421058,
          0.7236842105263159,
          0.7105263157894739,
          0.6368421052631579,
          0.4710526315789476,
          0.6710526315789473,
          0.6236842105263158,
          0.3078947368421052,
          0.45789473684210513,
          0.823684210526316,
          0.7052631578947373,
          0.6236842105263158,
          0.5894736842105264,
          0.5631578947368423,
          0.8157894736842106
         ],
         "z": [
          0.5613409415121255,
          0.5506419400855921,
          0.6469329529243938,
          0.8573466476462198,
          0.3259629101283881,
          0.8359486447931527,
          0.7218259629101285,
          0.725392296718973,
          0.5470756062767476,
          0.5470756062767476,
          0.8787446504992867,
          0.7146932952924394,
          0.7432239657631955,
          0.6219686162624822,
          0.9051355206847361,
          0.7360912981455064,
          0.7146932952924394,
          0.6077032810271041,
          1,
          0.40442225392296727,
          0.35805991440798857,
          0.35092724679029963,
          0.5399429386590585,
          0.5256776034236805,
          0.40442225392296727,
          0.3937232524964337,
          0.6540656205420827,
          0.7182596291012839,
          0.4543509272467904,
          0.5399429386590585,
          0.7182596291012839,
          0.8823109843081313,
          0.5078459343794579,
          0.6825962910128388,
          0.5827389443651926,
          0.4579172610556348,
          0.4293865905848788,
          0.5898716119828816,
          0.529243937232525,
          0.3437945791726106,
          0.36875891583452214,
          0.5399429386590585,
          0.5827389443651926,
          0.2867332382310984,
          0.43295292439372324,
          0.5720399429386591,
          0.5613409415121255,
          0.5042796005706135,
          0.557774607703281,
          0.7004279600570614,
          0.6219686162624822,
          0.7039942938659058,
          0.6504992867332383,
          0.782453637660485,
          0.557774607703281,
          0.6005706134094152,
          0.4935805991440799,
          0.7075606276747504,
          0.7182596291012839,
          0.17261055634807418,
          0.2867332382310984,
          0.12268188302425106,
          0.2510699001426534,
          0.10128388017118403,
          0.054921540656205386,
          0.2853067047075606,
          0.15977175463623397,
          0.1654778887303852,
          0.33666191155492153,
          0.31383737517831667,
          0.4222539229671898,
          0.09415121255349498,
          0.13837375178316688,
          0.5042796005706135,
          0.4336661911554922,
          0.10699001426533525,
          0.08131241084165478,
          0.15834522111269614,
          0.33666191155492153,
          0.1319543509272468,
          0,
          0.3109843081312411,
          0.2510699001426534,
          0.16904422253922965,
          0.17261055634807418,
          0.12268188302425106,
          0.15477888730385161,
          0.20256776034236804,
          0.2867332382310984,
          0.24750356633380885,
          0.1440798858773181,
          0.12268188302425106,
          0.15477888730385161,
          0.008559201141226797,
          0.047788873038516394,
          0.4700427960057062,
          0.24750356633380885,
          0.10699001426533525,
          0.27246790299572043,
          0.09129814550641938,
          0.30813124108416545,
          0.20256776034236804,
          0.11412268188302424,
          0.09771754636233951,
          0.2810271041369472,
          0.02639087018544936,
          0.1654778887303852,
          0.14978601997146931,
          0.02425106990014264,
          0.2867332382310984,
          0.20256776034236804,
          0.033523537803138354,
          0.23466476462196864,
          0.11126961483594863,
          0.07631954350927247,
          0.09201141226818829,
          0.15477888730385161,
          0.047788873038516394,
          0.06704707560627673,
          0.20399429386590587,
          0.24750356633380885,
          0.13338088445078458,
          0.062054208273894434,
          0.07275320970042795,
          0.07275320970042795,
          0.07132667617689017,
          0.052781740370898694,
          0.1340941512125535,
          0.0456490727532097,
          0.21540656205420824,
          0.2510699001426534,
          0.17974322396576317,
          0.20114122681883026,
          0.22967189728958629,
          0.2653352353780314,
          0.297432239657632,
          0.3152639087018545,
          0.16904422253922965,
          0.21540656205420824,
          0.2225392296718973,
          0.22967189728958629,
          0.35805991440798857,
          0.17261055634807418,
          0.1940085592011412,
          0.4115549215406562,
          0.3937232524964337,
          0.09771754636233951,
          0.24750356633380885,
          0.2653352353780314,
          0.1940085592011412,
          0.15834522111269614,
          0.1440798858773181,
          0.1048502139800285,
          0.2831669044222539,
          0.25820256776034234,
          0.318830242510699,
          0.1440798858773181,
          0.4293865905848788,
          0.27246790299572043,
          0.24393723252496433,
          0.17261055634807418,
          0.2867332382310984,
          0.20827389443651925,
          0.2831669044222539,
          0.2403708987161198,
          0.17261055634807418,
          0.297432239657632,
          0.29029957203994294,
          0.33666191155492153,
          0.2510699001426534,
          0.1654778887303852,
          0.1369472182596291,
          0.27246790299572043,
          0.3295292439372326,
          0.33666191155492153,
          0.3972895863052782,
          0.40085592011412274,
          0.20114122681883026
         ]
        }
       ],
       "layout": {
        "template": {
         "data": {
          "bar": [
           {
            "error_x": {
             "color": "#2a3f5f"
            },
            "error_y": {
             "color": "#2a3f5f"
            },
            "marker": {
             "line": {
              "color": "#E5ECF6",
              "width": 0.5
             }
            },
            "type": "bar"
           }
          ],
          "barpolar": [
           {
            "marker": {
             "line": {
              "color": "#E5ECF6",
              "width": 0.5
             }
            },
            "type": "barpolar"
           }
          ],
          "carpet": [
           {
            "aaxis": {
             "endlinecolor": "#2a3f5f",
             "gridcolor": "white",
             "linecolor": "white",
             "minorgridcolor": "white",
             "startlinecolor": "#2a3f5f"
            },
            "baxis": {
             "endlinecolor": "#2a3f5f",
             "gridcolor": "white",
             "linecolor": "white",
             "minorgridcolor": "white",
             "startlinecolor": "#2a3f5f"
            },
            "type": "carpet"
           }
          ],
          "choropleth": [
           {
            "colorbar": {
             "outlinewidth": 0,
             "ticks": ""
            },
            "type": "choropleth"
           }
          ],
          "contour": [
           {
            "colorbar": {
             "outlinewidth": 0,
             "ticks": ""
            },
            "colorscale": [
             [
              0,
              "#0d0887"
             ],
             [
              0.1111111111111111,
              "#46039f"
             ],
             [
              0.2222222222222222,
              "#7201a8"
             ],
             [
              0.3333333333333333,
              "#9c179e"
             ],
             [
              0.4444444444444444,
              "#bd3786"
             ],
             [
              0.5555555555555556,
              "#d8576b"
             ],
             [
              0.6666666666666666,
              "#ed7953"
             ],
             [
              0.7777777777777778,
              "#fb9f3a"
             ],
             [
              0.8888888888888888,
              "#fdca26"
             ],
             [
              1,
              "#f0f921"
             ]
            ],
            "type": "contour"
           }
          ],
          "contourcarpet": [
           {
            "colorbar": {
             "outlinewidth": 0,
             "ticks": ""
            },
            "type": "contourcarpet"
           }
          ],
          "heatmap": [
           {
            "colorbar": {
             "outlinewidth": 0,
             "ticks": ""
            },
            "colorscale": [
             [
              0,
              "#0d0887"
             ],
             [
              0.1111111111111111,
              "#46039f"
             ],
             [
              0.2222222222222222,
              "#7201a8"
             ],
             [
              0.3333333333333333,
              "#9c179e"
             ],
             [
              0.4444444444444444,
              "#bd3786"
             ],
             [
              0.5555555555555556,
              "#d8576b"
             ],
             [
              0.6666666666666666,
              "#ed7953"
             ],
             [
              0.7777777777777778,
              "#fb9f3a"
             ],
             [
              0.8888888888888888,
              "#fdca26"
             ],
             [
              1,
              "#f0f921"
             ]
            ],
            "type": "heatmap"
           }
          ],
          "heatmapgl": [
           {
            "colorbar": {
             "outlinewidth": 0,
             "ticks": ""
            },
            "colorscale": [
             [
              0,
              "#0d0887"
             ],
             [
              0.1111111111111111,
              "#46039f"
             ],
             [
              0.2222222222222222,
              "#7201a8"
             ],
             [
              0.3333333333333333,
              "#9c179e"
             ],
             [
              0.4444444444444444,
              "#bd3786"
             ],
             [
              0.5555555555555556,
              "#d8576b"
             ],
             [
              0.6666666666666666,
              "#ed7953"
             ],
             [
              0.7777777777777778,
              "#fb9f3a"
             ],
             [
              0.8888888888888888,
              "#fdca26"
             ],
             [
              1,
              "#f0f921"
             ]
            ],
            "type": "heatmapgl"
           }
          ],
          "histogram": [
           {
            "marker": {
             "colorbar": {
              "outlinewidth": 0,
              "ticks": ""
             }
            },
            "type": "histogram"
           }
          ],
          "histogram2d": [
           {
            "colorbar": {
             "outlinewidth": 0,
             "ticks": ""
            },
            "colorscale": [
             [
              0,
              "#0d0887"
             ],
             [
              0.1111111111111111,
              "#46039f"
             ],
             [
              0.2222222222222222,
              "#7201a8"
             ],
             [
              0.3333333333333333,
              "#9c179e"
             ],
             [
              0.4444444444444444,
              "#bd3786"
             ],
             [
              0.5555555555555556,
              "#d8576b"
             ],
             [
              0.6666666666666666,
              "#ed7953"
             ],
             [
              0.7777777777777778,
              "#fb9f3a"
             ],
             [
              0.8888888888888888,
              "#fdca26"
             ],
             [
              1,
              "#f0f921"
             ]
            ],
            "type": "histogram2d"
           }
          ],
          "histogram2dcontour": [
           {
            "colorbar": {
             "outlinewidth": 0,
             "ticks": ""
            },
            "colorscale": [
             [
              0,
              "#0d0887"
             ],
             [
              0.1111111111111111,
              "#46039f"
             ],
             [
              0.2222222222222222,
              "#7201a8"
             ],
             [
              0.3333333333333333,
              "#9c179e"
             ],
             [
              0.4444444444444444,
              "#bd3786"
             ],
             [
              0.5555555555555556,
              "#d8576b"
             ],
             [
              0.6666666666666666,
              "#ed7953"
             ],
             [
              0.7777777777777778,
              "#fb9f3a"
             ],
             [
              0.8888888888888888,
              "#fdca26"
             ],
             [
              1,
              "#f0f921"
             ]
            ],
            "type": "histogram2dcontour"
           }
          ],
          "mesh3d": [
           {
            "colorbar": {
             "outlinewidth": 0,
             "ticks": ""
            },
            "type": "mesh3d"
           }
          ],
          "parcoords": [
           {
            "line": {
             "colorbar": {
              "outlinewidth": 0,
              "ticks": ""
             }
            },
            "type": "parcoords"
           }
          ],
          "scatter": [
           {
            "marker": {
             "colorbar": {
              "outlinewidth": 0,
              "ticks": ""
             }
            },
            "type": "scatter"
           }
          ],
          "scatter3d": [
           {
            "line": {
             "colorbar": {
              "outlinewidth": 0,
              "ticks": ""
             }
            },
            "marker": {
             "colorbar": {
              "outlinewidth": 0,
              "ticks": ""
             }
            },
            "type": "scatter3d"
           }
          ],
          "scattercarpet": [
           {
            "marker": {
             "colorbar": {
              "outlinewidth": 0,
              "ticks": ""
             }
            },
            "type": "scattercarpet"
           }
          ],
          "scattergeo": [
           {
            "marker": {
             "colorbar": {
              "outlinewidth": 0,
              "ticks": ""
             }
            },
            "type": "scattergeo"
           }
          ],
          "scattergl": [
           {
            "marker": {
             "colorbar": {
              "outlinewidth": 0,
              "ticks": ""
             }
            },
            "type": "scattergl"
           }
          ],
          "scattermapbox": [
           {
            "marker": {
             "colorbar": {
              "outlinewidth": 0,
              "ticks": ""
             }
            },
            "type": "scattermapbox"
           }
          ],
          "scatterpolar": [
           {
            "marker": {
             "colorbar": {
              "outlinewidth": 0,
              "ticks": ""
             }
            },
            "type": "scatterpolar"
           }
          ],
          "scatterpolargl": [
           {
            "marker": {
             "colorbar": {
              "outlinewidth": 0,
              "ticks": ""
             }
            },
            "type": "scatterpolargl"
           }
          ],
          "scatterternary": [
           {
            "marker": {
             "colorbar": {
              "outlinewidth": 0,
              "ticks": ""
             }
            },
            "type": "scatterternary"
           }
          ],
          "surface": [
           {
            "colorbar": {
             "outlinewidth": 0,
             "ticks": ""
            },
            "colorscale": [
             [
              0,
              "#0d0887"
             ],
             [
              0.1111111111111111,
              "#46039f"
             ],
             [
              0.2222222222222222,
              "#7201a8"
             ],
             [
              0.3333333333333333,
              "#9c179e"
             ],
             [
              0.4444444444444444,
              "#bd3786"
             ],
             [
              0.5555555555555556,
              "#d8576b"
             ],
             [
              0.6666666666666666,
              "#ed7953"
             ],
             [
              0.7777777777777778,
              "#fb9f3a"
             ],
             [
              0.8888888888888888,
              "#fdca26"
             ],
             [
              1,
              "#f0f921"
             ]
            ],
            "type": "surface"
           }
          ],
          "table": [
           {
            "cells": {
             "fill": {
              "color": "#EBF0F8"
             },
             "line": {
              "color": "white"
             }
            },
            "header": {
             "fill": {
              "color": "#C8D4E3"
             },
             "line": {
              "color": "white"
             }
            },
            "type": "table"
           }
          ]
         },
         "layout": {
          "annotationdefaults": {
           "arrowcolor": "#2a3f5f",
           "arrowhead": 0,
           "arrowwidth": 1
          },
          "colorscale": {
           "diverging": [
            [
             0,
             "#8e0152"
            ],
            [
             0.1,
             "#c51b7d"
            ],
            [
             0.2,
             "#de77ae"
            ],
            [
             0.3,
             "#f1b6da"
            ],
            [
             0.4,
             "#fde0ef"
            ],
            [
             0.5,
             "#f7f7f7"
            ],
            [
             0.6,
             "#e6f5d0"
            ],
            [
             0.7,
             "#b8e186"
            ],
            [
             0.8,
             "#7fbc41"
            ],
            [
             0.9,
             "#4d9221"
            ],
            [
             1,
             "#276419"
            ]
           ],
           "sequential": [
            [
             0,
             "#0d0887"
            ],
            [
             0.1111111111111111,
             "#46039f"
            ],
            [
             0.2222222222222222,
             "#7201a8"
            ],
            [
             0.3333333333333333,
             "#9c179e"
            ],
            [
             0.4444444444444444,
             "#bd3786"
            ],
            [
             0.5555555555555556,
             "#d8576b"
            ],
            [
             0.6666666666666666,
             "#ed7953"
            ],
            [
             0.7777777777777778,
             "#fb9f3a"
            ],
            [
             0.8888888888888888,
             "#fdca26"
            ],
            [
             1,
             "#f0f921"
            ]
           ],
           "sequentialminus": [
            [
             0,
             "#0d0887"
            ],
            [
             0.1111111111111111,
             "#46039f"
            ],
            [
             0.2222222222222222,
             "#7201a8"
            ],
            [
             0.3333333333333333,
             "#9c179e"
            ],
            [
             0.4444444444444444,
             "#bd3786"
            ],
            [
             0.5555555555555556,
             "#d8576b"
            ],
            [
             0.6666666666666666,
             "#ed7953"
            ],
            [
             0.7777777777777778,
             "#fb9f3a"
            ],
            [
             0.8888888888888888,
             "#fdca26"
            ],
            [
             1,
             "#f0f921"
            ]
           ]
          },
          "colorway": [
           "#636efa",
           "#EF553B",
           "#00cc96",
           "#ab63fa",
           "#FFA15A",
           "#19d3f3",
           "#FF6692",
           "#B6E880",
           "#FF97FF",
           "#FECB52"
          ],
          "font": {
           "color": "#2a3f5f"
          },
          "geo": {
           "bgcolor": "white",
           "lakecolor": "white",
           "landcolor": "#E5ECF6",
           "showlakes": true,
           "showland": true,
           "subunitcolor": "white"
          },
          "hoverlabel": {
           "align": "left"
          },
          "hovermode": "closest",
          "mapbox": {
           "style": "light"
          },
          "paper_bgcolor": "white",
          "plot_bgcolor": "#E5ECF6",
          "polar": {
           "angularaxis": {
            "gridcolor": "white",
            "linecolor": "white",
            "ticks": ""
           },
           "bgcolor": "#E5ECF6",
           "radialaxis": {
            "gridcolor": "white",
            "linecolor": "white",
            "ticks": ""
           }
          },
          "scene": {
           "xaxis": {
            "backgroundcolor": "#E5ECF6",
            "gridcolor": "white",
            "gridwidth": 2,
            "linecolor": "white",
            "showbackground": true,
            "ticks": "",
            "zerolinecolor": "white"
           },
           "yaxis": {
            "backgroundcolor": "#E5ECF6",
            "gridcolor": "white",
            "gridwidth": 2,
            "linecolor": "white",
            "showbackground": true,
            "ticks": "",
            "zerolinecolor": "white"
           },
           "zaxis": {
            "backgroundcolor": "#E5ECF6",
            "gridcolor": "white",
            "gridwidth": 2,
            "linecolor": "white",
            "showbackground": true,
            "ticks": "",
            "zerolinecolor": "white"
           }
          },
          "shapedefaults": {
           "line": {
            "color": "#2a3f5f"
           }
          },
          "ternary": {
           "aaxis": {
            "gridcolor": "white",
            "linecolor": "white",
            "ticks": ""
           },
           "baxis": {
            "gridcolor": "white",
            "linecolor": "white",
            "ticks": ""
           },
           "bgcolor": "#E5ECF6",
           "caxis": {
            "gridcolor": "white",
            "linecolor": "white",
            "ticks": ""
           }
          },
          "title": {
           "x": 0.05
          },
          "xaxis": {
           "automargin": true,
           "gridcolor": "white",
           "linecolor": "white",
           "ticks": "",
           "zerolinecolor": "white",
           "zerolinewidth": 2
          },
          "yaxis": {
           "automargin": true,
           "gridcolor": "white",
           "linecolor": "white",
           "ticks": "",
           "zerolinecolor": "white",
           "zerolinewidth": 2
          }
         }
        }
       }
      },
      "text/html": [
       "<div>\n",
       "        \n",
       "        \n",
       "            <div id=\"6efe57da-46d1-4d4f-bb21-0e2991d16b10\" class=\"plotly-graph-div\" style=\"height:525px; width:100%;\"></div>\n",
       "            <script type=\"text/javascript\">\n",
       "                require([\"plotly\"], function(Plotly) {\n",
       "                    window.PLOTLYENV=window.PLOTLYENV || {};\n",
       "                    \n",
       "                if (document.getElementById(\"6efe57da-46d1-4d4f-bb21-0e2991d16b10\")) {\n",
       "                    Plotly.newPlot(\n",
       "                        '6efe57da-46d1-4d4f-bb21-0e2991d16b10',\n",
       "                        [{\"marker\": {\"color\": [1.0, 1.0, 1.0, 1.0, 1.0, 1.0, 1.0, 1.0, 1.0, 1.0, 1.0, 1.0, 1.0, 1.0, 1.0, 1.0, 1.0, 1.0, 1.0, 1.0, 1.0, 1.0, 1.0, 1.0, 1.0, 1.0, 1.0, 1.0, 1.0, 1.0, 1.0, 1.0, 1.0, 1.0, 1.0, 1.0, 1.0, 1.0, 1.0, 1.0, 1.0, 1.0, 1.0, 1.0, 1.0, 1.0, 1.0, 1.0, 1.0, 1.0, 1.0, 1.0, 1.0, 1.0, 1.0, 1.0, 1.0, 1.0, 1.0, 2.0, 2.0, 2.0, 2.0, 2.0, 2.0, 2.0, 2.0, 2.0, 2.0, 2.0, 2.0, 2.0, 2.0, 1.0, 2.0, 2.0, 2.0, 2.0, 2.0, 2.0, 2.0, 2.0, 2.0, 0.0, 2.0, 2.0, 2.0, 2.0, 2.0, 2.0, 2.0, 2.0, 2.0, 2.0, 2.0, 2.0, 2.0, 2.0, 2.0, 2.0, 2.0, 2.0, 2.0, 2.0, 2.0, 2.0, 2.0, 2.0, 2.0, 2.0, 2.0, 2.0, 2.0, 2.0, 2.0, 2.0, 2.0, 2.0, 2.0, 2.0, 2.0, 2.0, 2.0, 2.0, 2.0, 2.0, 2.0, 2.0, 2.0, 2.0, 0.0, 0.0, 0.0, 0.0, 0.0, 0.0, 0.0, 0.0, 0.0, 0.0, 0.0, 0.0, 0.0, 0.0, 0.0, 0.0, 0.0, 0.0, 0.0, 0.0, 0.0, 0.0, 0.0, 0.0, 0.0, 0.0, 0.0, 0.0, 0.0, 0.0, 0.0, 0.0, 0.0, 0.0, 0.0, 0.0, 0.0, 0.0, 0.0, 0.0, 0.0, 0.0, 0.0, 0.0, 0.0, 0.0, 0.0, 0.0]}, \"mode\": \"markers\", \"text\": [1.0, 1.0, 1.0, 1.0, 1.0, 1.0, 1.0, 1.0, 1.0, 1.0, 1.0, 1.0, 1.0, 1.0, 1.0, 1.0, 1.0, 1.0, 1.0, 1.0, 1.0, 1.0, 1.0, 1.0, 1.0, 1.0, 1.0, 1.0, 1.0, 1.0, 1.0, 1.0, 1.0, 1.0, 1.0, 1.0, 1.0, 1.0, 1.0, 1.0, 1.0, 1.0, 1.0, 1.0, 1.0, 1.0, 1.0, 1.0, 1.0, 1.0, 1.0, 1.0, 1.0, 1.0, 1.0, 1.0, 1.0, 1.0, 1.0, 2.0, 2.0, 2.0, 2.0, 2.0, 2.0, 2.0, 2.0, 2.0, 2.0, 2.0, 2.0, 2.0, 2.0, 1.0, 2.0, 2.0, 2.0, 2.0, 2.0, 2.0, 2.0, 2.0, 2.0, 0.0, 2.0, 2.0, 2.0, 2.0, 2.0, 2.0, 2.0, 2.0, 2.0, 2.0, 2.0, 2.0, 2.0, 2.0, 2.0, 2.0, 2.0, 2.0, 2.0, 2.0, 2.0, 2.0, 2.0, 2.0, 2.0, 2.0, 2.0, 2.0, 2.0, 2.0, 2.0, 2.0, 2.0, 2.0, 2.0, 2.0, 2.0, 2.0, 2.0, 2.0, 2.0, 2.0, 2.0, 2.0, 2.0, 2.0, 0.0, 0.0, 0.0, 0.0, 0.0, 0.0, 0.0, 0.0, 0.0, 0.0, 0.0, 0.0, 0.0, 0.0, 0.0, 0.0, 0.0, 0.0, 0.0, 0.0, 0.0, 0.0, 0.0, 0.0, 0.0, 0.0, 0.0, 0.0, 0.0, 0.0, 0.0, 0.0, 0.0, 0.0, 0.0, 0.0, 0.0, 0.0, 0.0, 0.0, 0.0, 0.0, 0.0, 0.0, 0.0, 0.0, 0.0, 0.0], \"type\": \"scatter3d\", \"x\": [0.3720136518771331, 0.26450511945392485, 0.3754266211604095, 0.5563139931740614, 0.2593856655290102, 0.4667235494880546, 0.3387372013651877, 0.3216723549488054, 0.33447098976109213, 0.5068259385665529, 0.3813993174061433, 0.31740614334470985, 0.3686006825938566, 0.3515358361774744, 0.5307167235494881, 0.5136518771331058, 0.41979522184300344, 0.4539249146757679, 0.6331058020477814, 0.325938566552901, 0.37286689419795227, 0.27474402730375425, 0.21501706484641633, 0.22610921501706485, 0.1911262798634812, 0.1962457337883959, 0.30034129692832756, 0.22781569965870305, 0.27474402730375425, 0.29180887372013653, 0.37713310580204773, 0.4795221843003413, 0.21843003412969278, 0.3515358361774744, 0.2491467576791809, 0.325938566552901, 0.2832764505119454, 0.2534129692832764, 0.20648464163822525, 0.325938566552901, 0.4138225255972696, 0.2559726962457338, 0.35409556313993173, 0.2627986348122867, 0.32081911262798635, 0.33788395904436863, 0.3088737201365188, 0.4112627986348123, 0.41979522184300344, 0.6501706484641638, 0.5051194539249146, 0.3686006825938566, 0.4923208191126279, 0.42832764505119447, 0.38993174061433444, 0.424061433447099, 0.4351535836177475, 0.40273037542662116, 0.4709897610921502, 0.057167235494880536, 0.1697952218430034, 0.3813993174061433, 0.21501706484641633, 0.2704778156996587, 0.1424914675767918, 0.2832764505119454, 0.3430034129692833, 0.2901023890784983, 0.16126279863481227, 0.13395904436860068, 0.15102389078498293, 0.17918088737201363, 0.2098976109215017, 0.1766211604095563, 0.16467576791808872, 0.21501706484641633, 0.2832764505119454, 0.11689419795221842, 0.18088737201365188, 0.1100682593856655, 0.10409556313993173, 0.22354948805460748, 0.07849829351535836, 0.30034129692832756, 0.15102389078498293, 0.1143344709897611, 0.09982935153583619, 0.11262798634812288, 0.1296928327645051, 0.03924914675767918, 0.09556313993174059, 0.1979522184300341, 0.15102389078498293, 0.07423208191126279, 0.16808873720136516, 0.11262798634812288, 0.10409556313993173, 0.13822525597269622, 0.27474402730375425, 0.08703071672354948, 0.17235494880546073, 0.09982935153583619, 0.1296928327645051, 0.06655290102389078, 0.14163822525597267, 0.12116040955631399, 0.18088737201365188, 0.17235494880546073, 0.12116040955631399, 0.11689419795221842, 0.13822525597269622, 0.06143344709897611, 0.21501706484641633, 0.15358361774744025, 0.13822525597269622, 0.052901023890784965, 0.057167235494880536, 0.06655290102389078, 0.18088737201365188, 0.0, 0.16808873720136516, 0.40273037542662116, 0.06825938566552903, 0.11262798634812288, 0.1296928327645051, 0.12627986348122863, 0.22696245733788392, 0.14675767918088736, 0.07167235494880547, 0.11262798634812288, 0.2406143344709897, 0.3515358361774744, 0.37713310580204773, 0.31740614334470985, 0.35580204778157, 0.4965870307167235, 0.21928327645051196, 0.31740614334470985, 0.37713310580204773, 0.31058020477815695, 0.2832764505119454, 0.3686006825938566, 0.26194539249146753, 0.2662116040955631, 0.5912969283276451, 0.23208191126279862, 0.3088737201365188, 0.5435153583617748, 0.6092150170648464, 0.6928327645051194, 0.6245733788395904, 0.8122866894197952, 0.4965870307167235, 0.78839590443686, 0.5392491467576791, 0.5648464163822525, 0.659556313993174, 0.5307167235494881, 0.9999999999999999, 0.893344709897611, 0.5435153583617748, 0.39249146757679176, 0.36689419795221845, 0.341296928327645, 0.7081911262798635, 0.45563139931740615, 0.8020477815699658, 0.7662116040955631, 0.6296928327645052, 0.6160409556313993, 0.36006825938566556, 0.735494795221843, 0.7184300341296928, 0.5477815699658704, 0.5136518771331058, 0.7610921501706484, 0.6843003412969284, 0.6757679180887372], \"y\": [0.8421052631578951, 0.5710526315789473, 0.560526315789474, 0.8789473684210525, 0.5815789473684214, 0.8342105263157893, 0.8842105263157896, 0.797368421052632, 1.0, 0.7447368421052629, 0.8078947368421052, 0.8131578947368419, 0.7157894736842105, 0.9789473684210526, 0.8815789473684212, 0.6842105263157898, 0.8605263157894738, 0.736842105263158, 0.831578947368421, 0.6868421052631581, 0.797368421052632, 0.5, 0.7052631578947373, 0.47894736842105257, 0.6499999999999999, 0.5315789473684216, 0.6210526315789475, 0.5973684210526318, 0.7473684210526317, 0.7868421052631578, 0.7105263157894739, 0.6710526315789473, 0.6973684210526314, 0.7184210526315788, 0.6526315789473687, 0.6447368421052633, 0.5921052631578947, 0.5315789473684216, 0.5368421052631582, 0.8394736842105264, 0.6657894736842107, 0.6263157894736846, 0.7500000000000004, 0.5815789473684214, 0.5315789473684216, 0.836842105263158, 0.8815789473684212, 0.7552631578947371, 0.8078947368421052, 0.7657894736842104, 0.5315789473684216, 0.736842105263158, 0.7342105263157896, 0.7210526315789472, 0.7131578947368422, 0.6657894736842107, 0.8394736842105264, 0.594736842105263, 0.7078947368421056, 0.3526315789473684, 0.34210526315789513, 0.4236842105263161, 0.6947368421052631, 0.3526315789473684, 0.30000000000000027, 0.3526315789473684, 0.5473684210526315, 0.3526315789473684, 0.6078947368421055, 0.310526315789474, 0.331578947368421, 0.7447368421052629, 0.6473684210526316, 0.5157894736842108, 0.2447368421052638, 0.1657894736842107, 0.5263157894736841, 0.2131578947368422, 0.34210526315789513, 0.43947368421052646, 0.2552631578947371, 0.44473684210526354, 0.2763157894736845, 0.5315789473684216, 0.2131578947368422, 0.43157894736842106, 0.29736842105263195, 0.1631578947368424, 0.16052631578947407, 0.2763157894736845, 0.2763157894736845, 0.2552631578947371, 0.43684210526315814, 0.331578947368421, 0.155263157894737, 0.3789473684210529, 0.20526315789473726, 0.331578947368421, 0.3526315789473684, 0.331578947368421, 0.2763157894736845, 0.4131578947368424, 0.34473684210526345, 0.20789473684210558, 0.38947368421052664, 0.3657894736842109, 0.3210526315789477, 0.44473684210526354, 0.3131578947368423, 0.15263157894736867, 0.11315789473684257, 0.39210526315789496, 0.19210526315789478, 0.10000000000000053, 0.2763157894736845, 0.0, 0.20789473684210558, 0.3657894736842109, 0.45789473684210513, 0.2552631578947371, 0.1105263157894738, 0.13947368421052664, 0.3657894736842109, 0.5315789473684216, 0.2210526315789476, 0.2736842105263162, 0.3684210526315792, 0.20000000000000018, 0.3526315789473684, 0.26578947368421035, 0.4815789473684209, 0.4868421052631584, 0.4684210526315793, 0.43947368421052646, 0.38947368421052664, 0.4131578947368424, 0.3210526315789477, 0.3947368421052633, 0.6473684210526316, 0.47631578947368425, 0.5, 0.6131578947368421, 0.655263157894737, 0.6815789473684211, 0.3210526315789477, 0.560526315789474, 0.7500000000000004, 0.48421052631578965, 0.6026315789473689, 0.5394736842105265, 0.6499999999999999, 0.4631578947368422, 0.5473684210526315, 0.5789473684210531, 0.4078947368421053, 0.5631578947368423, 0.7394736842105263, 0.37368421052631584, 0.8710526315789475, 0.6447368421052633, 0.3500000000000001, 0.7000000000000002, 0.47894736842105257, 0.5078947368421058, 0.7236842105263159, 0.7105263157894739, 0.6368421052631579, 0.4710526315789476, 0.6710526315789473, 0.6236842105263158, 0.3078947368421052, 0.45789473684210513, 0.823684210526316, 0.7052631578947373, 0.6236842105263158, 0.5894736842105264, 0.5631578947368423, 0.8157894736842106], \"z\": [0.5613409415121255, 0.5506419400855921, 0.6469329529243938, 0.8573466476462198, 0.3259629101283881, 0.8359486447931527, 0.7218259629101285, 0.725392296718973, 0.5470756062767476, 0.5470756062767476, 0.8787446504992867, 0.7146932952924394, 0.7432239657631955, 0.6219686162624822, 0.9051355206847361, 0.7360912981455064, 0.7146932952924394, 0.6077032810271041, 1.0, 0.40442225392296727, 0.35805991440798857, 0.35092724679029963, 0.5399429386590585, 0.5256776034236805, 0.40442225392296727, 0.3937232524964337, 0.6540656205420827, 0.7182596291012839, 0.4543509272467904, 0.5399429386590585, 0.7182596291012839, 0.8823109843081313, 0.5078459343794579, 0.6825962910128388, 0.5827389443651926, 0.4579172610556348, 0.4293865905848788, 0.5898716119828816, 0.529243937232525, 0.3437945791726106, 0.36875891583452214, 0.5399429386590585, 0.5827389443651926, 0.2867332382310984, 0.43295292439372324, 0.5720399429386591, 0.5613409415121255, 0.5042796005706135, 0.557774607703281, 0.7004279600570614, 0.6219686162624822, 0.7039942938659058, 0.6504992867332383, 0.782453637660485, 0.557774607703281, 0.6005706134094152, 0.4935805991440799, 0.7075606276747504, 0.7182596291012839, 0.17261055634807418, 0.2867332382310984, 0.12268188302425106, 0.2510699001426534, 0.10128388017118403, 0.054921540656205386, 0.2853067047075606, 0.15977175463623397, 0.1654778887303852, 0.33666191155492153, 0.31383737517831667, 0.4222539229671898, 0.09415121255349498, 0.13837375178316688, 0.5042796005706135, 0.4336661911554922, 0.10699001426533525, 0.08131241084165478, 0.15834522111269614, 0.33666191155492153, 0.1319543509272468, 0.0, 0.3109843081312411, 0.2510699001426534, 0.16904422253922965, 0.17261055634807418, 0.12268188302425106, 0.15477888730385161, 0.20256776034236804, 0.2867332382310984, 0.24750356633380885, 0.1440798858773181, 0.12268188302425106, 0.15477888730385161, 0.008559201141226797, 0.047788873038516394, 0.4700427960057062, 0.24750356633380885, 0.10699001426533525, 0.27246790299572043, 0.09129814550641938, 0.30813124108416545, 0.20256776034236804, 0.11412268188302424, 0.09771754636233951, 0.2810271041369472, 0.02639087018544936, 0.1654778887303852, 0.14978601997146931, 0.02425106990014264, 0.2867332382310984, 0.20256776034236804, 0.033523537803138354, 0.23466476462196864, 0.11126961483594863, 0.07631954350927247, 0.09201141226818829, 0.15477888730385161, 0.047788873038516394, 0.06704707560627673, 0.20399429386590587, 0.24750356633380885, 0.13338088445078458, 0.062054208273894434, 0.07275320970042795, 0.07275320970042795, 0.07132667617689017, 0.052781740370898694, 0.1340941512125535, 0.0456490727532097, 0.21540656205420824, 0.2510699001426534, 0.17974322396576317, 0.20114122681883026, 0.22967189728958629, 0.2653352353780314, 0.297432239657632, 0.3152639087018545, 0.16904422253922965, 0.21540656205420824, 0.2225392296718973, 0.22967189728958629, 0.35805991440798857, 0.17261055634807418, 0.1940085592011412, 0.4115549215406562, 0.3937232524964337, 0.09771754636233951, 0.24750356633380885, 0.2653352353780314, 0.1940085592011412, 0.15834522111269614, 0.1440798858773181, 0.1048502139800285, 0.2831669044222539, 0.25820256776034234, 0.318830242510699, 0.1440798858773181, 0.4293865905848788, 0.27246790299572043, 0.24393723252496433, 0.17261055634807418, 0.2867332382310984, 0.20827389443651925, 0.2831669044222539, 0.2403708987161198, 0.17261055634807418, 0.297432239657632, 0.29029957203994294, 0.33666191155492153, 0.2510699001426534, 0.1654778887303852, 0.1369472182596291, 0.27246790299572043, 0.3295292439372326, 0.33666191155492153, 0.3972895863052782, 0.40085592011412274, 0.20114122681883026]}],\n",
       "                        {\"template\": {\"data\": {\"bar\": [{\"error_x\": {\"color\": \"#2a3f5f\"}, \"error_y\": {\"color\": \"#2a3f5f\"}, \"marker\": {\"line\": {\"color\": \"#E5ECF6\", \"width\": 0.5}}, \"type\": \"bar\"}], \"barpolar\": [{\"marker\": {\"line\": {\"color\": \"#E5ECF6\", \"width\": 0.5}}, \"type\": \"barpolar\"}], \"carpet\": [{\"aaxis\": {\"endlinecolor\": \"#2a3f5f\", \"gridcolor\": \"white\", \"linecolor\": \"white\", \"minorgridcolor\": \"white\", \"startlinecolor\": \"#2a3f5f\"}, \"baxis\": {\"endlinecolor\": \"#2a3f5f\", \"gridcolor\": \"white\", \"linecolor\": \"white\", \"minorgridcolor\": \"white\", \"startlinecolor\": \"#2a3f5f\"}, \"type\": \"carpet\"}], \"choropleth\": [{\"colorbar\": {\"outlinewidth\": 0, \"ticks\": \"\"}, \"type\": \"choropleth\"}], \"contour\": [{\"colorbar\": {\"outlinewidth\": 0, \"ticks\": \"\"}, \"colorscale\": [[0.0, \"#0d0887\"], [0.1111111111111111, \"#46039f\"], [0.2222222222222222, \"#7201a8\"], [0.3333333333333333, \"#9c179e\"], [0.4444444444444444, \"#bd3786\"], [0.5555555555555556, \"#d8576b\"], [0.6666666666666666, \"#ed7953\"], [0.7777777777777778, \"#fb9f3a\"], [0.8888888888888888, \"#fdca26\"], [1.0, \"#f0f921\"]], \"type\": \"contour\"}], \"contourcarpet\": [{\"colorbar\": {\"outlinewidth\": 0, \"ticks\": \"\"}, \"type\": \"contourcarpet\"}], \"heatmap\": [{\"colorbar\": {\"outlinewidth\": 0, \"ticks\": \"\"}, \"colorscale\": [[0.0, \"#0d0887\"], [0.1111111111111111, \"#46039f\"], [0.2222222222222222, \"#7201a8\"], [0.3333333333333333, \"#9c179e\"], [0.4444444444444444, \"#bd3786\"], [0.5555555555555556, \"#d8576b\"], [0.6666666666666666, \"#ed7953\"], [0.7777777777777778, \"#fb9f3a\"], [0.8888888888888888, \"#fdca26\"], [1.0, \"#f0f921\"]], \"type\": \"heatmap\"}], \"heatmapgl\": [{\"colorbar\": {\"outlinewidth\": 0, \"ticks\": \"\"}, \"colorscale\": [[0.0, \"#0d0887\"], [0.1111111111111111, \"#46039f\"], [0.2222222222222222, \"#7201a8\"], [0.3333333333333333, \"#9c179e\"], [0.4444444444444444, \"#bd3786\"], [0.5555555555555556, \"#d8576b\"], [0.6666666666666666, \"#ed7953\"], [0.7777777777777778, \"#fb9f3a\"], [0.8888888888888888, \"#fdca26\"], [1.0, \"#f0f921\"]], \"type\": \"heatmapgl\"}], \"histogram\": [{\"marker\": {\"colorbar\": {\"outlinewidth\": 0, \"ticks\": \"\"}}, \"type\": \"histogram\"}], \"histogram2d\": [{\"colorbar\": {\"outlinewidth\": 0, \"ticks\": \"\"}, \"colorscale\": [[0.0, \"#0d0887\"], [0.1111111111111111, \"#46039f\"], [0.2222222222222222, \"#7201a8\"], [0.3333333333333333, \"#9c179e\"], [0.4444444444444444, \"#bd3786\"], [0.5555555555555556, \"#d8576b\"], [0.6666666666666666, \"#ed7953\"], [0.7777777777777778, \"#fb9f3a\"], [0.8888888888888888, \"#fdca26\"], [1.0, \"#f0f921\"]], \"type\": \"histogram2d\"}], \"histogram2dcontour\": [{\"colorbar\": {\"outlinewidth\": 0, \"ticks\": \"\"}, \"colorscale\": [[0.0, \"#0d0887\"], [0.1111111111111111, \"#46039f\"], [0.2222222222222222, \"#7201a8\"], [0.3333333333333333, \"#9c179e\"], [0.4444444444444444, \"#bd3786\"], [0.5555555555555556, \"#d8576b\"], [0.6666666666666666, \"#ed7953\"], [0.7777777777777778, \"#fb9f3a\"], [0.8888888888888888, \"#fdca26\"], [1.0, \"#f0f921\"]], \"type\": \"histogram2dcontour\"}], \"mesh3d\": [{\"colorbar\": {\"outlinewidth\": 0, \"ticks\": \"\"}, \"type\": \"mesh3d\"}], \"parcoords\": [{\"line\": {\"colorbar\": {\"outlinewidth\": 0, \"ticks\": \"\"}}, \"type\": \"parcoords\"}], \"scatter\": [{\"marker\": {\"colorbar\": {\"outlinewidth\": 0, \"ticks\": \"\"}}, \"type\": \"scatter\"}], \"scatter3d\": [{\"line\": {\"colorbar\": {\"outlinewidth\": 0, \"ticks\": \"\"}}, \"marker\": {\"colorbar\": {\"outlinewidth\": 0, \"ticks\": \"\"}}, \"type\": \"scatter3d\"}], \"scattercarpet\": [{\"marker\": {\"colorbar\": {\"outlinewidth\": 0, \"ticks\": \"\"}}, \"type\": \"scattercarpet\"}], \"scattergeo\": [{\"marker\": {\"colorbar\": {\"outlinewidth\": 0, \"ticks\": \"\"}}, \"type\": \"scattergeo\"}], \"scattergl\": [{\"marker\": {\"colorbar\": {\"outlinewidth\": 0, \"ticks\": \"\"}}, \"type\": \"scattergl\"}], \"scattermapbox\": [{\"marker\": {\"colorbar\": {\"outlinewidth\": 0, \"ticks\": \"\"}}, \"type\": \"scattermapbox\"}], \"scatterpolar\": [{\"marker\": {\"colorbar\": {\"outlinewidth\": 0, \"ticks\": \"\"}}, \"type\": \"scatterpolar\"}], \"scatterpolargl\": [{\"marker\": {\"colorbar\": {\"outlinewidth\": 0, \"ticks\": \"\"}}, \"type\": \"scatterpolargl\"}], \"scatterternary\": [{\"marker\": {\"colorbar\": {\"outlinewidth\": 0, \"ticks\": \"\"}}, \"type\": \"scatterternary\"}], \"surface\": [{\"colorbar\": {\"outlinewidth\": 0, \"ticks\": \"\"}, \"colorscale\": [[0.0, \"#0d0887\"], [0.1111111111111111, \"#46039f\"], [0.2222222222222222, \"#7201a8\"], [0.3333333333333333, \"#9c179e\"], [0.4444444444444444, \"#bd3786\"], [0.5555555555555556, \"#d8576b\"], [0.6666666666666666, \"#ed7953\"], [0.7777777777777778, \"#fb9f3a\"], [0.8888888888888888, \"#fdca26\"], [1.0, \"#f0f921\"]], \"type\": \"surface\"}], \"table\": [{\"cells\": {\"fill\": {\"color\": \"#EBF0F8\"}, \"line\": {\"color\": \"white\"}}, \"header\": {\"fill\": {\"color\": \"#C8D4E3\"}, \"line\": {\"color\": \"white\"}}, \"type\": \"table\"}]}, \"layout\": {\"annotationdefaults\": {\"arrowcolor\": \"#2a3f5f\", \"arrowhead\": 0, \"arrowwidth\": 1}, \"colorscale\": {\"diverging\": [[0, \"#8e0152\"], [0.1, \"#c51b7d\"], [0.2, \"#de77ae\"], [0.3, \"#f1b6da\"], [0.4, \"#fde0ef\"], [0.5, \"#f7f7f7\"], [0.6, \"#e6f5d0\"], [0.7, \"#b8e186\"], [0.8, \"#7fbc41\"], [0.9, \"#4d9221\"], [1, \"#276419\"]], \"sequential\": [[0.0, \"#0d0887\"], [0.1111111111111111, \"#46039f\"], [0.2222222222222222, \"#7201a8\"], [0.3333333333333333, \"#9c179e\"], [0.4444444444444444, \"#bd3786\"], [0.5555555555555556, \"#d8576b\"], [0.6666666666666666, \"#ed7953\"], [0.7777777777777778, \"#fb9f3a\"], [0.8888888888888888, \"#fdca26\"], [1.0, \"#f0f921\"]], \"sequentialminus\": [[0.0, \"#0d0887\"], [0.1111111111111111, \"#46039f\"], [0.2222222222222222, \"#7201a8\"], [0.3333333333333333, \"#9c179e\"], [0.4444444444444444, \"#bd3786\"], [0.5555555555555556, \"#d8576b\"], [0.6666666666666666, \"#ed7953\"], [0.7777777777777778, \"#fb9f3a\"], [0.8888888888888888, \"#fdca26\"], [1.0, \"#f0f921\"]]}, \"colorway\": [\"#636efa\", \"#EF553B\", \"#00cc96\", \"#ab63fa\", \"#FFA15A\", \"#19d3f3\", \"#FF6692\", \"#B6E880\", \"#FF97FF\", \"#FECB52\"], \"font\": {\"color\": \"#2a3f5f\"}, \"geo\": {\"bgcolor\": \"white\", \"lakecolor\": \"white\", \"landcolor\": \"#E5ECF6\", \"showlakes\": true, \"showland\": true, \"subunitcolor\": \"white\"}, \"hoverlabel\": {\"align\": \"left\"}, \"hovermode\": \"closest\", \"mapbox\": {\"style\": \"light\"}, \"paper_bgcolor\": \"white\", \"plot_bgcolor\": \"#E5ECF6\", \"polar\": {\"angularaxis\": {\"gridcolor\": \"white\", \"linecolor\": \"white\", \"ticks\": \"\"}, \"bgcolor\": \"#E5ECF6\", \"radialaxis\": {\"gridcolor\": \"white\", \"linecolor\": \"white\", \"ticks\": \"\"}}, \"scene\": {\"xaxis\": {\"backgroundcolor\": \"#E5ECF6\", \"gridcolor\": \"white\", \"gridwidth\": 2, \"linecolor\": \"white\", \"showbackground\": true, \"ticks\": \"\", \"zerolinecolor\": \"white\"}, \"yaxis\": {\"backgroundcolor\": \"#E5ECF6\", \"gridcolor\": \"white\", \"gridwidth\": 2, \"linecolor\": \"white\", \"showbackground\": true, \"ticks\": \"\", \"zerolinecolor\": \"white\"}, \"zaxis\": {\"backgroundcolor\": \"#E5ECF6\", \"gridcolor\": \"white\", \"gridwidth\": 2, \"linecolor\": \"white\", \"showbackground\": true, \"ticks\": \"\", \"zerolinecolor\": \"white\"}}, \"shapedefaults\": {\"line\": {\"color\": \"#2a3f5f\"}}, \"ternary\": {\"aaxis\": {\"gridcolor\": \"white\", \"linecolor\": \"white\", \"ticks\": \"\"}, \"baxis\": {\"gridcolor\": \"white\", \"linecolor\": \"white\", \"ticks\": \"\"}, \"bgcolor\": \"#E5ECF6\", \"caxis\": {\"gridcolor\": \"white\", \"linecolor\": \"white\", \"ticks\": \"\"}}, \"title\": {\"x\": 0.05}, \"xaxis\": {\"automargin\": true, \"gridcolor\": \"white\", \"linecolor\": \"white\", \"ticks\": \"\", \"zerolinecolor\": \"white\", \"zerolinewidth\": 2}, \"yaxis\": {\"automargin\": true, \"gridcolor\": \"white\", \"linecolor\": \"white\", \"ticks\": \"\", \"zerolinecolor\": \"white\", \"zerolinewidth\": 2}}}},\n",
       "                        {\"responsive\": true}\n",
       "                    ).then(function(){\n",
       "                            \n",
       "var gd = document.getElementById('6efe57da-46d1-4d4f-bb21-0e2991d16b10');\n",
       "var x = new MutationObserver(function (mutations, observer) {{\n",
       "        var display = window.getComputedStyle(gd).display;\n",
       "        if (!display || display === 'none') {{\n",
       "            console.log([gd, 'removed!']);\n",
       "            Plotly.purge(gd);\n",
       "            observer.disconnect();\n",
       "        }}\n",
       "}});\n",
       "\n",
       "// Listen for the removal of the full notebook cells\n",
       "var notebookContainer = gd.closest('#notebook-container');\n",
       "if (notebookContainer) {{\n",
       "    x.observe(notebookContainer, {childList: true});\n",
       "}}\n",
       "\n",
       "// Listen for the clearing of the current output cell\n",
       "var outputEl = gd.closest('.output');\n",
       "if (outputEl) {{\n",
       "    x.observe(outputEl, {childList: true});\n",
       "}}\n",
       "\n",
       "                        })\n",
       "                };\n",
       "                });\n",
       "            </script>\n",
       "        </div>"
      ]
     },
     "metadata": {},
     "output_type": "display_data"
    }
   ],
   "source": [
    "fig = go.Figure()\n",
    "fig.add_trace(go.Scatter3d(x=df['Intensidade_de_cor'],\n",
    "                           y=df['Alcool'],\n",
    "                           z=df['Proline'],\n",
    "                           mode='markers',\n",
    "                           marker=dict(color = kmeans.labels_.astype(np.float)),\n",
    "                           text = labels ))\n",
    "\n",
    "\n",
    "# fig = go.Figure()\n",
    "# fig.add_trace(go.Scatter3d(x=df['Intensidade_de_cor'],\n",
    "#                          y = df['Alcool'], z = df['Proline'],\n",
    "#                          mode = 'markers',                      \n",
    "#                           marker = dict(color = agrupador.labels_.astype(np.float)),\n",
    "#                         text = [0, 1, 2]))\n",
    "fig.show()\n",
    "fig.show()"
   ]
  },
  {
   "cell_type": "code",
   "execution_count": 47,
   "metadata": {},
   "outputs": [
    {
     "data": {
      "application/vnd.plotly.v1+json": {
       "config": {
        "plotlyServerURL": "https://plot.ly"
       },
       "data": [
        {
         "marker": {
          "color": [
           1,
           1,
           1,
           1,
           0,
           1,
           1,
           1,
           1,
           1,
           1,
           1,
           1,
           0,
           1,
           1,
           1,
           1,
           1,
           1,
           1,
           1,
           1,
           1,
           1,
           0,
           1,
           1,
           1,
           1,
           1,
           1,
           1,
           1,
           1,
           1,
           1,
           1,
           1,
           0,
           1,
           0,
           1,
           0,
           1,
           0,
           1,
           1,
           1,
           1,
           0,
           1,
           1,
           1,
           1,
           1,
           1,
           1,
           1,
           0,
           0,
           0,
           0,
           0,
           0,
           0,
           0,
           2,
           0,
           0,
           0,
           0,
           0,
           0,
           0,
           0,
           0,
           0,
           0,
           0,
           0,
           2,
           0,
           0,
           0,
           2,
           0,
           0,
           0,
           0,
           2,
           2,
           0,
           0,
           0,
           0,
           0,
           0,
           0,
           0,
           0,
           2,
           0,
           2,
           2,
           0,
           2,
           2,
           2,
           0,
           0,
           0,
           0,
           0,
           0,
           0,
           2,
           2,
           0,
           2,
           0,
           0,
           0,
           0,
           0,
           2,
           0,
           0,
           0,
           0,
           0,
           3,
           0,
           3,
           0,
           3,
           0,
           0,
           3,
           0,
           0,
           3,
           0,
           0,
           3,
           3,
           0,
           3,
           3,
           3,
           0,
           0,
           0,
           3,
           0,
           3,
           3,
           0,
           0,
           0,
           3,
           3,
           3,
           3,
           3,
           0,
           3,
           3,
           3,
           0,
           3,
           3,
           3,
           3,
           3,
           3,
           3,
           3
          ]
         },
         "mode": "markers",
         "text": [
          1,
          1,
          1,
          1,
          0,
          1,
          1,
          1,
          1,
          1,
          1,
          1,
          1,
          0,
          1,
          1,
          1,
          1,
          1,
          1,
          1,
          1,
          1,
          1,
          1,
          0,
          1,
          1,
          1,
          1,
          1,
          1,
          1,
          1,
          1,
          1,
          1,
          1,
          1,
          0,
          1,
          0,
          1,
          0,
          1,
          0,
          1,
          1,
          1,
          1,
          0,
          1,
          1,
          1,
          1,
          1,
          1,
          1,
          1,
          0,
          0,
          0,
          0,
          0,
          0,
          0,
          0,
          2,
          0,
          0,
          0,
          0,
          0,
          0,
          0,
          0,
          0,
          0,
          0,
          0,
          0,
          2,
          0,
          0,
          0,
          2,
          0,
          0,
          0,
          0,
          2,
          2,
          0,
          0,
          0,
          0,
          0,
          0,
          0,
          0,
          0,
          2,
          0,
          2,
          2,
          0,
          2,
          2,
          2,
          0,
          0,
          0,
          0,
          0,
          0,
          0,
          2,
          2,
          0,
          2,
          0,
          0,
          0,
          0,
          0,
          2,
          0,
          0,
          0,
          0,
          0,
          3,
          0,
          3,
          0,
          3,
          0,
          0,
          3,
          0,
          0,
          3,
          0,
          0,
          3,
          3,
          0,
          3,
          3,
          3,
          0,
          0,
          0,
          3,
          0,
          3,
          3,
          0,
          0,
          0,
          3,
          3,
          3,
          3,
          3,
          0,
          3,
          3,
          3,
          0,
          3,
          3,
          3,
          3,
          3,
          3,
          3,
          3
         ],
         "type": "scatter3d",
         "x": [
          0.3720136518771331,
          0.26450511945392485,
          0.3754266211604095,
          0.5563139931740614,
          0.2593856655290102,
          0.4667235494880546,
          0.3387372013651877,
          0.3216723549488054,
          0.33447098976109213,
          0.5068259385665529,
          0.3813993174061433,
          0.31740614334470985,
          0.3686006825938566,
          0.3515358361774744,
          0.5307167235494881,
          0.5136518771331058,
          0.41979522184300344,
          0.4539249146757679,
          0.6331058020477814,
          0.325938566552901,
          0.37286689419795227,
          0.27474402730375425,
          0.21501706484641633,
          0.22610921501706485,
          0.1911262798634812,
          0.1962457337883959,
          0.30034129692832756,
          0.22781569965870305,
          0.27474402730375425,
          0.29180887372013653,
          0.37713310580204773,
          0.4795221843003413,
          0.21843003412969278,
          0.3515358361774744,
          0.2491467576791809,
          0.325938566552901,
          0.2832764505119454,
          0.2534129692832764,
          0.20648464163822525,
          0.325938566552901,
          0.4138225255972696,
          0.2559726962457338,
          0.35409556313993173,
          0.2627986348122867,
          0.32081911262798635,
          0.33788395904436863,
          0.3088737201365188,
          0.4112627986348123,
          0.41979522184300344,
          0.6501706484641638,
          0.5051194539249146,
          0.3686006825938566,
          0.4923208191126279,
          0.42832764505119447,
          0.38993174061433444,
          0.424061433447099,
          0.4351535836177475,
          0.40273037542662116,
          0.4709897610921502,
          0.057167235494880536,
          0.1697952218430034,
          0.3813993174061433,
          0.21501706484641633,
          0.2704778156996587,
          0.1424914675767918,
          0.2832764505119454,
          0.3430034129692833,
          0.2901023890784983,
          0.16126279863481227,
          0.13395904436860068,
          0.15102389078498293,
          0.17918088737201363,
          0.2098976109215017,
          0.1766211604095563,
          0.16467576791808872,
          0.21501706484641633,
          0.2832764505119454,
          0.11689419795221842,
          0.18088737201365188,
          0.1100682593856655,
          0.10409556313993173,
          0.22354948805460748,
          0.07849829351535836,
          0.30034129692832756,
          0.15102389078498293,
          0.1143344709897611,
          0.09982935153583619,
          0.11262798634812288,
          0.1296928327645051,
          0.03924914675767918,
          0.09556313993174059,
          0.1979522184300341,
          0.15102389078498293,
          0.07423208191126279,
          0.16808873720136516,
          0.11262798634812288,
          0.10409556313993173,
          0.13822525597269622,
          0.27474402730375425,
          0.08703071672354948,
          0.17235494880546073,
          0.09982935153583619,
          0.1296928327645051,
          0.06655290102389078,
          0.14163822525597267,
          0.12116040955631399,
          0.18088737201365188,
          0.17235494880546073,
          0.12116040955631399,
          0.11689419795221842,
          0.13822525597269622,
          0.06143344709897611,
          0.21501706484641633,
          0.15358361774744025,
          0.13822525597269622,
          0.052901023890784965,
          0.057167235494880536,
          0.06655290102389078,
          0.18088737201365188,
          0,
          0.16808873720136516,
          0.40273037542662116,
          0.06825938566552903,
          0.11262798634812288,
          0.1296928327645051,
          0.12627986348122863,
          0.22696245733788392,
          0.14675767918088736,
          0.07167235494880547,
          0.11262798634812288,
          0.2406143344709897,
          0.3515358361774744,
          0.37713310580204773,
          0.31740614334470985,
          0.35580204778157,
          0.4965870307167235,
          0.21928327645051196,
          0.31740614334470985,
          0.37713310580204773,
          0.31058020477815695,
          0.2832764505119454,
          0.3686006825938566,
          0.26194539249146753,
          0.2662116040955631,
          0.5912969283276451,
          0.23208191126279862,
          0.3088737201365188,
          0.5435153583617748,
          0.6092150170648464,
          0.6928327645051194,
          0.6245733788395904,
          0.8122866894197952,
          0.4965870307167235,
          0.78839590443686,
          0.5392491467576791,
          0.5648464163822525,
          0.659556313993174,
          0.5307167235494881,
          0.9999999999999999,
          0.893344709897611,
          0.5435153583617748,
          0.39249146757679176,
          0.36689419795221845,
          0.341296928327645,
          0.7081911262798635,
          0.45563139931740615,
          0.8020477815699658,
          0.7662116040955631,
          0.6296928327645052,
          0.6160409556313993,
          0.36006825938566556,
          0.735494795221843,
          0.7184300341296928,
          0.5477815699658704,
          0.5136518771331058,
          0.7610921501706484,
          0.6843003412969284,
          0.6757679180887372
         ],
         "y": [
          0.8421052631578951,
          0.5710526315789473,
          0.560526315789474,
          0.8789473684210525,
          0.5815789473684214,
          0.8342105263157893,
          0.8842105263157896,
          0.797368421052632,
          1,
          0.7447368421052629,
          0.8078947368421052,
          0.8131578947368419,
          0.7157894736842105,
          0.9789473684210526,
          0.8815789473684212,
          0.6842105263157898,
          0.8605263157894738,
          0.736842105263158,
          0.831578947368421,
          0.6868421052631581,
          0.797368421052632,
          0.5,
          0.7052631578947373,
          0.47894736842105257,
          0.6499999999999999,
          0.5315789473684216,
          0.6210526315789475,
          0.5973684210526318,
          0.7473684210526317,
          0.7868421052631578,
          0.7105263157894739,
          0.6710526315789473,
          0.6973684210526314,
          0.7184210526315788,
          0.6526315789473687,
          0.6447368421052633,
          0.5921052631578947,
          0.5315789473684216,
          0.5368421052631582,
          0.8394736842105264,
          0.6657894736842107,
          0.6263157894736846,
          0.7500000000000004,
          0.5815789473684214,
          0.5315789473684216,
          0.836842105263158,
          0.8815789473684212,
          0.7552631578947371,
          0.8078947368421052,
          0.7657894736842104,
          0.5315789473684216,
          0.736842105263158,
          0.7342105263157896,
          0.7210526315789472,
          0.7131578947368422,
          0.6657894736842107,
          0.8394736842105264,
          0.594736842105263,
          0.7078947368421056,
          0.3526315789473684,
          0.34210526315789513,
          0.4236842105263161,
          0.6947368421052631,
          0.3526315789473684,
          0.30000000000000027,
          0.3526315789473684,
          0.5473684210526315,
          0.3526315789473684,
          0.6078947368421055,
          0.310526315789474,
          0.331578947368421,
          0.7447368421052629,
          0.6473684210526316,
          0.5157894736842108,
          0.2447368421052638,
          0.1657894736842107,
          0.5263157894736841,
          0.2131578947368422,
          0.34210526315789513,
          0.43947368421052646,
          0.2552631578947371,
          0.44473684210526354,
          0.2763157894736845,
          0.5315789473684216,
          0.2131578947368422,
          0.43157894736842106,
          0.29736842105263195,
          0.1631578947368424,
          0.16052631578947407,
          0.2763157894736845,
          0.2763157894736845,
          0.2552631578947371,
          0.43684210526315814,
          0.331578947368421,
          0.155263157894737,
          0.3789473684210529,
          0.20526315789473726,
          0.331578947368421,
          0.3526315789473684,
          0.331578947368421,
          0.2763157894736845,
          0.4131578947368424,
          0.34473684210526345,
          0.20789473684210558,
          0.38947368421052664,
          0.3657894736842109,
          0.3210526315789477,
          0.44473684210526354,
          0.3131578947368423,
          0.15263157894736867,
          0.11315789473684257,
          0.39210526315789496,
          0.19210526315789478,
          0.10000000000000053,
          0.2763157894736845,
          0,
          0.20789473684210558,
          0.3657894736842109,
          0.45789473684210513,
          0.2552631578947371,
          0.1105263157894738,
          0.13947368421052664,
          0.3657894736842109,
          0.5315789473684216,
          0.2210526315789476,
          0.2736842105263162,
          0.3684210526315792,
          0.20000000000000018,
          0.3526315789473684,
          0.26578947368421035,
          0.4815789473684209,
          0.4868421052631584,
          0.4684210526315793,
          0.43947368421052646,
          0.38947368421052664,
          0.4131578947368424,
          0.3210526315789477,
          0.3947368421052633,
          0.6473684210526316,
          0.47631578947368425,
          0.5,
          0.6131578947368421,
          0.655263157894737,
          0.6815789473684211,
          0.3210526315789477,
          0.560526315789474,
          0.7500000000000004,
          0.48421052631578965,
          0.6026315789473689,
          0.5394736842105265,
          0.6499999999999999,
          0.4631578947368422,
          0.5473684210526315,
          0.5789473684210531,
          0.4078947368421053,
          0.5631578947368423,
          0.7394736842105263,
          0.37368421052631584,
          0.8710526315789475,
          0.6447368421052633,
          0.3500000000000001,
          0.7000000000000002,
          0.47894736842105257,
          0.5078947368421058,
          0.7236842105263159,
          0.7105263157894739,
          0.6368421052631579,
          0.4710526315789476,
          0.6710526315789473,
          0.6236842105263158,
          0.3078947368421052,
          0.45789473684210513,
          0.823684210526316,
          0.7052631578947373,
          0.6236842105263158,
          0.5894736842105264,
          0.5631578947368423,
          0.8157894736842106
         ],
         "z": [
          0.5613409415121255,
          0.5506419400855921,
          0.6469329529243938,
          0.8573466476462198,
          0.3259629101283881,
          0.8359486447931527,
          0.7218259629101285,
          0.725392296718973,
          0.5470756062767476,
          0.5470756062767476,
          0.8787446504992867,
          0.7146932952924394,
          0.7432239657631955,
          0.6219686162624822,
          0.9051355206847361,
          0.7360912981455064,
          0.7146932952924394,
          0.6077032810271041,
          1,
          0.40442225392296727,
          0.35805991440798857,
          0.35092724679029963,
          0.5399429386590585,
          0.5256776034236805,
          0.40442225392296727,
          0.3937232524964337,
          0.6540656205420827,
          0.7182596291012839,
          0.4543509272467904,
          0.5399429386590585,
          0.7182596291012839,
          0.8823109843081313,
          0.5078459343794579,
          0.6825962910128388,
          0.5827389443651926,
          0.4579172610556348,
          0.4293865905848788,
          0.5898716119828816,
          0.529243937232525,
          0.3437945791726106,
          0.36875891583452214,
          0.5399429386590585,
          0.5827389443651926,
          0.2867332382310984,
          0.43295292439372324,
          0.5720399429386591,
          0.5613409415121255,
          0.5042796005706135,
          0.557774607703281,
          0.7004279600570614,
          0.6219686162624822,
          0.7039942938659058,
          0.6504992867332383,
          0.782453637660485,
          0.557774607703281,
          0.6005706134094152,
          0.4935805991440799,
          0.7075606276747504,
          0.7182596291012839,
          0.17261055634807418,
          0.2867332382310984,
          0.12268188302425106,
          0.2510699001426534,
          0.10128388017118403,
          0.054921540656205386,
          0.2853067047075606,
          0.15977175463623397,
          0.1654778887303852,
          0.33666191155492153,
          0.31383737517831667,
          0.4222539229671898,
          0.09415121255349498,
          0.13837375178316688,
          0.5042796005706135,
          0.4336661911554922,
          0.10699001426533525,
          0.08131241084165478,
          0.15834522111269614,
          0.33666191155492153,
          0.1319543509272468,
          0,
          0.3109843081312411,
          0.2510699001426534,
          0.16904422253922965,
          0.17261055634807418,
          0.12268188302425106,
          0.15477888730385161,
          0.20256776034236804,
          0.2867332382310984,
          0.24750356633380885,
          0.1440798858773181,
          0.12268188302425106,
          0.15477888730385161,
          0.008559201141226797,
          0.047788873038516394,
          0.4700427960057062,
          0.24750356633380885,
          0.10699001426533525,
          0.27246790299572043,
          0.09129814550641938,
          0.30813124108416545,
          0.20256776034236804,
          0.11412268188302424,
          0.09771754636233951,
          0.2810271041369472,
          0.02639087018544936,
          0.1654778887303852,
          0.14978601997146931,
          0.02425106990014264,
          0.2867332382310984,
          0.20256776034236804,
          0.033523537803138354,
          0.23466476462196864,
          0.11126961483594863,
          0.07631954350927247,
          0.09201141226818829,
          0.15477888730385161,
          0.047788873038516394,
          0.06704707560627673,
          0.20399429386590587,
          0.24750356633380885,
          0.13338088445078458,
          0.062054208273894434,
          0.07275320970042795,
          0.07275320970042795,
          0.07132667617689017,
          0.052781740370898694,
          0.1340941512125535,
          0.0456490727532097,
          0.21540656205420824,
          0.2510699001426534,
          0.17974322396576317,
          0.20114122681883026,
          0.22967189728958629,
          0.2653352353780314,
          0.297432239657632,
          0.3152639087018545,
          0.16904422253922965,
          0.21540656205420824,
          0.2225392296718973,
          0.22967189728958629,
          0.35805991440798857,
          0.17261055634807418,
          0.1940085592011412,
          0.4115549215406562,
          0.3937232524964337,
          0.09771754636233951,
          0.24750356633380885,
          0.2653352353780314,
          0.1940085592011412,
          0.15834522111269614,
          0.1440798858773181,
          0.1048502139800285,
          0.2831669044222539,
          0.25820256776034234,
          0.318830242510699,
          0.1440798858773181,
          0.4293865905848788,
          0.27246790299572043,
          0.24393723252496433,
          0.17261055634807418,
          0.2867332382310984,
          0.20827389443651925,
          0.2831669044222539,
          0.2403708987161198,
          0.17261055634807418,
          0.297432239657632,
          0.29029957203994294,
          0.33666191155492153,
          0.2510699001426534,
          0.1654778887303852,
          0.1369472182596291,
          0.27246790299572043,
          0.3295292439372326,
          0.33666191155492153,
          0.3972895863052782,
          0.40085592011412274,
          0.20114122681883026
         ]
        }
       ],
       "layout": {
        "scene": {
         "xaxis": {
          "title": {
           "text": "Intensidade de Cor"
          }
         },
         "yaxis": {
          "title": {
           "text": "Álcool"
          }
         },
         "zaxis": {
          "title": {
           "text": "Proline"
          }
         }
        },
        "template": {
         "data": {
          "bar": [
           {
            "error_x": {
             "color": "#2a3f5f"
            },
            "error_y": {
             "color": "#2a3f5f"
            },
            "marker": {
             "line": {
              "color": "#E5ECF6",
              "width": 0.5
             }
            },
            "type": "bar"
           }
          ],
          "barpolar": [
           {
            "marker": {
             "line": {
              "color": "#E5ECF6",
              "width": 0.5
             }
            },
            "type": "barpolar"
           }
          ],
          "carpet": [
           {
            "aaxis": {
             "endlinecolor": "#2a3f5f",
             "gridcolor": "white",
             "linecolor": "white",
             "minorgridcolor": "white",
             "startlinecolor": "#2a3f5f"
            },
            "baxis": {
             "endlinecolor": "#2a3f5f",
             "gridcolor": "white",
             "linecolor": "white",
             "minorgridcolor": "white",
             "startlinecolor": "#2a3f5f"
            },
            "type": "carpet"
           }
          ],
          "choropleth": [
           {
            "colorbar": {
             "outlinewidth": 0,
             "ticks": ""
            },
            "type": "choropleth"
           }
          ],
          "contour": [
           {
            "colorbar": {
             "outlinewidth": 0,
             "ticks": ""
            },
            "colorscale": [
             [
              0,
              "#0d0887"
             ],
             [
              0.1111111111111111,
              "#46039f"
             ],
             [
              0.2222222222222222,
              "#7201a8"
             ],
             [
              0.3333333333333333,
              "#9c179e"
             ],
             [
              0.4444444444444444,
              "#bd3786"
             ],
             [
              0.5555555555555556,
              "#d8576b"
             ],
             [
              0.6666666666666666,
              "#ed7953"
             ],
             [
              0.7777777777777778,
              "#fb9f3a"
             ],
             [
              0.8888888888888888,
              "#fdca26"
             ],
             [
              1,
              "#f0f921"
             ]
            ],
            "type": "contour"
           }
          ],
          "contourcarpet": [
           {
            "colorbar": {
             "outlinewidth": 0,
             "ticks": ""
            },
            "type": "contourcarpet"
           }
          ],
          "heatmap": [
           {
            "colorbar": {
             "outlinewidth": 0,
             "ticks": ""
            },
            "colorscale": [
             [
              0,
              "#0d0887"
             ],
             [
              0.1111111111111111,
              "#46039f"
             ],
             [
              0.2222222222222222,
              "#7201a8"
             ],
             [
              0.3333333333333333,
              "#9c179e"
             ],
             [
              0.4444444444444444,
              "#bd3786"
             ],
             [
              0.5555555555555556,
              "#d8576b"
             ],
             [
              0.6666666666666666,
              "#ed7953"
             ],
             [
              0.7777777777777778,
              "#fb9f3a"
             ],
             [
              0.8888888888888888,
              "#fdca26"
             ],
             [
              1,
              "#f0f921"
             ]
            ],
            "type": "heatmap"
           }
          ],
          "heatmapgl": [
           {
            "colorbar": {
             "outlinewidth": 0,
             "ticks": ""
            },
            "colorscale": [
             [
              0,
              "#0d0887"
             ],
             [
              0.1111111111111111,
              "#46039f"
             ],
             [
              0.2222222222222222,
              "#7201a8"
             ],
             [
              0.3333333333333333,
              "#9c179e"
             ],
             [
              0.4444444444444444,
              "#bd3786"
             ],
             [
              0.5555555555555556,
              "#d8576b"
             ],
             [
              0.6666666666666666,
              "#ed7953"
             ],
             [
              0.7777777777777778,
              "#fb9f3a"
             ],
             [
              0.8888888888888888,
              "#fdca26"
             ],
             [
              1,
              "#f0f921"
             ]
            ],
            "type": "heatmapgl"
           }
          ],
          "histogram": [
           {
            "marker": {
             "colorbar": {
              "outlinewidth": 0,
              "ticks": ""
             }
            },
            "type": "histogram"
           }
          ],
          "histogram2d": [
           {
            "colorbar": {
             "outlinewidth": 0,
             "ticks": ""
            },
            "colorscale": [
             [
              0,
              "#0d0887"
             ],
             [
              0.1111111111111111,
              "#46039f"
             ],
             [
              0.2222222222222222,
              "#7201a8"
             ],
             [
              0.3333333333333333,
              "#9c179e"
             ],
             [
              0.4444444444444444,
              "#bd3786"
             ],
             [
              0.5555555555555556,
              "#d8576b"
             ],
             [
              0.6666666666666666,
              "#ed7953"
             ],
             [
              0.7777777777777778,
              "#fb9f3a"
             ],
             [
              0.8888888888888888,
              "#fdca26"
             ],
             [
              1,
              "#f0f921"
             ]
            ],
            "type": "histogram2d"
           }
          ],
          "histogram2dcontour": [
           {
            "colorbar": {
             "outlinewidth": 0,
             "ticks": ""
            },
            "colorscale": [
             [
              0,
              "#0d0887"
             ],
             [
              0.1111111111111111,
              "#46039f"
             ],
             [
              0.2222222222222222,
              "#7201a8"
             ],
             [
              0.3333333333333333,
              "#9c179e"
             ],
             [
              0.4444444444444444,
              "#bd3786"
             ],
             [
              0.5555555555555556,
              "#d8576b"
             ],
             [
              0.6666666666666666,
              "#ed7953"
             ],
             [
              0.7777777777777778,
              "#fb9f3a"
             ],
             [
              0.8888888888888888,
              "#fdca26"
             ],
             [
              1,
              "#f0f921"
             ]
            ],
            "type": "histogram2dcontour"
           }
          ],
          "mesh3d": [
           {
            "colorbar": {
             "outlinewidth": 0,
             "ticks": ""
            },
            "type": "mesh3d"
           }
          ],
          "parcoords": [
           {
            "line": {
             "colorbar": {
              "outlinewidth": 0,
              "ticks": ""
             }
            },
            "type": "parcoords"
           }
          ],
          "scatter": [
           {
            "marker": {
             "colorbar": {
              "outlinewidth": 0,
              "ticks": ""
             }
            },
            "type": "scatter"
           }
          ],
          "scatter3d": [
           {
            "line": {
             "colorbar": {
              "outlinewidth": 0,
              "ticks": ""
             }
            },
            "marker": {
             "colorbar": {
              "outlinewidth": 0,
              "ticks": ""
             }
            },
            "type": "scatter3d"
           }
          ],
          "scattercarpet": [
           {
            "marker": {
             "colorbar": {
              "outlinewidth": 0,
              "ticks": ""
             }
            },
            "type": "scattercarpet"
           }
          ],
          "scattergeo": [
           {
            "marker": {
             "colorbar": {
              "outlinewidth": 0,
              "ticks": ""
             }
            },
            "type": "scattergeo"
           }
          ],
          "scattergl": [
           {
            "marker": {
             "colorbar": {
              "outlinewidth": 0,
              "ticks": ""
             }
            },
            "type": "scattergl"
           }
          ],
          "scattermapbox": [
           {
            "marker": {
             "colorbar": {
              "outlinewidth": 0,
              "ticks": ""
             }
            },
            "type": "scattermapbox"
           }
          ],
          "scatterpolar": [
           {
            "marker": {
             "colorbar": {
              "outlinewidth": 0,
              "ticks": ""
             }
            },
            "type": "scatterpolar"
           }
          ],
          "scatterpolargl": [
           {
            "marker": {
             "colorbar": {
              "outlinewidth": 0,
              "ticks": ""
             }
            },
            "type": "scatterpolargl"
           }
          ],
          "scatterternary": [
           {
            "marker": {
             "colorbar": {
              "outlinewidth": 0,
              "ticks": ""
             }
            },
            "type": "scatterternary"
           }
          ],
          "surface": [
           {
            "colorbar": {
             "outlinewidth": 0,
             "ticks": ""
            },
            "colorscale": [
             [
              0,
              "#0d0887"
             ],
             [
              0.1111111111111111,
              "#46039f"
             ],
             [
              0.2222222222222222,
              "#7201a8"
             ],
             [
              0.3333333333333333,
              "#9c179e"
             ],
             [
              0.4444444444444444,
              "#bd3786"
             ],
             [
              0.5555555555555556,
              "#d8576b"
             ],
             [
              0.6666666666666666,
              "#ed7953"
             ],
             [
              0.7777777777777778,
              "#fb9f3a"
             ],
             [
              0.8888888888888888,
              "#fdca26"
             ],
             [
              1,
              "#f0f921"
             ]
            ],
            "type": "surface"
           }
          ],
          "table": [
           {
            "cells": {
             "fill": {
              "color": "#EBF0F8"
             },
             "line": {
              "color": "white"
             }
            },
            "header": {
             "fill": {
              "color": "#C8D4E3"
             },
             "line": {
              "color": "white"
             }
            },
            "type": "table"
           }
          ]
         },
         "layout": {
          "annotationdefaults": {
           "arrowcolor": "#2a3f5f",
           "arrowhead": 0,
           "arrowwidth": 1
          },
          "colorscale": {
           "diverging": [
            [
             0,
             "#8e0152"
            ],
            [
             0.1,
             "#c51b7d"
            ],
            [
             0.2,
             "#de77ae"
            ],
            [
             0.3,
             "#f1b6da"
            ],
            [
             0.4,
             "#fde0ef"
            ],
            [
             0.5,
             "#f7f7f7"
            ],
            [
             0.6,
             "#e6f5d0"
            ],
            [
             0.7,
             "#b8e186"
            ],
            [
             0.8,
             "#7fbc41"
            ],
            [
             0.9,
             "#4d9221"
            ],
            [
             1,
             "#276419"
            ]
           ],
           "sequential": [
            [
             0,
             "#0d0887"
            ],
            [
             0.1111111111111111,
             "#46039f"
            ],
            [
             0.2222222222222222,
             "#7201a8"
            ],
            [
             0.3333333333333333,
             "#9c179e"
            ],
            [
             0.4444444444444444,
             "#bd3786"
            ],
            [
             0.5555555555555556,
             "#d8576b"
            ],
            [
             0.6666666666666666,
             "#ed7953"
            ],
            [
             0.7777777777777778,
             "#fb9f3a"
            ],
            [
             0.8888888888888888,
             "#fdca26"
            ],
            [
             1,
             "#f0f921"
            ]
           ],
           "sequentialminus": [
            [
             0,
             "#0d0887"
            ],
            [
             0.1111111111111111,
             "#46039f"
            ],
            [
             0.2222222222222222,
             "#7201a8"
            ],
            [
             0.3333333333333333,
             "#9c179e"
            ],
            [
             0.4444444444444444,
             "#bd3786"
            ],
            [
             0.5555555555555556,
             "#d8576b"
            ],
            [
             0.6666666666666666,
             "#ed7953"
            ],
            [
             0.7777777777777778,
             "#fb9f3a"
            ],
            [
             0.8888888888888888,
             "#fdca26"
            ],
            [
             1,
             "#f0f921"
            ]
           ]
          },
          "colorway": [
           "#636efa",
           "#EF553B",
           "#00cc96",
           "#ab63fa",
           "#FFA15A",
           "#19d3f3",
           "#FF6692",
           "#B6E880",
           "#FF97FF",
           "#FECB52"
          ],
          "font": {
           "color": "#2a3f5f"
          },
          "geo": {
           "bgcolor": "white",
           "lakecolor": "white",
           "landcolor": "#E5ECF6",
           "showlakes": true,
           "showland": true,
           "subunitcolor": "white"
          },
          "hoverlabel": {
           "align": "left"
          },
          "hovermode": "closest",
          "mapbox": {
           "style": "light"
          },
          "paper_bgcolor": "white",
          "plot_bgcolor": "#E5ECF6",
          "polar": {
           "angularaxis": {
            "gridcolor": "white",
            "linecolor": "white",
            "ticks": ""
           },
           "bgcolor": "#E5ECF6",
           "radialaxis": {
            "gridcolor": "white",
            "linecolor": "white",
            "ticks": ""
           }
          },
          "scene": {
           "xaxis": {
            "backgroundcolor": "#E5ECF6",
            "gridcolor": "white",
            "gridwidth": 2,
            "linecolor": "white",
            "showbackground": true,
            "ticks": "",
            "zerolinecolor": "white"
           },
           "yaxis": {
            "backgroundcolor": "#E5ECF6",
            "gridcolor": "white",
            "gridwidth": 2,
            "linecolor": "white",
            "showbackground": true,
            "ticks": "",
            "zerolinecolor": "white"
           },
           "zaxis": {
            "backgroundcolor": "#E5ECF6",
            "gridcolor": "white",
            "gridwidth": 2,
            "linecolor": "white",
            "showbackground": true,
            "ticks": "",
            "zerolinecolor": "white"
           }
          },
          "shapedefaults": {
           "line": {
            "color": "#2a3f5f"
           }
          },
          "ternary": {
           "aaxis": {
            "gridcolor": "white",
            "linecolor": "white",
            "ticks": ""
           },
           "baxis": {
            "gridcolor": "white",
            "linecolor": "white",
            "ticks": ""
           },
           "bgcolor": "#E5ECF6",
           "caxis": {
            "gridcolor": "white",
            "linecolor": "white",
            "ticks": ""
           }
          },
          "title": {
           "x": 0.05
          },
          "xaxis": {
           "automargin": true,
           "gridcolor": "white",
           "linecolor": "white",
           "ticks": "",
           "zerolinecolor": "white",
           "zerolinewidth": 2
          },
          "yaxis": {
           "automargin": true,
           "gridcolor": "white",
           "linecolor": "white",
           "ticks": "",
           "zerolinecolor": "white",
           "zerolinewidth": 2
          }
         }
        }
       }
      },
      "text/html": [
       "<div>\n",
       "        \n",
       "        \n",
       "            <div id=\"8dee1e5b-cf5f-4a71-ad32-4457359578c9\" class=\"plotly-graph-div\" style=\"height:525px; width:100%;\"></div>\n",
       "            <script type=\"text/javascript\">\n",
       "                require([\"plotly\"], function(Plotly) {\n",
       "                    window.PLOTLYENV=window.PLOTLYENV || {};\n",
       "                    \n",
       "                if (document.getElementById(\"8dee1e5b-cf5f-4a71-ad32-4457359578c9\")) {\n",
       "                    Plotly.newPlot(\n",
       "                        '8dee1e5b-cf5f-4a71-ad32-4457359578c9',\n",
       "                        [{\"marker\": {\"color\": [1.0, 1.0, 1.0, 1.0, 0.0, 1.0, 1.0, 1.0, 1.0, 1.0, 1.0, 1.0, 1.0, 0.0, 1.0, 1.0, 1.0, 1.0, 1.0, 1.0, 1.0, 1.0, 1.0, 1.0, 1.0, 0.0, 1.0, 1.0, 1.0, 1.0, 1.0, 1.0, 1.0, 1.0, 1.0, 1.0, 1.0, 1.0, 1.0, 0.0, 1.0, 0.0, 1.0, 0.0, 1.0, 0.0, 1.0, 1.0, 1.0, 1.0, 0.0, 1.0, 1.0, 1.0, 1.0, 1.0, 1.0, 1.0, 1.0, 0.0, 0.0, 0.0, 0.0, 0.0, 0.0, 0.0, 0.0, 2.0, 0.0, 0.0, 0.0, 0.0, 0.0, 0.0, 0.0, 0.0, 0.0, 0.0, 0.0, 0.0, 0.0, 2.0, 0.0, 0.0, 0.0, 2.0, 0.0, 0.0, 0.0, 0.0, 2.0, 2.0, 0.0, 0.0, 0.0, 0.0, 0.0, 0.0, 0.0, 0.0, 0.0, 2.0, 0.0, 2.0, 2.0, 0.0, 2.0, 2.0, 2.0, 0.0, 0.0, 0.0, 0.0, 0.0, 0.0, 0.0, 2.0, 2.0, 0.0, 2.0, 0.0, 0.0, 0.0, 0.0, 0.0, 2.0, 0.0, 0.0, 0.0, 0.0, 0.0, 3.0, 0.0, 3.0, 0.0, 3.0, 0.0, 0.0, 3.0, 0.0, 0.0, 3.0, 0.0, 0.0, 3.0, 3.0, 0.0, 3.0, 3.0, 3.0, 0.0, 0.0, 0.0, 3.0, 0.0, 3.0, 3.0, 0.0, 0.0, 0.0, 3.0, 3.0, 3.0, 3.0, 3.0, 0.0, 3.0, 3.0, 3.0, 0.0, 3.0, 3.0, 3.0, 3.0, 3.0, 3.0, 3.0, 3.0]}, \"mode\": \"markers\", \"text\": [1.0, 1.0, 1.0, 1.0, 0.0, 1.0, 1.0, 1.0, 1.0, 1.0, 1.0, 1.0, 1.0, 0.0, 1.0, 1.0, 1.0, 1.0, 1.0, 1.0, 1.0, 1.0, 1.0, 1.0, 1.0, 0.0, 1.0, 1.0, 1.0, 1.0, 1.0, 1.0, 1.0, 1.0, 1.0, 1.0, 1.0, 1.0, 1.0, 0.0, 1.0, 0.0, 1.0, 0.0, 1.0, 0.0, 1.0, 1.0, 1.0, 1.0, 0.0, 1.0, 1.0, 1.0, 1.0, 1.0, 1.0, 1.0, 1.0, 0.0, 0.0, 0.0, 0.0, 0.0, 0.0, 0.0, 0.0, 2.0, 0.0, 0.0, 0.0, 0.0, 0.0, 0.0, 0.0, 0.0, 0.0, 0.0, 0.0, 0.0, 0.0, 2.0, 0.0, 0.0, 0.0, 2.0, 0.0, 0.0, 0.0, 0.0, 2.0, 2.0, 0.0, 0.0, 0.0, 0.0, 0.0, 0.0, 0.0, 0.0, 0.0, 2.0, 0.0, 2.0, 2.0, 0.0, 2.0, 2.0, 2.0, 0.0, 0.0, 0.0, 0.0, 0.0, 0.0, 0.0, 2.0, 2.0, 0.0, 2.0, 0.0, 0.0, 0.0, 0.0, 0.0, 2.0, 0.0, 0.0, 0.0, 0.0, 0.0, 3.0, 0.0, 3.0, 0.0, 3.0, 0.0, 0.0, 3.0, 0.0, 0.0, 3.0, 0.0, 0.0, 3.0, 3.0, 0.0, 3.0, 3.0, 3.0, 0.0, 0.0, 0.0, 3.0, 0.0, 3.0, 3.0, 0.0, 0.0, 0.0, 3.0, 3.0, 3.0, 3.0, 3.0, 0.0, 3.0, 3.0, 3.0, 0.0, 3.0, 3.0, 3.0, 3.0, 3.0, 3.0, 3.0, 3.0], \"type\": \"scatter3d\", \"x\": [0.3720136518771331, 0.26450511945392485, 0.3754266211604095, 0.5563139931740614, 0.2593856655290102, 0.4667235494880546, 0.3387372013651877, 0.3216723549488054, 0.33447098976109213, 0.5068259385665529, 0.3813993174061433, 0.31740614334470985, 0.3686006825938566, 0.3515358361774744, 0.5307167235494881, 0.5136518771331058, 0.41979522184300344, 0.4539249146757679, 0.6331058020477814, 0.325938566552901, 0.37286689419795227, 0.27474402730375425, 0.21501706484641633, 0.22610921501706485, 0.1911262798634812, 0.1962457337883959, 0.30034129692832756, 0.22781569965870305, 0.27474402730375425, 0.29180887372013653, 0.37713310580204773, 0.4795221843003413, 0.21843003412969278, 0.3515358361774744, 0.2491467576791809, 0.325938566552901, 0.2832764505119454, 0.2534129692832764, 0.20648464163822525, 0.325938566552901, 0.4138225255972696, 0.2559726962457338, 0.35409556313993173, 0.2627986348122867, 0.32081911262798635, 0.33788395904436863, 0.3088737201365188, 0.4112627986348123, 0.41979522184300344, 0.6501706484641638, 0.5051194539249146, 0.3686006825938566, 0.4923208191126279, 0.42832764505119447, 0.38993174061433444, 0.424061433447099, 0.4351535836177475, 0.40273037542662116, 0.4709897610921502, 0.057167235494880536, 0.1697952218430034, 0.3813993174061433, 0.21501706484641633, 0.2704778156996587, 0.1424914675767918, 0.2832764505119454, 0.3430034129692833, 0.2901023890784983, 0.16126279863481227, 0.13395904436860068, 0.15102389078498293, 0.17918088737201363, 0.2098976109215017, 0.1766211604095563, 0.16467576791808872, 0.21501706484641633, 0.2832764505119454, 0.11689419795221842, 0.18088737201365188, 0.1100682593856655, 0.10409556313993173, 0.22354948805460748, 0.07849829351535836, 0.30034129692832756, 0.15102389078498293, 0.1143344709897611, 0.09982935153583619, 0.11262798634812288, 0.1296928327645051, 0.03924914675767918, 0.09556313993174059, 0.1979522184300341, 0.15102389078498293, 0.07423208191126279, 0.16808873720136516, 0.11262798634812288, 0.10409556313993173, 0.13822525597269622, 0.27474402730375425, 0.08703071672354948, 0.17235494880546073, 0.09982935153583619, 0.1296928327645051, 0.06655290102389078, 0.14163822525597267, 0.12116040955631399, 0.18088737201365188, 0.17235494880546073, 0.12116040955631399, 0.11689419795221842, 0.13822525597269622, 0.06143344709897611, 0.21501706484641633, 0.15358361774744025, 0.13822525597269622, 0.052901023890784965, 0.057167235494880536, 0.06655290102389078, 0.18088737201365188, 0.0, 0.16808873720136516, 0.40273037542662116, 0.06825938566552903, 0.11262798634812288, 0.1296928327645051, 0.12627986348122863, 0.22696245733788392, 0.14675767918088736, 0.07167235494880547, 0.11262798634812288, 0.2406143344709897, 0.3515358361774744, 0.37713310580204773, 0.31740614334470985, 0.35580204778157, 0.4965870307167235, 0.21928327645051196, 0.31740614334470985, 0.37713310580204773, 0.31058020477815695, 0.2832764505119454, 0.3686006825938566, 0.26194539249146753, 0.2662116040955631, 0.5912969283276451, 0.23208191126279862, 0.3088737201365188, 0.5435153583617748, 0.6092150170648464, 0.6928327645051194, 0.6245733788395904, 0.8122866894197952, 0.4965870307167235, 0.78839590443686, 0.5392491467576791, 0.5648464163822525, 0.659556313993174, 0.5307167235494881, 0.9999999999999999, 0.893344709897611, 0.5435153583617748, 0.39249146757679176, 0.36689419795221845, 0.341296928327645, 0.7081911262798635, 0.45563139931740615, 0.8020477815699658, 0.7662116040955631, 0.6296928327645052, 0.6160409556313993, 0.36006825938566556, 0.735494795221843, 0.7184300341296928, 0.5477815699658704, 0.5136518771331058, 0.7610921501706484, 0.6843003412969284, 0.6757679180887372], \"y\": [0.8421052631578951, 0.5710526315789473, 0.560526315789474, 0.8789473684210525, 0.5815789473684214, 0.8342105263157893, 0.8842105263157896, 0.797368421052632, 1.0, 0.7447368421052629, 0.8078947368421052, 0.8131578947368419, 0.7157894736842105, 0.9789473684210526, 0.8815789473684212, 0.6842105263157898, 0.8605263157894738, 0.736842105263158, 0.831578947368421, 0.6868421052631581, 0.797368421052632, 0.5, 0.7052631578947373, 0.47894736842105257, 0.6499999999999999, 0.5315789473684216, 0.6210526315789475, 0.5973684210526318, 0.7473684210526317, 0.7868421052631578, 0.7105263157894739, 0.6710526315789473, 0.6973684210526314, 0.7184210526315788, 0.6526315789473687, 0.6447368421052633, 0.5921052631578947, 0.5315789473684216, 0.5368421052631582, 0.8394736842105264, 0.6657894736842107, 0.6263157894736846, 0.7500000000000004, 0.5815789473684214, 0.5315789473684216, 0.836842105263158, 0.8815789473684212, 0.7552631578947371, 0.8078947368421052, 0.7657894736842104, 0.5315789473684216, 0.736842105263158, 0.7342105263157896, 0.7210526315789472, 0.7131578947368422, 0.6657894736842107, 0.8394736842105264, 0.594736842105263, 0.7078947368421056, 0.3526315789473684, 0.34210526315789513, 0.4236842105263161, 0.6947368421052631, 0.3526315789473684, 0.30000000000000027, 0.3526315789473684, 0.5473684210526315, 0.3526315789473684, 0.6078947368421055, 0.310526315789474, 0.331578947368421, 0.7447368421052629, 0.6473684210526316, 0.5157894736842108, 0.2447368421052638, 0.1657894736842107, 0.5263157894736841, 0.2131578947368422, 0.34210526315789513, 0.43947368421052646, 0.2552631578947371, 0.44473684210526354, 0.2763157894736845, 0.5315789473684216, 0.2131578947368422, 0.43157894736842106, 0.29736842105263195, 0.1631578947368424, 0.16052631578947407, 0.2763157894736845, 0.2763157894736845, 0.2552631578947371, 0.43684210526315814, 0.331578947368421, 0.155263157894737, 0.3789473684210529, 0.20526315789473726, 0.331578947368421, 0.3526315789473684, 0.331578947368421, 0.2763157894736845, 0.4131578947368424, 0.34473684210526345, 0.20789473684210558, 0.38947368421052664, 0.3657894736842109, 0.3210526315789477, 0.44473684210526354, 0.3131578947368423, 0.15263157894736867, 0.11315789473684257, 0.39210526315789496, 0.19210526315789478, 0.10000000000000053, 0.2763157894736845, 0.0, 0.20789473684210558, 0.3657894736842109, 0.45789473684210513, 0.2552631578947371, 0.1105263157894738, 0.13947368421052664, 0.3657894736842109, 0.5315789473684216, 0.2210526315789476, 0.2736842105263162, 0.3684210526315792, 0.20000000000000018, 0.3526315789473684, 0.26578947368421035, 0.4815789473684209, 0.4868421052631584, 0.4684210526315793, 0.43947368421052646, 0.38947368421052664, 0.4131578947368424, 0.3210526315789477, 0.3947368421052633, 0.6473684210526316, 0.47631578947368425, 0.5, 0.6131578947368421, 0.655263157894737, 0.6815789473684211, 0.3210526315789477, 0.560526315789474, 0.7500000000000004, 0.48421052631578965, 0.6026315789473689, 0.5394736842105265, 0.6499999999999999, 0.4631578947368422, 0.5473684210526315, 0.5789473684210531, 0.4078947368421053, 0.5631578947368423, 0.7394736842105263, 0.37368421052631584, 0.8710526315789475, 0.6447368421052633, 0.3500000000000001, 0.7000000000000002, 0.47894736842105257, 0.5078947368421058, 0.7236842105263159, 0.7105263157894739, 0.6368421052631579, 0.4710526315789476, 0.6710526315789473, 0.6236842105263158, 0.3078947368421052, 0.45789473684210513, 0.823684210526316, 0.7052631578947373, 0.6236842105263158, 0.5894736842105264, 0.5631578947368423, 0.8157894736842106], \"z\": [0.5613409415121255, 0.5506419400855921, 0.6469329529243938, 0.8573466476462198, 0.3259629101283881, 0.8359486447931527, 0.7218259629101285, 0.725392296718973, 0.5470756062767476, 0.5470756062767476, 0.8787446504992867, 0.7146932952924394, 0.7432239657631955, 0.6219686162624822, 0.9051355206847361, 0.7360912981455064, 0.7146932952924394, 0.6077032810271041, 1.0, 0.40442225392296727, 0.35805991440798857, 0.35092724679029963, 0.5399429386590585, 0.5256776034236805, 0.40442225392296727, 0.3937232524964337, 0.6540656205420827, 0.7182596291012839, 0.4543509272467904, 0.5399429386590585, 0.7182596291012839, 0.8823109843081313, 0.5078459343794579, 0.6825962910128388, 0.5827389443651926, 0.4579172610556348, 0.4293865905848788, 0.5898716119828816, 0.529243937232525, 0.3437945791726106, 0.36875891583452214, 0.5399429386590585, 0.5827389443651926, 0.2867332382310984, 0.43295292439372324, 0.5720399429386591, 0.5613409415121255, 0.5042796005706135, 0.557774607703281, 0.7004279600570614, 0.6219686162624822, 0.7039942938659058, 0.6504992867332383, 0.782453637660485, 0.557774607703281, 0.6005706134094152, 0.4935805991440799, 0.7075606276747504, 0.7182596291012839, 0.17261055634807418, 0.2867332382310984, 0.12268188302425106, 0.2510699001426534, 0.10128388017118403, 0.054921540656205386, 0.2853067047075606, 0.15977175463623397, 0.1654778887303852, 0.33666191155492153, 0.31383737517831667, 0.4222539229671898, 0.09415121255349498, 0.13837375178316688, 0.5042796005706135, 0.4336661911554922, 0.10699001426533525, 0.08131241084165478, 0.15834522111269614, 0.33666191155492153, 0.1319543509272468, 0.0, 0.3109843081312411, 0.2510699001426534, 0.16904422253922965, 0.17261055634807418, 0.12268188302425106, 0.15477888730385161, 0.20256776034236804, 0.2867332382310984, 0.24750356633380885, 0.1440798858773181, 0.12268188302425106, 0.15477888730385161, 0.008559201141226797, 0.047788873038516394, 0.4700427960057062, 0.24750356633380885, 0.10699001426533525, 0.27246790299572043, 0.09129814550641938, 0.30813124108416545, 0.20256776034236804, 0.11412268188302424, 0.09771754636233951, 0.2810271041369472, 0.02639087018544936, 0.1654778887303852, 0.14978601997146931, 0.02425106990014264, 0.2867332382310984, 0.20256776034236804, 0.033523537803138354, 0.23466476462196864, 0.11126961483594863, 0.07631954350927247, 0.09201141226818829, 0.15477888730385161, 0.047788873038516394, 0.06704707560627673, 0.20399429386590587, 0.24750356633380885, 0.13338088445078458, 0.062054208273894434, 0.07275320970042795, 0.07275320970042795, 0.07132667617689017, 0.052781740370898694, 0.1340941512125535, 0.0456490727532097, 0.21540656205420824, 0.2510699001426534, 0.17974322396576317, 0.20114122681883026, 0.22967189728958629, 0.2653352353780314, 0.297432239657632, 0.3152639087018545, 0.16904422253922965, 0.21540656205420824, 0.2225392296718973, 0.22967189728958629, 0.35805991440798857, 0.17261055634807418, 0.1940085592011412, 0.4115549215406562, 0.3937232524964337, 0.09771754636233951, 0.24750356633380885, 0.2653352353780314, 0.1940085592011412, 0.15834522111269614, 0.1440798858773181, 0.1048502139800285, 0.2831669044222539, 0.25820256776034234, 0.318830242510699, 0.1440798858773181, 0.4293865905848788, 0.27246790299572043, 0.24393723252496433, 0.17261055634807418, 0.2867332382310984, 0.20827389443651925, 0.2831669044222539, 0.2403708987161198, 0.17261055634807418, 0.297432239657632, 0.29029957203994294, 0.33666191155492153, 0.2510699001426534, 0.1654778887303852, 0.1369472182596291, 0.27246790299572043, 0.3295292439372326, 0.33666191155492153, 0.3972895863052782, 0.40085592011412274, 0.20114122681883026]}],\n",
       "                        {\"scene\": {\"xaxis\": {\"title\": {\"text\": \"Intensidade de Cor\"}}, \"yaxis\": {\"title\": {\"text\": \"\\u00c1lcool\"}}, \"zaxis\": {\"title\": {\"text\": \"Proline\"}}}, \"template\": {\"data\": {\"bar\": [{\"error_x\": {\"color\": \"#2a3f5f\"}, \"error_y\": {\"color\": \"#2a3f5f\"}, \"marker\": {\"line\": {\"color\": \"#E5ECF6\", \"width\": 0.5}}, \"type\": \"bar\"}], \"barpolar\": [{\"marker\": {\"line\": {\"color\": \"#E5ECF6\", \"width\": 0.5}}, \"type\": \"barpolar\"}], \"carpet\": [{\"aaxis\": {\"endlinecolor\": \"#2a3f5f\", \"gridcolor\": \"white\", \"linecolor\": \"white\", \"minorgridcolor\": \"white\", \"startlinecolor\": \"#2a3f5f\"}, \"baxis\": {\"endlinecolor\": \"#2a3f5f\", \"gridcolor\": \"white\", \"linecolor\": \"white\", \"minorgridcolor\": \"white\", \"startlinecolor\": \"#2a3f5f\"}, \"type\": \"carpet\"}], \"choropleth\": [{\"colorbar\": {\"outlinewidth\": 0, \"ticks\": \"\"}, \"type\": \"choropleth\"}], \"contour\": [{\"colorbar\": {\"outlinewidth\": 0, \"ticks\": \"\"}, \"colorscale\": [[0.0, \"#0d0887\"], [0.1111111111111111, \"#46039f\"], [0.2222222222222222, \"#7201a8\"], [0.3333333333333333, \"#9c179e\"], [0.4444444444444444, \"#bd3786\"], [0.5555555555555556, \"#d8576b\"], [0.6666666666666666, \"#ed7953\"], [0.7777777777777778, \"#fb9f3a\"], [0.8888888888888888, \"#fdca26\"], [1.0, \"#f0f921\"]], \"type\": \"contour\"}], \"contourcarpet\": [{\"colorbar\": {\"outlinewidth\": 0, \"ticks\": \"\"}, \"type\": \"contourcarpet\"}], \"heatmap\": [{\"colorbar\": {\"outlinewidth\": 0, \"ticks\": \"\"}, \"colorscale\": [[0.0, \"#0d0887\"], [0.1111111111111111, \"#46039f\"], [0.2222222222222222, \"#7201a8\"], [0.3333333333333333, \"#9c179e\"], [0.4444444444444444, \"#bd3786\"], [0.5555555555555556, \"#d8576b\"], [0.6666666666666666, \"#ed7953\"], [0.7777777777777778, \"#fb9f3a\"], [0.8888888888888888, \"#fdca26\"], [1.0, \"#f0f921\"]], \"type\": \"heatmap\"}], \"heatmapgl\": [{\"colorbar\": {\"outlinewidth\": 0, \"ticks\": \"\"}, \"colorscale\": [[0.0, \"#0d0887\"], [0.1111111111111111, \"#46039f\"], [0.2222222222222222, \"#7201a8\"], [0.3333333333333333, \"#9c179e\"], [0.4444444444444444, \"#bd3786\"], [0.5555555555555556, \"#d8576b\"], [0.6666666666666666, \"#ed7953\"], [0.7777777777777778, \"#fb9f3a\"], [0.8888888888888888, \"#fdca26\"], [1.0, \"#f0f921\"]], \"type\": \"heatmapgl\"}], \"histogram\": [{\"marker\": {\"colorbar\": {\"outlinewidth\": 0, \"ticks\": \"\"}}, \"type\": \"histogram\"}], \"histogram2d\": [{\"colorbar\": {\"outlinewidth\": 0, \"ticks\": \"\"}, \"colorscale\": [[0.0, \"#0d0887\"], [0.1111111111111111, \"#46039f\"], [0.2222222222222222, \"#7201a8\"], [0.3333333333333333, \"#9c179e\"], [0.4444444444444444, \"#bd3786\"], [0.5555555555555556, \"#d8576b\"], [0.6666666666666666, \"#ed7953\"], [0.7777777777777778, \"#fb9f3a\"], [0.8888888888888888, \"#fdca26\"], [1.0, \"#f0f921\"]], \"type\": \"histogram2d\"}], \"histogram2dcontour\": [{\"colorbar\": {\"outlinewidth\": 0, \"ticks\": \"\"}, \"colorscale\": [[0.0, \"#0d0887\"], [0.1111111111111111, \"#46039f\"], [0.2222222222222222, \"#7201a8\"], [0.3333333333333333, \"#9c179e\"], [0.4444444444444444, \"#bd3786\"], [0.5555555555555556, \"#d8576b\"], [0.6666666666666666, \"#ed7953\"], [0.7777777777777778, \"#fb9f3a\"], [0.8888888888888888, \"#fdca26\"], [1.0, \"#f0f921\"]], \"type\": \"histogram2dcontour\"}], \"mesh3d\": [{\"colorbar\": {\"outlinewidth\": 0, \"ticks\": \"\"}, \"type\": \"mesh3d\"}], \"parcoords\": [{\"line\": {\"colorbar\": {\"outlinewidth\": 0, \"ticks\": \"\"}}, \"type\": \"parcoords\"}], \"scatter\": [{\"marker\": {\"colorbar\": {\"outlinewidth\": 0, \"ticks\": \"\"}}, \"type\": \"scatter\"}], \"scatter3d\": [{\"line\": {\"colorbar\": {\"outlinewidth\": 0, \"ticks\": \"\"}}, \"marker\": {\"colorbar\": {\"outlinewidth\": 0, \"ticks\": \"\"}}, \"type\": \"scatter3d\"}], \"scattercarpet\": [{\"marker\": {\"colorbar\": {\"outlinewidth\": 0, \"ticks\": \"\"}}, \"type\": \"scattercarpet\"}], \"scattergeo\": [{\"marker\": {\"colorbar\": {\"outlinewidth\": 0, \"ticks\": \"\"}}, \"type\": \"scattergeo\"}], \"scattergl\": [{\"marker\": {\"colorbar\": {\"outlinewidth\": 0, \"ticks\": \"\"}}, \"type\": \"scattergl\"}], \"scattermapbox\": [{\"marker\": {\"colorbar\": {\"outlinewidth\": 0, \"ticks\": \"\"}}, \"type\": \"scattermapbox\"}], \"scatterpolar\": [{\"marker\": {\"colorbar\": {\"outlinewidth\": 0, \"ticks\": \"\"}}, \"type\": \"scatterpolar\"}], \"scatterpolargl\": [{\"marker\": {\"colorbar\": {\"outlinewidth\": 0, \"ticks\": \"\"}}, \"type\": \"scatterpolargl\"}], \"scatterternary\": [{\"marker\": {\"colorbar\": {\"outlinewidth\": 0, \"ticks\": \"\"}}, \"type\": \"scatterternary\"}], \"surface\": [{\"colorbar\": {\"outlinewidth\": 0, \"ticks\": \"\"}, \"colorscale\": [[0.0, \"#0d0887\"], [0.1111111111111111, \"#46039f\"], [0.2222222222222222, \"#7201a8\"], [0.3333333333333333, \"#9c179e\"], [0.4444444444444444, \"#bd3786\"], [0.5555555555555556, \"#d8576b\"], [0.6666666666666666, \"#ed7953\"], [0.7777777777777778, \"#fb9f3a\"], [0.8888888888888888, \"#fdca26\"], [1.0, \"#f0f921\"]], \"type\": \"surface\"}], \"table\": [{\"cells\": {\"fill\": {\"color\": \"#EBF0F8\"}, \"line\": {\"color\": \"white\"}}, \"header\": {\"fill\": {\"color\": \"#C8D4E3\"}, \"line\": {\"color\": \"white\"}}, \"type\": \"table\"}]}, \"layout\": {\"annotationdefaults\": {\"arrowcolor\": \"#2a3f5f\", \"arrowhead\": 0, \"arrowwidth\": 1}, \"colorscale\": {\"diverging\": [[0, \"#8e0152\"], [0.1, \"#c51b7d\"], [0.2, \"#de77ae\"], [0.3, \"#f1b6da\"], [0.4, \"#fde0ef\"], [0.5, \"#f7f7f7\"], [0.6, \"#e6f5d0\"], [0.7, \"#b8e186\"], [0.8, \"#7fbc41\"], [0.9, \"#4d9221\"], [1, \"#276419\"]], \"sequential\": [[0.0, \"#0d0887\"], [0.1111111111111111, \"#46039f\"], [0.2222222222222222, \"#7201a8\"], [0.3333333333333333, \"#9c179e\"], [0.4444444444444444, \"#bd3786\"], [0.5555555555555556, \"#d8576b\"], [0.6666666666666666, \"#ed7953\"], [0.7777777777777778, \"#fb9f3a\"], [0.8888888888888888, \"#fdca26\"], [1.0, \"#f0f921\"]], \"sequentialminus\": [[0.0, \"#0d0887\"], [0.1111111111111111, \"#46039f\"], [0.2222222222222222, \"#7201a8\"], [0.3333333333333333, \"#9c179e\"], [0.4444444444444444, \"#bd3786\"], [0.5555555555555556, \"#d8576b\"], [0.6666666666666666, \"#ed7953\"], [0.7777777777777778, \"#fb9f3a\"], [0.8888888888888888, \"#fdca26\"], [1.0, \"#f0f921\"]]}, \"colorway\": [\"#636efa\", \"#EF553B\", \"#00cc96\", \"#ab63fa\", \"#FFA15A\", \"#19d3f3\", \"#FF6692\", \"#B6E880\", \"#FF97FF\", \"#FECB52\"], \"font\": {\"color\": \"#2a3f5f\"}, \"geo\": {\"bgcolor\": \"white\", \"lakecolor\": \"white\", \"landcolor\": \"#E5ECF6\", \"showlakes\": true, \"showland\": true, \"subunitcolor\": \"white\"}, \"hoverlabel\": {\"align\": \"left\"}, \"hovermode\": \"closest\", \"mapbox\": {\"style\": \"light\"}, \"paper_bgcolor\": \"white\", \"plot_bgcolor\": \"#E5ECF6\", \"polar\": {\"angularaxis\": {\"gridcolor\": \"white\", \"linecolor\": \"white\", \"ticks\": \"\"}, \"bgcolor\": \"#E5ECF6\", \"radialaxis\": {\"gridcolor\": \"white\", \"linecolor\": \"white\", \"ticks\": \"\"}}, \"scene\": {\"xaxis\": {\"backgroundcolor\": \"#E5ECF6\", \"gridcolor\": \"white\", \"gridwidth\": 2, \"linecolor\": \"white\", \"showbackground\": true, \"ticks\": \"\", \"zerolinecolor\": \"white\"}, \"yaxis\": {\"backgroundcolor\": \"#E5ECF6\", \"gridcolor\": \"white\", \"gridwidth\": 2, \"linecolor\": \"white\", \"showbackground\": true, \"ticks\": \"\", \"zerolinecolor\": \"white\"}, \"zaxis\": {\"backgroundcolor\": \"#E5ECF6\", \"gridcolor\": \"white\", \"gridwidth\": 2, \"linecolor\": \"white\", \"showbackground\": true, \"ticks\": \"\", \"zerolinecolor\": \"white\"}}, \"shapedefaults\": {\"line\": {\"color\": \"#2a3f5f\"}}, \"ternary\": {\"aaxis\": {\"gridcolor\": \"white\", \"linecolor\": \"white\", \"ticks\": \"\"}, \"baxis\": {\"gridcolor\": \"white\", \"linecolor\": \"white\", \"ticks\": \"\"}, \"bgcolor\": \"#E5ECF6\", \"caxis\": {\"gridcolor\": \"white\", \"linecolor\": \"white\", \"ticks\": \"\"}}, \"title\": {\"x\": 0.05}, \"xaxis\": {\"automargin\": true, \"gridcolor\": \"white\", \"linecolor\": \"white\", \"ticks\": \"\", \"zerolinecolor\": \"white\", \"zerolinewidth\": 2}, \"yaxis\": {\"automargin\": true, \"gridcolor\": \"white\", \"linecolor\": \"white\", \"ticks\": \"\", \"zerolinecolor\": \"white\", \"zerolinewidth\": 2}}}},\n",
       "                        {\"responsive\": true}\n",
       "                    ).then(function(){\n",
       "                            \n",
       "var gd = document.getElementById('8dee1e5b-cf5f-4a71-ad32-4457359578c9');\n",
       "var x = new MutationObserver(function (mutations, observer) {{\n",
       "        var display = window.getComputedStyle(gd).display;\n",
       "        if (!display || display === 'none') {{\n",
       "            console.log([gd, 'removed!']);\n",
       "            Plotly.purge(gd);\n",
       "            observer.disconnect();\n",
       "        }}\n",
       "}});\n",
       "\n",
       "// Listen for the removal of the full notebook cells\n",
       "var notebookContainer = gd.closest('#notebook-container');\n",
       "if (notebookContainer) {{\n",
       "    x.observe(notebookContainer, {childList: true});\n",
       "}}\n",
       "\n",
       "// Listen for the clearing of the current output cell\n",
       "var outputEl = gd.closest('.output');\n",
       "if (outputEl) {{\n",
       "    x.observe(outputEl, {childList: true});\n",
       "}}\n",
       "\n",
       "                        })\n",
       "                };\n",
       "                });\n",
       "            </script>\n",
       "        </div>"
      ]
     },
     "metadata": {},
     "output_type": "display_data"
    }
   ],
   "source": [
    "fig.update_layout(scene = dict(\n",
    "                    xaxis_title='Intensidade de Cor',\n",
    "                    yaxis_title='Álcool',\n",
    "                    zaxis_title='Proline'))\n",
    "fig.show()"
   ]
  },
  {
   "cell_type": "code",
   "execution_count": 31,
   "metadata": {},
   "outputs": [],
   "source": [
    "# import plotly.express as px\n",
    "\n",
    "# fig = px.scatter_3d(df, x='Intensidade_de_cor', y='Alcool', z='Proline',)\n",
    "# fig.show()"
   ]
  },
  {
   "cell_type": "code",
   "execution_count": 33,
   "metadata": {},
   "outputs": [
    {
     "data": {
      "text/html": [
       "<div>\n",
       "<style scoped>\n",
       "    .dataframe tbody tr th:only-of-type {\n",
       "        vertical-align: middle;\n",
       "    }\n",
       "\n",
       "    .dataframe tbody tr th {\n",
       "        vertical-align: top;\n",
       "    }\n",
       "\n",
       "    .dataframe thead th {\n",
       "        text-align: right;\n",
       "    }\n",
       "</style>\n",
       "<table border=\"1\" class=\"dataframe\">\n",
       "  <thead>\n",
       "    <tr style=\"text-align: right;\">\n",
       "      <th></th>\n",
       "      <th>Alcool</th>\n",
       "      <th>Malic_Acid</th>\n",
       "      <th>Po</th>\n",
       "      <th>Alcalinidade_po</th>\n",
       "      <th>Magnesio</th>\n",
       "      <th>Total_Fenois</th>\n",
       "      <th>Flavanoids</th>\n",
       "      <th>Fenois_nao_flavalonoides</th>\n",
       "      <th>Proanthocyanins</th>\n",
       "      <th>Intensidade_de_cor</th>\n",
       "      <th>Hue</th>\n",
       "      <th>OD280</th>\n",
       "      <th>Proline</th>\n",
       "      <th>Customer_Segment</th>\n",
       "    </tr>\n",
       "  </thead>\n",
       "  <tbody>\n",
       "    <tr>\n",
       "      <th>0</th>\n",
       "      <td>0.558324</td>\n",
       "      <td>0.514721</td>\n",
       "      <td>0.574703</td>\n",
       "      <td>0.558700</td>\n",
       "      <td>0.315439</td>\n",
       "      <td>0.240746</td>\n",
       "      <td>0.096616</td>\n",
       "      <td>0.605314</td>\n",
       "      <td>0.237559</td>\n",
       "      <td>0.517343</td>\n",
       "      <td>0.167413</td>\n",
       "      <td>0.153921</td>\n",
       "      <td>0.249323</td>\n",
       "      <td>0.989796</td>\n",
       "    </tr>\n",
       "    <tr>\n",
       "      <th>1</th>\n",
       "      <td>0.711096</td>\n",
       "      <td>0.250000</td>\n",
       "      <td>0.587166</td>\n",
       "      <td>0.342955</td>\n",
       "      <td>0.400906</td>\n",
       "      <td>0.644080</td>\n",
       "      <td>0.557138</td>\n",
       "      <td>0.299371</td>\n",
       "      <td>0.470137</td>\n",
       "      <td>0.359386</td>\n",
       "      <td>0.476558</td>\n",
       "      <td>0.693590</td>\n",
       "      <td>0.595958</td>\n",
       "      <td>0.008333</td>\n",
       "    </tr>\n",
       "    <tr>\n",
       "      <th>2</th>\n",
       "      <td>0.322960</td>\n",
       "      <td>0.230939</td>\n",
       "      <td>0.469813</td>\n",
       "      <td>0.487823</td>\n",
       "      <td>0.261342</td>\n",
       "      <td>0.438831</td>\n",
       "      <td>0.366294</td>\n",
       "      <td>0.438337</td>\n",
       "      <td>0.383486</td>\n",
       "      <td>0.151704</td>\n",
       "      <td>0.468081</td>\n",
       "      <td>0.555396</td>\n",
       "      <td>0.167494</td>\n",
       "      <td>0.500000</td>\n",
       "    </tr>\n",
       "  </tbody>\n",
       "</table>\n",
       "</div>"
      ],
      "text/plain": [
       "     Alcool  Malic_Acid        Po  Alcalinidade_po  Magnesio  Total_Fenois  \\\n",
       "0  0.558324    0.514721  0.574703         0.558700  0.315439      0.240746   \n",
       "1  0.711096    0.250000  0.587166         0.342955  0.400906      0.644080   \n",
       "2  0.322960    0.230939  0.469813         0.487823  0.261342      0.438831   \n",
       "\n",
       "   Flavanoids  Fenois_nao_flavalonoides  Proanthocyanins  Intensidade_de_cor  \\\n",
       "0    0.096616                  0.605314         0.237559            0.517343   \n",
       "1    0.557138                  0.299371         0.470137            0.359386   \n",
       "2    0.366294                  0.438337         0.383486            0.151704   \n",
       "\n",
       "        Hue     OD280   Proline  Customer_Segment  \n",
       "0  0.167413  0.153921  0.249323          0.989796  \n",
       "1  0.476558  0.693590  0.595958          0.008333  \n",
       "2  0.468081  0.555396  0.167494          0.500000  "
      ]
     },
     "execution_count": 33,
     "metadata": {},
     "output_type": "execute_result"
    }
   ],
   "source": [
    "centros = pd.DataFrame(kmeans.cluster_centers_)\n",
    "centros.columns = df.columns\n",
    "centros.head()"
   ]
  },
  {
   "cell_type": "code",
   "execution_count": 35,
   "metadata": {},
   "outputs": [
    {
     "data": {
      "application/vnd.plotly.v1+json": {
       "config": {
        "plotlyServerURL": "https://plot.ly"
       },
       "data": [
        {
         "marker": {
          "color": [
           1,
           1,
           1,
           1,
           1,
           1,
           1,
           1,
           1,
           1,
           1,
           1,
           1,
           1,
           1,
           1,
           1,
           1,
           1,
           1,
           1,
           1,
           1,
           1,
           1,
           1,
           1,
           1,
           1,
           1,
           1,
           1,
           1,
           1,
           1,
           1,
           1,
           1,
           1,
           1,
           1,
           1,
           1,
           1,
           1,
           1,
           1,
           1,
           1,
           1,
           1,
           1,
           1,
           1,
           1,
           1,
           1,
           1,
           1,
           2,
           2,
           2,
           2,
           2,
           2,
           2,
           2,
           2,
           2,
           2,
           2,
           2,
           2,
           1,
           2,
           2,
           2,
           2,
           2,
           2,
           2,
           2,
           2,
           0,
           2,
           2,
           2,
           2,
           2,
           2,
           2,
           2,
           2,
           2,
           2,
           2,
           2,
           2,
           2,
           2,
           2,
           2,
           2,
           2,
           2,
           2,
           2,
           2,
           2,
           2,
           2,
           2,
           2,
           2,
           2,
           2,
           2,
           2,
           2,
           2,
           2,
           2,
           2,
           2,
           2,
           2,
           2,
           2,
           2,
           2,
           0,
           0,
           0,
           0,
           0,
           0,
           0,
           0,
           0,
           0,
           0,
           0,
           0,
           0,
           0,
           0,
           0,
           0,
           0,
           0,
           0,
           0,
           0,
           0,
           0,
           0,
           0,
           0,
           0,
           0,
           0,
           0,
           0,
           0,
           0,
           0,
           0,
           0,
           0,
           0,
           0,
           0,
           0,
           0,
           0,
           0,
           0,
           0
          ]
         },
         "mode": "markers",
         "text": [
          1,
          1,
          1,
          1,
          1,
          1,
          1,
          1,
          1,
          1,
          1,
          1,
          1,
          1,
          1,
          1,
          1,
          1,
          1,
          1,
          1,
          1,
          1,
          1,
          1,
          1,
          1,
          1,
          1,
          1,
          1,
          1,
          1,
          1,
          1,
          1,
          1,
          1,
          1,
          1,
          1,
          1,
          1,
          1,
          1,
          1,
          1,
          1,
          1,
          1,
          1,
          1,
          1,
          1,
          1,
          1,
          1,
          1,
          1,
          2,
          2,
          2,
          2,
          2,
          2,
          2,
          2,
          2,
          2,
          2,
          2,
          2,
          2,
          1,
          2,
          2,
          2,
          2,
          2,
          2,
          2,
          2,
          2,
          0,
          2,
          2,
          2,
          2,
          2,
          2,
          2,
          2,
          2,
          2,
          2,
          2,
          2,
          2,
          2,
          2,
          2,
          2,
          2,
          2,
          2,
          2,
          2,
          2,
          2,
          2,
          2,
          2,
          2,
          2,
          2,
          2,
          2,
          2,
          2,
          2,
          2,
          2,
          2,
          2,
          2,
          2,
          2,
          2,
          2,
          2,
          0,
          0,
          0,
          0,
          0,
          0,
          0,
          0,
          0,
          0,
          0,
          0,
          0,
          0,
          0,
          0,
          0,
          0,
          0,
          0,
          0,
          0,
          0,
          0,
          0,
          0,
          0,
          0,
          0,
          0,
          0,
          0,
          0,
          0,
          0,
          0,
          0,
          0,
          0,
          0,
          0,
          0,
          0,
          0,
          0,
          0,
          0,
          0
         ],
         "type": "scatter3d",
         "x": [
          0.3720136518771331,
          0.26450511945392485,
          0.3754266211604095,
          0.5563139931740614,
          0.2593856655290102,
          0.4667235494880546,
          0.3387372013651877,
          0.3216723549488054,
          0.33447098976109213,
          0.5068259385665529,
          0.3813993174061433,
          0.31740614334470985,
          0.3686006825938566,
          0.3515358361774744,
          0.5307167235494881,
          0.5136518771331058,
          0.41979522184300344,
          0.4539249146757679,
          0.6331058020477814,
          0.325938566552901,
          0.37286689419795227,
          0.27474402730375425,
          0.21501706484641633,
          0.22610921501706485,
          0.1911262798634812,
          0.1962457337883959,
          0.30034129692832756,
          0.22781569965870305,
          0.27474402730375425,
          0.29180887372013653,
          0.37713310580204773,
          0.4795221843003413,
          0.21843003412969278,
          0.3515358361774744,
          0.2491467576791809,
          0.325938566552901,
          0.2832764505119454,
          0.2534129692832764,
          0.20648464163822525,
          0.325938566552901,
          0.4138225255972696,
          0.2559726962457338,
          0.35409556313993173,
          0.2627986348122867,
          0.32081911262798635,
          0.33788395904436863,
          0.3088737201365188,
          0.4112627986348123,
          0.41979522184300344,
          0.6501706484641638,
          0.5051194539249146,
          0.3686006825938566,
          0.4923208191126279,
          0.42832764505119447,
          0.38993174061433444,
          0.424061433447099,
          0.4351535836177475,
          0.40273037542662116,
          0.4709897610921502,
          0.057167235494880536,
          0.1697952218430034,
          0.3813993174061433,
          0.21501706484641633,
          0.2704778156996587,
          0.1424914675767918,
          0.2832764505119454,
          0.3430034129692833,
          0.2901023890784983,
          0.16126279863481227,
          0.13395904436860068,
          0.15102389078498293,
          0.17918088737201363,
          0.2098976109215017,
          0.1766211604095563,
          0.16467576791808872,
          0.21501706484641633,
          0.2832764505119454,
          0.11689419795221842,
          0.18088737201365188,
          0.1100682593856655,
          0.10409556313993173,
          0.22354948805460748,
          0.07849829351535836,
          0.30034129692832756,
          0.15102389078498293,
          0.1143344709897611,
          0.09982935153583619,
          0.11262798634812288,
          0.1296928327645051,
          0.03924914675767918,
          0.09556313993174059,
          0.1979522184300341,
          0.15102389078498293,
          0.07423208191126279,
          0.16808873720136516,
          0.11262798634812288,
          0.10409556313993173,
          0.13822525597269622,
          0.27474402730375425,
          0.08703071672354948,
          0.17235494880546073,
          0.09982935153583619,
          0.1296928327645051,
          0.06655290102389078,
          0.14163822525597267,
          0.12116040955631399,
          0.18088737201365188,
          0.17235494880546073,
          0.12116040955631399,
          0.11689419795221842,
          0.13822525597269622,
          0.06143344709897611,
          0.21501706484641633,
          0.15358361774744025,
          0.13822525597269622,
          0.052901023890784965,
          0.057167235494880536,
          0.06655290102389078,
          0.18088737201365188,
          0,
          0.16808873720136516,
          0.40273037542662116,
          0.06825938566552903,
          0.11262798634812288,
          0.1296928327645051,
          0.12627986348122863,
          0.22696245733788392,
          0.14675767918088736,
          0.07167235494880547,
          0.11262798634812288,
          0.2406143344709897,
          0.3515358361774744,
          0.37713310580204773,
          0.31740614334470985,
          0.35580204778157,
          0.4965870307167235,
          0.21928327645051196,
          0.31740614334470985,
          0.37713310580204773,
          0.31058020477815695,
          0.2832764505119454,
          0.3686006825938566,
          0.26194539249146753,
          0.2662116040955631,
          0.5912969283276451,
          0.23208191126279862,
          0.3088737201365188,
          0.5435153583617748,
          0.6092150170648464,
          0.6928327645051194,
          0.6245733788395904,
          0.8122866894197952,
          0.4965870307167235,
          0.78839590443686,
          0.5392491467576791,
          0.5648464163822525,
          0.659556313993174,
          0.5307167235494881,
          0.9999999999999999,
          0.893344709897611,
          0.5435153583617748,
          0.39249146757679176,
          0.36689419795221845,
          0.341296928327645,
          0.7081911262798635,
          0.45563139931740615,
          0.8020477815699658,
          0.7662116040955631,
          0.6296928327645052,
          0.6160409556313993,
          0.36006825938566556,
          0.735494795221843,
          0.7184300341296928,
          0.5477815699658704,
          0.5136518771331058,
          0.7610921501706484,
          0.6843003412969284,
          0.6757679180887372
         ],
         "y": [
          0.8421052631578951,
          0.5710526315789473,
          0.560526315789474,
          0.8789473684210525,
          0.5815789473684214,
          0.8342105263157893,
          0.8842105263157896,
          0.797368421052632,
          1,
          0.7447368421052629,
          0.8078947368421052,
          0.8131578947368419,
          0.7157894736842105,
          0.9789473684210526,
          0.8815789473684212,
          0.6842105263157898,
          0.8605263157894738,
          0.736842105263158,
          0.831578947368421,
          0.6868421052631581,
          0.797368421052632,
          0.5,
          0.7052631578947373,
          0.47894736842105257,
          0.6499999999999999,
          0.5315789473684216,
          0.6210526315789475,
          0.5973684210526318,
          0.7473684210526317,
          0.7868421052631578,
          0.7105263157894739,
          0.6710526315789473,
          0.6973684210526314,
          0.7184210526315788,
          0.6526315789473687,
          0.6447368421052633,
          0.5921052631578947,
          0.5315789473684216,
          0.5368421052631582,
          0.8394736842105264,
          0.6657894736842107,
          0.6263157894736846,
          0.7500000000000004,
          0.5815789473684214,
          0.5315789473684216,
          0.836842105263158,
          0.8815789473684212,
          0.7552631578947371,
          0.8078947368421052,
          0.7657894736842104,
          0.5315789473684216,
          0.736842105263158,
          0.7342105263157896,
          0.7210526315789472,
          0.7131578947368422,
          0.6657894736842107,
          0.8394736842105264,
          0.594736842105263,
          0.7078947368421056,
          0.3526315789473684,
          0.34210526315789513,
          0.4236842105263161,
          0.6947368421052631,
          0.3526315789473684,
          0.30000000000000027,
          0.3526315789473684,
          0.5473684210526315,
          0.3526315789473684,
          0.6078947368421055,
          0.310526315789474,
          0.331578947368421,
          0.7447368421052629,
          0.6473684210526316,
          0.5157894736842108,
          0.2447368421052638,
          0.1657894736842107,
          0.5263157894736841,
          0.2131578947368422,
          0.34210526315789513,
          0.43947368421052646,
          0.2552631578947371,
          0.44473684210526354,
          0.2763157894736845,
          0.5315789473684216,
          0.2131578947368422,
          0.43157894736842106,
          0.29736842105263195,
          0.1631578947368424,
          0.16052631578947407,
          0.2763157894736845,
          0.2763157894736845,
          0.2552631578947371,
          0.43684210526315814,
          0.331578947368421,
          0.155263157894737,
          0.3789473684210529,
          0.20526315789473726,
          0.331578947368421,
          0.3526315789473684,
          0.331578947368421,
          0.2763157894736845,
          0.4131578947368424,
          0.34473684210526345,
          0.20789473684210558,
          0.38947368421052664,
          0.3657894736842109,
          0.3210526315789477,
          0.44473684210526354,
          0.3131578947368423,
          0.15263157894736867,
          0.11315789473684257,
          0.39210526315789496,
          0.19210526315789478,
          0.10000000000000053,
          0.2763157894736845,
          0,
          0.20789473684210558,
          0.3657894736842109,
          0.45789473684210513,
          0.2552631578947371,
          0.1105263157894738,
          0.13947368421052664,
          0.3657894736842109,
          0.5315789473684216,
          0.2210526315789476,
          0.2736842105263162,
          0.3684210526315792,
          0.20000000000000018,
          0.3526315789473684,
          0.26578947368421035,
          0.4815789473684209,
          0.4868421052631584,
          0.4684210526315793,
          0.43947368421052646,
          0.38947368421052664,
          0.4131578947368424,
          0.3210526315789477,
          0.3947368421052633,
          0.6473684210526316,
          0.47631578947368425,
          0.5,
          0.6131578947368421,
          0.655263157894737,
          0.6815789473684211,
          0.3210526315789477,
          0.560526315789474,
          0.7500000000000004,
          0.48421052631578965,
          0.6026315789473689,
          0.5394736842105265,
          0.6499999999999999,
          0.4631578947368422,
          0.5473684210526315,
          0.5789473684210531,
          0.4078947368421053,
          0.5631578947368423,
          0.7394736842105263,
          0.37368421052631584,
          0.8710526315789475,
          0.6447368421052633,
          0.3500000000000001,
          0.7000000000000002,
          0.47894736842105257,
          0.5078947368421058,
          0.7236842105263159,
          0.7105263157894739,
          0.6368421052631579,
          0.4710526315789476,
          0.6710526315789473,
          0.6236842105263158,
          0.3078947368421052,
          0.45789473684210513,
          0.823684210526316,
          0.7052631578947373,
          0.6236842105263158,
          0.5894736842105264,
          0.5631578947368423,
          0.8157894736842106
         ],
         "z": [
          0.5613409415121255,
          0.5506419400855921,
          0.6469329529243938,
          0.8573466476462198,
          0.3259629101283881,
          0.8359486447931527,
          0.7218259629101285,
          0.725392296718973,
          0.5470756062767476,
          0.5470756062767476,
          0.8787446504992867,
          0.7146932952924394,
          0.7432239657631955,
          0.6219686162624822,
          0.9051355206847361,
          0.7360912981455064,
          0.7146932952924394,
          0.6077032810271041,
          1,
          0.40442225392296727,
          0.35805991440798857,
          0.35092724679029963,
          0.5399429386590585,
          0.5256776034236805,
          0.40442225392296727,
          0.3937232524964337,
          0.6540656205420827,
          0.7182596291012839,
          0.4543509272467904,
          0.5399429386590585,
          0.7182596291012839,
          0.8823109843081313,
          0.5078459343794579,
          0.6825962910128388,
          0.5827389443651926,
          0.4579172610556348,
          0.4293865905848788,
          0.5898716119828816,
          0.529243937232525,
          0.3437945791726106,
          0.36875891583452214,
          0.5399429386590585,
          0.5827389443651926,
          0.2867332382310984,
          0.43295292439372324,
          0.5720399429386591,
          0.5613409415121255,
          0.5042796005706135,
          0.557774607703281,
          0.7004279600570614,
          0.6219686162624822,
          0.7039942938659058,
          0.6504992867332383,
          0.782453637660485,
          0.557774607703281,
          0.6005706134094152,
          0.4935805991440799,
          0.7075606276747504,
          0.7182596291012839,
          0.17261055634807418,
          0.2867332382310984,
          0.12268188302425106,
          0.2510699001426534,
          0.10128388017118403,
          0.054921540656205386,
          0.2853067047075606,
          0.15977175463623397,
          0.1654778887303852,
          0.33666191155492153,
          0.31383737517831667,
          0.4222539229671898,
          0.09415121255349498,
          0.13837375178316688,
          0.5042796005706135,
          0.4336661911554922,
          0.10699001426533525,
          0.08131241084165478,
          0.15834522111269614,
          0.33666191155492153,
          0.1319543509272468,
          0,
          0.3109843081312411,
          0.2510699001426534,
          0.16904422253922965,
          0.17261055634807418,
          0.12268188302425106,
          0.15477888730385161,
          0.20256776034236804,
          0.2867332382310984,
          0.24750356633380885,
          0.1440798858773181,
          0.12268188302425106,
          0.15477888730385161,
          0.008559201141226797,
          0.047788873038516394,
          0.4700427960057062,
          0.24750356633380885,
          0.10699001426533525,
          0.27246790299572043,
          0.09129814550641938,
          0.30813124108416545,
          0.20256776034236804,
          0.11412268188302424,
          0.09771754636233951,
          0.2810271041369472,
          0.02639087018544936,
          0.1654778887303852,
          0.14978601997146931,
          0.02425106990014264,
          0.2867332382310984,
          0.20256776034236804,
          0.033523537803138354,
          0.23466476462196864,
          0.11126961483594863,
          0.07631954350927247,
          0.09201141226818829,
          0.15477888730385161,
          0.047788873038516394,
          0.06704707560627673,
          0.20399429386590587,
          0.24750356633380885,
          0.13338088445078458,
          0.062054208273894434,
          0.07275320970042795,
          0.07275320970042795,
          0.07132667617689017,
          0.052781740370898694,
          0.1340941512125535,
          0.0456490727532097,
          0.21540656205420824,
          0.2510699001426534,
          0.17974322396576317,
          0.20114122681883026,
          0.22967189728958629,
          0.2653352353780314,
          0.297432239657632,
          0.3152639087018545,
          0.16904422253922965,
          0.21540656205420824,
          0.2225392296718973,
          0.22967189728958629,
          0.35805991440798857,
          0.17261055634807418,
          0.1940085592011412,
          0.4115549215406562,
          0.3937232524964337,
          0.09771754636233951,
          0.24750356633380885,
          0.2653352353780314,
          0.1940085592011412,
          0.15834522111269614,
          0.1440798858773181,
          0.1048502139800285,
          0.2831669044222539,
          0.25820256776034234,
          0.318830242510699,
          0.1440798858773181,
          0.4293865905848788,
          0.27246790299572043,
          0.24393723252496433,
          0.17261055634807418,
          0.2867332382310984,
          0.20827389443651925,
          0.2831669044222539,
          0.2403708987161198,
          0.17261055634807418,
          0.297432239657632,
          0.29029957203994294,
          0.33666191155492153,
          0.2510699001426534,
          0.1654778887303852,
          0.1369472182596291,
          0.27246790299572043,
          0.3295292439372326,
          0.33666191155492153,
          0.3972895863052782,
          0.40085592011412274,
          0.20114122681883026
         ]
        },
        {
         "marker": {
          "color": "red"
         },
         "mode": "markers",
         "text": [
          "0",
          "1",
          "2"
         ],
         "type": "scatter3d",
         "x": [
          0.5173434544124818,
          0.3593856655290102,
          0.15170401147549095
         ],
         "y": [
          0.5583243823845329,
          0.7110964912280704,
          0.32295957284515664
         ],
         "z": [
          0.24932312439954585,
          0.5959581550166431,
          0.1674936426223408
         ]
        }
       ],
       "layout": {
        "scene": {
         "xaxis": {
          "title": {
           "text": "Intensidade de Cor"
          }
         },
         "yaxis": {
          "title": {
           "text": "Àlcool"
          }
         },
         "zaxis": {
          "title": {
           "text": "Proline"
          }
         }
        },
        "template": {
         "data": {
          "bar": [
           {
            "error_x": {
             "color": "#2a3f5f"
            },
            "error_y": {
             "color": "#2a3f5f"
            },
            "marker": {
             "line": {
              "color": "#E5ECF6",
              "width": 0.5
             }
            },
            "type": "bar"
           }
          ],
          "barpolar": [
           {
            "marker": {
             "line": {
              "color": "#E5ECF6",
              "width": 0.5
             }
            },
            "type": "barpolar"
           }
          ],
          "carpet": [
           {
            "aaxis": {
             "endlinecolor": "#2a3f5f",
             "gridcolor": "white",
             "linecolor": "white",
             "minorgridcolor": "white",
             "startlinecolor": "#2a3f5f"
            },
            "baxis": {
             "endlinecolor": "#2a3f5f",
             "gridcolor": "white",
             "linecolor": "white",
             "minorgridcolor": "white",
             "startlinecolor": "#2a3f5f"
            },
            "type": "carpet"
           }
          ],
          "choropleth": [
           {
            "colorbar": {
             "outlinewidth": 0,
             "ticks": ""
            },
            "type": "choropleth"
           }
          ],
          "contour": [
           {
            "colorbar": {
             "outlinewidth": 0,
             "ticks": ""
            },
            "colorscale": [
             [
              0,
              "#0d0887"
             ],
             [
              0.1111111111111111,
              "#46039f"
             ],
             [
              0.2222222222222222,
              "#7201a8"
             ],
             [
              0.3333333333333333,
              "#9c179e"
             ],
             [
              0.4444444444444444,
              "#bd3786"
             ],
             [
              0.5555555555555556,
              "#d8576b"
             ],
             [
              0.6666666666666666,
              "#ed7953"
             ],
             [
              0.7777777777777778,
              "#fb9f3a"
             ],
             [
              0.8888888888888888,
              "#fdca26"
             ],
             [
              1,
              "#f0f921"
             ]
            ],
            "type": "contour"
           }
          ],
          "contourcarpet": [
           {
            "colorbar": {
             "outlinewidth": 0,
             "ticks": ""
            },
            "type": "contourcarpet"
           }
          ],
          "heatmap": [
           {
            "colorbar": {
             "outlinewidth": 0,
             "ticks": ""
            },
            "colorscale": [
             [
              0,
              "#0d0887"
             ],
             [
              0.1111111111111111,
              "#46039f"
             ],
             [
              0.2222222222222222,
              "#7201a8"
             ],
             [
              0.3333333333333333,
              "#9c179e"
             ],
             [
              0.4444444444444444,
              "#bd3786"
             ],
             [
              0.5555555555555556,
              "#d8576b"
             ],
             [
              0.6666666666666666,
              "#ed7953"
             ],
             [
              0.7777777777777778,
              "#fb9f3a"
             ],
             [
              0.8888888888888888,
              "#fdca26"
             ],
             [
              1,
              "#f0f921"
             ]
            ],
            "type": "heatmap"
           }
          ],
          "heatmapgl": [
           {
            "colorbar": {
             "outlinewidth": 0,
             "ticks": ""
            },
            "colorscale": [
             [
              0,
              "#0d0887"
             ],
             [
              0.1111111111111111,
              "#46039f"
             ],
             [
              0.2222222222222222,
              "#7201a8"
             ],
             [
              0.3333333333333333,
              "#9c179e"
             ],
             [
              0.4444444444444444,
              "#bd3786"
             ],
             [
              0.5555555555555556,
              "#d8576b"
             ],
             [
              0.6666666666666666,
              "#ed7953"
             ],
             [
              0.7777777777777778,
              "#fb9f3a"
             ],
             [
              0.8888888888888888,
              "#fdca26"
             ],
             [
              1,
              "#f0f921"
             ]
            ],
            "type": "heatmapgl"
           }
          ],
          "histogram": [
           {
            "marker": {
             "colorbar": {
              "outlinewidth": 0,
              "ticks": ""
             }
            },
            "type": "histogram"
           }
          ],
          "histogram2d": [
           {
            "colorbar": {
             "outlinewidth": 0,
             "ticks": ""
            },
            "colorscale": [
             [
              0,
              "#0d0887"
             ],
             [
              0.1111111111111111,
              "#46039f"
             ],
             [
              0.2222222222222222,
              "#7201a8"
             ],
             [
              0.3333333333333333,
              "#9c179e"
             ],
             [
              0.4444444444444444,
              "#bd3786"
             ],
             [
              0.5555555555555556,
              "#d8576b"
             ],
             [
              0.6666666666666666,
              "#ed7953"
             ],
             [
              0.7777777777777778,
              "#fb9f3a"
             ],
             [
              0.8888888888888888,
              "#fdca26"
             ],
             [
              1,
              "#f0f921"
             ]
            ],
            "type": "histogram2d"
           }
          ],
          "histogram2dcontour": [
           {
            "colorbar": {
             "outlinewidth": 0,
             "ticks": ""
            },
            "colorscale": [
             [
              0,
              "#0d0887"
             ],
             [
              0.1111111111111111,
              "#46039f"
             ],
             [
              0.2222222222222222,
              "#7201a8"
             ],
             [
              0.3333333333333333,
              "#9c179e"
             ],
             [
              0.4444444444444444,
              "#bd3786"
             ],
             [
              0.5555555555555556,
              "#d8576b"
             ],
             [
              0.6666666666666666,
              "#ed7953"
             ],
             [
              0.7777777777777778,
              "#fb9f3a"
             ],
             [
              0.8888888888888888,
              "#fdca26"
             ],
             [
              1,
              "#f0f921"
             ]
            ],
            "type": "histogram2dcontour"
           }
          ],
          "mesh3d": [
           {
            "colorbar": {
             "outlinewidth": 0,
             "ticks": ""
            },
            "type": "mesh3d"
           }
          ],
          "parcoords": [
           {
            "line": {
             "colorbar": {
              "outlinewidth": 0,
              "ticks": ""
             }
            },
            "type": "parcoords"
           }
          ],
          "scatter": [
           {
            "marker": {
             "colorbar": {
              "outlinewidth": 0,
              "ticks": ""
             }
            },
            "type": "scatter"
           }
          ],
          "scatter3d": [
           {
            "line": {
             "colorbar": {
              "outlinewidth": 0,
              "ticks": ""
             }
            },
            "marker": {
             "colorbar": {
              "outlinewidth": 0,
              "ticks": ""
             }
            },
            "type": "scatter3d"
           }
          ],
          "scattercarpet": [
           {
            "marker": {
             "colorbar": {
              "outlinewidth": 0,
              "ticks": ""
             }
            },
            "type": "scattercarpet"
           }
          ],
          "scattergeo": [
           {
            "marker": {
             "colorbar": {
              "outlinewidth": 0,
              "ticks": ""
             }
            },
            "type": "scattergeo"
           }
          ],
          "scattergl": [
           {
            "marker": {
             "colorbar": {
              "outlinewidth": 0,
              "ticks": ""
             }
            },
            "type": "scattergl"
           }
          ],
          "scattermapbox": [
           {
            "marker": {
             "colorbar": {
              "outlinewidth": 0,
              "ticks": ""
             }
            },
            "type": "scattermapbox"
           }
          ],
          "scatterpolar": [
           {
            "marker": {
             "colorbar": {
              "outlinewidth": 0,
              "ticks": ""
             }
            },
            "type": "scatterpolar"
           }
          ],
          "scatterpolargl": [
           {
            "marker": {
             "colorbar": {
              "outlinewidth": 0,
              "ticks": ""
             }
            },
            "type": "scatterpolargl"
           }
          ],
          "scatterternary": [
           {
            "marker": {
             "colorbar": {
              "outlinewidth": 0,
              "ticks": ""
             }
            },
            "type": "scatterternary"
           }
          ],
          "surface": [
           {
            "colorbar": {
             "outlinewidth": 0,
             "ticks": ""
            },
            "colorscale": [
             [
              0,
              "#0d0887"
             ],
             [
              0.1111111111111111,
              "#46039f"
             ],
             [
              0.2222222222222222,
              "#7201a8"
             ],
             [
              0.3333333333333333,
              "#9c179e"
             ],
             [
              0.4444444444444444,
              "#bd3786"
             ],
             [
              0.5555555555555556,
              "#d8576b"
             ],
             [
              0.6666666666666666,
              "#ed7953"
             ],
             [
              0.7777777777777778,
              "#fb9f3a"
             ],
             [
              0.8888888888888888,
              "#fdca26"
             ],
             [
              1,
              "#f0f921"
             ]
            ],
            "type": "surface"
           }
          ],
          "table": [
           {
            "cells": {
             "fill": {
              "color": "#EBF0F8"
             },
             "line": {
              "color": "white"
             }
            },
            "header": {
             "fill": {
              "color": "#C8D4E3"
             },
             "line": {
              "color": "white"
             }
            },
            "type": "table"
           }
          ]
         },
         "layout": {
          "annotationdefaults": {
           "arrowcolor": "#2a3f5f",
           "arrowhead": 0,
           "arrowwidth": 1
          },
          "colorscale": {
           "diverging": [
            [
             0,
             "#8e0152"
            ],
            [
             0.1,
             "#c51b7d"
            ],
            [
             0.2,
             "#de77ae"
            ],
            [
             0.3,
             "#f1b6da"
            ],
            [
             0.4,
             "#fde0ef"
            ],
            [
             0.5,
             "#f7f7f7"
            ],
            [
             0.6,
             "#e6f5d0"
            ],
            [
             0.7,
             "#b8e186"
            ],
            [
             0.8,
             "#7fbc41"
            ],
            [
             0.9,
             "#4d9221"
            ],
            [
             1,
             "#276419"
            ]
           ],
           "sequential": [
            [
             0,
             "#0d0887"
            ],
            [
             0.1111111111111111,
             "#46039f"
            ],
            [
             0.2222222222222222,
             "#7201a8"
            ],
            [
             0.3333333333333333,
             "#9c179e"
            ],
            [
             0.4444444444444444,
             "#bd3786"
            ],
            [
             0.5555555555555556,
             "#d8576b"
            ],
            [
             0.6666666666666666,
             "#ed7953"
            ],
            [
             0.7777777777777778,
             "#fb9f3a"
            ],
            [
             0.8888888888888888,
             "#fdca26"
            ],
            [
             1,
             "#f0f921"
            ]
           ],
           "sequentialminus": [
            [
             0,
             "#0d0887"
            ],
            [
             0.1111111111111111,
             "#46039f"
            ],
            [
             0.2222222222222222,
             "#7201a8"
            ],
            [
             0.3333333333333333,
             "#9c179e"
            ],
            [
             0.4444444444444444,
             "#bd3786"
            ],
            [
             0.5555555555555556,
             "#d8576b"
            ],
            [
             0.6666666666666666,
             "#ed7953"
            ],
            [
             0.7777777777777778,
             "#fb9f3a"
            ],
            [
             0.8888888888888888,
             "#fdca26"
            ],
            [
             1,
             "#f0f921"
            ]
           ]
          },
          "colorway": [
           "#636efa",
           "#EF553B",
           "#00cc96",
           "#ab63fa",
           "#FFA15A",
           "#19d3f3",
           "#FF6692",
           "#B6E880",
           "#FF97FF",
           "#FECB52"
          ],
          "font": {
           "color": "#2a3f5f"
          },
          "geo": {
           "bgcolor": "white",
           "lakecolor": "white",
           "landcolor": "#E5ECF6",
           "showlakes": true,
           "showland": true,
           "subunitcolor": "white"
          },
          "hoverlabel": {
           "align": "left"
          },
          "hovermode": "closest",
          "mapbox": {
           "style": "light"
          },
          "paper_bgcolor": "white",
          "plot_bgcolor": "#E5ECF6",
          "polar": {
           "angularaxis": {
            "gridcolor": "white",
            "linecolor": "white",
            "ticks": ""
           },
           "bgcolor": "#E5ECF6",
           "radialaxis": {
            "gridcolor": "white",
            "linecolor": "white",
            "ticks": ""
           }
          },
          "scene": {
           "xaxis": {
            "backgroundcolor": "#E5ECF6",
            "gridcolor": "white",
            "gridwidth": 2,
            "linecolor": "white",
            "showbackground": true,
            "ticks": "",
            "zerolinecolor": "white"
           },
           "yaxis": {
            "backgroundcolor": "#E5ECF6",
            "gridcolor": "white",
            "gridwidth": 2,
            "linecolor": "white",
            "showbackground": true,
            "ticks": "",
            "zerolinecolor": "white"
           },
           "zaxis": {
            "backgroundcolor": "#E5ECF6",
            "gridcolor": "white",
            "gridwidth": 2,
            "linecolor": "white",
            "showbackground": true,
            "ticks": "",
            "zerolinecolor": "white"
           }
          },
          "shapedefaults": {
           "line": {
            "color": "#2a3f5f"
           }
          },
          "ternary": {
           "aaxis": {
            "gridcolor": "white",
            "linecolor": "white",
            "ticks": ""
           },
           "baxis": {
            "gridcolor": "white",
            "linecolor": "white",
            "ticks": ""
           },
           "bgcolor": "#E5ECF6",
           "caxis": {
            "gridcolor": "white",
            "linecolor": "white",
            "ticks": ""
           }
          },
          "title": {
           "x": 0.05
          },
          "xaxis": {
           "automargin": true,
           "gridcolor": "white",
           "linecolor": "white",
           "ticks": "",
           "zerolinecolor": "white",
           "zerolinewidth": 2
          },
          "yaxis": {
           "automargin": true,
           "gridcolor": "white",
           "linecolor": "white",
           "ticks": "",
           "zerolinecolor": "white",
           "zerolinewidth": 2
          }
         }
        }
       }
      },
      "text/html": [
       "<div>\n",
       "        \n",
       "        \n",
       "            <div id=\"1f5f5962-abc1-4ce2-af36-8d2e57adf780\" class=\"plotly-graph-div\" style=\"height:525px; width:100%;\"></div>\n",
       "            <script type=\"text/javascript\">\n",
       "                require([\"plotly\"], function(Plotly) {\n",
       "                    window.PLOTLYENV=window.PLOTLYENV || {};\n",
       "                    \n",
       "                if (document.getElementById(\"1f5f5962-abc1-4ce2-af36-8d2e57adf780\")) {\n",
       "                    Plotly.newPlot(\n",
       "                        '1f5f5962-abc1-4ce2-af36-8d2e57adf780',\n",
       "                        [{\"marker\": {\"color\": [1.0, 1.0, 1.0, 1.0, 1.0, 1.0, 1.0, 1.0, 1.0, 1.0, 1.0, 1.0, 1.0, 1.0, 1.0, 1.0, 1.0, 1.0, 1.0, 1.0, 1.0, 1.0, 1.0, 1.0, 1.0, 1.0, 1.0, 1.0, 1.0, 1.0, 1.0, 1.0, 1.0, 1.0, 1.0, 1.0, 1.0, 1.0, 1.0, 1.0, 1.0, 1.0, 1.0, 1.0, 1.0, 1.0, 1.0, 1.0, 1.0, 1.0, 1.0, 1.0, 1.0, 1.0, 1.0, 1.0, 1.0, 1.0, 1.0, 2.0, 2.0, 2.0, 2.0, 2.0, 2.0, 2.0, 2.0, 2.0, 2.0, 2.0, 2.0, 2.0, 2.0, 1.0, 2.0, 2.0, 2.0, 2.0, 2.0, 2.0, 2.0, 2.0, 2.0, 0.0, 2.0, 2.0, 2.0, 2.0, 2.0, 2.0, 2.0, 2.0, 2.0, 2.0, 2.0, 2.0, 2.0, 2.0, 2.0, 2.0, 2.0, 2.0, 2.0, 2.0, 2.0, 2.0, 2.0, 2.0, 2.0, 2.0, 2.0, 2.0, 2.0, 2.0, 2.0, 2.0, 2.0, 2.0, 2.0, 2.0, 2.0, 2.0, 2.0, 2.0, 2.0, 2.0, 2.0, 2.0, 2.0, 2.0, 0.0, 0.0, 0.0, 0.0, 0.0, 0.0, 0.0, 0.0, 0.0, 0.0, 0.0, 0.0, 0.0, 0.0, 0.0, 0.0, 0.0, 0.0, 0.0, 0.0, 0.0, 0.0, 0.0, 0.0, 0.0, 0.0, 0.0, 0.0, 0.0, 0.0, 0.0, 0.0, 0.0, 0.0, 0.0, 0.0, 0.0, 0.0, 0.0, 0.0, 0.0, 0.0, 0.0, 0.0, 0.0, 0.0, 0.0, 0.0]}, \"mode\": \"markers\", \"text\": [1.0, 1.0, 1.0, 1.0, 1.0, 1.0, 1.0, 1.0, 1.0, 1.0, 1.0, 1.0, 1.0, 1.0, 1.0, 1.0, 1.0, 1.0, 1.0, 1.0, 1.0, 1.0, 1.0, 1.0, 1.0, 1.0, 1.0, 1.0, 1.0, 1.0, 1.0, 1.0, 1.0, 1.0, 1.0, 1.0, 1.0, 1.0, 1.0, 1.0, 1.0, 1.0, 1.0, 1.0, 1.0, 1.0, 1.0, 1.0, 1.0, 1.0, 1.0, 1.0, 1.0, 1.0, 1.0, 1.0, 1.0, 1.0, 1.0, 2.0, 2.0, 2.0, 2.0, 2.0, 2.0, 2.0, 2.0, 2.0, 2.0, 2.0, 2.0, 2.0, 2.0, 1.0, 2.0, 2.0, 2.0, 2.0, 2.0, 2.0, 2.0, 2.0, 2.0, 0.0, 2.0, 2.0, 2.0, 2.0, 2.0, 2.0, 2.0, 2.0, 2.0, 2.0, 2.0, 2.0, 2.0, 2.0, 2.0, 2.0, 2.0, 2.0, 2.0, 2.0, 2.0, 2.0, 2.0, 2.0, 2.0, 2.0, 2.0, 2.0, 2.0, 2.0, 2.0, 2.0, 2.0, 2.0, 2.0, 2.0, 2.0, 2.0, 2.0, 2.0, 2.0, 2.0, 2.0, 2.0, 2.0, 2.0, 0.0, 0.0, 0.0, 0.0, 0.0, 0.0, 0.0, 0.0, 0.0, 0.0, 0.0, 0.0, 0.0, 0.0, 0.0, 0.0, 0.0, 0.0, 0.0, 0.0, 0.0, 0.0, 0.0, 0.0, 0.0, 0.0, 0.0, 0.0, 0.0, 0.0, 0.0, 0.0, 0.0, 0.0, 0.0, 0.0, 0.0, 0.0, 0.0, 0.0, 0.0, 0.0, 0.0, 0.0, 0.0, 0.0, 0.0, 0.0], \"type\": \"scatter3d\", \"x\": [0.3720136518771331, 0.26450511945392485, 0.3754266211604095, 0.5563139931740614, 0.2593856655290102, 0.4667235494880546, 0.3387372013651877, 0.3216723549488054, 0.33447098976109213, 0.5068259385665529, 0.3813993174061433, 0.31740614334470985, 0.3686006825938566, 0.3515358361774744, 0.5307167235494881, 0.5136518771331058, 0.41979522184300344, 0.4539249146757679, 0.6331058020477814, 0.325938566552901, 0.37286689419795227, 0.27474402730375425, 0.21501706484641633, 0.22610921501706485, 0.1911262798634812, 0.1962457337883959, 0.30034129692832756, 0.22781569965870305, 0.27474402730375425, 0.29180887372013653, 0.37713310580204773, 0.4795221843003413, 0.21843003412969278, 0.3515358361774744, 0.2491467576791809, 0.325938566552901, 0.2832764505119454, 0.2534129692832764, 0.20648464163822525, 0.325938566552901, 0.4138225255972696, 0.2559726962457338, 0.35409556313993173, 0.2627986348122867, 0.32081911262798635, 0.33788395904436863, 0.3088737201365188, 0.4112627986348123, 0.41979522184300344, 0.6501706484641638, 0.5051194539249146, 0.3686006825938566, 0.4923208191126279, 0.42832764505119447, 0.38993174061433444, 0.424061433447099, 0.4351535836177475, 0.40273037542662116, 0.4709897610921502, 0.057167235494880536, 0.1697952218430034, 0.3813993174061433, 0.21501706484641633, 0.2704778156996587, 0.1424914675767918, 0.2832764505119454, 0.3430034129692833, 0.2901023890784983, 0.16126279863481227, 0.13395904436860068, 0.15102389078498293, 0.17918088737201363, 0.2098976109215017, 0.1766211604095563, 0.16467576791808872, 0.21501706484641633, 0.2832764505119454, 0.11689419795221842, 0.18088737201365188, 0.1100682593856655, 0.10409556313993173, 0.22354948805460748, 0.07849829351535836, 0.30034129692832756, 0.15102389078498293, 0.1143344709897611, 0.09982935153583619, 0.11262798634812288, 0.1296928327645051, 0.03924914675767918, 0.09556313993174059, 0.1979522184300341, 0.15102389078498293, 0.07423208191126279, 0.16808873720136516, 0.11262798634812288, 0.10409556313993173, 0.13822525597269622, 0.27474402730375425, 0.08703071672354948, 0.17235494880546073, 0.09982935153583619, 0.1296928327645051, 0.06655290102389078, 0.14163822525597267, 0.12116040955631399, 0.18088737201365188, 0.17235494880546073, 0.12116040955631399, 0.11689419795221842, 0.13822525597269622, 0.06143344709897611, 0.21501706484641633, 0.15358361774744025, 0.13822525597269622, 0.052901023890784965, 0.057167235494880536, 0.06655290102389078, 0.18088737201365188, 0.0, 0.16808873720136516, 0.40273037542662116, 0.06825938566552903, 0.11262798634812288, 0.1296928327645051, 0.12627986348122863, 0.22696245733788392, 0.14675767918088736, 0.07167235494880547, 0.11262798634812288, 0.2406143344709897, 0.3515358361774744, 0.37713310580204773, 0.31740614334470985, 0.35580204778157, 0.4965870307167235, 0.21928327645051196, 0.31740614334470985, 0.37713310580204773, 0.31058020477815695, 0.2832764505119454, 0.3686006825938566, 0.26194539249146753, 0.2662116040955631, 0.5912969283276451, 0.23208191126279862, 0.3088737201365188, 0.5435153583617748, 0.6092150170648464, 0.6928327645051194, 0.6245733788395904, 0.8122866894197952, 0.4965870307167235, 0.78839590443686, 0.5392491467576791, 0.5648464163822525, 0.659556313993174, 0.5307167235494881, 0.9999999999999999, 0.893344709897611, 0.5435153583617748, 0.39249146757679176, 0.36689419795221845, 0.341296928327645, 0.7081911262798635, 0.45563139931740615, 0.8020477815699658, 0.7662116040955631, 0.6296928327645052, 0.6160409556313993, 0.36006825938566556, 0.735494795221843, 0.7184300341296928, 0.5477815699658704, 0.5136518771331058, 0.7610921501706484, 0.6843003412969284, 0.6757679180887372], \"y\": [0.8421052631578951, 0.5710526315789473, 0.560526315789474, 0.8789473684210525, 0.5815789473684214, 0.8342105263157893, 0.8842105263157896, 0.797368421052632, 1.0, 0.7447368421052629, 0.8078947368421052, 0.8131578947368419, 0.7157894736842105, 0.9789473684210526, 0.8815789473684212, 0.6842105263157898, 0.8605263157894738, 0.736842105263158, 0.831578947368421, 0.6868421052631581, 0.797368421052632, 0.5, 0.7052631578947373, 0.47894736842105257, 0.6499999999999999, 0.5315789473684216, 0.6210526315789475, 0.5973684210526318, 0.7473684210526317, 0.7868421052631578, 0.7105263157894739, 0.6710526315789473, 0.6973684210526314, 0.7184210526315788, 0.6526315789473687, 0.6447368421052633, 0.5921052631578947, 0.5315789473684216, 0.5368421052631582, 0.8394736842105264, 0.6657894736842107, 0.6263157894736846, 0.7500000000000004, 0.5815789473684214, 0.5315789473684216, 0.836842105263158, 0.8815789473684212, 0.7552631578947371, 0.8078947368421052, 0.7657894736842104, 0.5315789473684216, 0.736842105263158, 0.7342105263157896, 0.7210526315789472, 0.7131578947368422, 0.6657894736842107, 0.8394736842105264, 0.594736842105263, 0.7078947368421056, 0.3526315789473684, 0.34210526315789513, 0.4236842105263161, 0.6947368421052631, 0.3526315789473684, 0.30000000000000027, 0.3526315789473684, 0.5473684210526315, 0.3526315789473684, 0.6078947368421055, 0.310526315789474, 0.331578947368421, 0.7447368421052629, 0.6473684210526316, 0.5157894736842108, 0.2447368421052638, 0.1657894736842107, 0.5263157894736841, 0.2131578947368422, 0.34210526315789513, 0.43947368421052646, 0.2552631578947371, 0.44473684210526354, 0.2763157894736845, 0.5315789473684216, 0.2131578947368422, 0.43157894736842106, 0.29736842105263195, 0.1631578947368424, 0.16052631578947407, 0.2763157894736845, 0.2763157894736845, 0.2552631578947371, 0.43684210526315814, 0.331578947368421, 0.155263157894737, 0.3789473684210529, 0.20526315789473726, 0.331578947368421, 0.3526315789473684, 0.331578947368421, 0.2763157894736845, 0.4131578947368424, 0.34473684210526345, 0.20789473684210558, 0.38947368421052664, 0.3657894736842109, 0.3210526315789477, 0.44473684210526354, 0.3131578947368423, 0.15263157894736867, 0.11315789473684257, 0.39210526315789496, 0.19210526315789478, 0.10000000000000053, 0.2763157894736845, 0.0, 0.20789473684210558, 0.3657894736842109, 0.45789473684210513, 0.2552631578947371, 0.1105263157894738, 0.13947368421052664, 0.3657894736842109, 0.5315789473684216, 0.2210526315789476, 0.2736842105263162, 0.3684210526315792, 0.20000000000000018, 0.3526315789473684, 0.26578947368421035, 0.4815789473684209, 0.4868421052631584, 0.4684210526315793, 0.43947368421052646, 0.38947368421052664, 0.4131578947368424, 0.3210526315789477, 0.3947368421052633, 0.6473684210526316, 0.47631578947368425, 0.5, 0.6131578947368421, 0.655263157894737, 0.6815789473684211, 0.3210526315789477, 0.560526315789474, 0.7500000000000004, 0.48421052631578965, 0.6026315789473689, 0.5394736842105265, 0.6499999999999999, 0.4631578947368422, 0.5473684210526315, 0.5789473684210531, 0.4078947368421053, 0.5631578947368423, 0.7394736842105263, 0.37368421052631584, 0.8710526315789475, 0.6447368421052633, 0.3500000000000001, 0.7000000000000002, 0.47894736842105257, 0.5078947368421058, 0.7236842105263159, 0.7105263157894739, 0.6368421052631579, 0.4710526315789476, 0.6710526315789473, 0.6236842105263158, 0.3078947368421052, 0.45789473684210513, 0.823684210526316, 0.7052631578947373, 0.6236842105263158, 0.5894736842105264, 0.5631578947368423, 0.8157894736842106], \"z\": [0.5613409415121255, 0.5506419400855921, 0.6469329529243938, 0.8573466476462198, 0.3259629101283881, 0.8359486447931527, 0.7218259629101285, 0.725392296718973, 0.5470756062767476, 0.5470756062767476, 0.8787446504992867, 0.7146932952924394, 0.7432239657631955, 0.6219686162624822, 0.9051355206847361, 0.7360912981455064, 0.7146932952924394, 0.6077032810271041, 1.0, 0.40442225392296727, 0.35805991440798857, 0.35092724679029963, 0.5399429386590585, 0.5256776034236805, 0.40442225392296727, 0.3937232524964337, 0.6540656205420827, 0.7182596291012839, 0.4543509272467904, 0.5399429386590585, 0.7182596291012839, 0.8823109843081313, 0.5078459343794579, 0.6825962910128388, 0.5827389443651926, 0.4579172610556348, 0.4293865905848788, 0.5898716119828816, 0.529243937232525, 0.3437945791726106, 0.36875891583452214, 0.5399429386590585, 0.5827389443651926, 0.2867332382310984, 0.43295292439372324, 0.5720399429386591, 0.5613409415121255, 0.5042796005706135, 0.557774607703281, 0.7004279600570614, 0.6219686162624822, 0.7039942938659058, 0.6504992867332383, 0.782453637660485, 0.557774607703281, 0.6005706134094152, 0.4935805991440799, 0.7075606276747504, 0.7182596291012839, 0.17261055634807418, 0.2867332382310984, 0.12268188302425106, 0.2510699001426534, 0.10128388017118403, 0.054921540656205386, 0.2853067047075606, 0.15977175463623397, 0.1654778887303852, 0.33666191155492153, 0.31383737517831667, 0.4222539229671898, 0.09415121255349498, 0.13837375178316688, 0.5042796005706135, 0.4336661911554922, 0.10699001426533525, 0.08131241084165478, 0.15834522111269614, 0.33666191155492153, 0.1319543509272468, 0.0, 0.3109843081312411, 0.2510699001426534, 0.16904422253922965, 0.17261055634807418, 0.12268188302425106, 0.15477888730385161, 0.20256776034236804, 0.2867332382310984, 0.24750356633380885, 0.1440798858773181, 0.12268188302425106, 0.15477888730385161, 0.008559201141226797, 0.047788873038516394, 0.4700427960057062, 0.24750356633380885, 0.10699001426533525, 0.27246790299572043, 0.09129814550641938, 0.30813124108416545, 0.20256776034236804, 0.11412268188302424, 0.09771754636233951, 0.2810271041369472, 0.02639087018544936, 0.1654778887303852, 0.14978601997146931, 0.02425106990014264, 0.2867332382310984, 0.20256776034236804, 0.033523537803138354, 0.23466476462196864, 0.11126961483594863, 0.07631954350927247, 0.09201141226818829, 0.15477888730385161, 0.047788873038516394, 0.06704707560627673, 0.20399429386590587, 0.24750356633380885, 0.13338088445078458, 0.062054208273894434, 0.07275320970042795, 0.07275320970042795, 0.07132667617689017, 0.052781740370898694, 0.1340941512125535, 0.0456490727532097, 0.21540656205420824, 0.2510699001426534, 0.17974322396576317, 0.20114122681883026, 0.22967189728958629, 0.2653352353780314, 0.297432239657632, 0.3152639087018545, 0.16904422253922965, 0.21540656205420824, 0.2225392296718973, 0.22967189728958629, 0.35805991440798857, 0.17261055634807418, 0.1940085592011412, 0.4115549215406562, 0.3937232524964337, 0.09771754636233951, 0.24750356633380885, 0.2653352353780314, 0.1940085592011412, 0.15834522111269614, 0.1440798858773181, 0.1048502139800285, 0.2831669044222539, 0.25820256776034234, 0.318830242510699, 0.1440798858773181, 0.4293865905848788, 0.27246790299572043, 0.24393723252496433, 0.17261055634807418, 0.2867332382310984, 0.20827389443651925, 0.2831669044222539, 0.2403708987161198, 0.17261055634807418, 0.297432239657632, 0.29029957203994294, 0.33666191155492153, 0.2510699001426534, 0.1654778887303852, 0.1369472182596291, 0.27246790299572043, 0.3295292439372326, 0.33666191155492153, 0.3972895863052782, 0.40085592011412274, 0.20114122681883026]}, {\"marker\": {\"color\": \"red\"}, \"mode\": \"markers\", \"text\": [\"0\", \"1\", \"2\"], \"type\": \"scatter3d\", \"x\": [0.5173434544124818, 0.3593856655290102, 0.15170401147549095], \"y\": [0.5583243823845329, 0.7110964912280704, 0.32295957284515664], \"z\": [0.24932312439954585, 0.5959581550166431, 0.1674936426223408]}],\n",
       "                        {\"scene\": {\"xaxis\": {\"title\": {\"text\": \"Intensidade de Cor\"}}, \"yaxis\": {\"title\": {\"text\": \"\\u00c0lcool\"}}, \"zaxis\": {\"title\": {\"text\": \"Proline\"}}}, \"template\": {\"data\": {\"bar\": [{\"error_x\": {\"color\": \"#2a3f5f\"}, \"error_y\": {\"color\": \"#2a3f5f\"}, \"marker\": {\"line\": {\"color\": \"#E5ECF6\", \"width\": 0.5}}, \"type\": \"bar\"}], \"barpolar\": [{\"marker\": {\"line\": {\"color\": \"#E5ECF6\", \"width\": 0.5}}, \"type\": \"barpolar\"}], \"carpet\": [{\"aaxis\": {\"endlinecolor\": \"#2a3f5f\", \"gridcolor\": \"white\", \"linecolor\": \"white\", \"minorgridcolor\": \"white\", \"startlinecolor\": \"#2a3f5f\"}, \"baxis\": {\"endlinecolor\": \"#2a3f5f\", \"gridcolor\": \"white\", \"linecolor\": \"white\", \"minorgridcolor\": \"white\", \"startlinecolor\": \"#2a3f5f\"}, \"type\": \"carpet\"}], \"choropleth\": [{\"colorbar\": {\"outlinewidth\": 0, \"ticks\": \"\"}, \"type\": \"choropleth\"}], \"contour\": [{\"colorbar\": {\"outlinewidth\": 0, \"ticks\": \"\"}, \"colorscale\": [[0.0, \"#0d0887\"], [0.1111111111111111, \"#46039f\"], [0.2222222222222222, \"#7201a8\"], [0.3333333333333333, \"#9c179e\"], [0.4444444444444444, \"#bd3786\"], [0.5555555555555556, \"#d8576b\"], [0.6666666666666666, \"#ed7953\"], [0.7777777777777778, \"#fb9f3a\"], [0.8888888888888888, \"#fdca26\"], [1.0, \"#f0f921\"]], \"type\": \"contour\"}], \"contourcarpet\": [{\"colorbar\": {\"outlinewidth\": 0, \"ticks\": \"\"}, \"type\": \"contourcarpet\"}], \"heatmap\": [{\"colorbar\": {\"outlinewidth\": 0, \"ticks\": \"\"}, \"colorscale\": [[0.0, \"#0d0887\"], [0.1111111111111111, \"#46039f\"], [0.2222222222222222, \"#7201a8\"], [0.3333333333333333, \"#9c179e\"], [0.4444444444444444, \"#bd3786\"], [0.5555555555555556, \"#d8576b\"], [0.6666666666666666, \"#ed7953\"], [0.7777777777777778, \"#fb9f3a\"], [0.8888888888888888, \"#fdca26\"], [1.0, \"#f0f921\"]], \"type\": \"heatmap\"}], \"heatmapgl\": [{\"colorbar\": {\"outlinewidth\": 0, \"ticks\": \"\"}, \"colorscale\": [[0.0, \"#0d0887\"], [0.1111111111111111, \"#46039f\"], [0.2222222222222222, \"#7201a8\"], [0.3333333333333333, \"#9c179e\"], [0.4444444444444444, \"#bd3786\"], [0.5555555555555556, \"#d8576b\"], [0.6666666666666666, \"#ed7953\"], [0.7777777777777778, \"#fb9f3a\"], [0.8888888888888888, \"#fdca26\"], [1.0, \"#f0f921\"]], \"type\": \"heatmapgl\"}], \"histogram\": [{\"marker\": {\"colorbar\": {\"outlinewidth\": 0, \"ticks\": \"\"}}, \"type\": \"histogram\"}], \"histogram2d\": [{\"colorbar\": {\"outlinewidth\": 0, \"ticks\": \"\"}, \"colorscale\": [[0.0, \"#0d0887\"], [0.1111111111111111, \"#46039f\"], [0.2222222222222222, \"#7201a8\"], [0.3333333333333333, \"#9c179e\"], [0.4444444444444444, \"#bd3786\"], [0.5555555555555556, \"#d8576b\"], [0.6666666666666666, \"#ed7953\"], [0.7777777777777778, \"#fb9f3a\"], [0.8888888888888888, \"#fdca26\"], [1.0, \"#f0f921\"]], \"type\": \"histogram2d\"}], \"histogram2dcontour\": [{\"colorbar\": {\"outlinewidth\": 0, \"ticks\": \"\"}, \"colorscale\": [[0.0, \"#0d0887\"], [0.1111111111111111, \"#46039f\"], [0.2222222222222222, \"#7201a8\"], [0.3333333333333333, \"#9c179e\"], [0.4444444444444444, \"#bd3786\"], [0.5555555555555556, \"#d8576b\"], [0.6666666666666666, \"#ed7953\"], [0.7777777777777778, \"#fb9f3a\"], [0.8888888888888888, \"#fdca26\"], [1.0, \"#f0f921\"]], \"type\": \"histogram2dcontour\"}], \"mesh3d\": [{\"colorbar\": {\"outlinewidth\": 0, \"ticks\": \"\"}, \"type\": \"mesh3d\"}], \"parcoords\": [{\"line\": {\"colorbar\": {\"outlinewidth\": 0, \"ticks\": \"\"}}, \"type\": \"parcoords\"}], \"scatter\": [{\"marker\": {\"colorbar\": {\"outlinewidth\": 0, \"ticks\": \"\"}}, \"type\": \"scatter\"}], \"scatter3d\": [{\"line\": {\"colorbar\": {\"outlinewidth\": 0, \"ticks\": \"\"}}, \"marker\": {\"colorbar\": {\"outlinewidth\": 0, \"ticks\": \"\"}}, \"type\": \"scatter3d\"}], \"scattercarpet\": [{\"marker\": {\"colorbar\": {\"outlinewidth\": 0, \"ticks\": \"\"}}, \"type\": \"scattercarpet\"}], \"scattergeo\": [{\"marker\": {\"colorbar\": {\"outlinewidth\": 0, \"ticks\": \"\"}}, \"type\": \"scattergeo\"}], \"scattergl\": [{\"marker\": {\"colorbar\": {\"outlinewidth\": 0, \"ticks\": \"\"}}, \"type\": \"scattergl\"}], \"scattermapbox\": [{\"marker\": {\"colorbar\": {\"outlinewidth\": 0, \"ticks\": \"\"}}, \"type\": \"scattermapbox\"}], \"scatterpolar\": [{\"marker\": {\"colorbar\": {\"outlinewidth\": 0, \"ticks\": \"\"}}, \"type\": \"scatterpolar\"}], \"scatterpolargl\": [{\"marker\": {\"colorbar\": {\"outlinewidth\": 0, \"ticks\": \"\"}}, \"type\": \"scatterpolargl\"}], \"scatterternary\": [{\"marker\": {\"colorbar\": {\"outlinewidth\": 0, \"ticks\": \"\"}}, \"type\": \"scatterternary\"}], \"surface\": [{\"colorbar\": {\"outlinewidth\": 0, \"ticks\": \"\"}, \"colorscale\": [[0.0, \"#0d0887\"], [0.1111111111111111, \"#46039f\"], [0.2222222222222222, \"#7201a8\"], [0.3333333333333333, \"#9c179e\"], [0.4444444444444444, \"#bd3786\"], [0.5555555555555556, \"#d8576b\"], [0.6666666666666666, \"#ed7953\"], [0.7777777777777778, \"#fb9f3a\"], [0.8888888888888888, \"#fdca26\"], [1.0, \"#f0f921\"]], \"type\": \"surface\"}], \"table\": [{\"cells\": {\"fill\": {\"color\": \"#EBF0F8\"}, \"line\": {\"color\": \"white\"}}, \"header\": {\"fill\": {\"color\": \"#C8D4E3\"}, \"line\": {\"color\": \"white\"}}, \"type\": \"table\"}]}, \"layout\": {\"annotationdefaults\": {\"arrowcolor\": \"#2a3f5f\", \"arrowhead\": 0, \"arrowwidth\": 1}, \"colorscale\": {\"diverging\": [[0, \"#8e0152\"], [0.1, \"#c51b7d\"], [0.2, \"#de77ae\"], [0.3, \"#f1b6da\"], [0.4, \"#fde0ef\"], [0.5, \"#f7f7f7\"], [0.6, \"#e6f5d0\"], [0.7, \"#b8e186\"], [0.8, \"#7fbc41\"], [0.9, \"#4d9221\"], [1, \"#276419\"]], \"sequential\": [[0.0, \"#0d0887\"], [0.1111111111111111, \"#46039f\"], [0.2222222222222222, \"#7201a8\"], [0.3333333333333333, \"#9c179e\"], [0.4444444444444444, \"#bd3786\"], [0.5555555555555556, \"#d8576b\"], [0.6666666666666666, \"#ed7953\"], [0.7777777777777778, \"#fb9f3a\"], [0.8888888888888888, \"#fdca26\"], [1.0, \"#f0f921\"]], \"sequentialminus\": [[0.0, \"#0d0887\"], [0.1111111111111111, \"#46039f\"], [0.2222222222222222, \"#7201a8\"], [0.3333333333333333, \"#9c179e\"], [0.4444444444444444, \"#bd3786\"], [0.5555555555555556, \"#d8576b\"], [0.6666666666666666, \"#ed7953\"], [0.7777777777777778, \"#fb9f3a\"], [0.8888888888888888, \"#fdca26\"], [1.0, \"#f0f921\"]]}, \"colorway\": [\"#636efa\", \"#EF553B\", \"#00cc96\", \"#ab63fa\", \"#FFA15A\", \"#19d3f3\", \"#FF6692\", \"#B6E880\", \"#FF97FF\", \"#FECB52\"], \"font\": {\"color\": \"#2a3f5f\"}, \"geo\": {\"bgcolor\": \"white\", \"lakecolor\": \"white\", \"landcolor\": \"#E5ECF6\", \"showlakes\": true, \"showland\": true, \"subunitcolor\": \"white\"}, \"hoverlabel\": {\"align\": \"left\"}, \"hovermode\": \"closest\", \"mapbox\": {\"style\": \"light\"}, \"paper_bgcolor\": \"white\", \"plot_bgcolor\": \"#E5ECF6\", \"polar\": {\"angularaxis\": {\"gridcolor\": \"white\", \"linecolor\": \"white\", \"ticks\": \"\"}, \"bgcolor\": \"#E5ECF6\", \"radialaxis\": {\"gridcolor\": \"white\", \"linecolor\": \"white\", \"ticks\": \"\"}}, \"scene\": {\"xaxis\": {\"backgroundcolor\": \"#E5ECF6\", \"gridcolor\": \"white\", \"gridwidth\": 2, \"linecolor\": \"white\", \"showbackground\": true, \"ticks\": \"\", \"zerolinecolor\": \"white\"}, \"yaxis\": {\"backgroundcolor\": \"#E5ECF6\", \"gridcolor\": \"white\", \"gridwidth\": 2, \"linecolor\": \"white\", \"showbackground\": true, \"ticks\": \"\", \"zerolinecolor\": \"white\"}, \"zaxis\": {\"backgroundcolor\": \"#E5ECF6\", \"gridcolor\": \"white\", \"gridwidth\": 2, \"linecolor\": \"white\", \"showbackground\": true, \"ticks\": \"\", \"zerolinecolor\": \"white\"}}, \"shapedefaults\": {\"line\": {\"color\": \"#2a3f5f\"}}, \"ternary\": {\"aaxis\": {\"gridcolor\": \"white\", \"linecolor\": \"white\", \"ticks\": \"\"}, \"baxis\": {\"gridcolor\": \"white\", \"linecolor\": \"white\", \"ticks\": \"\"}, \"bgcolor\": \"#E5ECF6\", \"caxis\": {\"gridcolor\": \"white\", \"linecolor\": \"white\", \"ticks\": \"\"}}, \"title\": {\"x\": 0.05}, \"xaxis\": {\"automargin\": true, \"gridcolor\": \"white\", \"linecolor\": \"white\", \"ticks\": \"\", \"zerolinecolor\": \"white\", \"zerolinewidth\": 2}, \"yaxis\": {\"automargin\": true, \"gridcolor\": \"white\", \"linecolor\": \"white\", \"ticks\": \"\", \"zerolinecolor\": \"white\", \"zerolinewidth\": 2}}}},\n",
       "                        {\"responsive\": true}\n",
       "                    ).then(function(){\n",
       "                            \n",
       "var gd = document.getElementById('1f5f5962-abc1-4ce2-af36-8d2e57adf780');\n",
       "var x = new MutationObserver(function (mutations, observer) {{\n",
       "        var display = window.getComputedStyle(gd).display;\n",
       "        if (!display || display === 'none') {{\n",
       "            console.log([gd, 'removed!']);\n",
       "            Plotly.purge(gd);\n",
       "            observer.disconnect();\n",
       "        }}\n",
       "}});\n",
       "\n",
       "// Listen for the removal of the full notebook cells\n",
       "var notebookContainer = gd.closest('#notebook-container');\n",
       "if (notebookContainer) {{\n",
       "    x.observe(notebookContainer, {childList: true});\n",
       "}}\n",
       "\n",
       "// Listen for the clearing of the current output cell\n",
       "var outputEl = gd.closest('.output');\n",
       "if (outputEl) {{\n",
       "    x.observe(outputEl, {childList: true});\n",
       "}}\n",
       "\n",
       "                        })\n",
       "                };\n",
       "                });\n",
       "            </script>\n",
       "        </div>"
      ]
     },
     "metadata": {},
     "output_type": "display_data"
    }
   ],
   "source": [
    "fig.add_trace(go.Scatter3d(x=centros['Intensidade_de_cor'],\n",
    "                           y = centros['Alcool'],\n",
    "                           z=centros['Proline'],\n",
    "                           mode = 'markers',                  \n",
    "                           marker = dict(color = 'red'),\n",
    "                           text = [0, 1, 2]))\n",
    "fig.show()"
   ]
  },
  {
   "cell_type": "code",
   "execution_count": 36,
   "metadata": {},
   "outputs": [],
   "source": [
    "# def plot_segmento(x,y,data):\n",
    "#     sns.set(palette='muted',color_codes=True, style='whitegrid')\n",
    "#     plt.figure(figsize=(7,5))\n",
    "#     sns.scatterplot(x=x,y=y,hue='cluster',data=data, size='cluster',sizes=(50,150))\n",
    "#     plt.show()\n",
    "    \n",
    "# plot_segmento('Intensidade_de_cor','Alcool',df)"
   ]
  },
  {
   "cell_type": "markdown",
   "metadata": {},
   "source": [
    "# DBSCAN"
   ]
  },
  {
   "cell_type": "code",
   "execution_count": 37,
   "metadata": {},
   "outputs": [],
   "source": [
    "from sklearn.cluster import DBSCAN"
   ]
  },
  {
   "cell_type": "code",
   "execution_count": 38,
   "metadata": {},
   "outputs": [],
   "source": [
    "dbscan = DBSCAN(eps = 1.31, min_samples = 15, metric = 'manhattan')"
   ]
  },
  {
   "cell_type": "code",
   "execution_count": 39,
   "metadata": {},
   "outputs": [
    {
     "data": {
      "text/plain": [
       "DBSCAN(eps=1.31, metric='manhattan', min_samples=15)"
      ]
     },
     "execution_count": 39,
     "metadata": {},
     "output_type": "execute_result"
    }
   ],
   "source": [
    "dbscan.fit(df)"
   ]
  },
  {
   "cell_type": "code",
   "execution_count": 45,
   "metadata": {},
   "outputs": [
    {
     "name": "stdout",
     "output_type": "stream",
     "text": [
      "[1 1 1 1 0 1 1 1 1 1 1 1 1 0 1 1 1 1 1 1 1 1 1 1 1 0 1 1 1 1 1 1 1 1 1 1 1\n",
      " 1 1 0 1 0 1 0 1 0 1 1 1 1 0 1 1 1 1 1 1 1 1 0 0 0 0 0 0 0 0 2 0 0 0 0 0 0\n",
      " 0 0 0 0 0 0 0 2 0 0 0 2 0 0 0 0 2 2 0 0 0 0 0 0 0 0 0 2 0 2 2 0 2 2 2 0 0\n",
      " 0 0 0 0 0 2 2 0 2 0 0 0 0 0 2 0 0 0 0 0 3 0 3 0 3 0 0 3 0 0 3 0 0 3 3 0 3\n",
      " 3 3 0 0 0 3 0 3 3 0 0 0 3 3 3 3 3 0 3 3 3 0 3 3 3 3 3 3 3 3]\n"
     ]
    }
   ],
   "source": [
    "labels = dbscan.labels_+1\n",
    "print(labels)"
   ]
  },
  {
   "cell_type": "code",
   "execution_count": 46,
   "metadata": {},
   "outputs": [
    {
     "data": {
      "application/vnd.plotly.v1+json": {
       "config": {
        "plotlyServerURL": "https://plot.ly"
       },
       "data": [
        {
         "marker": {
          "color": [
           1,
           1,
           1,
           1,
           0,
           1,
           1,
           1,
           1,
           1,
           1,
           1,
           1,
           0,
           1,
           1,
           1,
           1,
           1,
           1,
           1,
           1,
           1,
           1,
           1,
           0,
           1,
           1,
           1,
           1,
           1,
           1,
           1,
           1,
           1,
           1,
           1,
           1,
           1,
           0,
           1,
           0,
           1,
           0,
           1,
           0,
           1,
           1,
           1,
           1,
           0,
           1,
           1,
           1,
           1,
           1,
           1,
           1,
           1,
           0,
           0,
           0,
           0,
           0,
           0,
           0,
           0,
           2,
           0,
           0,
           0,
           0,
           0,
           0,
           0,
           0,
           0,
           0,
           0,
           0,
           0,
           2,
           0,
           0,
           0,
           2,
           0,
           0,
           0,
           0,
           2,
           2,
           0,
           0,
           0,
           0,
           0,
           0,
           0,
           0,
           0,
           2,
           0,
           2,
           2,
           0,
           2,
           2,
           2,
           0,
           0,
           0,
           0,
           0,
           0,
           0,
           2,
           2,
           0,
           2,
           0,
           0,
           0,
           0,
           0,
           2,
           0,
           0,
           0,
           0,
           0,
           3,
           0,
           3,
           0,
           3,
           0,
           0,
           3,
           0,
           0,
           3,
           0,
           0,
           3,
           3,
           0,
           3,
           3,
           3,
           0,
           0,
           0,
           3,
           0,
           3,
           3,
           0,
           0,
           0,
           3,
           3,
           3,
           3,
           3,
           0,
           3,
           3,
           3,
           0,
           3,
           3,
           3,
           3,
           3,
           3,
           3,
           3
          ]
         },
         "mode": "markers",
         "text": [
          1,
          1,
          1,
          1,
          0,
          1,
          1,
          1,
          1,
          1,
          1,
          1,
          1,
          0,
          1,
          1,
          1,
          1,
          1,
          1,
          1,
          1,
          1,
          1,
          1,
          0,
          1,
          1,
          1,
          1,
          1,
          1,
          1,
          1,
          1,
          1,
          1,
          1,
          1,
          0,
          1,
          0,
          1,
          0,
          1,
          0,
          1,
          1,
          1,
          1,
          0,
          1,
          1,
          1,
          1,
          1,
          1,
          1,
          1,
          0,
          0,
          0,
          0,
          0,
          0,
          0,
          0,
          2,
          0,
          0,
          0,
          0,
          0,
          0,
          0,
          0,
          0,
          0,
          0,
          0,
          0,
          2,
          0,
          0,
          0,
          2,
          0,
          0,
          0,
          0,
          2,
          2,
          0,
          0,
          0,
          0,
          0,
          0,
          0,
          0,
          0,
          2,
          0,
          2,
          2,
          0,
          2,
          2,
          2,
          0,
          0,
          0,
          0,
          0,
          0,
          0,
          2,
          2,
          0,
          2,
          0,
          0,
          0,
          0,
          0,
          2,
          0,
          0,
          0,
          0,
          0,
          3,
          0,
          3,
          0,
          3,
          0,
          0,
          3,
          0,
          0,
          3,
          0,
          0,
          3,
          3,
          0,
          3,
          3,
          3,
          0,
          0,
          0,
          3,
          0,
          3,
          3,
          0,
          0,
          0,
          3,
          3,
          3,
          3,
          3,
          0,
          3,
          3,
          3,
          0,
          3,
          3,
          3,
          3,
          3,
          3,
          3,
          3
         ],
         "type": "scatter3d",
         "x": [
          0.3720136518771331,
          0.26450511945392485,
          0.3754266211604095,
          0.5563139931740614,
          0.2593856655290102,
          0.4667235494880546,
          0.3387372013651877,
          0.3216723549488054,
          0.33447098976109213,
          0.5068259385665529,
          0.3813993174061433,
          0.31740614334470985,
          0.3686006825938566,
          0.3515358361774744,
          0.5307167235494881,
          0.5136518771331058,
          0.41979522184300344,
          0.4539249146757679,
          0.6331058020477814,
          0.325938566552901,
          0.37286689419795227,
          0.27474402730375425,
          0.21501706484641633,
          0.22610921501706485,
          0.1911262798634812,
          0.1962457337883959,
          0.30034129692832756,
          0.22781569965870305,
          0.27474402730375425,
          0.29180887372013653,
          0.37713310580204773,
          0.4795221843003413,
          0.21843003412969278,
          0.3515358361774744,
          0.2491467576791809,
          0.325938566552901,
          0.2832764505119454,
          0.2534129692832764,
          0.20648464163822525,
          0.325938566552901,
          0.4138225255972696,
          0.2559726962457338,
          0.35409556313993173,
          0.2627986348122867,
          0.32081911262798635,
          0.33788395904436863,
          0.3088737201365188,
          0.4112627986348123,
          0.41979522184300344,
          0.6501706484641638,
          0.5051194539249146,
          0.3686006825938566,
          0.4923208191126279,
          0.42832764505119447,
          0.38993174061433444,
          0.424061433447099,
          0.4351535836177475,
          0.40273037542662116,
          0.4709897610921502,
          0.057167235494880536,
          0.1697952218430034,
          0.3813993174061433,
          0.21501706484641633,
          0.2704778156996587,
          0.1424914675767918,
          0.2832764505119454,
          0.3430034129692833,
          0.2901023890784983,
          0.16126279863481227,
          0.13395904436860068,
          0.15102389078498293,
          0.17918088737201363,
          0.2098976109215017,
          0.1766211604095563,
          0.16467576791808872,
          0.21501706484641633,
          0.2832764505119454,
          0.11689419795221842,
          0.18088737201365188,
          0.1100682593856655,
          0.10409556313993173,
          0.22354948805460748,
          0.07849829351535836,
          0.30034129692832756,
          0.15102389078498293,
          0.1143344709897611,
          0.09982935153583619,
          0.11262798634812288,
          0.1296928327645051,
          0.03924914675767918,
          0.09556313993174059,
          0.1979522184300341,
          0.15102389078498293,
          0.07423208191126279,
          0.16808873720136516,
          0.11262798634812288,
          0.10409556313993173,
          0.13822525597269622,
          0.27474402730375425,
          0.08703071672354948,
          0.17235494880546073,
          0.09982935153583619,
          0.1296928327645051,
          0.06655290102389078,
          0.14163822525597267,
          0.12116040955631399,
          0.18088737201365188,
          0.17235494880546073,
          0.12116040955631399,
          0.11689419795221842,
          0.13822525597269622,
          0.06143344709897611,
          0.21501706484641633,
          0.15358361774744025,
          0.13822525597269622,
          0.052901023890784965,
          0.057167235494880536,
          0.06655290102389078,
          0.18088737201365188,
          0,
          0.16808873720136516,
          0.40273037542662116,
          0.06825938566552903,
          0.11262798634812288,
          0.1296928327645051,
          0.12627986348122863,
          0.22696245733788392,
          0.14675767918088736,
          0.07167235494880547,
          0.11262798634812288,
          0.2406143344709897,
          0.3515358361774744,
          0.37713310580204773,
          0.31740614334470985,
          0.35580204778157,
          0.4965870307167235,
          0.21928327645051196,
          0.31740614334470985,
          0.37713310580204773,
          0.31058020477815695,
          0.2832764505119454,
          0.3686006825938566,
          0.26194539249146753,
          0.2662116040955631,
          0.5912969283276451,
          0.23208191126279862,
          0.3088737201365188,
          0.5435153583617748,
          0.6092150170648464,
          0.6928327645051194,
          0.6245733788395904,
          0.8122866894197952,
          0.4965870307167235,
          0.78839590443686,
          0.5392491467576791,
          0.5648464163822525,
          0.659556313993174,
          0.5307167235494881,
          0.9999999999999999,
          0.893344709897611,
          0.5435153583617748,
          0.39249146757679176,
          0.36689419795221845,
          0.341296928327645,
          0.7081911262798635,
          0.45563139931740615,
          0.8020477815699658,
          0.7662116040955631,
          0.6296928327645052,
          0.6160409556313993,
          0.36006825938566556,
          0.735494795221843,
          0.7184300341296928,
          0.5477815699658704,
          0.5136518771331058,
          0.7610921501706484,
          0.6843003412969284,
          0.6757679180887372
         ],
         "y": [
          0.8421052631578951,
          0.5710526315789473,
          0.560526315789474,
          0.8789473684210525,
          0.5815789473684214,
          0.8342105263157893,
          0.8842105263157896,
          0.797368421052632,
          1,
          0.7447368421052629,
          0.8078947368421052,
          0.8131578947368419,
          0.7157894736842105,
          0.9789473684210526,
          0.8815789473684212,
          0.6842105263157898,
          0.8605263157894738,
          0.736842105263158,
          0.831578947368421,
          0.6868421052631581,
          0.797368421052632,
          0.5,
          0.7052631578947373,
          0.47894736842105257,
          0.6499999999999999,
          0.5315789473684216,
          0.6210526315789475,
          0.5973684210526318,
          0.7473684210526317,
          0.7868421052631578,
          0.7105263157894739,
          0.6710526315789473,
          0.6973684210526314,
          0.7184210526315788,
          0.6526315789473687,
          0.6447368421052633,
          0.5921052631578947,
          0.5315789473684216,
          0.5368421052631582,
          0.8394736842105264,
          0.6657894736842107,
          0.6263157894736846,
          0.7500000000000004,
          0.5815789473684214,
          0.5315789473684216,
          0.836842105263158,
          0.8815789473684212,
          0.7552631578947371,
          0.8078947368421052,
          0.7657894736842104,
          0.5315789473684216,
          0.736842105263158,
          0.7342105263157896,
          0.7210526315789472,
          0.7131578947368422,
          0.6657894736842107,
          0.8394736842105264,
          0.594736842105263,
          0.7078947368421056,
          0.3526315789473684,
          0.34210526315789513,
          0.4236842105263161,
          0.6947368421052631,
          0.3526315789473684,
          0.30000000000000027,
          0.3526315789473684,
          0.5473684210526315,
          0.3526315789473684,
          0.6078947368421055,
          0.310526315789474,
          0.331578947368421,
          0.7447368421052629,
          0.6473684210526316,
          0.5157894736842108,
          0.2447368421052638,
          0.1657894736842107,
          0.5263157894736841,
          0.2131578947368422,
          0.34210526315789513,
          0.43947368421052646,
          0.2552631578947371,
          0.44473684210526354,
          0.2763157894736845,
          0.5315789473684216,
          0.2131578947368422,
          0.43157894736842106,
          0.29736842105263195,
          0.1631578947368424,
          0.16052631578947407,
          0.2763157894736845,
          0.2763157894736845,
          0.2552631578947371,
          0.43684210526315814,
          0.331578947368421,
          0.155263157894737,
          0.3789473684210529,
          0.20526315789473726,
          0.331578947368421,
          0.3526315789473684,
          0.331578947368421,
          0.2763157894736845,
          0.4131578947368424,
          0.34473684210526345,
          0.20789473684210558,
          0.38947368421052664,
          0.3657894736842109,
          0.3210526315789477,
          0.44473684210526354,
          0.3131578947368423,
          0.15263157894736867,
          0.11315789473684257,
          0.39210526315789496,
          0.19210526315789478,
          0.10000000000000053,
          0.2763157894736845,
          0,
          0.20789473684210558,
          0.3657894736842109,
          0.45789473684210513,
          0.2552631578947371,
          0.1105263157894738,
          0.13947368421052664,
          0.3657894736842109,
          0.5315789473684216,
          0.2210526315789476,
          0.2736842105263162,
          0.3684210526315792,
          0.20000000000000018,
          0.3526315789473684,
          0.26578947368421035,
          0.4815789473684209,
          0.4868421052631584,
          0.4684210526315793,
          0.43947368421052646,
          0.38947368421052664,
          0.4131578947368424,
          0.3210526315789477,
          0.3947368421052633,
          0.6473684210526316,
          0.47631578947368425,
          0.5,
          0.6131578947368421,
          0.655263157894737,
          0.6815789473684211,
          0.3210526315789477,
          0.560526315789474,
          0.7500000000000004,
          0.48421052631578965,
          0.6026315789473689,
          0.5394736842105265,
          0.6499999999999999,
          0.4631578947368422,
          0.5473684210526315,
          0.5789473684210531,
          0.4078947368421053,
          0.5631578947368423,
          0.7394736842105263,
          0.37368421052631584,
          0.8710526315789475,
          0.6447368421052633,
          0.3500000000000001,
          0.7000000000000002,
          0.47894736842105257,
          0.5078947368421058,
          0.7236842105263159,
          0.7105263157894739,
          0.6368421052631579,
          0.4710526315789476,
          0.6710526315789473,
          0.6236842105263158,
          0.3078947368421052,
          0.45789473684210513,
          0.823684210526316,
          0.7052631578947373,
          0.6236842105263158,
          0.5894736842105264,
          0.5631578947368423,
          0.8157894736842106
         ],
         "z": [
          0.5613409415121255,
          0.5506419400855921,
          0.6469329529243938,
          0.8573466476462198,
          0.3259629101283881,
          0.8359486447931527,
          0.7218259629101285,
          0.725392296718973,
          0.5470756062767476,
          0.5470756062767476,
          0.8787446504992867,
          0.7146932952924394,
          0.7432239657631955,
          0.6219686162624822,
          0.9051355206847361,
          0.7360912981455064,
          0.7146932952924394,
          0.6077032810271041,
          1,
          0.40442225392296727,
          0.35805991440798857,
          0.35092724679029963,
          0.5399429386590585,
          0.5256776034236805,
          0.40442225392296727,
          0.3937232524964337,
          0.6540656205420827,
          0.7182596291012839,
          0.4543509272467904,
          0.5399429386590585,
          0.7182596291012839,
          0.8823109843081313,
          0.5078459343794579,
          0.6825962910128388,
          0.5827389443651926,
          0.4579172610556348,
          0.4293865905848788,
          0.5898716119828816,
          0.529243937232525,
          0.3437945791726106,
          0.36875891583452214,
          0.5399429386590585,
          0.5827389443651926,
          0.2867332382310984,
          0.43295292439372324,
          0.5720399429386591,
          0.5613409415121255,
          0.5042796005706135,
          0.557774607703281,
          0.7004279600570614,
          0.6219686162624822,
          0.7039942938659058,
          0.6504992867332383,
          0.782453637660485,
          0.557774607703281,
          0.6005706134094152,
          0.4935805991440799,
          0.7075606276747504,
          0.7182596291012839,
          0.17261055634807418,
          0.2867332382310984,
          0.12268188302425106,
          0.2510699001426534,
          0.10128388017118403,
          0.054921540656205386,
          0.2853067047075606,
          0.15977175463623397,
          0.1654778887303852,
          0.33666191155492153,
          0.31383737517831667,
          0.4222539229671898,
          0.09415121255349498,
          0.13837375178316688,
          0.5042796005706135,
          0.4336661911554922,
          0.10699001426533525,
          0.08131241084165478,
          0.15834522111269614,
          0.33666191155492153,
          0.1319543509272468,
          0,
          0.3109843081312411,
          0.2510699001426534,
          0.16904422253922965,
          0.17261055634807418,
          0.12268188302425106,
          0.15477888730385161,
          0.20256776034236804,
          0.2867332382310984,
          0.24750356633380885,
          0.1440798858773181,
          0.12268188302425106,
          0.15477888730385161,
          0.008559201141226797,
          0.047788873038516394,
          0.4700427960057062,
          0.24750356633380885,
          0.10699001426533525,
          0.27246790299572043,
          0.09129814550641938,
          0.30813124108416545,
          0.20256776034236804,
          0.11412268188302424,
          0.09771754636233951,
          0.2810271041369472,
          0.02639087018544936,
          0.1654778887303852,
          0.14978601997146931,
          0.02425106990014264,
          0.2867332382310984,
          0.20256776034236804,
          0.033523537803138354,
          0.23466476462196864,
          0.11126961483594863,
          0.07631954350927247,
          0.09201141226818829,
          0.15477888730385161,
          0.047788873038516394,
          0.06704707560627673,
          0.20399429386590587,
          0.24750356633380885,
          0.13338088445078458,
          0.062054208273894434,
          0.07275320970042795,
          0.07275320970042795,
          0.07132667617689017,
          0.052781740370898694,
          0.1340941512125535,
          0.0456490727532097,
          0.21540656205420824,
          0.2510699001426534,
          0.17974322396576317,
          0.20114122681883026,
          0.22967189728958629,
          0.2653352353780314,
          0.297432239657632,
          0.3152639087018545,
          0.16904422253922965,
          0.21540656205420824,
          0.2225392296718973,
          0.22967189728958629,
          0.35805991440798857,
          0.17261055634807418,
          0.1940085592011412,
          0.4115549215406562,
          0.3937232524964337,
          0.09771754636233951,
          0.24750356633380885,
          0.2653352353780314,
          0.1940085592011412,
          0.15834522111269614,
          0.1440798858773181,
          0.1048502139800285,
          0.2831669044222539,
          0.25820256776034234,
          0.318830242510699,
          0.1440798858773181,
          0.4293865905848788,
          0.27246790299572043,
          0.24393723252496433,
          0.17261055634807418,
          0.2867332382310984,
          0.20827389443651925,
          0.2831669044222539,
          0.2403708987161198,
          0.17261055634807418,
          0.297432239657632,
          0.29029957203994294,
          0.33666191155492153,
          0.2510699001426534,
          0.1654778887303852,
          0.1369472182596291,
          0.27246790299572043,
          0.3295292439372326,
          0.33666191155492153,
          0.3972895863052782,
          0.40085592011412274,
          0.20114122681883026
         ]
        }
       ],
       "layout": {
        "template": {
         "data": {
          "bar": [
           {
            "error_x": {
             "color": "#2a3f5f"
            },
            "error_y": {
             "color": "#2a3f5f"
            },
            "marker": {
             "line": {
              "color": "#E5ECF6",
              "width": 0.5
             }
            },
            "type": "bar"
           }
          ],
          "barpolar": [
           {
            "marker": {
             "line": {
              "color": "#E5ECF6",
              "width": 0.5
             }
            },
            "type": "barpolar"
           }
          ],
          "carpet": [
           {
            "aaxis": {
             "endlinecolor": "#2a3f5f",
             "gridcolor": "white",
             "linecolor": "white",
             "minorgridcolor": "white",
             "startlinecolor": "#2a3f5f"
            },
            "baxis": {
             "endlinecolor": "#2a3f5f",
             "gridcolor": "white",
             "linecolor": "white",
             "minorgridcolor": "white",
             "startlinecolor": "#2a3f5f"
            },
            "type": "carpet"
           }
          ],
          "choropleth": [
           {
            "colorbar": {
             "outlinewidth": 0,
             "ticks": ""
            },
            "type": "choropleth"
           }
          ],
          "contour": [
           {
            "colorbar": {
             "outlinewidth": 0,
             "ticks": ""
            },
            "colorscale": [
             [
              0,
              "#0d0887"
             ],
             [
              0.1111111111111111,
              "#46039f"
             ],
             [
              0.2222222222222222,
              "#7201a8"
             ],
             [
              0.3333333333333333,
              "#9c179e"
             ],
             [
              0.4444444444444444,
              "#bd3786"
             ],
             [
              0.5555555555555556,
              "#d8576b"
             ],
             [
              0.6666666666666666,
              "#ed7953"
             ],
             [
              0.7777777777777778,
              "#fb9f3a"
             ],
             [
              0.8888888888888888,
              "#fdca26"
             ],
             [
              1,
              "#f0f921"
             ]
            ],
            "type": "contour"
           }
          ],
          "contourcarpet": [
           {
            "colorbar": {
             "outlinewidth": 0,
             "ticks": ""
            },
            "type": "contourcarpet"
           }
          ],
          "heatmap": [
           {
            "colorbar": {
             "outlinewidth": 0,
             "ticks": ""
            },
            "colorscale": [
             [
              0,
              "#0d0887"
             ],
             [
              0.1111111111111111,
              "#46039f"
             ],
             [
              0.2222222222222222,
              "#7201a8"
             ],
             [
              0.3333333333333333,
              "#9c179e"
             ],
             [
              0.4444444444444444,
              "#bd3786"
             ],
             [
              0.5555555555555556,
              "#d8576b"
             ],
             [
              0.6666666666666666,
              "#ed7953"
             ],
             [
              0.7777777777777778,
              "#fb9f3a"
             ],
             [
              0.8888888888888888,
              "#fdca26"
             ],
             [
              1,
              "#f0f921"
             ]
            ],
            "type": "heatmap"
           }
          ],
          "heatmapgl": [
           {
            "colorbar": {
             "outlinewidth": 0,
             "ticks": ""
            },
            "colorscale": [
             [
              0,
              "#0d0887"
             ],
             [
              0.1111111111111111,
              "#46039f"
             ],
             [
              0.2222222222222222,
              "#7201a8"
             ],
             [
              0.3333333333333333,
              "#9c179e"
             ],
             [
              0.4444444444444444,
              "#bd3786"
             ],
             [
              0.5555555555555556,
              "#d8576b"
             ],
             [
              0.6666666666666666,
              "#ed7953"
             ],
             [
              0.7777777777777778,
              "#fb9f3a"
             ],
             [
              0.8888888888888888,
              "#fdca26"
             ],
             [
              1,
              "#f0f921"
             ]
            ],
            "type": "heatmapgl"
           }
          ],
          "histogram": [
           {
            "marker": {
             "colorbar": {
              "outlinewidth": 0,
              "ticks": ""
             }
            },
            "type": "histogram"
           }
          ],
          "histogram2d": [
           {
            "colorbar": {
             "outlinewidth": 0,
             "ticks": ""
            },
            "colorscale": [
             [
              0,
              "#0d0887"
             ],
             [
              0.1111111111111111,
              "#46039f"
             ],
             [
              0.2222222222222222,
              "#7201a8"
             ],
             [
              0.3333333333333333,
              "#9c179e"
             ],
             [
              0.4444444444444444,
              "#bd3786"
             ],
             [
              0.5555555555555556,
              "#d8576b"
             ],
             [
              0.6666666666666666,
              "#ed7953"
             ],
             [
              0.7777777777777778,
              "#fb9f3a"
             ],
             [
              0.8888888888888888,
              "#fdca26"
             ],
             [
              1,
              "#f0f921"
             ]
            ],
            "type": "histogram2d"
           }
          ],
          "histogram2dcontour": [
           {
            "colorbar": {
             "outlinewidth": 0,
             "ticks": ""
            },
            "colorscale": [
             [
              0,
              "#0d0887"
             ],
             [
              0.1111111111111111,
              "#46039f"
             ],
             [
              0.2222222222222222,
              "#7201a8"
             ],
             [
              0.3333333333333333,
              "#9c179e"
             ],
             [
              0.4444444444444444,
              "#bd3786"
             ],
             [
              0.5555555555555556,
              "#d8576b"
             ],
             [
              0.6666666666666666,
              "#ed7953"
             ],
             [
              0.7777777777777778,
              "#fb9f3a"
             ],
             [
              0.8888888888888888,
              "#fdca26"
             ],
             [
              1,
              "#f0f921"
             ]
            ],
            "type": "histogram2dcontour"
           }
          ],
          "mesh3d": [
           {
            "colorbar": {
             "outlinewidth": 0,
             "ticks": ""
            },
            "type": "mesh3d"
           }
          ],
          "parcoords": [
           {
            "line": {
             "colorbar": {
              "outlinewidth": 0,
              "ticks": ""
             }
            },
            "type": "parcoords"
           }
          ],
          "scatter": [
           {
            "marker": {
             "colorbar": {
              "outlinewidth": 0,
              "ticks": ""
             }
            },
            "type": "scatter"
           }
          ],
          "scatter3d": [
           {
            "line": {
             "colorbar": {
              "outlinewidth": 0,
              "ticks": ""
             }
            },
            "marker": {
             "colorbar": {
              "outlinewidth": 0,
              "ticks": ""
             }
            },
            "type": "scatter3d"
           }
          ],
          "scattercarpet": [
           {
            "marker": {
             "colorbar": {
              "outlinewidth": 0,
              "ticks": ""
             }
            },
            "type": "scattercarpet"
           }
          ],
          "scattergeo": [
           {
            "marker": {
             "colorbar": {
              "outlinewidth": 0,
              "ticks": ""
             }
            },
            "type": "scattergeo"
           }
          ],
          "scattergl": [
           {
            "marker": {
             "colorbar": {
              "outlinewidth": 0,
              "ticks": ""
             }
            },
            "type": "scattergl"
           }
          ],
          "scattermapbox": [
           {
            "marker": {
             "colorbar": {
              "outlinewidth": 0,
              "ticks": ""
             }
            },
            "type": "scattermapbox"
           }
          ],
          "scatterpolar": [
           {
            "marker": {
             "colorbar": {
              "outlinewidth": 0,
              "ticks": ""
             }
            },
            "type": "scatterpolar"
           }
          ],
          "scatterpolargl": [
           {
            "marker": {
             "colorbar": {
              "outlinewidth": 0,
              "ticks": ""
             }
            },
            "type": "scatterpolargl"
           }
          ],
          "scatterternary": [
           {
            "marker": {
             "colorbar": {
              "outlinewidth": 0,
              "ticks": ""
             }
            },
            "type": "scatterternary"
           }
          ],
          "surface": [
           {
            "colorbar": {
             "outlinewidth": 0,
             "ticks": ""
            },
            "colorscale": [
             [
              0,
              "#0d0887"
             ],
             [
              0.1111111111111111,
              "#46039f"
             ],
             [
              0.2222222222222222,
              "#7201a8"
             ],
             [
              0.3333333333333333,
              "#9c179e"
             ],
             [
              0.4444444444444444,
              "#bd3786"
             ],
             [
              0.5555555555555556,
              "#d8576b"
             ],
             [
              0.6666666666666666,
              "#ed7953"
             ],
             [
              0.7777777777777778,
              "#fb9f3a"
             ],
             [
              0.8888888888888888,
              "#fdca26"
             ],
             [
              1,
              "#f0f921"
             ]
            ],
            "type": "surface"
           }
          ],
          "table": [
           {
            "cells": {
             "fill": {
              "color": "#EBF0F8"
             },
             "line": {
              "color": "white"
             }
            },
            "header": {
             "fill": {
              "color": "#C8D4E3"
             },
             "line": {
              "color": "white"
             }
            },
            "type": "table"
           }
          ]
         },
         "layout": {
          "annotationdefaults": {
           "arrowcolor": "#2a3f5f",
           "arrowhead": 0,
           "arrowwidth": 1
          },
          "colorscale": {
           "diverging": [
            [
             0,
             "#8e0152"
            ],
            [
             0.1,
             "#c51b7d"
            ],
            [
             0.2,
             "#de77ae"
            ],
            [
             0.3,
             "#f1b6da"
            ],
            [
             0.4,
             "#fde0ef"
            ],
            [
             0.5,
             "#f7f7f7"
            ],
            [
             0.6,
             "#e6f5d0"
            ],
            [
             0.7,
             "#b8e186"
            ],
            [
             0.8,
             "#7fbc41"
            ],
            [
             0.9,
             "#4d9221"
            ],
            [
             1,
             "#276419"
            ]
           ],
           "sequential": [
            [
             0,
             "#0d0887"
            ],
            [
             0.1111111111111111,
             "#46039f"
            ],
            [
             0.2222222222222222,
             "#7201a8"
            ],
            [
             0.3333333333333333,
             "#9c179e"
            ],
            [
             0.4444444444444444,
             "#bd3786"
            ],
            [
             0.5555555555555556,
             "#d8576b"
            ],
            [
             0.6666666666666666,
             "#ed7953"
            ],
            [
             0.7777777777777778,
             "#fb9f3a"
            ],
            [
             0.8888888888888888,
             "#fdca26"
            ],
            [
             1,
             "#f0f921"
            ]
           ],
           "sequentialminus": [
            [
             0,
             "#0d0887"
            ],
            [
             0.1111111111111111,
             "#46039f"
            ],
            [
             0.2222222222222222,
             "#7201a8"
            ],
            [
             0.3333333333333333,
             "#9c179e"
            ],
            [
             0.4444444444444444,
             "#bd3786"
            ],
            [
             0.5555555555555556,
             "#d8576b"
            ],
            [
             0.6666666666666666,
             "#ed7953"
            ],
            [
             0.7777777777777778,
             "#fb9f3a"
            ],
            [
             0.8888888888888888,
             "#fdca26"
            ],
            [
             1,
             "#f0f921"
            ]
           ]
          },
          "colorway": [
           "#636efa",
           "#EF553B",
           "#00cc96",
           "#ab63fa",
           "#FFA15A",
           "#19d3f3",
           "#FF6692",
           "#B6E880",
           "#FF97FF",
           "#FECB52"
          ],
          "font": {
           "color": "#2a3f5f"
          },
          "geo": {
           "bgcolor": "white",
           "lakecolor": "white",
           "landcolor": "#E5ECF6",
           "showlakes": true,
           "showland": true,
           "subunitcolor": "white"
          },
          "hoverlabel": {
           "align": "left"
          },
          "hovermode": "closest",
          "mapbox": {
           "style": "light"
          },
          "paper_bgcolor": "white",
          "plot_bgcolor": "#E5ECF6",
          "polar": {
           "angularaxis": {
            "gridcolor": "white",
            "linecolor": "white",
            "ticks": ""
           },
           "bgcolor": "#E5ECF6",
           "radialaxis": {
            "gridcolor": "white",
            "linecolor": "white",
            "ticks": ""
           }
          },
          "scene": {
           "xaxis": {
            "backgroundcolor": "#E5ECF6",
            "gridcolor": "white",
            "gridwidth": 2,
            "linecolor": "white",
            "showbackground": true,
            "ticks": "",
            "zerolinecolor": "white"
           },
           "yaxis": {
            "backgroundcolor": "#E5ECF6",
            "gridcolor": "white",
            "gridwidth": 2,
            "linecolor": "white",
            "showbackground": true,
            "ticks": "",
            "zerolinecolor": "white"
           },
           "zaxis": {
            "backgroundcolor": "#E5ECF6",
            "gridcolor": "white",
            "gridwidth": 2,
            "linecolor": "white",
            "showbackground": true,
            "ticks": "",
            "zerolinecolor": "white"
           }
          },
          "shapedefaults": {
           "line": {
            "color": "#2a3f5f"
           }
          },
          "ternary": {
           "aaxis": {
            "gridcolor": "white",
            "linecolor": "white",
            "ticks": ""
           },
           "baxis": {
            "gridcolor": "white",
            "linecolor": "white",
            "ticks": ""
           },
           "bgcolor": "#E5ECF6",
           "caxis": {
            "gridcolor": "white",
            "linecolor": "white",
            "ticks": ""
           }
          },
          "title": {
           "x": 0.05
          },
          "xaxis": {
           "automargin": true,
           "gridcolor": "white",
           "linecolor": "white",
           "ticks": "",
           "zerolinecolor": "white",
           "zerolinewidth": 2
          },
          "yaxis": {
           "automargin": true,
           "gridcolor": "white",
           "linecolor": "white",
           "ticks": "",
           "zerolinecolor": "white",
           "zerolinewidth": 2
          }
         }
        }
       }
      },
      "text/html": [
       "<div>\n",
       "        \n",
       "        \n",
       "            <div id=\"9853af7b-f81b-4dae-b4b3-76dadd7a972e\" class=\"plotly-graph-div\" style=\"height:525px; width:100%;\"></div>\n",
       "            <script type=\"text/javascript\">\n",
       "                require([\"plotly\"], function(Plotly) {\n",
       "                    window.PLOTLYENV=window.PLOTLYENV || {};\n",
       "                    \n",
       "                if (document.getElementById(\"9853af7b-f81b-4dae-b4b3-76dadd7a972e\")) {\n",
       "                    Plotly.newPlot(\n",
       "                        '9853af7b-f81b-4dae-b4b3-76dadd7a972e',\n",
       "                        [{\"marker\": {\"color\": [1.0, 1.0, 1.0, 1.0, 0.0, 1.0, 1.0, 1.0, 1.0, 1.0, 1.0, 1.0, 1.0, 0.0, 1.0, 1.0, 1.0, 1.0, 1.0, 1.0, 1.0, 1.0, 1.0, 1.0, 1.0, 0.0, 1.0, 1.0, 1.0, 1.0, 1.0, 1.0, 1.0, 1.0, 1.0, 1.0, 1.0, 1.0, 1.0, 0.0, 1.0, 0.0, 1.0, 0.0, 1.0, 0.0, 1.0, 1.0, 1.0, 1.0, 0.0, 1.0, 1.0, 1.0, 1.0, 1.0, 1.0, 1.0, 1.0, 0.0, 0.0, 0.0, 0.0, 0.0, 0.0, 0.0, 0.0, 2.0, 0.0, 0.0, 0.0, 0.0, 0.0, 0.0, 0.0, 0.0, 0.0, 0.0, 0.0, 0.0, 0.0, 2.0, 0.0, 0.0, 0.0, 2.0, 0.0, 0.0, 0.0, 0.0, 2.0, 2.0, 0.0, 0.0, 0.0, 0.0, 0.0, 0.0, 0.0, 0.0, 0.0, 2.0, 0.0, 2.0, 2.0, 0.0, 2.0, 2.0, 2.0, 0.0, 0.0, 0.0, 0.0, 0.0, 0.0, 0.0, 2.0, 2.0, 0.0, 2.0, 0.0, 0.0, 0.0, 0.0, 0.0, 2.0, 0.0, 0.0, 0.0, 0.0, 0.0, 3.0, 0.0, 3.0, 0.0, 3.0, 0.0, 0.0, 3.0, 0.0, 0.0, 3.0, 0.0, 0.0, 3.0, 3.0, 0.0, 3.0, 3.0, 3.0, 0.0, 0.0, 0.0, 3.0, 0.0, 3.0, 3.0, 0.0, 0.0, 0.0, 3.0, 3.0, 3.0, 3.0, 3.0, 0.0, 3.0, 3.0, 3.0, 0.0, 3.0, 3.0, 3.0, 3.0, 3.0, 3.0, 3.0, 3.0]}, \"mode\": \"markers\", \"text\": [1.0, 1.0, 1.0, 1.0, 0.0, 1.0, 1.0, 1.0, 1.0, 1.0, 1.0, 1.0, 1.0, 0.0, 1.0, 1.0, 1.0, 1.0, 1.0, 1.0, 1.0, 1.0, 1.0, 1.0, 1.0, 0.0, 1.0, 1.0, 1.0, 1.0, 1.0, 1.0, 1.0, 1.0, 1.0, 1.0, 1.0, 1.0, 1.0, 0.0, 1.0, 0.0, 1.0, 0.0, 1.0, 0.0, 1.0, 1.0, 1.0, 1.0, 0.0, 1.0, 1.0, 1.0, 1.0, 1.0, 1.0, 1.0, 1.0, 0.0, 0.0, 0.0, 0.0, 0.0, 0.0, 0.0, 0.0, 2.0, 0.0, 0.0, 0.0, 0.0, 0.0, 0.0, 0.0, 0.0, 0.0, 0.0, 0.0, 0.0, 0.0, 2.0, 0.0, 0.0, 0.0, 2.0, 0.0, 0.0, 0.0, 0.0, 2.0, 2.0, 0.0, 0.0, 0.0, 0.0, 0.0, 0.0, 0.0, 0.0, 0.0, 2.0, 0.0, 2.0, 2.0, 0.0, 2.0, 2.0, 2.0, 0.0, 0.0, 0.0, 0.0, 0.0, 0.0, 0.0, 2.0, 2.0, 0.0, 2.0, 0.0, 0.0, 0.0, 0.0, 0.0, 2.0, 0.0, 0.0, 0.0, 0.0, 0.0, 3.0, 0.0, 3.0, 0.0, 3.0, 0.0, 0.0, 3.0, 0.0, 0.0, 3.0, 0.0, 0.0, 3.0, 3.0, 0.0, 3.0, 3.0, 3.0, 0.0, 0.0, 0.0, 3.0, 0.0, 3.0, 3.0, 0.0, 0.0, 0.0, 3.0, 3.0, 3.0, 3.0, 3.0, 0.0, 3.0, 3.0, 3.0, 0.0, 3.0, 3.0, 3.0, 3.0, 3.0, 3.0, 3.0, 3.0], \"type\": \"scatter3d\", \"x\": [0.3720136518771331, 0.26450511945392485, 0.3754266211604095, 0.5563139931740614, 0.2593856655290102, 0.4667235494880546, 0.3387372013651877, 0.3216723549488054, 0.33447098976109213, 0.5068259385665529, 0.3813993174061433, 0.31740614334470985, 0.3686006825938566, 0.3515358361774744, 0.5307167235494881, 0.5136518771331058, 0.41979522184300344, 0.4539249146757679, 0.6331058020477814, 0.325938566552901, 0.37286689419795227, 0.27474402730375425, 0.21501706484641633, 0.22610921501706485, 0.1911262798634812, 0.1962457337883959, 0.30034129692832756, 0.22781569965870305, 0.27474402730375425, 0.29180887372013653, 0.37713310580204773, 0.4795221843003413, 0.21843003412969278, 0.3515358361774744, 0.2491467576791809, 0.325938566552901, 0.2832764505119454, 0.2534129692832764, 0.20648464163822525, 0.325938566552901, 0.4138225255972696, 0.2559726962457338, 0.35409556313993173, 0.2627986348122867, 0.32081911262798635, 0.33788395904436863, 0.3088737201365188, 0.4112627986348123, 0.41979522184300344, 0.6501706484641638, 0.5051194539249146, 0.3686006825938566, 0.4923208191126279, 0.42832764505119447, 0.38993174061433444, 0.424061433447099, 0.4351535836177475, 0.40273037542662116, 0.4709897610921502, 0.057167235494880536, 0.1697952218430034, 0.3813993174061433, 0.21501706484641633, 0.2704778156996587, 0.1424914675767918, 0.2832764505119454, 0.3430034129692833, 0.2901023890784983, 0.16126279863481227, 0.13395904436860068, 0.15102389078498293, 0.17918088737201363, 0.2098976109215017, 0.1766211604095563, 0.16467576791808872, 0.21501706484641633, 0.2832764505119454, 0.11689419795221842, 0.18088737201365188, 0.1100682593856655, 0.10409556313993173, 0.22354948805460748, 0.07849829351535836, 0.30034129692832756, 0.15102389078498293, 0.1143344709897611, 0.09982935153583619, 0.11262798634812288, 0.1296928327645051, 0.03924914675767918, 0.09556313993174059, 0.1979522184300341, 0.15102389078498293, 0.07423208191126279, 0.16808873720136516, 0.11262798634812288, 0.10409556313993173, 0.13822525597269622, 0.27474402730375425, 0.08703071672354948, 0.17235494880546073, 0.09982935153583619, 0.1296928327645051, 0.06655290102389078, 0.14163822525597267, 0.12116040955631399, 0.18088737201365188, 0.17235494880546073, 0.12116040955631399, 0.11689419795221842, 0.13822525597269622, 0.06143344709897611, 0.21501706484641633, 0.15358361774744025, 0.13822525597269622, 0.052901023890784965, 0.057167235494880536, 0.06655290102389078, 0.18088737201365188, 0.0, 0.16808873720136516, 0.40273037542662116, 0.06825938566552903, 0.11262798634812288, 0.1296928327645051, 0.12627986348122863, 0.22696245733788392, 0.14675767918088736, 0.07167235494880547, 0.11262798634812288, 0.2406143344709897, 0.3515358361774744, 0.37713310580204773, 0.31740614334470985, 0.35580204778157, 0.4965870307167235, 0.21928327645051196, 0.31740614334470985, 0.37713310580204773, 0.31058020477815695, 0.2832764505119454, 0.3686006825938566, 0.26194539249146753, 0.2662116040955631, 0.5912969283276451, 0.23208191126279862, 0.3088737201365188, 0.5435153583617748, 0.6092150170648464, 0.6928327645051194, 0.6245733788395904, 0.8122866894197952, 0.4965870307167235, 0.78839590443686, 0.5392491467576791, 0.5648464163822525, 0.659556313993174, 0.5307167235494881, 0.9999999999999999, 0.893344709897611, 0.5435153583617748, 0.39249146757679176, 0.36689419795221845, 0.341296928327645, 0.7081911262798635, 0.45563139931740615, 0.8020477815699658, 0.7662116040955631, 0.6296928327645052, 0.6160409556313993, 0.36006825938566556, 0.735494795221843, 0.7184300341296928, 0.5477815699658704, 0.5136518771331058, 0.7610921501706484, 0.6843003412969284, 0.6757679180887372], \"y\": [0.8421052631578951, 0.5710526315789473, 0.560526315789474, 0.8789473684210525, 0.5815789473684214, 0.8342105263157893, 0.8842105263157896, 0.797368421052632, 1.0, 0.7447368421052629, 0.8078947368421052, 0.8131578947368419, 0.7157894736842105, 0.9789473684210526, 0.8815789473684212, 0.6842105263157898, 0.8605263157894738, 0.736842105263158, 0.831578947368421, 0.6868421052631581, 0.797368421052632, 0.5, 0.7052631578947373, 0.47894736842105257, 0.6499999999999999, 0.5315789473684216, 0.6210526315789475, 0.5973684210526318, 0.7473684210526317, 0.7868421052631578, 0.7105263157894739, 0.6710526315789473, 0.6973684210526314, 0.7184210526315788, 0.6526315789473687, 0.6447368421052633, 0.5921052631578947, 0.5315789473684216, 0.5368421052631582, 0.8394736842105264, 0.6657894736842107, 0.6263157894736846, 0.7500000000000004, 0.5815789473684214, 0.5315789473684216, 0.836842105263158, 0.8815789473684212, 0.7552631578947371, 0.8078947368421052, 0.7657894736842104, 0.5315789473684216, 0.736842105263158, 0.7342105263157896, 0.7210526315789472, 0.7131578947368422, 0.6657894736842107, 0.8394736842105264, 0.594736842105263, 0.7078947368421056, 0.3526315789473684, 0.34210526315789513, 0.4236842105263161, 0.6947368421052631, 0.3526315789473684, 0.30000000000000027, 0.3526315789473684, 0.5473684210526315, 0.3526315789473684, 0.6078947368421055, 0.310526315789474, 0.331578947368421, 0.7447368421052629, 0.6473684210526316, 0.5157894736842108, 0.2447368421052638, 0.1657894736842107, 0.5263157894736841, 0.2131578947368422, 0.34210526315789513, 0.43947368421052646, 0.2552631578947371, 0.44473684210526354, 0.2763157894736845, 0.5315789473684216, 0.2131578947368422, 0.43157894736842106, 0.29736842105263195, 0.1631578947368424, 0.16052631578947407, 0.2763157894736845, 0.2763157894736845, 0.2552631578947371, 0.43684210526315814, 0.331578947368421, 0.155263157894737, 0.3789473684210529, 0.20526315789473726, 0.331578947368421, 0.3526315789473684, 0.331578947368421, 0.2763157894736845, 0.4131578947368424, 0.34473684210526345, 0.20789473684210558, 0.38947368421052664, 0.3657894736842109, 0.3210526315789477, 0.44473684210526354, 0.3131578947368423, 0.15263157894736867, 0.11315789473684257, 0.39210526315789496, 0.19210526315789478, 0.10000000000000053, 0.2763157894736845, 0.0, 0.20789473684210558, 0.3657894736842109, 0.45789473684210513, 0.2552631578947371, 0.1105263157894738, 0.13947368421052664, 0.3657894736842109, 0.5315789473684216, 0.2210526315789476, 0.2736842105263162, 0.3684210526315792, 0.20000000000000018, 0.3526315789473684, 0.26578947368421035, 0.4815789473684209, 0.4868421052631584, 0.4684210526315793, 0.43947368421052646, 0.38947368421052664, 0.4131578947368424, 0.3210526315789477, 0.3947368421052633, 0.6473684210526316, 0.47631578947368425, 0.5, 0.6131578947368421, 0.655263157894737, 0.6815789473684211, 0.3210526315789477, 0.560526315789474, 0.7500000000000004, 0.48421052631578965, 0.6026315789473689, 0.5394736842105265, 0.6499999999999999, 0.4631578947368422, 0.5473684210526315, 0.5789473684210531, 0.4078947368421053, 0.5631578947368423, 0.7394736842105263, 0.37368421052631584, 0.8710526315789475, 0.6447368421052633, 0.3500000000000001, 0.7000000000000002, 0.47894736842105257, 0.5078947368421058, 0.7236842105263159, 0.7105263157894739, 0.6368421052631579, 0.4710526315789476, 0.6710526315789473, 0.6236842105263158, 0.3078947368421052, 0.45789473684210513, 0.823684210526316, 0.7052631578947373, 0.6236842105263158, 0.5894736842105264, 0.5631578947368423, 0.8157894736842106], \"z\": [0.5613409415121255, 0.5506419400855921, 0.6469329529243938, 0.8573466476462198, 0.3259629101283881, 0.8359486447931527, 0.7218259629101285, 0.725392296718973, 0.5470756062767476, 0.5470756062767476, 0.8787446504992867, 0.7146932952924394, 0.7432239657631955, 0.6219686162624822, 0.9051355206847361, 0.7360912981455064, 0.7146932952924394, 0.6077032810271041, 1.0, 0.40442225392296727, 0.35805991440798857, 0.35092724679029963, 0.5399429386590585, 0.5256776034236805, 0.40442225392296727, 0.3937232524964337, 0.6540656205420827, 0.7182596291012839, 0.4543509272467904, 0.5399429386590585, 0.7182596291012839, 0.8823109843081313, 0.5078459343794579, 0.6825962910128388, 0.5827389443651926, 0.4579172610556348, 0.4293865905848788, 0.5898716119828816, 0.529243937232525, 0.3437945791726106, 0.36875891583452214, 0.5399429386590585, 0.5827389443651926, 0.2867332382310984, 0.43295292439372324, 0.5720399429386591, 0.5613409415121255, 0.5042796005706135, 0.557774607703281, 0.7004279600570614, 0.6219686162624822, 0.7039942938659058, 0.6504992867332383, 0.782453637660485, 0.557774607703281, 0.6005706134094152, 0.4935805991440799, 0.7075606276747504, 0.7182596291012839, 0.17261055634807418, 0.2867332382310984, 0.12268188302425106, 0.2510699001426534, 0.10128388017118403, 0.054921540656205386, 0.2853067047075606, 0.15977175463623397, 0.1654778887303852, 0.33666191155492153, 0.31383737517831667, 0.4222539229671898, 0.09415121255349498, 0.13837375178316688, 0.5042796005706135, 0.4336661911554922, 0.10699001426533525, 0.08131241084165478, 0.15834522111269614, 0.33666191155492153, 0.1319543509272468, 0.0, 0.3109843081312411, 0.2510699001426534, 0.16904422253922965, 0.17261055634807418, 0.12268188302425106, 0.15477888730385161, 0.20256776034236804, 0.2867332382310984, 0.24750356633380885, 0.1440798858773181, 0.12268188302425106, 0.15477888730385161, 0.008559201141226797, 0.047788873038516394, 0.4700427960057062, 0.24750356633380885, 0.10699001426533525, 0.27246790299572043, 0.09129814550641938, 0.30813124108416545, 0.20256776034236804, 0.11412268188302424, 0.09771754636233951, 0.2810271041369472, 0.02639087018544936, 0.1654778887303852, 0.14978601997146931, 0.02425106990014264, 0.2867332382310984, 0.20256776034236804, 0.033523537803138354, 0.23466476462196864, 0.11126961483594863, 0.07631954350927247, 0.09201141226818829, 0.15477888730385161, 0.047788873038516394, 0.06704707560627673, 0.20399429386590587, 0.24750356633380885, 0.13338088445078458, 0.062054208273894434, 0.07275320970042795, 0.07275320970042795, 0.07132667617689017, 0.052781740370898694, 0.1340941512125535, 0.0456490727532097, 0.21540656205420824, 0.2510699001426534, 0.17974322396576317, 0.20114122681883026, 0.22967189728958629, 0.2653352353780314, 0.297432239657632, 0.3152639087018545, 0.16904422253922965, 0.21540656205420824, 0.2225392296718973, 0.22967189728958629, 0.35805991440798857, 0.17261055634807418, 0.1940085592011412, 0.4115549215406562, 0.3937232524964337, 0.09771754636233951, 0.24750356633380885, 0.2653352353780314, 0.1940085592011412, 0.15834522111269614, 0.1440798858773181, 0.1048502139800285, 0.2831669044222539, 0.25820256776034234, 0.318830242510699, 0.1440798858773181, 0.4293865905848788, 0.27246790299572043, 0.24393723252496433, 0.17261055634807418, 0.2867332382310984, 0.20827389443651925, 0.2831669044222539, 0.2403708987161198, 0.17261055634807418, 0.297432239657632, 0.29029957203994294, 0.33666191155492153, 0.2510699001426534, 0.1654778887303852, 0.1369472182596291, 0.27246790299572043, 0.3295292439372326, 0.33666191155492153, 0.3972895863052782, 0.40085592011412274, 0.20114122681883026]}],\n",
       "                        {\"template\": {\"data\": {\"bar\": [{\"error_x\": {\"color\": \"#2a3f5f\"}, \"error_y\": {\"color\": \"#2a3f5f\"}, \"marker\": {\"line\": {\"color\": \"#E5ECF6\", \"width\": 0.5}}, \"type\": \"bar\"}], \"barpolar\": [{\"marker\": {\"line\": {\"color\": \"#E5ECF6\", \"width\": 0.5}}, \"type\": \"barpolar\"}], \"carpet\": [{\"aaxis\": {\"endlinecolor\": \"#2a3f5f\", \"gridcolor\": \"white\", \"linecolor\": \"white\", \"minorgridcolor\": \"white\", \"startlinecolor\": \"#2a3f5f\"}, \"baxis\": {\"endlinecolor\": \"#2a3f5f\", \"gridcolor\": \"white\", \"linecolor\": \"white\", \"minorgridcolor\": \"white\", \"startlinecolor\": \"#2a3f5f\"}, \"type\": \"carpet\"}], \"choropleth\": [{\"colorbar\": {\"outlinewidth\": 0, \"ticks\": \"\"}, \"type\": \"choropleth\"}], \"contour\": [{\"colorbar\": {\"outlinewidth\": 0, \"ticks\": \"\"}, \"colorscale\": [[0.0, \"#0d0887\"], [0.1111111111111111, \"#46039f\"], [0.2222222222222222, \"#7201a8\"], [0.3333333333333333, \"#9c179e\"], [0.4444444444444444, \"#bd3786\"], [0.5555555555555556, \"#d8576b\"], [0.6666666666666666, \"#ed7953\"], [0.7777777777777778, \"#fb9f3a\"], [0.8888888888888888, \"#fdca26\"], [1.0, \"#f0f921\"]], \"type\": \"contour\"}], \"contourcarpet\": [{\"colorbar\": {\"outlinewidth\": 0, \"ticks\": \"\"}, \"type\": \"contourcarpet\"}], \"heatmap\": [{\"colorbar\": {\"outlinewidth\": 0, \"ticks\": \"\"}, \"colorscale\": [[0.0, \"#0d0887\"], [0.1111111111111111, \"#46039f\"], [0.2222222222222222, \"#7201a8\"], [0.3333333333333333, \"#9c179e\"], [0.4444444444444444, \"#bd3786\"], [0.5555555555555556, \"#d8576b\"], [0.6666666666666666, \"#ed7953\"], [0.7777777777777778, \"#fb9f3a\"], [0.8888888888888888, \"#fdca26\"], [1.0, \"#f0f921\"]], \"type\": \"heatmap\"}], \"heatmapgl\": [{\"colorbar\": {\"outlinewidth\": 0, \"ticks\": \"\"}, \"colorscale\": [[0.0, \"#0d0887\"], [0.1111111111111111, \"#46039f\"], [0.2222222222222222, \"#7201a8\"], [0.3333333333333333, \"#9c179e\"], [0.4444444444444444, \"#bd3786\"], [0.5555555555555556, \"#d8576b\"], [0.6666666666666666, \"#ed7953\"], [0.7777777777777778, \"#fb9f3a\"], [0.8888888888888888, \"#fdca26\"], [1.0, \"#f0f921\"]], \"type\": \"heatmapgl\"}], \"histogram\": [{\"marker\": {\"colorbar\": {\"outlinewidth\": 0, \"ticks\": \"\"}}, \"type\": \"histogram\"}], \"histogram2d\": [{\"colorbar\": {\"outlinewidth\": 0, \"ticks\": \"\"}, \"colorscale\": [[0.0, \"#0d0887\"], [0.1111111111111111, \"#46039f\"], [0.2222222222222222, \"#7201a8\"], [0.3333333333333333, \"#9c179e\"], [0.4444444444444444, \"#bd3786\"], [0.5555555555555556, \"#d8576b\"], [0.6666666666666666, \"#ed7953\"], [0.7777777777777778, \"#fb9f3a\"], [0.8888888888888888, \"#fdca26\"], [1.0, \"#f0f921\"]], \"type\": \"histogram2d\"}], \"histogram2dcontour\": [{\"colorbar\": {\"outlinewidth\": 0, \"ticks\": \"\"}, \"colorscale\": [[0.0, \"#0d0887\"], [0.1111111111111111, \"#46039f\"], [0.2222222222222222, \"#7201a8\"], [0.3333333333333333, \"#9c179e\"], [0.4444444444444444, \"#bd3786\"], [0.5555555555555556, \"#d8576b\"], [0.6666666666666666, \"#ed7953\"], [0.7777777777777778, \"#fb9f3a\"], [0.8888888888888888, \"#fdca26\"], [1.0, \"#f0f921\"]], \"type\": \"histogram2dcontour\"}], \"mesh3d\": [{\"colorbar\": {\"outlinewidth\": 0, \"ticks\": \"\"}, \"type\": \"mesh3d\"}], \"parcoords\": [{\"line\": {\"colorbar\": {\"outlinewidth\": 0, \"ticks\": \"\"}}, \"type\": \"parcoords\"}], \"scatter\": [{\"marker\": {\"colorbar\": {\"outlinewidth\": 0, \"ticks\": \"\"}}, \"type\": \"scatter\"}], \"scatter3d\": [{\"line\": {\"colorbar\": {\"outlinewidth\": 0, \"ticks\": \"\"}}, \"marker\": {\"colorbar\": {\"outlinewidth\": 0, \"ticks\": \"\"}}, \"type\": \"scatter3d\"}], \"scattercarpet\": [{\"marker\": {\"colorbar\": {\"outlinewidth\": 0, \"ticks\": \"\"}}, \"type\": \"scattercarpet\"}], \"scattergeo\": [{\"marker\": {\"colorbar\": {\"outlinewidth\": 0, \"ticks\": \"\"}}, \"type\": \"scattergeo\"}], \"scattergl\": [{\"marker\": {\"colorbar\": {\"outlinewidth\": 0, \"ticks\": \"\"}}, \"type\": \"scattergl\"}], \"scattermapbox\": [{\"marker\": {\"colorbar\": {\"outlinewidth\": 0, \"ticks\": \"\"}}, \"type\": \"scattermapbox\"}], \"scatterpolar\": [{\"marker\": {\"colorbar\": {\"outlinewidth\": 0, \"ticks\": \"\"}}, \"type\": \"scatterpolar\"}], \"scatterpolargl\": [{\"marker\": {\"colorbar\": {\"outlinewidth\": 0, \"ticks\": \"\"}}, \"type\": \"scatterpolargl\"}], \"scatterternary\": [{\"marker\": {\"colorbar\": {\"outlinewidth\": 0, \"ticks\": \"\"}}, \"type\": \"scatterternary\"}], \"surface\": [{\"colorbar\": {\"outlinewidth\": 0, \"ticks\": \"\"}, \"colorscale\": [[0.0, \"#0d0887\"], [0.1111111111111111, \"#46039f\"], [0.2222222222222222, \"#7201a8\"], [0.3333333333333333, \"#9c179e\"], [0.4444444444444444, \"#bd3786\"], [0.5555555555555556, \"#d8576b\"], [0.6666666666666666, \"#ed7953\"], [0.7777777777777778, \"#fb9f3a\"], [0.8888888888888888, \"#fdca26\"], [1.0, \"#f0f921\"]], \"type\": \"surface\"}], \"table\": [{\"cells\": {\"fill\": {\"color\": \"#EBF0F8\"}, \"line\": {\"color\": \"white\"}}, \"header\": {\"fill\": {\"color\": \"#C8D4E3\"}, \"line\": {\"color\": \"white\"}}, \"type\": \"table\"}]}, \"layout\": {\"annotationdefaults\": {\"arrowcolor\": \"#2a3f5f\", \"arrowhead\": 0, \"arrowwidth\": 1}, \"colorscale\": {\"diverging\": [[0, \"#8e0152\"], [0.1, \"#c51b7d\"], [0.2, \"#de77ae\"], [0.3, \"#f1b6da\"], [0.4, \"#fde0ef\"], [0.5, \"#f7f7f7\"], [0.6, \"#e6f5d0\"], [0.7, \"#b8e186\"], [0.8, \"#7fbc41\"], [0.9, \"#4d9221\"], [1, \"#276419\"]], \"sequential\": [[0.0, \"#0d0887\"], [0.1111111111111111, \"#46039f\"], [0.2222222222222222, \"#7201a8\"], [0.3333333333333333, \"#9c179e\"], [0.4444444444444444, \"#bd3786\"], [0.5555555555555556, \"#d8576b\"], [0.6666666666666666, \"#ed7953\"], [0.7777777777777778, \"#fb9f3a\"], [0.8888888888888888, \"#fdca26\"], [1.0, \"#f0f921\"]], \"sequentialminus\": [[0.0, \"#0d0887\"], [0.1111111111111111, \"#46039f\"], [0.2222222222222222, \"#7201a8\"], [0.3333333333333333, \"#9c179e\"], [0.4444444444444444, \"#bd3786\"], [0.5555555555555556, \"#d8576b\"], [0.6666666666666666, \"#ed7953\"], [0.7777777777777778, \"#fb9f3a\"], [0.8888888888888888, \"#fdca26\"], [1.0, \"#f0f921\"]]}, \"colorway\": [\"#636efa\", \"#EF553B\", \"#00cc96\", \"#ab63fa\", \"#FFA15A\", \"#19d3f3\", \"#FF6692\", \"#B6E880\", \"#FF97FF\", \"#FECB52\"], \"font\": {\"color\": \"#2a3f5f\"}, \"geo\": {\"bgcolor\": \"white\", \"lakecolor\": \"white\", \"landcolor\": \"#E5ECF6\", \"showlakes\": true, \"showland\": true, \"subunitcolor\": \"white\"}, \"hoverlabel\": {\"align\": \"left\"}, \"hovermode\": \"closest\", \"mapbox\": {\"style\": \"light\"}, \"paper_bgcolor\": \"white\", \"plot_bgcolor\": \"#E5ECF6\", \"polar\": {\"angularaxis\": {\"gridcolor\": \"white\", \"linecolor\": \"white\", \"ticks\": \"\"}, \"bgcolor\": \"#E5ECF6\", \"radialaxis\": {\"gridcolor\": \"white\", \"linecolor\": \"white\", \"ticks\": \"\"}}, \"scene\": {\"xaxis\": {\"backgroundcolor\": \"#E5ECF6\", \"gridcolor\": \"white\", \"gridwidth\": 2, \"linecolor\": \"white\", \"showbackground\": true, \"ticks\": \"\", \"zerolinecolor\": \"white\"}, \"yaxis\": {\"backgroundcolor\": \"#E5ECF6\", \"gridcolor\": \"white\", \"gridwidth\": 2, \"linecolor\": \"white\", \"showbackground\": true, \"ticks\": \"\", \"zerolinecolor\": \"white\"}, \"zaxis\": {\"backgroundcolor\": \"#E5ECF6\", \"gridcolor\": \"white\", \"gridwidth\": 2, \"linecolor\": \"white\", \"showbackground\": true, \"ticks\": \"\", \"zerolinecolor\": \"white\"}}, \"shapedefaults\": {\"line\": {\"color\": \"#2a3f5f\"}}, \"ternary\": {\"aaxis\": {\"gridcolor\": \"white\", \"linecolor\": \"white\", \"ticks\": \"\"}, \"baxis\": {\"gridcolor\": \"white\", \"linecolor\": \"white\", \"ticks\": \"\"}, \"bgcolor\": \"#E5ECF6\", \"caxis\": {\"gridcolor\": \"white\", \"linecolor\": \"white\", \"ticks\": \"\"}}, \"title\": {\"x\": 0.05}, \"xaxis\": {\"automargin\": true, \"gridcolor\": \"white\", \"linecolor\": \"white\", \"ticks\": \"\", \"zerolinecolor\": \"white\", \"zerolinewidth\": 2}, \"yaxis\": {\"automargin\": true, \"gridcolor\": \"white\", \"linecolor\": \"white\", \"ticks\": \"\", \"zerolinecolor\": \"white\", \"zerolinewidth\": 2}}}},\n",
       "                        {\"responsive\": true}\n",
       "                    ).then(function(){\n",
       "                            \n",
       "var gd = document.getElementById('9853af7b-f81b-4dae-b4b3-76dadd7a972e');\n",
       "var x = new MutationObserver(function (mutations, observer) {{\n",
       "        var display = window.getComputedStyle(gd).display;\n",
       "        if (!display || display === 'none') {{\n",
       "            console.log([gd, 'removed!']);\n",
       "            Plotly.purge(gd);\n",
       "            observer.disconnect();\n",
       "        }}\n",
       "}});\n",
       "\n",
       "// Listen for the removal of the full notebook cells\n",
       "var notebookContainer = gd.closest('#notebook-container');\n",
       "if (notebookContainer) {{\n",
       "    x.observe(notebookContainer, {childList: true});\n",
       "}}\n",
       "\n",
       "// Listen for the clearing of the current output cell\n",
       "var outputEl = gd.closest('.output');\n",
       "if (outputEl) {{\n",
       "    x.observe(outputEl, {childList: true});\n",
       "}}\n",
       "\n",
       "                        })\n",
       "                };\n",
       "                });\n",
       "            </script>\n",
       "        </div>"
      ]
     },
     "metadata": {},
     "output_type": "display_data"
    }
   ],
   "source": [
    "fig = go.Figure()\n",
    "fig.add_trace(go.Scatter3d(x=df['Intensidade_de_cor'],\n",
    "                           y=df['Alcool'],\n",
    "                           z = df['Proline'],\n",
    "                           mode='markers',                      \n",
    "                           marker=dict(color =labels.astype(np.float)),\n",
    "                           text=labels))\n",
    "fig.show()"
   ]
  },
  {
   "cell_type": "code",
   "execution_count": null,
   "metadata": {},
   "outputs": [],
   "source": []
  },
  {
   "cell_type": "code",
   "execution_count": null,
   "metadata": {},
   "outputs": [],
   "source": []
  }
 ],
 "metadata": {
  "kernelspec": {
   "display_name": "Python 3",
   "language": "python",
   "name": "python3"
  },
  "language_info": {
   "codemirror_mode": {
    "name": "ipython",
    "version": 3
   },
   "file_extension": ".py",
   "mimetype": "text/x-python",
   "name": "python",
   "nbconvert_exporter": "python",
   "pygments_lexer": "ipython3",
   "version": "3.8.3"
  }
 },
 "nbformat": 4,
 "nbformat_minor": 4
}
